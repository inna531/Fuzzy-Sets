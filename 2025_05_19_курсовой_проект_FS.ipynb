{
  "cells": [
    {
      "cell_type": "markdown",
      "metadata": {
        "id": "US5E3ADwvwVI"
      },
      "source": [
        "# Метод функциональных точек (Function Points Analysis, *FPA*)"
      ]
    },
    {
      "cell_type": "markdown",
      "metadata": {
        "id": "M7fhIEpYwLC_"
      },
      "source": [
        "**Четкая модель *FPA*. Расчет для новой функциональности.**"
      ]
    },
    {
      "cell_type": "code",
      "execution_count": null,
      "metadata": {
        "id": "RoXoOa59V7gP"
      },
      "outputs": [],
      "source": [
        "def complexity(DET, RET):\n",
        "  # если DET < 20 и RET = 1, то COMPL = Low; если 20 <= DET <= 50 и RET = 1, то COMPL = Low; если DET > 50 и RET=1, то COMPL = Average;\n",
        "  # если DET < 20 и 2 <= RET <= 5, то COMPL = Low; если 20 <= DET <= 50 и 2 <= RET <= 5, то COMPL = Average; если DET > 50 и 2 <= RET <= 5, то COMPL = High;\n",
        "  # если DET < 20 и RET > 5, то COMPL = Average; если 20 <= DET <= 50 и RET > 5, то COMPL = High; если DET > 5 0 и RET > 5, то COMPL = High;\n",
        "    if DET < 20 and RET == 1:\n",
        "        COMPL = \"Low\"\n",
        "    elif 20 <= DET <= 50 and RET == 1:\n",
        "        COMPL = \"Low\"\n",
        "    elif DET > 50 and RET == 1:\n",
        "        COMPL = \"Average\"\n",
        "    elif DET < 20 and 2 <= RET <= 5:\n",
        "        COMPL = \"Low\"\n",
        "    elif 20 <= DET <= 50 and 2 <= RET <= 5:\n",
        "        COMPL = \"Average\"\n",
        "    elif DET > 50 and 2 <= RET <= 5:\n",
        "        COMPL = \"High\"\n",
        "    elif DET < 20 and RET > 5:\n",
        "        COMPL = \"Average\"\n",
        "    elif 20 <= DET <= 50 and RET > 5:\n",
        "        COMPL = \"High\"\n",
        "    elif DET > 50 and RET > 5:\n",
        "        COMPL = \"High\"\n",
        "    else:\n",
        "        COMPL = \"Undefined\"  # Если ни одно из условий не выполнено\n",
        "\n",
        "    return COMPL"
      ]
    },
    {
      "cell_type": "code",
      "execution_count": null,
      "metadata": {
        "colab": {
          "base_uri": "https://localhost:8080/"
        },
        "id": "qI0MjFPDl3FI",
        "outputId": "fdfb8eea-df21-4553-ad79-a15e40866262"
      },
      "outputs": [
        {
          "output_type": "stream",
          "name": "stdout",
          "text": [
            "При указанных выше значениях параметров DET и RET, сложность данных определяется как  Low\n"
          ]
        }
      ],
      "source": [
        "# Вводим начальные параметры для определения сложности данных:\n",
        "DET = 18 # (Data Element Type) количество неповторяемых уникальных полей данных\n",
        "RET = 2  # (Record Element Type) количество логических групп данных\n",
        "print(f\"При указанных выше значениях параметров DET и RET, сложность данных определяется как  {complexity(DET, RET)}\")"
      ]
    },
    {
      "cell_type": "code",
      "execution_count": null,
      "metadata": {
        "id": "rW2Xg8MjZPmd"
      },
      "outputs": [],
      "source": [
        "# Оценка данных в невыровненных  функциональных точках (UFP) для внутренних логических файлов (ILFs) и внешних интерфейсных файлов (EIFs)\n",
        "# Если complexity(DET, RET) = Low, то UFP_ILF = 7, если complexity(DET, RET) = Average, то UFP_ILF = 10, если complexity(DET, RET) = High, то UFP_ILF = 15;\n",
        "# Если complexity(DET, RET) = Low, то UFP_EIF = 5, если complexity(DET, RET) = Average, то UFP_EIF = 7, если complexity(DET, RET) = High, то UFP_EIF = 10.\n",
        "if complexity(DET, RET) == \"Low\":\n",
        "    UFP_ILF = 7\n",
        "    UFP_EIF = 5\n",
        "elif complexity(DET, RET) == \"Average\":\n",
        "    UFP_ILF = 10\n",
        "    UFP_EIF = 7\n",
        "elif complexity(DET, RET) == \"High\":\n",
        "    UFP_ILF = 15\n",
        "    UFP_EIF = 10\n",
        "else:\n",
        "    UFP_ILF = 0  # Значения по умолчанию, если сложность неопределена\n",
        "    UFP_EIF = 0"
      ]
    },
    {
      "cell_type": "code",
      "execution_count": null,
      "metadata": {
        "colab": {
          "base_uri": "https://localhost:8080/"
        },
        "id": "0-cpO9dAcQ9p",
        "outputId": "a7bfe061-8139-46cc-86d7-eb41fb5ad47e"
      },
      "outputs": [
        {
          "output_type": "stream",
          "name": "stdout",
          "text": [
            "При указанных выше значениях параметров DET и RET, количество UFP(ILF) = 7, UFP(EIF) = 5 невыровненных функциональных точек\n"
          ]
        }
      ],
      "source": [
        "print(f\"При указанных выше значениях параметров DET и RET, количество UFP(ILF) = {UFP_ILF}, UFP(EIF) = {UFP_EIF} невыровненных функциональных точек\")"
      ]
    },
    {
      "cell_type": "code",
      "execution_count": null,
      "metadata": {
        "id": "3nx5tuuwg0Ye"
      },
      "outputs": [],
      "source": [
        "# Функция расчета матрицы сложности внешних входных транзакций (EI)\n",
        "def complexity1(DET1, FTR):\n",
        "  # если DET1 < 5 и FTR < 2, то COMPL1 = Low; если 5 <= DET1 <= 15 и FTR < 2, то COMPL1 = Low; если DET1 > 15 и FTR < 2, то COMPL1 = Average;\n",
        "  # если DET1 < 5 и FTR = 2, то COMPL1 = Low; если 5 <= DET1 <= 15 и FTR = 2, то COMPL1 = Average; если DET1 > 15 и FTR = 2, то COMPL1 = High;\n",
        "  # если DET1 < 5 и FTR > 2, то COMPL1 = Average; если 5 <= DET1 <= 15 и FTR > 2, то COMPL1 = High; если DET1 > 15 и FTR > 2, то COMPL1 = High;\n",
        "    if DET1 < 5 and FTR < 2:\n",
        "        COMPL1 = \"Low\"\n",
        "    elif 5 <= DET1 <= 15 and FTR < 2:\n",
        "        COMPL1 = \"Low\"\n",
        "    elif DET1 > 15 and FTR < 2:\n",
        "        COMPL1 = \"Average\"\n",
        "    elif DET1 < 5 and FTR == 2:\n",
        "        COMPL1 = \"Low\"\n",
        "    elif 5 <= DET1 <= 15 and FTR == 2:\n",
        "        COMPL1 = \"Average\"\n",
        "    elif DET1 > 15 and FTR == 2:\n",
        "        COMPL1 = \"High\"\n",
        "    elif DET1 < 5 and FTR > 2:\n",
        "        COMPL1 = \"Average\"\n",
        "    elif 5 <= DET1 <= 15 and FTR > 2:\n",
        "        COMPL1 = \"High\"\n",
        "    elif DET1 > 15 and FTR > 2:\n",
        "        COMPL1 = \"High\"\n",
        "    else:\n",
        "        COMPL1 = \"Undefined\"  # Значение по умолчанию, если ни одно из условий не выполнено\n",
        "\n",
        "    return COMPL1"
      ]
    },
    {
      "cell_type": "code",
      "execution_count": null,
      "metadata": {
        "id": "plavlF2Hlpjq"
      },
      "outputs": [],
      "source": [
        "# Функция расчета матрицы сложности внешних выходных транзакций и внешних запросов (EO&EQ)\n",
        "def complexity2(DET1, FTR):\n",
        "  # если DET1 < 6 и FTR < 2, то COMPL2 = Low; если 6 <= ET1 <= 19 и FTR < 2, то COMPL2 = Low; если DET1 > 19 и FTR < 2, то COMPL2 = Average;\n",
        "  # если DET1 < 6 и 2 <= FTR <= 3, то COMPL2 = Low; если 6 <= DET1 <= 19 и 2 <= FTR <= 3, то COMPL2 = Average; если DET1 > 19 и 2 <= FTR <= 3, то COMPL2 = High;\n",
        "  # если DET1 < 6 и FTR > 3, то COMPL2 = Average; если 6 <= DET1 <= 19 и FTR > 3, то COMPL2 = High; если DET 1> 19 и FTR > 3, то COMPL2 = High;\n",
        " # Определение сложности на основе условий\n",
        "    if DET1 < 6 and FTR < 2:\n",
        "        COMPL2 = \"Low\"\n",
        "    elif 6 <= DET1 <= 19 and FTR < 2:\n",
        "        COMPL2 = \"Low\"\n",
        "    elif DET1 > 19 and FTR < 2:\n",
        "        COMPL2 = \"Average\"\n",
        "    elif DET1 < 6 and 2 <= FTR <= 3:\n",
        "        COMPL2 = \"Low\"\n",
        "    elif 6 <= DET1 <= 19 and 2 <= FTR <= 3:\n",
        "        COMPL2 = \"Average\"\n",
        "    elif DET1 > 19 and 2 <= FTR <= 3:\n",
        "        COMPL2 = \"High\"\n",
        "    elif DET1 < 6 and FTR > 3:\n",
        "        COMPL2 = \"Average\"\n",
        "    elif 6 <= DET1 <= 19 and FTR > 3:\n",
        "        COMPL2 = \"High\"\n",
        "    elif DET1 > 19 and FTR > 3:\n",
        "        COMPL2 = \"High\"\n",
        "    else:\n",
        "        COMPL2 = \"Undefined\"  # Значение по умолчанию, если ни одно из условий не выполнено\n",
        "    return COMPL2"
      ]
    },
    {
      "cell_type": "code",
      "execution_count": null,
      "metadata": {
        "colab": {
          "base_uri": "https://localhost:8080/"
        },
        "id": "m7PsPayNel8q",
        "outputId": "8886fd43-4110-4002-a03a-76a1f3c33f6b"
      },
      "outputs": [
        {
          "output_type": "stream",
          "name": "stdout",
          "text": [
            "При указанных выше значениях параметров DET1 и FTR, сложность внешних входных транзакций (EI) определяется как High,\n",
            "сложность внешних выходных транзакций и внешних запросов (EO&EQ) определяется как High\n"
          ]
        }
      ],
      "source": [
        "# Вводим характеристики оценки сложности транзакций\n",
        "DET1 = 18 # (Data Element Type) количество неповторяемых уникальных полей данных\n",
        "FTR = 4   # (File Type Referenced) количество файлов (информационных объектов) типа ILF и/или EIF, модифицируемых или считываемых в транзакции\n",
        "print(f\"При указанных выше значениях параметров DET1 и FTR, сложность внешних входных транзакций (EI) определяется как {complexity1(DET1, FTR)},\\n\"\n",
        "f\"сложность внешних выходных транзакций и внешних запросов (EO&EQ) определяется как {complexity2(DET1, FTR)}\")"
      ]
    },
    {
      "cell_type": "code",
      "execution_count": null,
      "metadata": {
        "id": "XaJd0MHRnkXz"
      },
      "outputs": [],
      "source": [
        "# Оценка сложности транзакций в невыровненных  функциональных точках (UFP)\n",
        "# Если complexity1(DET1, FTR) = Low, то UFP_EI = 3, если complexity1(DET1, FTR) = Average, то UFP_EI = 4, если complexity1(DET1, FTR) = High, то UFP_EI = 6;\n",
        "# Если complexity2(DET1, FTR) = Low, то UFP_EQ = 3, если complexity2(DET1, FTR) = Average, то UFP_EQ = 4, если complexity2(DET1, FTR) = High, то UFP_EQ = 6;\n",
        "# Если complexity2(DET1, FTR) = Low, то UFP_EO = 4, если complexity2(DET1, FTR) = Average, то UFP_EO = 5, если complexity2(DET1, FTR) = High, то UFP_EO = 7;\n",
        "if complexity1(DET1, FTR) == \"Low\":\n",
        "    UFP_EI = 3\n",
        "elif complexity1(DET1, FTR) == \"Average\":\n",
        "    UFP_EI = 4\n",
        "elif complexity1(DET1, FTR) == \"High\":\n",
        "    UFP_EI = 6\n",
        "else:\n",
        "    UFP_EI = None  # Значение по умолчанию, если не определено\n",
        "\n",
        "if complexity2(DET1, FTR) == \"Low\":\n",
        "    UFP_EQ = 3\n",
        "elif complexity2(DET1, FTR) == \"Average\":\n",
        "    UFP_EQ = 4\n",
        "elif complexity2(DET1, FTR) == \"High\":\n",
        "    UFP_EQ = 6\n",
        "else:\n",
        "    UFP_EQ = None  # Значение по умолчанию, если не определено\n",
        "\n",
        "if complexity2(DET1, FTR) == \"Low\":\n",
        "    UFP_EO = 4\n",
        "elif complexity2(DET1, FTR) == \"Average\":\n",
        "    UFP_EO = 5\n",
        "elif complexity2(DET1, FTR) == \"High\":\n",
        "    UFP_EO = 7\n",
        "else:\n",
        "    UFP_EO = None  # Значение по умолчанию, если не определено"
      ]
    },
    {
      "cell_type": "code",
      "execution_count": null,
      "metadata": {
        "colab": {
          "base_uri": "https://localhost:8080/"
        },
        "id": "e83V1hBAtXmo",
        "outputId": "448eb9d5-4b46-4ca7-ca76-ed74d865be91"
      },
      "outputs": [
        {
          "output_type": "stream",
          "name": "stdout",
          "text": [
            "При указанных выше значениях параметров DET1 и FTR, количество UFP(EI) = 6, UFP(EQ) = 6, UFP(EO) = 7 невыровненных функциональных точек\n"
          ]
        }
      ],
      "source": [
        "print(f\"При указанных выше значениях параметров DET1 и FTR, количество UFP(EI) = {UFP_EI}, UFP(EQ) = {UFP_EQ}, UFP(EO) = {UFP_EO} невыровненных функциональных точек\")"
      ]
    },
    {
      "cell_type": "code",
      "execution_count": null,
      "metadata": {
        "colab": {
          "base_uri": "https://localhost:8080/"
        },
        "id": "kGVl3uWdcZoE",
        "outputId": "55d6f140-daab-4f98-cc06-64cab03767bc"
      },
      "outputs": [
        {
          "output_type": "stream",
          "name": "stdout",
          "text": [
            "При рассчитанных выше значениях, суммарная оценка количества невыровненных функциональных точек UFP принимает значение 31\n"
          ]
        }
      ],
      "source": [
        "# Расчет количества невыровненных функциональных точек\n",
        "UFP = UFP_ILF + UFP_EIF + UFP_EI + UFP_EO + UFP_EQ\n",
        "print(f\"При рассчитанных выше значениях, суммарная оценка количества невыровненных функциональных точек UFP принимает значение {UFP}\")"
      ]
    },
    {
      "cell_type": "code",
      "execution_count": null,
      "metadata": {
        "colab": {
          "base_uri": "https://localhost:8080/"
        },
        "id": "0hoVwRMUOV_2",
        "outputId": "7761dd9e-037b-43a3-b91a-cd41e1073e42"
      },
      "outputs": [
        {
          "output_type": "stream",
          "name": "stdout",
          "text": [
            "При вышеуказанных системных параметрах DI1-DI14, суммарный эффект TDI принимает значение 42\n"
          ]
        }
      ],
      "source": [
        "# Определение значения фактора выравнивания (VAF)\n",
        "DI1 = 4   # Обмен данными, показатель от 0 до 5 включительно\n",
        "DI2 = 3   # Распределенная обработка данных, показатель от 0 до 5 включительно\n",
        "DI3 = 5   # Производительность, показатель от 0 до 5 включительно\n",
        "DI4 = 1   # Ограничения по аппаратным ресурсам, показатель от 0 до 5 включительно\n",
        "DI5 = 0   # Транзакционная нагрузка, показатель от 0 до 5 включительно\n",
        "DI6 = 5   # Интенсивность взаимодействия с пользователем, показатель от 0 до 5 включительно\n",
        "DI7 = 5   # Эргономика (эффективность работы конечных пользователей), показатель от 0 до 5 включительно\n",
        "DI8 = 0   # Интенсивность изменения данных (ILF) пользователями, показатель от 0 до 5 включительно\n",
        "DI9 = 4   # Сложность обработки, показатель от 0 до 5 включительно\n",
        "DI10 = 5  # Повторное использование, показатель от 0 до 5 включительно\n",
        "DI11 = 3  # Удобство инсталляции, показатель от 0 до 5 включительно\n",
        "DI12 = 5  # Удобство администрирования, показатель от 0 до 5 включительно\n",
        "DI13 = 1  # Портируемость, показатель от 0 до 5 включительно\n",
        "DI14 = 1    # Гибкость, показатель от 0 до 5 включительно\n",
        "TDI = DI1 + DI2 + DI3 + DI4 + DI5 + DI6 + DI7 + DI8 + DI9 + DI10 + DI11 + DI12 + DI13 + DI14\n",
        "print(f\"При вышеуказанных системных параметрах DI1-DI14, суммарный эффект TDI принимает значение {TDI}\")"
      ]
    },
    {
      "cell_type": "code",
      "execution_count": null,
      "metadata": {
        "colab": {
          "base_uri": "https://localhost:8080/"
        },
        "id": "2LFI97cZR3Kw",
        "outputId": "85dcbe06-d8f0-4d41-c5ba-f0a0835dd79f"
      },
      "outputs": [
        {
          "output_type": "stream",
          "name": "stdout",
          "text": [
            "При рассчитанном выше суммарном эффекте системных характеристик TDI, фактор выравнивания VAF принимает значение 1.07\n"
          ]
        }
      ],
      "source": [
        "# Расчет значения фактора выравнивания VAF\n",
        "VAF = (TDI * 0.01) + 0.65\n",
        "print(f\"При рассчитанном выше суммарном эффекте системных характеристик TDI, фактор выравнивания VAF принимает значение {VAF}\")"
      ]
    },
    {
      "cell_type": "code",
      "execution_count": null,
      "metadata": {
        "colab": {
          "base_uri": "https://localhost:8080/"
        },
        "id": "qglrXorWOWKC",
        "outputId": "676ca99f-1142-4345-cad0-3ea61de5a2b7"
      },
      "outputs": [
        {
          "output_type": "stream",
          "name": "stdout",
          "text": [
            "При рассчитанных выше параметрах, оценка проекта (новая функциональность) AFP принимает значение 33.17 выровненных функциональных точек\n"
          ]
        }
      ],
      "source": [
        "# Расчет количества выровненных функциональных точек (AFP)\n",
        "AFP = UFP * VAF\n",
        "print(f\"При рассчитанных выше параметрах, оценка проекта (новая функциональность) AFP принимает значение {AFP} выровненных функциональных точек\")"
      ]
    },
    {
      "cell_type": "markdown",
      "metadata": {
        "id": "Emxd6ytMvONL"
      },
      "source": [
        "Метод анализа функциональных точек ничего не говорит о трудоемкости разработки оцененного продукта. Вопрос решается просто, если компания-разработчик имеет собственную статистику трудозатрат на реализацию функциональных точек. Если такой статистики нет, то для оценки трудоемкости и сроков проекта можно использовать метод *COCOMO II*. [Коротаев А.Н., Марчев Д.В. Экономика программной инженерии]"
      ]
    },
    {
      "cell_type": "markdown",
      "source": [
        "# Нечеткая модель *FPA*. Применение трапециевидных нечетких чисел 2 типа"
      ],
      "metadata": {
        "id": "_qshMC6JPRUI"
      }
    },
    {
      "cell_type": "markdown",
      "source": [
        "Нечеткие трапециевидные числа второго типа имеют две ФП - верхнюю и нижнюю для ИНМ2Т и функции принадлежности и непринадлежности для интуиционистских НМ, отражающие сомнения эксперта в оценках границ нечеткости, т.е. правая и левая границы нечеткости имеют по 2 значения. Левая граница - это минимальное значение нечеткости, правая, соответственно, максимальное."
      ],
      "metadata": {
        "id": "91DZJM_dpUFQ"
      }
    },
    {
      "cell_type": "code",
      "source": [
        "# Функция сложения двух трапециевидных нечетких чисел (интуиционистских или интервальных 2 типа)\n",
        "def add_intuitionistic_trapezoidal_fuzzy_numbers(fuzzy_number1, fuzzy_number2):\n",
        "    # Сложение двух нечетких трапециевидных чисел\n",
        "    (x1, x2, x3, x4), (x5, x6, x7, x8) = fuzzy_number1\n",
        "    (y1, y2, y3, y4), (y5, y6, y7, y8) = fuzzy_number2\n",
        "    return ((x1 + y1, x2 + y2, x3 + y3, x4 + y4),\n",
        "            (x5 + y5, x6 + y6, x7 + y7, x8 + y8))"
      ],
      "metadata": {
        "id": "xGt65eGEJsNm"
      },
      "execution_count": null,
      "outputs": []
    },
    {
      "cell_type": "code",
      "source": [
        "# Функция вычисления среднего арифметического дефаззифицированных значений двух функция принадлежности\n",
        "def calculate_average(defuzzified_values):\n",
        "    # Извлекаем значения из кортежа\n",
        "    defuzzified_upper, defuzzified_lower = defuzzified_values\n",
        "    # Вычисляем среднее арифметическое\n",
        "    average = round((defuzzified_upper + defuzzified_lower) / 2, 3)\n",
        "    return average"
      ],
      "metadata": {
        "id": "Z9qcm1h5veSR"
      },
      "execution_count": null,
      "outputs": []
    },
    {
      "cell_type": "code",
      "source": [
        "# Определение сложности данных\n",
        "def complexity(DET, RET):\n",
        "    # Присвоим значения из трапециевидных чисел\n",
        "    ((x1, x2, x3, x4), (x5, x6, x7, x8)) = DET\n",
        "    ((y1, y2, y3, y4), (y5, y6, y7, y8)) = RET\n",
        "\n",
        "    mean_DET = (x1 + x2 + x3 + x4 + x5 + x6 + x7 + x8) / 8\n",
        "    mean_RET = (y1 + y2 + y3 + y4 + y5 + y6 + y7 + y8) / 8\n",
        "\n",
        "    # Используем условия для определения сложности\n",
        "    if mean_DET < 20 and mean_RET == 1:\n",
        "        COMPL = \"Low\"\n",
        "    elif 20 <= mean_DET <= 50 and mean_RET == 1:\n",
        "        COMPL = \"Low\"\n",
        "    elif mean_DET > 50 and mean_RET == 1:\n",
        "        COMPL = \"Average\"\n",
        "    elif mean_DET < 20 and 1 < mean_RET <= 5:\n",
        "        COMPL = \"Low\"\n",
        "    elif 20 <= mean_DET <= 50 and 1 < mean_RET <= 5:\n",
        "        COMPL = \"Average\"\n",
        "    elif mean_DET > 50 and 1 < mean_RET <= 5:\n",
        "        COMPL = \"High\"\n",
        "    elif mean_DET < 20 and mean_RET > 5:\n",
        "        COMPL = \"Average\"\n",
        "    elif 20 <= mean_DET <= 50 and mean_RET > 5:\n",
        "        COMPL = \"High\"\n",
        "    elif mean_DET > 50 and mean_RET > 5:\n",
        "        COMPL = \"High\"\n",
        "    else:\n",
        "        COMPL = \"Undefined\"  # Если ни одно из условий не выполнено\n",
        "\n",
        "    return COMPL"
      ],
      "metadata": {
        "id": "frxzZMfKPoRu"
      },
      "execution_count": null,
      "outputs": []
    },
    {
      "cell_type": "code",
      "source": [
        "# Вводим начальные параметры для определения сложности данных:\n",
        "DET = ((17, 17, 19, 19),(17, 17, 19, 19))   # (Data Element Type) количество неповторяемых уникальных полей данных\n",
        "RET = ((1, 1, 3, 3),(1, 1, 3, 3))           # (Record Element Type) количество логических групп данных\n",
        "print(f\"При указанных выше значениях параметров DET и RET, сложность данных определяется как  {complexity(DET, RET)}\")"
      ],
      "metadata": {
        "colab": {
          "base_uri": "https://localhost:8080/"
        },
        "id": "eeAaGa_BPu42",
        "outputId": "cffad546-0723-49f6-c22d-0a0830571915"
      },
      "execution_count": null,
      "outputs": [
        {
          "output_type": "stream",
          "name": "stdout",
          "text": [
            "При указанных выше значениях параметров DET и RET, сложность данных определяется как  Low\n"
          ]
        }
      ]
    },
    {
      "cell_type": "code",
      "source": [
        "# Оценка данных в невыровненных  функциональных точках (UFP) для внутренних логических файлов (ILFs) и внешних интерфейсных файлов (EIFs)\n",
        "# Если complexity(DET, RET) = Low, то UFP_ILF = 7, если complexity(DET, RET) = Average, то UFP_ILF = 10, если complexity(DET, RET) = High, то UFP_ILF = 15;\n",
        "# Если complexity(DET, RET) = Low, то UFP_EIF = 5, если complexity(DET, RET) = Average, то UFP_EIF = 7, если complexity(DET, RET) = High, то UFP_EIF = 10.\n",
        "if complexity(DET, RET) == \"Low\":\n",
        "    UFP_ILF = ((5.5, 6.5, 7.5, 8.5),(6.0, 6.5, 7.5, 8.0))\n",
        "    UFP_EIF = ((3.5, 4.5, 5.5, 6.5),(4.0, 4.5, 5.5, 6.0))\n",
        "elif complexity(DET, RET) == \"Average\":\n",
        "    UFP_ILF = ((8.5, 9.5, 10.5, 11.5),(9.0, 9.5, 10.5, 11.0))\n",
        "    UFP_EIF = ((5.5, 6.5, 7.5, 8.5),(6.0, 6.5, 7.5, 8.0))\n",
        "elif complexity(DET, RET) == \"High\":\n",
        "    UFP_ILF = ((13.5, 14.5, 15.5, 16.5),(14.0, 14.5, 15.5, 16.0))\n",
        "    UFP_EIF = ((8.5, 9.5, 10.5, 11.5),(9.0, 9.5, 10.5, 11.0))\n",
        "else:\n",
        "    UFP_ILF = 0  # Значения по умолчанию, если сложность неопределена\n",
        "    UFP_EIF = 0"
      ],
      "metadata": {
        "id": "adcOH_2KYouQ"
      },
      "execution_count": null,
      "outputs": []
    },
    {
      "cell_type": "code",
      "source": [
        "print(f\"При указанных выше значениях параметров DET и RET, количество UFP(ILF) = {UFP_ILF}, UFP(EIF) = {UFP_EIF} невыровненных функциональных точек\")"
      ],
      "metadata": {
        "colab": {
          "base_uri": "https://localhost:8080/"
        },
        "id": "Eh3pgcuIaA2N",
        "outputId": "846b6367-d6a9-4399-acfa-ea20b70c20e3"
      },
      "execution_count": null,
      "outputs": [
        {
          "output_type": "stream",
          "name": "stdout",
          "text": [
            "При указанных выше значениях параметров DET и RET, количество UFP(ILF) = ((5.5, 6.5, 7.5, 8.5), (6.0, 6.5, 7.5, 8.0)), UFP(EIF) = ((3.5, 4.5, 5.5, 6.5), (4.0, 4.5, 5.5, 6.0)) невыровненных функциональных точек\n"
          ]
        }
      ]
    },
    {
      "cell_type": "code",
      "source": [
        "# Функция расчета матрицы сложности внешних входных транзакций (EI)\n",
        "def complexity1(DET1, FTR):\n",
        "  # если DET1 < 5 и FTR < 2, то COMPL1 = Low; если 5 <= DET1 <= 15 и FTR < 2, то COMPL1 = Low; если DET1 > 15 и FTR < 2, то COMPL1 = Average;\n",
        "  # если DET1 < 5 и FTR = 2, то COMPL1 = Low; если 5 <= DET1 <= 15 и FTR = 2, то COMPL1 = Average; если DET1 > 15 и FTR = 2, то COMPL1 = High;\n",
        "  # если DET1 < 5 и FTR > 2, то COMPL1 = Average; если 5 <= DET1 <= 15 и FTR > 2, то COMPL1 = High; если DET1 > 15 и FTR > 2, то COMPL1 = High;\n",
        "    # Присвоим значения из трапециевидных чисел\n",
        "    ((x1, x2, x3, x4), (x5, x6, x7, x8)) = DET1\n",
        "    ((y1, y2, y3, y4), (y5, y6, y7, y8)) = FTR\n",
        "    mean_DET1 = (x1 + x2 + x3 + x4 + x5 + x6 + x7 + x8) / 8\n",
        "    mean_FTR = (y1 + y2 + y3 + y4 + y5 + y6 + y7 + y8) / 8\n",
        "\n",
        "\n",
        "    if mean_DET1 < 5 and mean_FTR < 2:\n",
        "        COMPL1 = \"Low\"\n",
        "    elif 5 <= x3 <= 15 and mean_FTR < 2:\n",
        "        COMPL1 = \"Low\"\n",
        "    elif mean_DET1 > 15 and mean_FTR < 2:\n",
        "        COMPL1 = \"Average\"\n",
        "    elif mean_DET1 < 5 and mean_FTR == 2:\n",
        "        COMPL1 = \"Low\"\n",
        "    elif 5 <= mean_DET1 <= 15 and mean_FTR == 2:\n",
        "        COMPL1 = \"Average\"\n",
        "    elif mean_DET1 > 15 and mean_FTR == 2:\n",
        "        COMPL1 = \"High\"\n",
        "    elif mean_DET1 < 5 and mean_FTR > 2:\n",
        "        COMPL1 = \"Average\"\n",
        "    elif 5 <= mean_DET1 <= 15 and mean_FTR > 2:\n",
        "        COMPL1 = \"High\"\n",
        "    elif mean_DET1 > 15 and mean_FTR > 2:\n",
        "        COMPL1 = \"High\"\n",
        "    else:\n",
        "        COMPL1 = \"Undefined\"  # Значение по умолчанию, если ни одно из условий не выполнено\n",
        "\n",
        "    return COMPL1"
      ],
      "metadata": {
        "id": "P6T30CuIaGDw"
      },
      "execution_count": null,
      "outputs": []
    },
    {
      "cell_type": "code",
      "source": [
        "# Функция расчета матрицы сложности внешних выходных транзакций и внешних запросов (EO&EQ)\n",
        "def complexity2(DET1, FTR):\n",
        "  # если DET1 < 6 и FTR < 2, то COMPL2 = Low; если 6 <= DET1 <= 19 и FTR < 2, то COMPL2 = Low; если DET1 > 19 и FTR < 2, то COMPL2 = Average;\n",
        "  # если DET1 < 6 и 2 <= FTR <= 3, то COMPL2 = Low; если 6 <= DET1 <= 19 и 2 <= FTR <= 3, то COMPL2 = Average; если DET1 > 19 и 2 <= FTR <= 3, то COMPL2 = High;\n",
        "  # если DET1 < 6 и FTR > 3, то COMPL2 = Average; если 6 <= DET1 <= 19 и FTR > 3, то COMPL2 = High; если DET1 > 19 и FTR > 3, то COMPL2 = High;\n",
        "    # Присвоим значения из трапециевидных чисел\n",
        "    ((x1, x2, x3, x4), (x5, x6, x7, x8)) = DET1\n",
        "    ((y1, y2, y3, y4), (y5, y6, y7, y8)) = FTR\n",
        "\n",
        "    mean_DET1 = (x1 + x2 + x3 + x4 + x5 + x6 + x7 + x8) / 8\n",
        "    mean_FTR = (y1 + y2 + y3 + y4 + y5 + y6 + y7 + y8) / 8\n",
        "\n",
        " # Определение сложности на основе условий\n",
        "    if mean_DET1 < 6 and mean_FTR < 2:\n",
        "        COMPL2 = \"Low\"\n",
        "    elif 6 <= mean_DET1 <= 19 and mean_FTR < 2:\n",
        "        COMPL2 = \"Low\"\n",
        "    elif mean_DET1 > 19 and mean_FTR < 2:\n",
        "        COMPL2 = \"Average\"\n",
        "    elif mean_DET1 < 6 and 2 <= mean_FTR <= 3:\n",
        "        COMPL2 = \"Low\"\n",
        "    elif 6 <= mean_DET1 <= 19 and 2 <= mean_FTR <= 3:\n",
        "        COMPL2 = \"Average\"\n",
        "    elif mean_DET1 > 19 and 2 <= mean_FTR <= 3:\n",
        "        COMPL2 = \"High\"\n",
        "    elif mean_DET1 < 6 and mean_FTR > 3:\n",
        "        COMPL2 = \"Average\"\n",
        "    elif 6 <= mean_DET1 <= 19 and mean_FTR > 3:\n",
        "        COMPL2 = \"High\"\n",
        "    elif mean_DET1 > 19 and mean_FTR > 3:\n",
        "        COMPL2 = \"High\"\n",
        "    else:\n",
        "        COMPL2 = \"Undefined\"  # Значение по умолчанию, если ни одно из условий не выполнено\n",
        "    return COMPL2"
      ],
      "metadata": {
        "id": "Z0_lL_XRa7J6"
      },
      "execution_count": null,
      "outputs": []
    },
    {
      "cell_type": "code",
      "source": [
        "# Вводим характеристики оценки сложности транзакций\n",
        "DET1 = ((17, 17, 19, 19),(17, 17, 19, 19))  # (Data Element Type) количество неповторяемых уникальных полей данных\n",
        "FTR = ((3, 3, 5, 5),(3, 3, 5, 5))           # (File Type Referenced) количество файлов (информационных объектов) типа ILF и/или EIF, модифицируемых или считываемых в транзакции\n",
        "print(f\"При указанных выше значениях параметров DET1 и FTR, сложность внешних входных транзакций (EI) определяется как {complexity1(DET1, FTR)},\\n\"\n",
        "f\"сложность внешних выходных транзакций и внешних запросов (EO&EQ) определяется как {complexity2(DET1, FTR)}\")"
      ],
      "metadata": {
        "colab": {
          "base_uri": "https://localhost:8080/"
        },
        "id": "y4vH3uTJbC6s",
        "outputId": "ba6283ab-7f52-46e8-9fa3-66e51e85dbdf"
      },
      "execution_count": null,
      "outputs": [
        {
          "output_type": "stream",
          "name": "stdout",
          "text": [
            "При указанных выше значениях параметров DET1 и FTR, сложность внешних входных транзакций (EI) определяется как High,\n",
            "сложность внешних выходных транзакций и внешних запросов (EO&EQ) определяется как High\n"
          ]
        }
      ]
    },
    {
      "cell_type": "code",
      "source": [
        "# Оценка сложности транзакций в невыровненных  функциональных точках (UFP)\n",
        "# Если complexity1(DET1, FTR) = Low, то UFP_EI = 3, если complexity1(DET1, FTR) = Average, то UFP_EI = 4, если complexity1(DET1, FTR) = High, то UFP_EI = 6;\n",
        "# Если complexity2(DET1, FTR) = Low, то UFP_EQ = 3, если complexity2(DET1, FTR) = Average, то UFP_EQ = 4, если complexity2(DET1, FTR) = High, то UFP_EQ = 6;\n",
        "# Если complexity2(DET1, FTR) = Low, то UFP_EO = 4, если complexity2(DET1, FTR) = Average, то UFP_EO = 5, если complexity2(DET1, FTR) = High, то UFP_EO = 7;\n",
        "if complexity1(DET1, FTR) == \"Low\":\n",
        "    UFP_EI = ((1.5, 2.5, 3.5, 4.5),(2.0, 2.5, 3.5, 4.0))\n",
        "elif complexity1(DET1, FTR) == \"Average\":\n",
        "    UFP_EI = ((2.5, 3.5, 4.5, 5.5),(3.0, 3.5, 4.5, 5.0))\n",
        "elif complexity1(DET1, FTR) == \"High\":\n",
        "    UFP_EI = ((4.5, 5.5, 6.5, 7.5),(5.0, 5.5, 6.5, 7.0))\n",
        "else:\n",
        "    UFP_EI = None  # Значение по умолчанию, если не определено\n",
        "\n",
        "if complexity2(DET1, FTR) == \"Low\":\n",
        "    UFP_EQ = ((1.5, 2.5, 3.5, 4.5),(2.0, 2.5, 3.5, 4.0))\n",
        "elif complexity2(DET1, FTR) == \"Average\":\n",
        "    UFP_EQ = ((2.5, 3.5, 4.5, 5.5),(3.0, 3.5, 4.5, 5.0))\n",
        "elif complexity2(DET1, FTR) == \"High\":\n",
        "    UFP_EQ = ((4.5, 5.5, 6.5, 7.5),(5.0, 5.5, 6.5, 7.0))\n",
        "else:\n",
        "    UFP_EQ = None  # Значение по умолчанию, если не определено\n",
        "\n",
        "if complexity2(DET1, FTR) == \"Low\":\n",
        "    UFP_EO = ((2.5, 3.5, 4.5, 5.5),(3.0, 3.5, 4.5, 5.0))\n",
        "elif complexity2(DET1, FTR) == \"Average\":\n",
        "    UFP_EO = ((3.5, 4.5, 5.5, 6.5),(4.0, 4.5, 5.5, 6.0))\n",
        "elif complexity2(DET1, FTR) == \"High\":\n",
        "    UFP_EO = ((5.5, 6.5, 7.5, 8.5),(6.0, 6.5, 7.5, 8.0))\n",
        "else:\n",
        "    UFP_EO = None  # Значение по умолчанию, если не определено"
      ],
      "metadata": {
        "id": "WggN7wxNduNF"
      },
      "execution_count": null,
      "outputs": []
    },
    {
      "cell_type": "code",
      "source": [
        "print(f\"При указанных выше значениях параметров DET1 и FTR, количество UFP(EI)= {UFP_EI}, UFP(EQ)= {UFP_EQ}, UFP(EO)= {UFP_EO} невыровненных функциональных точек\")"
      ],
      "metadata": {
        "colab": {
          "base_uri": "https://localhost:8080/"
        },
        "id": "wnYEHNZld33S",
        "outputId": "57426287-2c20-480f-855d-91589a712e85"
      },
      "execution_count": null,
      "outputs": [
        {
          "output_type": "stream",
          "name": "stdout",
          "text": [
            "При указанных выше значениях параметров DET1 и FTR, количество UFP(EI)= ((4.5, 5.5, 6.5, 7.5), (5.0, 5.5, 6.5, 7.0)), UFP(EQ)= ((4.5, 5.5, 6.5, 7.5), (5.0, 5.5, 6.5, 7.0)), UFP(EO)= ((5.5, 6.5, 7.5, 8.5), (6.0, 6.5, 7.5, 8.0)) невыровненных функциональных точек\n"
          ]
        }
      ]
    },
    {
      "cell_type": "code",
      "source": [
        "# Расчет количества невыровненных функциональных точек\n",
        "# UFP = UFP_ILF + UFP_EIF + UFP_EI + UFP_EO + UFP_EQ\n",
        "\n",
        "def calculate_UFP(*params):\n",
        "    UFP = params[0]\n",
        "    for param in params[1:]:\n",
        "        UFP = add_intuitionistic_trapezoidal_fuzzy_numbers(UFP, param)\n",
        "    return UFP\n",
        "\n",
        "# Вычисляем суммарное количество невыровненных функциональных точек UFP\n",
        "UFP_result = calculate_UFP(UFP_ILF, UFP_EIF, UFP_EI, UFP_EO, UFP_EQ)\n",
        "\n",
        "print(f\"При рассчитанных выше значениях, суммарная оценка количества невыровненных функциональных точек UFP принимает значение {UFP_result}\")"
      ],
      "metadata": {
        "colab": {
          "base_uri": "https://localhost:8080/"
        },
        "id": "f58b2hzPMdRM",
        "outputId": "a76a5500-318d-49fa-9953-f0ea8577f4d5"
      },
      "execution_count": null,
      "outputs": [
        {
          "output_type": "stream",
          "name": "stdout",
          "text": [
            "При рассчитанных выше значениях, суммарная оценка количества невыровненных функциональных точек UFP принимает значение ((23.5, 28.5, 33.5, 38.5), (26.0, 28.5, 33.5, 36.0))\n"
          ]
        }
      ]
    },
    {
      "cell_type": "code",
      "source": [
        "# Определение значения фактора выравнивания (FAV)\n",
        "# TDI = DI1 + DI2 + DI3 + DI4 + DI5 + DI6 + DI7 + DI8 + DI9 + DI10 + DI11 + DI12 + DI13 + DI14\n",
        "\n",
        "def calculate_TDI(*params):\n",
        "    TDI = params[0]\n",
        "    for param in params[1:]:\n",
        "        TDI = add_intuitionistic_trapezoidal_fuzzy_numbers(TDI, param)\n",
        "    return TDI"
      ],
      "metadata": {
        "id": "zCcCSgR0tq3s"
      },
      "execution_count": null,
      "outputs": []
    },
    {
      "cell_type": "code",
      "source": [
        "# Определение параметров фактора выравнивания (FAV)\n",
        "DI1 = ((2.5, 3.5, 4.5, 5.5), (3.0, 3.5, 4.5, 5.0))   # Обмен данными, показатель от 0 до 5 включительно\n",
        "DI2 = ((1.5, 2.5, 3.5, 4.5), (2.0, 2.5, 3.5, 4.0))   # Распределенная обработка данных, показатель от 0 до 5 включительно\n",
        "DI3 = ((3.5, 4.5, 5.5, 6.5), (4.0, 4.5, 5.5, 6.0))   # Производительность, показатель от 0 до 5 включительно\n",
        "DI4 = ((0.0, 0.5, 1.5, 2.5), (0.0, 0.5, 1.5, 2.0))   # Ограничения по аппаратным ресурсам, показатель от 0 до 5 включительно\n",
        "DI5 = ((0.0, 0.0, 0.0, 1.0), (0.0, 0.0, 0.0, 0.5))   # Транзакционная нагрузка, показатель от 0 до 5 включительно\n",
        "DI6 = ((3.5, 4.5, 5.5, 6.5), (4.0, 4.5, 5.5, 6.0))   # Интенсивность взаимодействия с пользователем, показатель от 0 до 5 включительно\n",
        "DI7 = ((3.5, 4.5, 5.5, 6.5), (4.0, 4.5, 5.5, 6.0))   # Эргономика (эффективность работы конечных пользователей), показатель от 0 до 5 включительно\n",
        "DI8 = ((0.0, 0.0, 0.0, 1.0), (0.0, 0.0, 0.0, 0.5))   # Интенсивность изменения данных (ILF) пользователями, показатель от 0 до 5 включительно\n",
        "DI9 = ((2.5, 3.5, 4.5, 5.5), (3.0, 3.5, 4.5, 5.0))   # Сложность обработки, показатель от 0 до 5 включительно\n",
        "DI10 = ((3.5, 4.5, 5.5, 6.5), (4.0, 4.5, 5.5, 6.0))  # Повторное использование, показатель от 0 до 5 включительно\n",
        "DI11 = ((1.5, 2.5, 3.5, 4.5), (2.0, 2.5, 3.5, 4.0))  # Удобство инсталляции, показатель от 0 до 5 включительно\n",
        "DI12 = ((3.5, 4.5, 5.5, 6.5), (4.0, 4.5, 5.5, 6.0))  # Удобство администрирования, показатель от 0 до 5 включительно\n",
        "DI13 = ((0.0, 0.5, 1.5, 2.5), (0.0, 0.5, 1.5, 2.0))  # Портируемость, показатель от 0 до 5 включительно\n",
        "DI14 = ((0.0, 0.5, 1.5, 2.5), (0.0, 0.5, 1.5, 2.0))  # Гибкость, показатель от 0 до 5 включительно\n",
        "\n",
        "# Вычисляем суммарный эффект TDI\n",
        "TDI = calculate_TDI(DI1, DI2, DI3, DI4, DI5, DI6, DI7, DI8, DI9, DI10, DI11, DI12, DI13, DI14)\n",
        "\n",
        "print(f\"При вышеуказанных системных параметрах DI1-DI14, суммарный эффект TDI принимает значение {TDI}\")"
      ],
      "metadata": {
        "colab": {
          "base_uri": "https://localhost:8080/"
        },
        "id": "UJtoRb0vqLuh",
        "outputId": "2c7b85a0-60f5-4c42-b4c0-0b64bfc217e6"
      },
      "execution_count": null,
      "outputs": [
        {
          "output_type": "stream",
          "name": "stdout",
          "text": [
            "При вышеуказанных системных параметрах DI1-DI14, суммарный эффект TDI принимает значение ((25.5, 36.0, 48.0, 62.0), (30.0, 36.0, 48.0, 55.0))\n"
          ]
        }
      ]
    },
    {
      "cell_type": "code",
      "source": [
        "# Расчет значения фактора выравнивания VAF\n",
        "# VAF = (TDI * 0.01) + 0.65\n",
        "def multiply_fuzzy_number_by_constant(fuzzy_number, constant):\n",
        "    # Умножение нечеткого числа на константу\n",
        "    (x1, x2, x3, x4), (x5, x6, x7, x8) = fuzzy_number\n",
        "    if constant < 0:\n",
        "        # Умножение всех координат на константу в обратном порядке\n",
        "        new_X = (\n",
        "            (x4 * constant, x3 * constant, x2 * constant, x1 * constant),\n",
        "            (x8 * constant, x7 * constant, x6 * constant, x5 * constant)\n",
        "        )\n",
        "    else:\n",
        "        # Умножение всех координат на константу в обычном порядке\n",
        "        new_X = (\n",
        "            (x1 * constant, x2 * constant, x3 * constant, x4 * constant),\n",
        "            (x5 * constant, x6 * constant, x7 * constant, x8 * constant)\n",
        "        )\n",
        "    return new_X\n",
        "\n",
        "def add_constant_to_fuzzy_number(X, constant):\n",
        "    (x1, x2, x3, x4), (x5, x6, x7, x8) = X\n",
        "    # Прибавление константы ко всем координатам\n",
        "    new_X = (\n",
        "        (x1 + constant, x2 + constant, x3 + constant, x4 + constant),\n",
        "        (x5 + constant, x6 + constant, x7 + constant, x8 + constant)\n",
        "    )\n",
        "    return new_X\n",
        "\n",
        "# Умножаем TDI на 0.01\n",
        "TDI_multiplied = multiply_fuzzy_number_by_constant(TDI, 0.01)\n",
        "\n",
        "# Добавляем 0.65 к результату\n",
        "VAF = add_constant_to_fuzzy_number(TDI_multiplied, 0.65)"
      ],
      "metadata": {
        "id": "nItcRlWQ9XTe"
      },
      "execution_count": null,
      "outputs": []
    },
    {
      "cell_type": "code",
      "source": [
        "print(f\"При рассчитанном выше суммарном эффекте системных характеристик TDI, фактор выравнивания VAF принимает значение {VAF}\")"
      ],
      "metadata": {
        "colab": {
          "base_uri": "https://localhost:8080/"
        },
        "id": "S-FAHe1u9Qf-",
        "outputId": "d36a83a5-f938-436f-9e94-6dd0af3ed8d4"
      },
      "execution_count": null,
      "outputs": [
        {
          "output_type": "stream",
          "name": "stdout",
          "text": [
            "При рассчитанном выше суммарном эффекте системных характеристик TDI, фактор выравнивания VAF принимает значение ((0.905, 1.01, 1.13, 1.27), (0.95, 1.01, 1.13, 1.2000000000000002))\n"
          ]
        }
      ]
    },
    {
      "cell_type": "code",
      "source": [
        "# Расчет количества выровненных функциональных точек (AFP)\n",
        "# AFP = UFP * VAF\n",
        "def multiply_intuitionistic_trapezoidal_fuzzy_numbers(X, Y):\n",
        "    # Распаковка параметров интервальных трапециевидных чисел 2 типа\n",
        "    (x1, x2, x3, x4), (x5, x6, x7, x8) = X\n",
        "    (y1, y2, y3, y4), (y5, y6, y7, y8) = Y\n",
        "\n",
        "    # Вычисление координат для произведения с округлением\n",
        "    z1 = round(x2 * y1 - x2 * y2 + x1 * y2, 2)\n",
        "    z2 = round(x2 * y2, 2)\n",
        "    z3 = round(x3 * y3, 2)\n",
        "    z4 = round(x3 * y4 - x3 * y3 + y3 * x4, 2)\n",
        "\n",
        "    z5 = round(x6 * y5 - x6 * y6 + x5 * y6, 2)\n",
        "    z6 = round(x6 * y6, 2)\n",
        "    z7 = round(x7 * y7, 2)\n",
        "    z8 = round(x7 * y8 - x7 * y7 + y7 * x8, 2)\n",
        "\n",
        "    return ((z1, z2, z3, z4), (z5, z6, z7, z8))\n",
        "\n",
        "# Умножение интервальных трапециевидных чисел 2 типа\n",
        "AFP = multiply_intuitionistic_trapezoidal_fuzzy_numbers(UFP_result, VAF)"
      ],
      "metadata": {
        "id": "6a5IaTfAAMxz"
      },
      "execution_count": null,
      "outputs": []
    },
    {
      "cell_type": "code",
      "source": [
        "print(f\"При рассчитанных выше параметрах, оценка проекта (новая функциональность) AFP принимает значение {AFP} выровненных функциональных точек\")"
      ],
      "metadata": {
        "colab": {
          "base_uri": "https://localhost:8080/"
        },
        "id": "QgndXmpUALa7",
        "outputId": "c46b9207-fc5e-46f5-e4dd-8a2dd5d843fa"
      },
      "execution_count": null,
      "outputs": [
        {
          "output_type": "stream",
          "name": "stdout",
          "text": [
            "При рассчитанных выше параметрах, оценка проекта (новая функциональность) AFP принимает значение ((20.74, 28.79, 37.85, 48.2), (24.55, 28.79, 37.85, 43.02)) выровненных функциональных точек\n"
          ]
        }
      ]
    },
    {
      "cell_type": "markdown",
      "source": [
        "Для перехода от нечетких значений к четким применим операцию альфа-среза. В результате получим четкий интервал (отрезок) значений из области определения нечеткого трапециевидного числа 2-го типа, который будет соответствовать единственному значению функции принадлежности, заданному уровнем альфа-среза."
      ],
      "metadata": {
        "id": "Jh-qSH71zkGN"
      }
    },
    {
      "cell_type": "code",
      "source": [
        "def alpha_cut(fuzzy_number, alpha):\n",
        "    # Распаковка параметров нечеткого числа\n",
        "    (x1, x2, x3, x4), (x5, x6, x7, x8) = fuzzy_number\n",
        "\n",
        "    # Вычисление концов верхнего интервала альфа-среза\n",
        "    upper_start = alpha * x2 + (1 - alpha) * x1\n",
        "    upper_end = alpha * x3 + (1 - alpha) * x4\n",
        "\n",
        "    # Вычисление концов нижнего интервала альфа-среза\n",
        "    lower_start = alpha * x6 + (1 - alpha) * x5\n",
        "    lower_end = alpha * x7 + (1 - alpha) * x8\n",
        "\n",
        "    # Округляем значения до 3 знаков после запятой\n",
        "    upper_start = round(upper_start, 3)\n",
        "    upper_end = round(upper_end, 3)\n",
        "    lower_start = round(lower_start, 3)\n",
        "    lower_end = round(lower_end, 3)\n",
        "\n",
        "    # Возвращаем альфа-срез в виде нечеткого числа\n",
        "    return ((upper_start, upper_end), (lower_start, lower_end))"
      ],
      "metadata": {
        "id": "i8aAY16-I6DM"
      },
      "execution_count": null,
      "outputs": []
    },
    {
      "cell_type": "markdown",
      "source": [
        "Зададим уровень альфа-среза равным 0.8. Значение альфа-среза - это уровень уверенности стейкхолдеров в полученной оценке итогового результата моделирования. Левая и права граница интервала (отрезка, являющегося результатом применения альфа-среза) - это минимальное (левая граница) и максимальное (правая граница) значения, которые может принимать результат моделирования с данной степенью уверенности."
      ],
      "metadata": {
        "id": "nzB_ktxU16jc"
      }
    },
    {
      "cell_type": "code",
      "source": [
        "# Вычисление альфа-среза\n",
        "alpha = 0.8\n",
        "alpha_cut_result = alpha_cut(AFP, alpha)\n",
        "print(f\"Альфа-срез при альфа = {alpha} для AFP {AFP} равен {alpha_cut_result}\")"
      ],
      "metadata": {
        "colab": {
          "base_uri": "https://localhost:8080/"
        },
        "id": "hf1oxKWaI6-q",
        "outputId": "cf81e8c4-7bd8-415c-ccb6-b2071834c075"
      },
      "execution_count": null,
      "outputs": [
        {
          "output_type": "stream",
          "name": "stdout",
          "text": [
            "Альфа-срез при альфа = 0.8 для AFP ((20.74, 28.79, 37.85, 48.2), (24.55, 28.79, 37.85, 43.02)) равен ((27.18, 39.92), (27.942, 38.884))\n"
          ]
        }
      ]
    },
    {
      "cell_type": "markdown",
      "source": [
        "Другими словами, с 80% уверенностью можно утверждать, что результат применения данной модели составит от 27.18 до 39.92 выровненных функциональных точек в верхней функции принадлежности и от 27.94 до 38.84 выровненных функциональных точек в нижней функции принадлежности."
      ],
      "metadata": {
        "id": "ExFg--kz3PUO"
      }
    },
    {
      "cell_type": "markdown",
      "source": [
        "Для приведения интервальных оценок к точечным результатам применяются методы усреднения, например, центроид системы двух точек, которым является середина отрезка, соединяющего данные точки, т.е. среднее арифметическое левого и правого значения его координат (среднее минимума и максимума по оси абсцисс)."
      ],
      "metadata": {
        "id": "DQ3_Vtod38wC"
      }
    },
    {
      "cell_type": "code",
      "source": [
        "def centroid(alpha_cut_result):\n",
        "    # Распаковка верхнего и нижнего отрезков альфа-среза\n",
        "    (upper_start, upper_end), (lower_start, lower_end) = alpha_cut_result\n",
        "\n",
        "    # Расчет среднего значения\n",
        "    central_upper = round((upper_start + upper_end) / 2, 3)\n",
        "    central_lower = round((lower_start + lower_end) / 2, 3)\n",
        "\n",
        "    # Возвращаем результат в нужном формате\n",
        "    return (central_upper, central_lower)\n",
        "\n",
        "alpha_cut_result = alpha_cut(AFP, alpha)\n",
        "central_result = centroid(alpha_cut_result)\n",
        "\n",
        "print(f\"Усредненные значения для AFP {AFP} при альфа = {alpha} равны {central_result}\")\n"
      ],
      "metadata": {
        "colab": {
          "base_uri": "https://localhost:8080/"
        },
        "id": "SGouoYnEMvp5",
        "outputId": "13690b50-0448-43bc-f66d-10be5d0f17ac"
      },
      "execution_count": null,
      "outputs": [
        {
          "output_type": "stream",
          "name": "stdout",
          "text": [
            "Усредненные значения для AFP ((20.74, 28.79, 37.85, 48.2), (24.55, 28.79, 37.85, 43.02)) при альфа = 0.8 равны (33.55, 33.413)\n"
          ]
        }
      ]
    },
    {
      "cell_type": "markdown",
      "source": [
        "Усредненное (точечное) четкое значение результата моделирования составляет 33,55 выровненных функциональных точки по верхней функции принадлежности и 33,41 - по нижней."
      ],
      "metadata": {
        "id": "GUsOTArW6B3y"
      }
    },
    {
      "cell_type": "code",
      "source": [
        "# Вычисляем среднее арифметическое усредненных значений\n",
        "AFP_final = calculate_average(central_result)\n",
        "\n",
        "print(f\"Среднее значение трудоемкости по нечеткой модели составляет {AFP_final} выровненных функциональных точки\")"
      ],
      "metadata": {
        "colab": {
          "base_uri": "https://localhost:8080/"
        },
        "id": "c-O6y6Vw2mno",
        "outputId": "33a6a66c-610b-4d48-d5ba-afe260038ab8"
      },
      "execution_count": null,
      "outputs": [
        {
          "output_type": "stream",
          "name": "stdout",
          "text": [
            "Среднее значение трудоемкости по нечеткой модели составляет 33.481 выровненных функциональных точки\n"
          ]
        }
      ]
    },
    {
      "cell_type": "markdown",
      "source": [
        "Итоговое усредненное четкое значение результата моделирования составляет 33,48 выровненных функциональных точки"
      ],
      "metadata": {
        "id": "K_gXNTjy28su"
      }
    },
    {
      "cell_type": "markdown",
      "source": [
        "# Нечеткая Модель *FPA*. Применение колеблющихся нечетких чисел"
      ],
      "metadata": {
        "id": "rnTYamXglFgI"
      }
    },
    {
      "cell_type": "code",
      "source": [
        "# Функция для обработки результата - исключение повторов и упорядочивание по возрастанию значений функции принадлежности\n",
        "def process_fuzzy_result(fuzzy_result):\n",
        "    # Распаковка результата\n",
        "    x_value, *parameters = fuzzy_result\n",
        "\n",
        "    # Исключение повторяющихся значений и упорядочение по возрастанию\n",
        "    unique_parameters = sorted(set(parameters))\n",
        "\n",
        "    # Формирование нового кортежа с уникальными значениями\n",
        "    processed_result = (x_value, *unique_parameters)\n",
        "\n",
        "    return processed_result"
      ],
      "metadata": {
        "id": "knq9RH62Kon-"
      },
      "execution_count": null,
      "outputs": []
    },
    {
      "cell_type": "code",
      "source": [
        "# Функция для сложения дискретных колеблющихся нечетких чисел\n",
        "def add_discrete_fuzzy_numbers(X, Y):\n",
        "    x_value, *x_parameters = X\n",
        "    y_value, *y_parameters = Y\n",
        "    result_parameters = []\n",
        "\n",
        "    for xi in x_parameters:\n",
        "        for yj in y_parameters:\n",
        "            zij = round(xi + yj - xi * yj, 2)\n",
        "            result_parameters.append(zij)\n",
        "\n",
        "    Z = round(x_value + y_value, 2)\n",
        "    return (Z, *result_parameters)"
      ],
      "metadata": {
        "id": "3YjY3SW_LeTW"
      },
      "execution_count": null,
      "outputs": []
    },
    {
      "cell_type": "code",
      "source": [
        "# Определение сложности данных\n",
        "def complexity(DET, RET):\n",
        "# Извлечение значения из дискретного колеблющегося нечеткого числа\n",
        "    x_value = DET[0]  # Первое значение в кортеже DET\n",
        "    y_value = RET[0]  # Первое значение в кортеже RET\n",
        "\n",
        "    # Используем условия для определения сложности с учетом DET_mid_high и RET_mid_high\n",
        "    if x_value < 20 and  y_value == 1:\n",
        "        COMPL = \"Low\"\n",
        "    elif 20 <= x_value <= 50 and y_value == 1:\n",
        "        COMPL = \"Low\"\n",
        "    elif x_value > 50 and y_value == 1:\n",
        "        COMPL = \"Average\"\n",
        "    elif x_value < 20 and 2 <= y_value <= 5:\n",
        "        COMPL = \"Low\"\n",
        "    elif 20 <= x_value <= 50 and 2 <= y_value <= 5:\n",
        "        COMPL = \"Average\"\n",
        "    elif x_value > 50 and 2 <= y_value <= 5:\n",
        "        COMPL = \"High\"\n",
        "    elif x_value < 20 and y_value > 5:\n",
        "        COMPL = \"Average\"\n",
        "    elif 20 <= x_value <= 50 and y_value > 5:\n",
        "        COMPL = \"High\"\n",
        "    elif x_value > 50 and y_value > 5:\n",
        "        COMPL = \"High\"\n",
        "    else:\n",
        "        COMPL = \"Undefined\"  # Если ни одно из условий не выполнено\n",
        "\n",
        "    return COMPL"
      ],
      "metadata": {
        "id": "oCS2EgEiou7A"
      },
      "execution_count": null,
      "outputs": []
    },
    {
      "cell_type": "code",
      "source": [
        "#Вводим начальные параметры для определения сложности данных:\n",
        "DET = (18, 0.8, 0.9)     # (Data Element Type) количество неповторяемых уникальных полей данных\n",
        "RET = (2, 0.7, 0.8)      # (Record Element Type) количество логических групп данных\n",
        "print(f\"При указанных выше значениях параметров DET и RET, сложность данных определяется как  {complexity(DET, RET)}\")"
      ],
      "metadata": {
        "colab": {
          "base_uri": "https://localhost:8080/"
        },
        "id": "sc-tRGhjtJBG",
        "outputId": "7a3be6da-acd8-49d8-a722-63cb2bebbdc4"
      },
      "execution_count": null,
      "outputs": [
        {
          "output_type": "stream",
          "name": "stdout",
          "text": [
            "При указанных выше значениях параметров DET и RET, сложность данных определяется как  Low\n"
          ]
        }
      ]
    },
    {
      "cell_type": "code",
      "source": [
        "# Оценка данных в невыровненных  функциональных точках (UFP) для внутренних логических файлов (ILFs) и внешних интерфейсных файлов (EIFs)\n",
        "# Если complexity(DET, RET) = Low, то UFP_ILF = 7, если complexity(DET, RET) = Average, то UFP_ILF = 10, если complexity(DET, RET) = High, то UFP_ILF = 15;\n",
        "# Если complexity(DET, RET) = Low, то UFP_EIF = 5, если complexity(DET, RET) = Average, то UFP_EIF = 7, если complexity(DET, RET) = High, то UFP_EIF = 10.\n",
        "if complexity(DET, RET) == \"Low\":\n",
        "    UFP_ILF = (7, 0.5, 0.6)\n",
        "    UFP_EIF = (5, 0.5, 0.6)\n",
        "elif complexity(DET, RET) == \"Average\":\n",
        "    UFP_ILF = (10, 0.5, 0.6)\n",
        "    UFP_EIF = (7, 0.5, 0.6)\n",
        "elif complexity(DET, RET) == \"High\":\n",
        "    UFP_ILF = (15, 0.5, 0.6)\n",
        "    UFP_EIF = (10, 0.5, 0.6),\n",
        "else:\n",
        "    UFP_ILF = 0  # Значения по умолчанию, если сложность неопределена\n",
        "    UFP_EIF = 0"
      ],
      "metadata": {
        "id": "F312FiTKuk5a"
      },
      "execution_count": null,
      "outputs": []
    },
    {
      "cell_type": "code",
      "source": [
        "print(f\"При указанных выше значениях параметров DET и RET, количество UFP(ILF) = {UFP_ILF}, UFP(EIF)= {UFP_EIF} невыровненных функциональных точек\")"
      ],
      "metadata": {
        "colab": {
          "base_uri": "https://localhost:8080/"
        },
        "id": "jmT98ToPup7W",
        "outputId": "2555c389-8890-493d-e1d8-4bc65c0ecaee"
      },
      "execution_count": null,
      "outputs": [
        {
          "output_type": "stream",
          "name": "stdout",
          "text": [
            "При указанных выше значениях параметров DET и RET, количество UFP(ILF) = (7, 0.5, 0.6), UFP(EIF)= (5, 0.5, 0.6) невыровненных функциональных точек\n"
          ]
        }
      ]
    },
    {
      "cell_type": "code",
      "source": [
        "# Функция расчета матрицы сложности внешних входных транзакций (EI)\n",
        "def complexity1(DET1, FTR):\n",
        "  # если DET1 < 5 и FTR < 2, то COMPL1 = Low; если 5 <= DET1 <= 15 и FTR < 2, то COMPL1 = Low; если DET1 > 15 и FTR < 2, то COMPL1 = Average;\n",
        "  # если DET1 < 5 и FTR = 2, то COMPL1 = Low; если 5 <= DET1 <= 15 и FTR = 2, то COMPL1 = Average; если DET1 > 15 и FTR = 2, то COMPL1 = High;\n",
        "  # если DET1 < 5 и FTR > 2, то COMPL1 = Average; если 5 <= DET1 <= 15 и FTR > 2, то COMPL1 = High; если DET1 > 15 и FTR > 2, то COMPL1 = High;\n",
        "    # Присвоим значения из колеблющихся нечетких чисел\n",
        "    x_value = DET1[0]  # Первое значение в кортеже DET1\n",
        "    y_value = FTR[0]   # Первое значение в кортеже FTR\n",
        "\n",
        "    if x_value < 5 and y_value < 2:\n",
        "        COMPL1 = \"Low\"\n",
        "    elif 5 <= x_value <= 15 and y_value < 2:\n",
        "        COMPL1 = \"Low\"\n",
        "    elif x_value > 15 and y_value < 2:\n",
        "        COMPL1 = \"Average\"\n",
        "    elif x_value < 5 and y_value == 2:\n",
        "        COMPL1 = \"Low\"\n",
        "    elif 5 <= x_value <= 15 and y_value == 2:\n",
        "        COMPL1 = \"Average\"\n",
        "    elif x_value > 15 and y_value == 2:\n",
        "        COMPL1 = \"High\"\n",
        "    elif x_value < 5 and y_value > 2:\n",
        "        COMPL1 = \"Average\"\n",
        "    elif 5 <= x_value <= 15 and y_value > 2:\n",
        "        COMPL1 = \"High\"\n",
        "    elif x_value > 15 and y_value > 2:\n",
        "        COMPL1 = \"High\"\n",
        "    else:\n",
        "        COMPL1 = \"Undefined\"  # Значение по умолчанию, если ни одно из условий не выполнено\n",
        "\n",
        "    return COMPL1"
      ],
      "metadata": {
        "id": "3lDlHsAkvNhS"
      },
      "execution_count": null,
      "outputs": []
    },
    {
      "cell_type": "code",
      "source": [
        "# Функция расчета матрицы сложности внешних выходных транзакций и внешних запросов (EO&EQ)\n",
        "def complexity2(DET1, FTR):\n",
        "  # если DET1 < 6 и FTR < 2, то COMPL2 = Low; если 6 <= DET1 <= 19 и FTR < 2, то COMPL2 = Low; если DET1 > 19 и FTR < 2, то COMPL2 = Average;\n",
        "  # если DET1 < 6 и 2 <= FTR <= 3, то COMPL2 = Low; если 6 <= DET1 <= 19 и 2 <= FTR <= 3, то COMPL2 = Average; если DET1 > 19 и 2 <= FTR <= 3, то COMPL2 = High;\n",
        "  # если DET1 < 6 и FTR > 3, то COMPL2 = Average; если 6 <= DET1 <= 19 и FTR > 3, то COMPL2 = High; если DET1 > 19 и FTR > 3, то COMPL2 = High;\n",
        "    # Присвоим значения из колеблющихся нечетких чисел\n",
        "    x_value = DET1[0]  # Первое значение в кортеже DET1\n",
        "    y_value = FTR[0]   # Первое значение в кортеже FTR\n",
        " # Определение сложности на основе условий\n",
        "    if x_value < 6 and y_value < 2:\n",
        "        COMPL2 = \"Low\"\n",
        "    elif 6 <= x_value <= 19 and y_value < 2:\n",
        "        COMPL2 = \"Low\"\n",
        "    elif x_value > 19 and y_value < 2:\n",
        "        COMPL2 = \"Average\"\n",
        "    elif x_value < 6 and 2 <= y_value <= 3:\n",
        "        COMPL2 = \"Low\"\n",
        "    elif 6 <= x_value <= 19 and 2 <= y_value <= 3:\n",
        "        COMPL2 = \"Average\"\n",
        "    elif x_value > 19 and 2 <= y_value <= 3:\n",
        "        COMPL2 = \"High\"\n",
        "    elif x_value < 6 and y_value > 3:\n",
        "        COMPL2 = \"Average\"\n",
        "    elif 6 <= x_value <= 19 and y_value > 3:\n",
        "        COMPL2 = \"High\"\n",
        "    elif x_value > 19 and y_value > 3:\n",
        "        COMPL2 = \"High\"\n",
        "    else:\n",
        "        COMPL2 = \"Undefined\"  # Значение по умолчанию, если ни одно из условий не выполнено\n",
        "    return COMPL2"
      ],
      "metadata": {
        "id": "LKTHOzxyvT8_"
      },
      "execution_count": null,
      "outputs": []
    },
    {
      "cell_type": "code",
      "source": [
        "# Вводим характеристики оценки сложности транзакций\n",
        "DET1 = (18, 0.8, 0.9)  # (Data Element Type) количество неповторяемых уникальных полей данных\n",
        "FTR = (4, 0.7, 0.8)    # (File Type Referenced) количество файлов (информационных объектов) типа ILF и/или EIF, модифицируемых или считываемых в транзакции\n",
        "print(f\"При указанных выше значениях параметров DET1 и FTR, сложность внешних входных транзакций (EI) определяется как {complexity1(DET1, FTR)},\\n\"\n",
        "f\"сложность внешних выходных транзакций и внешних запросов (EO&EQ) определяется как {complexity2(DET1, FTR)}\")"
      ],
      "metadata": {
        "colab": {
          "base_uri": "https://localhost:8080/"
        },
        "id": "CXwi6v4Eve6v",
        "outputId": "923f3315-7427-471f-be80-7e722561aa4b"
      },
      "execution_count": null,
      "outputs": [
        {
          "output_type": "stream",
          "name": "stdout",
          "text": [
            "При указанных выше значениях параметров DET1 и FTR, сложность внешних входных транзакций (EI) определяется как High,\n",
            "сложность внешних выходных транзакций и внешних запросов (EO&EQ) определяется как High\n"
          ]
        }
      ]
    },
    {
      "cell_type": "code",
      "source": [
        "# Оценка сложности транзакций в невыровненных  функциональных точках (UFP)\n",
        "# Если complexity1(DET1, FTR) = Low, то UFP_EI = 3, если complexity1(DET1, FTR) = Average, то UFP_EI = 4, если complexity1(DET1, FTR) = High, то UFP_EI = 6;\n",
        "# Если complexity2(DET1, FTR) = Low, то UFP_EQ = 3, если complexity2(DET1, FTR) = Average, то UFP_EQ = 4, если complexity2(DET1, FTR) = High, то UFP_EQ = 6;\n",
        "# Если complexity2(DET1, FTR) = Low, то UFP_EO = 4, если complexity2(DET1, FTR) = Average, то UFP_EO = 5, если complexity2(DET1, FTR) = High, то UFP_EO = 7;\n",
        "if complexity1(DET1, FTR) == \"Low\":\n",
        "    UFP_EI = (3, 0.5, 0.6)\n",
        "elif complexity1(DET1, FTR) == \"Average\":\n",
        "    UFP_EI = (4, 0.5, 0.6)\n",
        "elif complexity1(DET1, FTR) == \"High\":\n",
        "    UFP_EI = (6, 0.5, 0.6)\n",
        "else:\n",
        "    UFP_EI = None  # Значение по умолчанию, если не определено\n",
        "\n",
        "if complexity2(DET1, FTR) == \"Low\":\n",
        "    UFP_EQ = (3, 0.5, 0.6)\n",
        "elif complexity2(DET1, FTR) == \"Average\":\n",
        "    UFP_EQ = (4, 0.5, 0.6)\n",
        "elif complexity2(DET1, FTR) == \"High\":\n",
        "    UFP_EQ = (6, 0.5, 0.6)\n",
        "else:\n",
        "    UFP_EQ = None  # Значение по умолчанию, если не определено\n",
        "\n",
        "if complexity2(DET1, FTR) == \"Low\":\n",
        "    UFP_EO = (4, 0.5, 0.6)\n",
        "elif complexity2(DET1, FTR) == \"Average\":\n",
        "    UFP_EO = (5, 0.5, 0.6)\n",
        "elif complexity2(DET1, FTR) == \"High\":\n",
        "    UFP_EO = (7, 0.5, 0.6)\n",
        "else:\n",
        "    UFP_EO = None  # Значение по умолчанию, если не определено"
      ],
      "metadata": {
        "id": "EBp5MKMSy211"
      },
      "execution_count": null,
      "outputs": []
    },
    {
      "cell_type": "code",
      "source": [
        "print(f\"При указанных выше значениях параметров DET1 и FTR, количество UFP(EI) = {UFP_EI}, UFP(EQ) = {UFP_EQ}, UFP(EO) = {UFP_EO} невыровненных функциональных точек\")"
      ],
      "metadata": {
        "colab": {
          "base_uri": "https://localhost:8080/"
        },
        "id": "dyzEi62czgdv",
        "outputId": "71d9fcd0-06fc-4c73-94f9-f8319695e8ed"
      },
      "execution_count": null,
      "outputs": [
        {
          "output_type": "stream",
          "name": "stdout",
          "text": [
            "При указанных выше значениях параметров DET1 и FTR, количество UFP(EI) = (6, 0.5, 0.6), UFP(EQ) = (6, 0.5, 0.6), UFP(EO) = (7, 0.5, 0.6) невыровненных функциональных точек\n"
          ]
        }
      ]
    },
    {
      "cell_type": "code",
      "source": [
        "# Список всех нечетких чисел\n",
        "fuzzy_numbers = [UFP_ILF, UFP_EIF, UFP_EI, UFP_EQ, UFP_EO]\n",
        "\n",
        "# Начинаем с первого нечеткого числа\n",
        "current_sum = fuzzy_numbers[0]\n",
        "\n",
        "# Поочередно складываем все нечеткие числа\n",
        "for fuzzy_number in fuzzy_numbers[1:]:\n",
        "    current_sum = add_discrete_fuzzy_numbers(current_sum, fuzzy_number)\n",
        "\n",
        "# Вычисляем суммарное количество невыровненных функциональных точек UFP\n",
        "UFP_result = current_sum\n",
        "\n",
        "# Вывод результата\n",
        "print(f\"Итоговая сумма UFP: {UFP_result}\")  # Вывод суммы\n"
      ],
      "metadata": {
        "colab": {
          "base_uri": "https://localhost:8080/"
        },
        "id": "IaSBy1j00-MD",
        "outputId": "caa1ef8f-3252-4250-8d02-3a8909b8e4bb"
      },
      "execution_count": null,
      "outputs": [
        {
          "output_type": "stream",
          "name": "stdout",
          "text": [
            "Итоговая сумма UFP: (31, 0.97, 0.98, 0.97, 0.98, 0.97, 0.98, 0.98, 0.98, 0.97, 0.98, 0.98, 0.98, 0.98, 0.98, 0.98, 0.99, 0.97, 0.98, 0.98, 0.98, 0.98, 0.98, 0.98, 0.99, 0.98, 0.98, 0.98, 0.99, 0.98, 0.99, 0.99, 0.99)\n"
          ]
        }
      ]
    },
    {
      "cell_type": "code",
      "source": [
        "# Дополнение к коду для обработки результата\n",
        "UFP_processed_result = process_fuzzy_result(UFP_result)\n",
        "\n",
        "# Вывод обработанного результата\n",
        "print(f\"Обработанный результат UFP: {UFP_processed_result}\")"
      ],
      "metadata": {
        "colab": {
          "base_uri": "https://localhost:8080/"
        },
        "id": "lcb8b6L43dXX",
        "outputId": "00db3e5c-fffb-4f61-dc53-d3608fb741d1"
      },
      "execution_count": null,
      "outputs": [
        {
          "output_type": "stream",
          "name": "stdout",
          "text": [
            "Обработанный результат UFP: (31, 0.97, 0.98, 0.99)\n"
          ]
        }
      ]
    },
    {
      "cell_type": "code",
      "source": [
        "# Определение значения фактора выравнивания (FAV)\n",
        "# TDI = DI1 + DI2 + DI3 + DI4 + DI5 + DI6 + DI7 + DI8 + DI9 + DI10 + DI11 + DI12 + DI13 + DI14\n",
        "\n",
        "# Определение параметров фактора выравнивания (FAV)\n",
        "DI1 = (4, 0.2, 0.3)   # Обмен данными, показатель от 0 до 5 включительно\n",
        "DI2 = (3, 0.2, 0.3)   # Распределенная обработка данных, показатель от 0 до 5 включительно\n",
        "DI3 = (5, 0.2, 0.3)   # Производительность, показатель от 0 до 5 включительно\n",
        "DI4 = (1, 0.2, 0.3)   # Ограничения по аппаратным ресурсам, показатель от 0 до 5 включительно\n",
        "DI5 = (0, 0.2, 0.3)   # Транзакционная нагрузка, показатель от 0 до 5 включительно\n",
        "DI6 = (5, 0.2, 0.3)   # Интенсивность взаимодействия с пользователем, показатель от 0 до 5 включительно\n",
        "DI7 = (5, 0.2, 0.3)   # Эргономика (эффективность работы конечных пользователей), показатель от 0 до 5 включительно\n",
        "DI8 = (0, 0.2, 0.3)   # Интенсивность изменения данных (ILF) пользователями, показатель от 0 до 5 включительно\n",
        "DI9 = (4, 0.2, 0.3)   # Сложность обработки, показатель от 0 до 5 включительно\n",
        "DI10 = (5, 0.2, 0.3)  # Повторное использование, показатель от 0 до 5 включительно\n",
        "DI11 = (3, 0.2, 0.3)  # Удобство инсталляции, показатель от 0 до 5 включительно\n",
        "DI12 = (5, 0.2, 0.3)  # Удобство администрирования, показатель от 0 до 5 включительно\n",
        "DI13 = (1, 0.2, 0.3)  # Портируемость, показатель от 0 до 5 включительно\n",
        "DI14 = (1, 0.2, 0.3)  # Гибкость, показатель от 0 до 5 включительно\n",
        "\n",
        "# Список всех нечетких чисел\n",
        "fuzzy_numbers = [DI1, DI2, DI3, DI4, DI5, DI6, DI7, DI8, DI9, DI10, DI11, DI12, DI13, DI14]\n",
        "\n",
        "# Начинаем с первого нечеткого числа\n",
        "current_sum = fuzzy_numbers[0]\n",
        "\n",
        "# Поочередно складываем все нечеткие числа\n",
        "for fuzzy_number in fuzzy_numbers[1:]:\n",
        "    current_sum = add_discrete_fuzzy_numbers(current_sum, fuzzy_number)\n",
        "\n",
        "# Вычисляем суммарное количество невыровненных функциональных точек UFP\n",
        "TDI = current_sum\n",
        "\n",
        "# Вывод результата\n",
        "print(f\"Итоговая сумма TDI: {TDI}\")"
      ],
      "metadata": {
        "colab": {
          "base_uri": "https://localhost:8080/"
        },
        "id": "Mm09GofL5Ccr",
        "outputId": "b597ec36-47bb-4a95-a919-e7616ad8ca0f"
      },
      "execution_count": null,
      "outputs": [
        {
          "output_type": "stream",
          "name": "stdout",
          "text": [
            "Итоговая сумма TDI: (42, 0.95, 0.96, 0.96, 0.97, 0.96, 0.97, 0.97, 0.97, 0.96, 0.97, 0.97, 0.97, 0.96, 0.97, 0.97, 0.97, 0.96, 0.97, 0.97, 0.97, 0.96, 0.97, 0.97, 0.97, 0.96, 0.97, 0.97, 0.97, 0.97, 0.97, 0.98, 0.98, 0.96, 0.97, 0.97, 0.97, 0.96, 0.97, 0.97, 0.97, 0.96, 0.97, 0.97, 0.97, 0.97, 0.97, 0.98, 0.98, 0.97, 0.97, 0.98, 0.98, 0.98, 0.98, 0.98, 0.98, 0.97, 0.97, 0.98, 0.98, 0.98, 0.98, 0.98, 0.98, 0.96, 0.97, 0.97, 0.97, 0.96, 0.97, 0.97, 0.97, 0.96, 0.97, 0.97, 0.97, 0.97, 0.97, 0.98, 0.98, 0.97, 0.97, 0.98, 0.98, 0.98, 0.98, 0.98, 0.98, 0.97, 0.97, 0.98, 0.98, 0.98, 0.98, 0.98, 0.98, 0.96, 0.97, 0.97, 0.97, 0.97, 0.97, 0.98, 0.98, 0.97, 0.97, 0.98, 0.98, 0.98, 0.98, 0.98, 0.98, 0.97, 0.97, 0.98, 0.98, 0.98, 0.98, 0.98, 0.98, 0.97, 0.97, 0.98, 0.98, 0.98, 0.98, 0.98, 0.98, 0.96, 0.97, 0.97, 0.97, 0.97, 0.97, 0.98, 0.98, 0.97, 0.97, 0.98, 0.98, 0.98, 0.98, 0.98, 0.98, 0.97, 0.97, 0.98, 0.98, 0.98, 0.98, 0.98, 0.98, 0.97, 0.97, 0.98, 0.98, 0.98, 0.98, 0.98, 0.98, 0.97, 0.97, 0.98, 0.98, 0.98, 0.98, 0.98, 0.98, 0.97, 0.97, 0.98, 0.98, 0.98, 0.98, 0.98, 0.98, 0.97, 0.97, 0.98, 0.98, 0.98, 0.98, 0.98, 0.98, 0.98, 0.98, 0.98, 0.98, 0.98, 0.99, 0.98, 0.99, 0.97, 0.97, 0.98, 0.98, 0.98, 0.98, 0.98, 0.98, 0.97, 0.97, 0.98, 0.98, 0.98, 0.98, 0.98, 0.98, 0.97, 0.97, 0.98, 0.98, 0.98, 0.98, 0.98, 0.98, 0.98, 0.98, 0.98, 0.98, 0.98, 0.99, 0.98, 0.99, 0.97, 0.97, 0.98, 0.98, 0.98, 0.98, 0.98, 0.98, 0.98, 0.98, 0.98, 0.98, 0.98, 0.99, 0.98, 0.99, 0.98, 0.98, 0.98, 0.98, 0.98, 0.99, 0.98, 0.99, 0.98, 0.99, 0.98, 0.99, 0.98, 0.99, 0.98, 0.99, 0.96, 0.97, 0.97, 0.97, 0.97, 0.97, 0.98, 0.98, 0.97, 0.97, 0.98, 0.98, 0.98, 0.98, 0.98, 0.98, 0.97, 0.97, 0.98, 0.98, 0.98, 0.98, 0.98, 0.98, 0.97, 0.97, 0.98, 0.98, 0.98, 0.98, 0.98, 0.98, 0.97, 0.97, 0.98, 0.98, 0.98, 0.98, 0.98, 0.98, 0.97, 0.97, 0.98, 0.98, 0.98, 0.98, 0.98, 0.98, 0.97, 0.97, 0.98, 0.98, 0.98, 0.98, 0.98, 0.98, 0.98, 0.98, 0.98, 0.98, 0.98, 0.99, 0.98, 0.99, 0.97, 0.97, 0.98, 0.98, 0.98, 0.98, 0.98, 0.98, 0.97, 0.97, 0.98, 0.98, 0.98, 0.98, 0.98, 0.98, 0.97, 0.97, 0.98, 0.98, 0.98, 0.98, 0.98, 0.98, 0.98, 0.98, 0.98, 0.98, 0.98, 0.99, 0.98, 0.99, 0.97, 0.97, 0.98, 0.98, 0.98, 0.98, 0.98, 0.98, 0.98, 0.98, 0.98, 0.98, 0.98, 0.99, 0.98, 0.99, 0.98, 0.98, 0.98, 0.98, 0.98, 0.99, 0.98, 0.99, 0.98, 0.99, 0.98, 0.99, 0.98, 0.99, 0.98, 0.99, 0.97, 0.97, 0.98, 0.98, 0.98, 0.98, 0.98, 0.98, 0.97, 0.97, 0.98, 0.98, 0.98, 0.98, 0.98, 0.98, 0.97, 0.97, 0.98, 0.98, 0.98, 0.98, 0.98, 0.98, 0.98, 0.98, 0.98, 0.98, 0.98, 0.99, 0.98, 0.99, 0.97, 0.97, 0.98, 0.98, 0.98, 0.98, 0.98, 0.98, 0.98, 0.98, 0.98, 0.98, 0.98, 0.99, 0.98, 0.99, 0.98, 0.98, 0.98, 0.98, 0.98, 0.99, 0.98, 0.99, 0.98, 0.99, 0.98, 0.99, 0.98, 0.99, 0.98, 0.99, 0.97, 0.97, 0.98, 0.98, 0.98, 0.98, 0.98, 0.98, 0.98, 0.98, 0.98, 0.98, 0.98, 0.99, 0.98, 0.99, 0.98, 0.98, 0.98, 0.98, 0.98, 0.99, 0.98, 0.99, 0.98, 0.99, 0.98, 0.99, 0.98, 0.99, 0.98, 0.99, 0.98, 0.98, 0.98, 0.98, 0.98, 0.99, 0.98, 0.99, 0.98, 0.99, 0.98, 0.99, 0.98, 0.99, 0.98, 0.99, 0.98, 0.98, 0.98, 0.98, 0.98, 0.99, 0.98, 0.99, 0.98, 0.99, 0.98, 0.99, 0.98, 0.99, 0.98, 0.99, 0.96, 0.97, 0.97, 0.97, 0.97, 0.97, 0.98, 0.98, 0.97, 0.97, 0.98, 0.98, 0.98, 0.98, 0.98, 0.98, 0.97, 0.97, 0.98, 0.98, 0.98, 0.98, 0.98, 0.98, 0.97, 0.97, 0.98, 0.98, 0.98, 0.98, 0.98, 0.98, 0.97, 0.97, 0.98, 0.98, 0.98, 0.98, 0.98, 0.98, 0.97, 0.97, 0.98, 0.98, 0.98, 0.98, 0.98, 0.98, 0.97, 0.97, 0.98, 0.98, 0.98, 0.98, 0.98, 0.98, 0.98, 0.98, 0.98, 0.98, 0.98, 0.99, 0.98, 0.99, 0.97, 0.97, 0.98, 0.98, 0.98, 0.98, 0.98, 0.98, 0.97, 0.97, 0.98, 0.98, 0.98, 0.98, 0.98, 0.98, 0.97, 0.97, 0.98, 0.98, 0.98, 0.98, 0.98, 0.98, 0.98, 0.98, 0.98, 0.98, 0.98, 0.99, 0.98, 0.99, 0.97, 0.97, 0.98, 0.98, 0.98, 0.98, 0.98, 0.98, 0.98, 0.98, 0.98, 0.98, 0.98, 0.99, 0.98, 0.99, 0.98, 0.98, 0.98, 0.98, 0.98, 0.99, 0.98, 0.99, 0.98, 0.99, 0.98, 0.99, 0.98, 0.99, 0.98, 0.99, 0.97, 0.97, 0.98, 0.98, 0.98, 0.98, 0.98, 0.98, 0.97, 0.97, 0.98, 0.98, 0.98, 0.98, 0.98, 0.98, 0.97, 0.97, 0.98, 0.98, 0.98, 0.98, 0.98, 0.98, 0.98, 0.98, 0.98, 0.98, 0.98, 0.99, 0.98, 0.99, 0.97, 0.97, 0.98, 0.98, 0.98, 0.98, 0.98, 0.98, 0.98, 0.98, 0.98, 0.98, 0.98, 0.99, 0.98, 0.99, 0.98, 0.98, 0.98, 0.98, 0.98, 0.99, 0.98, 0.99, 0.98, 0.99, 0.98, 0.99, 0.98, 0.99, 0.98, 0.99, 0.97, 0.97, 0.98, 0.98, 0.98, 0.98, 0.98, 0.98, 0.98, 0.98, 0.98, 0.98, 0.98, 0.99, 0.98, 0.99, 0.98, 0.98, 0.98, 0.98, 0.98, 0.99, 0.98, 0.99, 0.98, 0.99, 0.98, 0.99, 0.98, 0.99, 0.98, 0.99, 0.98, 0.98, 0.98, 0.98, 0.98, 0.99, 0.98, 0.99, 0.98, 0.99, 0.98, 0.99, 0.98, 0.99, 0.98, 0.99, 0.98, 0.98, 0.98, 0.98, 0.98, 0.99, 0.98, 0.99, 0.98, 0.99, 0.98, 0.99, 0.98, 0.99, 0.98, 0.99, 0.97, 0.97, 0.98, 0.98, 0.98, 0.98, 0.98, 0.98, 0.97, 0.97, 0.98, 0.98, 0.98, 0.98, 0.98, 0.98, 0.97, 0.97, 0.98, 0.98, 0.98, 0.98, 0.98, 0.98, 0.98, 0.98, 0.98, 0.98, 0.98, 0.99, 0.98, 0.99, 0.97, 0.97, 0.98, 0.98, 0.98, 0.98, 0.98, 0.98, 0.98, 0.98, 0.98, 0.98, 0.98, 0.99, 0.98, 0.99, 0.98, 0.98, 0.98, 0.98, 0.98, 0.99, 0.98, 0.99, 0.98, 0.99, 0.98, 0.99, 0.98, 0.99, 0.98, 0.99, 0.97, 0.97, 0.98, 0.98, 0.98, 0.98, 0.98, 0.98, 0.98, 0.98, 0.98, 0.98, 0.98, 0.99, 0.98, 0.99, 0.98, 0.98, 0.98, 0.98, 0.98, 0.99, 0.98, 0.99, 0.98, 0.99, 0.98, 0.99, 0.98, 0.99, 0.98, 0.99, 0.98, 0.98, 0.98, 0.98, 0.98, 0.99, 0.98, 0.99, 0.98, 0.99, 0.98, 0.99, 0.98, 0.99, 0.98, 0.99, 0.98, 0.98, 0.98, 0.98, 0.98, 0.99, 0.98, 0.99, 0.98, 0.99, 0.98, 0.99, 0.98, 0.99, 0.98, 0.99, 0.97, 0.97, 0.98, 0.98, 0.98, 0.98, 0.98, 0.98, 0.98, 0.98, 0.98, 0.98, 0.98, 0.99, 0.98, 0.99, 0.98, 0.98, 0.98, 0.98, 0.98, 0.99, 0.98, 0.99, 0.98, 0.99, 0.98, 0.99, 0.98, 0.99, 0.98, 0.99, 0.98, 0.98, 0.98, 0.98, 0.98, 0.99, 0.98, 0.99, 0.98, 0.99, 0.98, 0.99, 0.98, 0.99, 0.98, 0.99, 0.98, 0.98, 0.98, 0.98, 0.98, 0.99, 0.98, 0.99, 0.98, 0.99, 0.98, 0.99, 0.98, 0.99, 0.98, 0.99, 0.98, 0.98, 0.98, 0.98, 0.98, 0.99, 0.98, 0.99, 0.98, 0.99, 0.98, 0.99, 0.98, 0.99, 0.98, 0.99, 0.98, 0.98, 0.98, 0.98, 0.98, 0.99, 0.98, 0.99, 0.98, 0.99, 0.98, 0.99, 0.98, 0.99, 0.98, 0.99, 0.98, 0.98, 0.98, 0.98, 0.98, 0.99, 0.98, 0.99, 0.98, 0.99, 0.98, 0.99, 0.98, 0.99, 0.98, 0.99, 0.98, 0.99, 0.98, 0.99, 0.98, 0.99, 0.98, 0.99, 0.98, 0.99, 0.99, 0.99, 0.98, 0.99, 0.99, 0.99, 0.96, 0.97, 0.97, 0.97, 0.97, 0.97, 0.98, 0.98, 0.97, 0.97, 0.98, 0.98, 0.98, 0.98, 0.98, 0.98, 0.97, 0.97, 0.98, 0.98, 0.98, 0.98, 0.98, 0.98, 0.97, 0.97, 0.98, 0.98, 0.98, 0.98, 0.98, 0.98, 0.97, 0.97, 0.98, 0.98, 0.98, 0.98, 0.98, 0.98, 0.97, 0.97, 0.98, 0.98, 0.98, 0.98, 0.98, 0.98, 0.97, 0.97, 0.98, 0.98, 0.98, 0.98, 0.98, 0.98, 0.98, 0.98, 0.98, 0.98, 0.98, 0.99, 0.98, 0.99, 0.97, 0.97, 0.98, 0.98, 0.98, 0.98, 0.98, 0.98, 0.97, 0.97, 0.98, 0.98, 0.98, 0.98, 0.98, 0.98, 0.97, 0.97, 0.98, 0.98, 0.98, 0.98, 0.98, 0.98, 0.98, 0.98, 0.98, 0.98, 0.98, 0.99, 0.98, 0.99, 0.97, 0.97, 0.98, 0.98, 0.98, 0.98, 0.98, 0.98, 0.98, 0.98, 0.98, 0.98, 0.98, 0.99, 0.98, 0.99, 0.98, 0.98, 0.98, 0.98, 0.98, 0.99, 0.98, 0.99, 0.98, 0.99, 0.98, 0.99, 0.98, 0.99, 0.98, 0.99, 0.97, 0.97, 0.98, 0.98, 0.98, 0.98, 0.98, 0.98, 0.97, 0.97, 0.98, 0.98, 0.98, 0.98, 0.98, 0.98, 0.97, 0.97, 0.98, 0.98, 0.98, 0.98, 0.98, 0.98, 0.98, 0.98, 0.98, 0.98, 0.98, 0.99, 0.98, 0.99, 0.97, 0.97, 0.98, 0.98, 0.98, 0.98, 0.98, 0.98, 0.98, 0.98, 0.98, 0.98, 0.98, 0.99, 0.98, 0.99, 0.98, 0.98, 0.98, 0.98, 0.98, 0.99, 0.98, 0.99, 0.98, 0.99, 0.98, 0.99, 0.98, 0.99, 0.98, 0.99, 0.97, 0.97, 0.98, 0.98, 0.98, 0.98, 0.98, 0.98, 0.98, 0.98, 0.98, 0.98, 0.98, 0.99, 0.98, 0.99, 0.98, 0.98, 0.98, 0.98, 0.98, 0.99, 0.98, 0.99, 0.98, 0.99, 0.98, 0.99, 0.98, 0.99, 0.98, 0.99, 0.98, 0.98, 0.98, 0.98, 0.98, 0.99, 0.98, 0.99, 0.98, 0.99, 0.98, 0.99, 0.98, 0.99, 0.98, 0.99, 0.98, 0.98, 0.98, 0.98, 0.98, 0.99, 0.98, 0.99, 0.98, 0.99, 0.98, 0.99, 0.98, 0.99, 0.98, 0.99, 0.97, 0.97, 0.98, 0.98, 0.98, 0.98, 0.98, 0.98, 0.97, 0.97, 0.98, 0.98, 0.98, 0.98, 0.98, 0.98, 0.97, 0.97, 0.98, 0.98, 0.98, 0.98, 0.98, 0.98, 0.98, 0.98, 0.98, 0.98, 0.98, 0.99, 0.98, 0.99, 0.97, 0.97, 0.98, 0.98, 0.98, 0.98, 0.98, 0.98, 0.98, 0.98, 0.98, 0.98, 0.98, 0.99, 0.98, 0.99, 0.98, 0.98, 0.98, 0.98, 0.98, 0.99, 0.98, 0.99, 0.98, 0.99, 0.98, 0.99, 0.98, 0.99, 0.98, 0.99, 0.97, 0.97, 0.98, 0.98, 0.98, 0.98, 0.98, 0.98, 0.98, 0.98, 0.98, 0.98, 0.98, 0.99, 0.98, 0.99, 0.98, 0.98, 0.98, 0.98, 0.98, 0.99, 0.98, 0.99, 0.98, 0.99, 0.98, 0.99, 0.98, 0.99, 0.98, 0.99, 0.98, 0.98, 0.98, 0.98, 0.98, 0.99, 0.98, 0.99, 0.98, 0.99, 0.98, 0.99, 0.98, 0.99, 0.98, 0.99, 0.98, 0.98, 0.98, 0.98, 0.98, 0.99, 0.98, 0.99, 0.98, 0.99, 0.98, 0.99, 0.98, 0.99, 0.98, 0.99, 0.97, 0.97, 0.98, 0.98, 0.98, 0.98, 0.98, 0.98, 0.98, 0.98, 0.98, 0.98, 0.98, 0.99, 0.98, 0.99, 0.98, 0.98, 0.98, 0.98, 0.98, 0.99, 0.98, 0.99, 0.98, 0.99, 0.98, 0.99, 0.98, 0.99, 0.98, 0.99, 0.98, 0.98, 0.98, 0.98, 0.98, 0.99, 0.98, 0.99, 0.98, 0.99, 0.98, 0.99, 0.98, 0.99, 0.98, 0.99, 0.98, 0.98, 0.98, 0.98, 0.98, 0.99, 0.98, 0.99, 0.98, 0.99, 0.98, 0.99, 0.98, 0.99, 0.98, 0.99, 0.98, 0.98, 0.98, 0.98, 0.98, 0.99, 0.98, 0.99, 0.98, 0.99, 0.98, 0.99, 0.98, 0.99, 0.98, 0.99, 0.98, 0.98, 0.98, 0.98, 0.98, 0.99, 0.98, 0.99, 0.98, 0.99, 0.98, 0.99, 0.98, 0.99, 0.98, 0.99, 0.98, 0.98, 0.98, 0.98, 0.98, 0.99, 0.98, 0.99, 0.98, 0.99, 0.98, 0.99, 0.98, 0.99, 0.98, 0.99, 0.98, 0.99, 0.98, 0.99, 0.98, 0.99, 0.98, 0.99, 0.98, 0.99, 0.99, 0.99, 0.98, 0.99, 0.99, 0.99, 0.97, 0.97, 0.98, 0.98, 0.98, 0.98, 0.98, 0.98, 0.97, 0.97, 0.98, 0.98, 0.98, 0.98, 0.98, 0.98, 0.97, 0.97, 0.98, 0.98, 0.98, 0.98, 0.98, 0.98, 0.98, 0.98, 0.98, 0.98, 0.98, 0.99, 0.98, 0.99, 0.97, 0.97, 0.98, 0.98, 0.98, 0.98, 0.98, 0.98, 0.98, 0.98, 0.98, 0.98, 0.98, 0.99, 0.98, 0.99, 0.98, 0.98, 0.98, 0.98, 0.98, 0.99, 0.98, 0.99, 0.98, 0.99, 0.98, 0.99, 0.98, 0.99, 0.98, 0.99, 0.97, 0.97, 0.98, 0.98, 0.98, 0.98, 0.98, 0.98, 0.98, 0.98, 0.98, 0.98, 0.98, 0.99, 0.98, 0.99, 0.98, 0.98, 0.98, 0.98, 0.98, 0.99, 0.98, 0.99, 0.98, 0.99, 0.98, 0.99, 0.98, 0.99, 0.98, 0.99, 0.98, 0.98, 0.98, 0.98, 0.98, 0.99, 0.98, 0.99, 0.98, 0.99, 0.98, 0.99, 0.98, 0.99, 0.98, 0.99, 0.98, 0.98, 0.98, 0.98, 0.98, 0.99, 0.98, 0.99, 0.98, 0.99, 0.98, 0.99, 0.98, 0.99, 0.98, 0.99, 0.97, 0.97, 0.98, 0.98, 0.98, 0.98, 0.98, 0.98, 0.98, 0.98, 0.98, 0.98, 0.98, 0.99, 0.98, 0.99, 0.98, 0.98, 0.98, 0.98, 0.98, 0.99, 0.98, 0.99, 0.98, 0.99, 0.98, 0.99, 0.98, 0.99, 0.98, 0.99, 0.98, 0.98, 0.98, 0.98, 0.98, 0.99, 0.98, 0.99, 0.98, 0.99, 0.98, 0.99, 0.98, 0.99, 0.98, 0.99, 0.98, 0.98, 0.98, 0.98, 0.98, 0.99, 0.98, 0.99, 0.98, 0.99, 0.98, 0.99, 0.98, 0.99, 0.98, 0.99, 0.98, 0.98, 0.98, 0.98, 0.98, 0.99, 0.98, 0.99, 0.98, 0.99, 0.98, 0.99, 0.98, 0.99, 0.98, 0.99, 0.98, 0.98, 0.98, 0.98, 0.98, 0.99, 0.98, 0.99, 0.98, 0.99, 0.98, 0.99, 0.98, 0.99, 0.98, 0.99, 0.98, 0.98, 0.98, 0.98, 0.98, 0.99, 0.98, 0.99, 0.98, 0.99, 0.98, 0.99, 0.98, 0.99, 0.98, 0.99, 0.98, 0.99, 0.98, 0.99, 0.98, 0.99, 0.98, 0.99, 0.98, 0.99, 0.99, 0.99, 0.98, 0.99, 0.99, 0.99, 0.97, 0.97, 0.98, 0.98, 0.98, 0.98, 0.98, 0.98, 0.98, 0.98, 0.98, 0.98, 0.98, 0.99, 0.98, 0.99, 0.98, 0.98, 0.98, 0.98, 0.98, 0.99, 0.98, 0.99, 0.98, 0.99, 0.98, 0.99, 0.98, 0.99, 0.98, 0.99, 0.98, 0.98, 0.98, 0.98, 0.98, 0.99, 0.98, 0.99, 0.98, 0.99, 0.98, 0.99, 0.98, 0.99, 0.98, 0.99, 0.98, 0.98, 0.98, 0.98, 0.98, 0.99, 0.98, 0.99, 0.98, 0.99, 0.98, 0.99, 0.98, 0.99, 0.98, 0.99, 0.98, 0.98, 0.98, 0.98, 0.98, 0.99, 0.98, 0.99, 0.98, 0.99, 0.98, 0.99, 0.98, 0.99, 0.98, 0.99, 0.98, 0.98, 0.98, 0.98, 0.98, 0.99, 0.98, 0.99, 0.98, 0.99, 0.98, 0.99, 0.98, 0.99, 0.98, 0.99, 0.98, 0.98, 0.98, 0.98, 0.98, 0.99, 0.98, 0.99, 0.98, 0.99, 0.98, 0.99, 0.98, 0.99, 0.98, 0.99, 0.98, 0.99, 0.98, 0.99, 0.98, 0.99, 0.98, 0.99, 0.98, 0.99, 0.99, 0.99, 0.98, 0.99, 0.99, 0.99, 0.98, 0.98, 0.98, 0.98, 0.98, 0.99, 0.98, 0.99, 0.98, 0.99, 0.98, 0.99, 0.98, 0.99, 0.98, 0.99, 0.98, 0.98, 0.98, 0.98, 0.98, 0.99, 0.98, 0.99, 0.98, 0.99, 0.98, 0.99, 0.98, 0.99, 0.98, 0.99, 0.98, 0.98, 0.98, 0.98, 0.98, 0.99, 0.98, 0.99, 0.98, 0.99, 0.98, 0.99, 0.98, 0.99, 0.98, 0.99, 0.98, 0.99, 0.98, 0.99, 0.98, 0.99, 0.98, 0.99, 0.98, 0.99, 0.99, 0.99, 0.98, 0.99, 0.99, 0.99, 0.98, 0.99, 0.98, 0.99, 0.98, 0.99, 0.98, 0.99, 0.98, 0.99, 0.99, 0.99, 0.98, 0.99, 0.99, 0.99, 0.98, 0.99, 0.99, 0.99, 0.98, 0.99, 0.99, 0.99, 0.98, 0.99, 0.99, 0.99, 0.98, 0.99, 0.99, 0.99, 0.98, 0.99, 0.98, 0.99, 0.98, 0.99, 0.98, 0.99, 0.98, 0.99, 0.99, 0.99, 0.98, 0.99, 0.99, 0.99, 0.98, 0.99, 0.99, 0.99, 0.98, 0.99, 0.99, 0.99, 0.98, 0.99, 0.99, 0.99, 0.98, 0.99, 0.99, 0.99, 0.96, 0.97, 0.97, 0.97, 0.97, 0.97, 0.98, 0.98, 0.97, 0.97, 0.98, 0.98, 0.98, 0.98, 0.98, 0.98, 0.97, 0.97, 0.98, 0.98, 0.98, 0.98, 0.98, 0.98, 0.97, 0.97, 0.98, 0.98, 0.98, 0.98, 0.98, 0.98, 0.97, 0.97, 0.98, 0.98, 0.98, 0.98, 0.98, 0.98, 0.97, 0.97, 0.98, 0.98, 0.98, 0.98, 0.98, 0.98, 0.97, 0.97, 0.98, 0.98, 0.98, 0.98, 0.98, 0.98, 0.98, 0.98, 0.98, 0.98, 0.98, 0.99, 0.98, 0.99, 0.97, 0.97, 0.98, 0.98, 0.98, 0.98, 0.98, 0.98, 0.97, 0.97, 0.98, 0.98, 0.98, 0.98, 0.98, 0.98, 0.97, 0.97, 0.98, 0.98, 0.98, 0.98, 0.98, 0.98, 0.98, 0.98, 0.98, 0.98, 0.98, 0.99, 0.98, 0.99, 0.97, 0.97, 0.98, 0.98, 0.98, 0.98, 0.98, 0.98, 0.98, 0.98, 0.98, 0.98, 0.98, 0.99, 0.98, 0.99, 0.98, 0.98, 0.98, 0.98, 0.98, 0.99, 0.98, 0.99, 0.98, 0.99, 0.98, 0.99, 0.98, 0.99, 0.98, 0.99, 0.97, 0.97, 0.98, 0.98, 0.98, 0.98, 0.98, 0.98, 0.97, 0.97, 0.98, 0.98, 0.98, 0.98, 0.98, 0.98, 0.97, 0.97, 0.98, 0.98, 0.98, 0.98, 0.98, 0.98, 0.98, 0.98, 0.98, 0.98, 0.98, 0.99, 0.98, 0.99, 0.97, 0.97, 0.98, 0.98, 0.98, 0.98, 0.98, 0.98, 0.98, 0.98, 0.98, 0.98, 0.98, 0.99, 0.98, 0.99, 0.98, 0.98, 0.98, 0.98, 0.98, 0.99, 0.98, 0.99, 0.98, 0.99, 0.98, 0.99, 0.98, 0.99, 0.98, 0.99, 0.97, 0.97, 0.98, 0.98, 0.98, 0.98, 0.98, 0.98, 0.98, 0.98, 0.98, 0.98, 0.98, 0.99, 0.98, 0.99, 0.98, 0.98, 0.98, 0.98, 0.98, 0.99, 0.98, 0.99, 0.98, 0.99, 0.98, 0.99, 0.98, 0.99, 0.98, 0.99, 0.98, 0.98, 0.98, 0.98, 0.98, 0.99, 0.98, 0.99, 0.98, 0.99, 0.98, 0.99, 0.98, 0.99, 0.98, 0.99, 0.98, 0.98, 0.98, 0.98, 0.98, 0.99, 0.98, 0.99, 0.98, 0.99, 0.98, 0.99, 0.98, 0.99, 0.98, 0.99, 0.97, 0.97, 0.98, 0.98, 0.98, 0.98, 0.98, 0.98, 0.97, 0.97, 0.98, 0.98, 0.98, 0.98, 0.98, 0.98, 0.97, 0.97, 0.98, 0.98, 0.98, 0.98, 0.98, 0.98, 0.98, 0.98, 0.98, 0.98, 0.98, 0.99, 0.98, 0.99, 0.97, 0.97, 0.98, 0.98, 0.98, 0.98, 0.98, 0.98, 0.98, 0.98, 0.98, 0.98, 0.98, 0.99, 0.98, 0.99, 0.98, 0.98, 0.98, 0.98, 0.98, 0.99, 0.98, 0.99, 0.98, 0.99, 0.98, 0.99, 0.98, 0.99, 0.98, 0.99, 0.97, 0.97, 0.98, 0.98, 0.98, 0.98, 0.98, 0.98, 0.98, 0.98, 0.98, 0.98, 0.98, 0.99, 0.98, 0.99, 0.98, 0.98, 0.98, 0.98, 0.98, 0.99, 0.98, 0.99, 0.98, 0.99, 0.98, 0.99, 0.98, 0.99, 0.98, 0.99, 0.98, 0.98, 0.98, 0.98, 0.98, 0.99, 0.98, 0.99, 0.98, 0.99, 0.98, 0.99, 0.98, 0.99, 0.98, 0.99, 0.98, 0.98, 0.98, 0.98, 0.98, 0.99, 0.98, 0.99, 0.98, 0.99, 0.98, 0.99, 0.98, 0.99, 0.98, 0.99, 0.97, 0.97, 0.98, 0.98, 0.98, 0.98, 0.98, 0.98, 0.98, 0.98, 0.98, 0.98, 0.98, 0.99, 0.98, 0.99, 0.98, 0.98, 0.98, 0.98, 0.98, 0.99, 0.98, 0.99, 0.98, 0.99, 0.98, 0.99, 0.98, 0.99, 0.98, 0.99, 0.98, 0.98, 0.98, 0.98, 0.98, 0.99, 0.98, 0.99, 0.98, 0.99, 0.98, 0.99, 0.98, 0.99, 0.98, 0.99, 0.98, 0.98, 0.98, 0.98, 0.98, 0.99, 0.98, 0.99, 0.98, 0.99, 0.98, 0.99, 0.98, 0.99, 0.98, 0.99, 0.98, 0.98, 0.98, 0.98, 0.98, 0.99, 0.98, 0.99, 0.98, 0.99, 0.98, 0.99, 0.98, 0.99, 0.98, 0.99, 0.98, 0.98, 0.98, 0.98, 0.98, 0.99, 0.98, 0.99, 0.98, 0.99, 0.98, 0.99, 0.98, 0.99, 0.98, 0.99, 0.98, 0.98, 0.98, 0.98, 0.98, 0.99, 0.98, 0.99, 0.98, 0.99, 0.98, 0.99, 0.98, 0.99, 0.98, 0.99, 0.98, 0.99, 0.98, 0.99, 0.98, 0.99, 0.98, 0.99, 0.98, 0.99, 0.99, 0.99, 0.98, 0.99, 0.99, 0.99, 0.97, 0.97, 0.98, 0.98, 0.98, 0.98, 0.98, 0.98, 0.97, 0.97, 0.98, 0.98, 0.98, 0.98, 0.98, 0.98, 0.97, 0.97, 0.98, 0.98, 0.98, 0.98, 0.98, 0.98, 0.98, 0.98, 0.98, 0.98, 0.98, 0.99, 0.98, 0.99, 0.97, 0.97, 0.98, 0.98, 0.98, 0.98, 0.98, 0.98, 0.98, 0.98, 0.98, 0.98, 0.98, 0.99, 0.98, 0.99, 0.98, 0.98, 0.98, 0.98, 0.98, 0.99, 0.98, 0.99, 0.98, 0.99, 0.98, 0.99, 0.98, 0.99, 0.98, 0.99, 0.97, 0.97, 0.98, 0.98, 0.98, 0.98, 0.98, 0.98, 0.98, 0.98, 0.98, 0.98, 0.98, 0.99, 0.98, 0.99, 0.98, 0.98, 0.98, 0.98, 0.98, 0.99, 0.98, 0.99, 0.98, 0.99, 0.98, 0.99, 0.98, 0.99, 0.98, 0.99, 0.98, 0.98, 0.98, 0.98, 0.98, 0.99, 0.98, 0.99, 0.98, 0.99, 0.98, 0.99, 0.98, 0.99, 0.98, 0.99, 0.98, 0.98, 0.98, 0.98, 0.98, 0.99, 0.98, 0.99, 0.98, 0.99, 0.98, 0.99, 0.98, 0.99, 0.98, 0.99, 0.97, 0.97, 0.98, 0.98, 0.98, 0.98, 0.98, 0.98, 0.98, 0.98, 0.98, 0.98, 0.98, 0.99, 0.98, 0.99, 0.98, 0.98, 0.98, 0.98, 0.98, 0.99, 0.98, 0.99, 0.98, 0.99, 0.98, 0.99, 0.98, 0.99, 0.98, 0.99, 0.98, 0.98, 0.98, 0.98, 0.98, 0.99, 0.98, 0.99, 0.98, 0.99, 0.98, 0.99, 0.98, 0.99, 0.98, 0.99, 0.98, 0.98, 0.98, 0.98, 0.98, 0.99, 0.98, 0.99, 0.98, 0.99, 0.98, 0.99, 0.98, 0.99, 0.98, 0.99, 0.98, 0.98, 0.98, 0.98, 0.98, 0.99, 0.98, 0.99, 0.98, 0.99, 0.98, 0.99, 0.98, 0.99, 0.98, 0.99, 0.98, 0.98, 0.98, 0.98, 0.98, 0.99, 0.98, 0.99, 0.98, 0.99, 0.98, 0.99, 0.98, 0.99, 0.98, 0.99, 0.98, 0.98, 0.98, 0.98, 0.98, 0.99, 0.98, 0.99, 0.98, 0.99, 0.98, 0.99, 0.98, 0.99, 0.98, 0.99, 0.98, 0.99, 0.98, 0.99, 0.98, 0.99, 0.98, 0.99, 0.98, 0.99, 0.99, 0.99, 0.98, 0.99, 0.99, 0.99, 0.97, 0.97, 0.98, 0.98, 0.98, 0.98, 0.98, 0.98, 0.98, 0.98, 0.98, 0.98, 0.98, 0.99, 0.98, 0.99, 0.98, 0.98, 0.98, 0.98, 0.98, 0.99, 0.98, 0.99, 0.98, 0.99, 0.98, 0.99, 0.98, 0.99, 0.98, 0.99, 0.98, 0.98, 0.98, 0.98, 0.98, 0.99, 0.98, 0.99, 0.98, 0.99, 0.98, 0.99, 0.98, 0.99, 0.98, 0.99, 0.98, 0.98, 0.98, 0.98, 0.98, 0.99, 0.98, 0.99, 0.98, 0.99, 0.98, 0.99, 0.98, 0.99, 0.98, 0.99, 0.98, 0.98, 0.98, 0.98, 0.98, 0.99, 0.98, 0.99, 0.98, 0.99, 0.98, 0.99, 0.98, 0.99, 0.98, 0.99, 0.98, 0.98, 0.98, 0.98, 0.98, 0.99, 0.98, 0.99, 0.98, 0.99, 0.98, 0.99, 0.98, 0.99, 0.98, 0.99, 0.98, 0.98, 0.98, 0.98, 0.98, 0.99, 0.98, 0.99, 0.98, 0.99, 0.98, 0.99, 0.98, 0.99, 0.98, 0.99, 0.98, 0.99, 0.98, 0.99, 0.98, 0.99, 0.98, 0.99, 0.98, 0.99, 0.99, 0.99, 0.98, 0.99, 0.99, 0.99, 0.98, 0.98, 0.98, 0.98, 0.98, 0.99, 0.98, 0.99, 0.98, 0.99, 0.98, 0.99, 0.98, 0.99, 0.98, 0.99, 0.98, 0.98, 0.98, 0.98, 0.98, 0.99, 0.98, 0.99, 0.98, 0.99, 0.98, 0.99, 0.98, 0.99, 0.98, 0.99, 0.98, 0.98, 0.98, 0.98, 0.98, 0.99, 0.98, 0.99, 0.98, 0.99, 0.98, 0.99, 0.98, 0.99, 0.98, 0.99, 0.98, 0.99, 0.98, 0.99, 0.98, 0.99, 0.98, 0.99, 0.98, 0.99, 0.99, 0.99, 0.98, 0.99, 0.99, 0.99, 0.98, 0.99, 0.98, 0.99, 0.98, 0.99, 0.98, 0.99, 0.98, 0.99, 0.99, 0.99, 0.98, 0.99, 0.99, 0.99, 0.98, 0.99, 0.99, 0.99, 0.98, 0.99, 0.99, 0.99, 0.98, 0.99, 0.99, 0.99, 0.98, 0.99, 0.99, 0.99, 0.98, 0.99, 0.98, 0.99, 0.98, 0.99, 0.98, 0.99, 0.98, 0.99, 0.99, 0.99, 0.98, 0.99, 0.99, 0.99, 0.98, 0.99, 0.99, 0.99, 0.98, 0.99, 0.99, 0.99, 0.98, 0.99, 0.99, 0.99, 0.98, 0.99, 0.99, 0.99, 0.97, 0.97, 0.98, 0.98, 0.98, 0.98, 0.98, 0.98, 0.97, 0.97, 0.98, 0.98, 0.98, 0.98, 0.98, 0.98, 0.97, 0.97, 0.98, 0.98, 0.98, 0.98, 0.98, 0.98, 0.98, 0.98, 0.98, 0.98, 0.98, 0.99, 0.98, 0.99, 0.97, 0.97, 0.98, 0.98, 0.98, 0.98, 0.98, 0.98, 0.98, 0.98, 0.98, 0.98, 0.98, 0.99, 0.98, 0.99, 0.98, 0.98, 0.98, 0.98, 0.98, 0.99, 0.98, 0.99, 0.98, 0.99, 0.98, 0.99, 0.98, 0.99, 0.98, 0.99, 0.97, 0.97, 0.98, 0.98, 0.98, 0.98, 0.98, 0.98, 0.98, 0.98, 0.98, 0.98, 0.98, 0.99, 0.98, 0.99, 0.98, 0.98, 0.98, 0.98, 0.98, 0.99, 0.98, 0.99, 0.98, 0.99, 0.98, 0.99, 0.98, 0.99, 0.98, 0.99, 0.98, 0.98, 0.98, 0.98, 0.98, 0.99, 0.98, 0.99, 0.98, 0.99, 0.98, 0.99, 0.98, 0.99, 0.98, 0.99, 0.98, 0.98, 0.98, 0.98, 0.98, 0.99, 0.98, 0.99, 0.98, 0.99, 0.98, 0.99, 0.98, 0.99, 0.98, 0.99, 0.97, 0.97, 0.98, 0.98, 0.98, 0.98, 0.98, 0.98, 0.98, 0.98, 0.98, 0.98, 0.98, 0.99, 0.98, 0.99, 0.98, 0.98, 0.98, 0.98, 0.98, 0.99, 0.98, 0.99, 0.98, 0.99, 0.98, 0.99, 0.98, 0.99, 0.98, 0.99, 0.98, 0.98, 0.98, 0.98, 0.98, 0.99, 0.98, 0.99, 0.98, 0.99, 0.98, 0.99, 0.98, 0.99, 0.98, 0.99, 0.98, 0.98, 0.98, 0.98, 0.98, 0.99, 0.98, 0.99, 0.98, 0.99, 0.98, 0.99, 0.98, 0.99, 0.98, 0.99, 0.98, 0.98, 0.98, 0.98, 0.98, 0.99, 0.98, 0.99, 0.98, 0.99, 0.98, 0.99, 0.98, 0.99, 0.98, 0.99, 0.98, 0.98, 0.98, 0.98, 0.98, 0.99, 0.98, 0.99, 0.98, 0.99, 0.98, 0.99, 0.98, 0.99, 0.98, 0.99, 0.98, 0.98, 0.98, 0.98, 0.98, 0.99, 0.98, 0.99, 0.98, 0.99, 0.98, 0.99, 0.98, 0.99, 0.98, 0.99, 0.98, 0.99, 0.98, 0.99, 0.98, 0.99, 0.98, 0.99, 0.98, 0.99, 0.99, 0.99, 0.98, 0.99, 0.99, 0.99, 0.97, 0.97, 0.98, 0.98, 0.98, 0.98, 0.98, 0.98, 0.98, 0.98, 0.98, 0.98, 0.98, 0.99, 0.98, 0.99, 0.98, 0.98, 0.98, 0.98, 0.98, 0.99, 0.98, 0.99, 0.98, 0.99, 0.98, 0.99, 0.98, 0.99, 0.98, 0.99, 0.98, 0.98, 0.98, 0.98, 0.98, 0.99, 0.98, 0.99, 0.98, 0.99, 0.98, 0.99, 0.98, 0.99, 0.98, 0.99, 0.98, 0.98, 0.98, 0.98, 0.98, 0.99, 0.98, 0.99, 0.98, 0.99, 0.98, 0.99, 0.98, 0.99, 0.98, 0.99, 0.98, 0.98, 0.98, 0.98, 0.98, 0.99, 0.98, 0.99, 0.98, 0.99, 0.98, 0.99, 0.98, 0.99, 0.98, 0.99, 0.98, 0.98, 0.98, 0.98, 0.98, 0.99, 0.98, 0.99, 0.98, 0.99, 0.98, 0.99, 0.98, 0.99, 0.98, 0.99, 0.98, 0.98, 0.98, 0.98, 0.98, 0.99, 0.98, 0.99, 0.98, 0.99, 0.98, 0.99, 0.98, 0.99, 0.98, 0.99, 0.98, 0.99, 0.98, 0.99, 0.98, 0.99, 0.98, 0.99, 0.98, 0.99, 0.99, 0.99, 0.98, 0.99, 0.99, 0.99, 0.98, 0.98, 0.98, 0.98, 0.98, 0.99, 0.98, 0.99, 0.98, 0.99, 0.98, 0.99, 0.98, 0.99, 0.98, 0.99, 0.98, 0.98, 0.98, 0.98, 0.98, 0.99, 0.98, 0.99, 0.98, 0.99, 0.98, 0.99, 0.98, 0.99, 0.98, 0.99, 0.98, 0.98, 0.98, 0.98, 0.98, 0.99, 0.98, 0.99, 0.98, 0.99, 0.98, 0.99, 0.98, 0.99, 0.98, 0.99, 0.98, 0.99, 0.98, 0.99, 0.98, 0.99, 0.98, 0.99, 0.98, 0.99, 0.99, 0.99, 0.98, 0.99, 0.99, 0.99, 0.98, 0.99, 0.98, 0.99, 0.98, 0.99, 0.98, 0.99, 0.98, 0.99, 0.99, 0.99, 0.98, 0.99, 0.99, 0.99, 0.98, 0.99, 0.99, 0.99, 0.98, 0.99, 0.99, 0.99, 0.98, 0.99, 0.99, 0.99, 0.98, 0.99, 0.99, 0.99, 0.98, 0.99, 0.98, 0.99, 0.98, 0.99, 0.98, 0.99, 0.98, 0.99, 0.99, 0.99, 0.98, 0.99, 0.99, 0.99, 0.98, 0.99, 0.99, 0.99, 0.98, 0.99, 0.99, 0.99, 0.98, 0.99, 0.99, 0.99, 0.98, 0.99, 0.99, 0.99, 0.97, 0.97, 0.98, 0.98, 0.98, 0.98, 0.98, 0.98, 0.98, 0.98, 0.98, 0.98, 0.98, 0.99, 0.98, 0.99, 0.98, 0.98, 0.98, 0.98, 0.98, 0.99, 0.98, 0.99, 0.98, 0.99, 0.98, 0.99, 0.98, 0.99, 0.98, 0.99, 0.98, 0.98, 0.98, 0.98, 0.98, 0.99, 0.98, 0.99, 0.98, 0.99, 0.98, 0.99, 0.98, 0.99, 0.98, 0.99, 0.98, 0.98, 0.98, 0.98, 0.98, 0.99, 0.98, 0.99, 0.98, 0.99, 0.98, 0.99, 0.98, 0.99, 0.98, 0.99, 0.98, 0.98, 0.98, 0.98, 0.98, 0.99, 0.98, 0.99, 0.98, 0.99, 0.98, 0.99, 0.98, 0.99, 0.98, 0.99, 0.98, 0.98, 0.98, 0.98, 0.98, 0.99, 0.98, 0.99, 0.98, 0.99, 0.98, 0.99, 0.98, 0.99, 0.98, 0.99, 0.98, 0.98, 0.98, 0.98, 0.98, 0.99, 0.98, 0.99, 0.98, 0.99, 0.98, 0.99, 0.98, 0.99, 0.98, 0.99, 0.98, 0.99, 0.98, 0.99, 0.98, 0.99, 0.98, 0.99, 0.98, 0.99, 0.99, 0.99, 0.98, 0.99, 0.99, 0.99, 0.98, 0.98, 0.98, 0.98, 0.98, 0.99, 0.98, 0.99, 0.98, 0.99, 0.98, 0.99, 0.98, 0.99, 0.98, 0.99, 0.98, 0.98, 0.98, 0.98, 0.98, 0.99, 0.98, 0.99, 0.98, 0.99, 0.98, 0.99, 0.98, 0.99, 0.98, 0.99, 0.98, 0.98, 0.98, 0.98, 0.98, 0.99, 0.98, 0.99, 0.98, 0.99, 0.98, 0.99, 0.98, 0.99, 0.98, 0.99, 0.98, 0.99, 0.98, 0.99, 0.98, 0.99, 0.98, 0.99, 0.98, 0.99, 0.99, 0.99, 0.98, 0.99, 0.99, 0.99, 0.98, 0.98, 0.98, 0.98, 0.98, 0.99, 0.98, 0.99, 0.98, 0.99, 0.98, 0.99, 0.98, 0.99, 0.98, 0.99, 0.98, 0.99, 0.98, 0.99, 0.98, 0.99, 0.98, 0.99, 0.98, 0.99, 0.99, 0.99, 0.98, 0.99, 0.99, 0.99, 0.98, 0.99, 0.98, 0.99, 0.98, 0.99, 0.98, 0.99, 0.98, 0.99, 0.99, 0.99, 0.98, 0.99, 0.99, 0.99, 0.98, 0.99, 0.99, 0.99, 0.98, 0.99, 0.99, 0.99, 0.98, 0.99, 0.99, 0.99, 0.98, 0.99, 0.99, 0.99, 0.98, 0.98, 0.98, 0.98, 0.98, 0.99, 0.98, 0.99, 0.98, 0.99, 0.98, 0.99, 0.98, 0.99, 0.98, 0.99, 0.98, 0.98, 0.98, 0.98, 0.98, 0.99, 0.98, 0.99, 0.98, 0.99, 0.98, 0.99, 0.98, 0.99, 0.98, 0.99, 0.98, 0.98, 0.98, 0.98, 0.98, 0.99, 0.98, 0.99, 0.98, 0.99, 0.98, 0.99, 0.98, 0.99, 0.98, 0.99, 0.98, 0.99, 0.98, 0.99, 0.98, 0.99, 0.98, 0.99, 0.98, 0.99, 0.99, 0.99, 0.98, 0.99, 0.99, 0.99, 0.98, 0.99, 0.98, 0.99, 0.98, 0.99, 0.98, 0.99, 0.98, 0.99, 0.99, 0.99, 0.98, 0.99, 0.99, 0.99, 0.98, 0.99, 0.99, 0.99, 0.98, 0.99, 0.99, 0.99, 0.98, 0.99, 0.99, 0.99, 0.98, 0.99, 0.99, 0.99, 0.98, 0.99, 0.98, 0.99, 0.98, 0.99, 0.98, 0.99, 0.98, 0.99, 0.99, 0.99, 0.98, 0.99, 0.99, 0.99, 0.98, 0.99, 0.99, 0.99, 0.98, 0.99, 0.99, 0.99, 0.98, 0.99, 0.99, 0.99, 0.98, 0.99, 0.99, 0.99, 0.98, 0.98, 0.98, 0.98, 0.98, 0.99, 0.98, 0.99, 0.98, 0.99, 0.98, 0.99, 0.98, 0.99, 0.98, 0.99, 0.98, 0.99, 0.98, 0.99, 0.98, 0.99, 0.98, 0.99, 0.98, 0.99, 0.99, 0.99, 0.98, 0.99, 0.99, 0.99, 0.98, 0.99, 0.98, 0.99, 0.98, 0.99, 0.98, 0.99, 0.98, 0.99, 0.99, 0.99, 0.98, 0.99, 0.99, 0.99, 0.98, 0.99, 0.99, 0.99, 0.98, 0.99, 0.99, 0.99, 0.98, 0.99, 0.99, 0.99, 0.98, 0.99, 0.99, 0.99, 0.98, 0.99, 0.98, 0.99, 0.98, 0.99, 0.98, 0.99, 0.98, 0.99, 0.99, 0.99, 0.98, 0.99, 0.99, 0.99, 0.98, 0.99, 0.99, 0.99, 0.98, 0.99, 0.99, 0.99, 0.98, 0.99, 0.99, 0.99, 0.98, 0.99, 0.99, 0.99, 0.98, 0.99, 0.98, 0.99, 0.98, 0.99, 0.98, 0.99, 0.98, 0.99, 0.99, 0.99, 0.98, 0.99, 0.99, 0.99, 0.98, 0.99, 0.99, 0.99, 0.98, 0.99, 0.99, 0.99, 0.98, 0.99, 0.99, 0.99, 0.98, 0.99, 0.99, 0.99, 0.96, 0.97, 0.97, 0.97, 0.97, 0.97, 0.98, 0.98, 0.97, 0.97, 0.98, 0.98, 0.98, 0.98, 0.98, 0.98, 0.97, 0.97, 0.98, 0.98, 0.98, 0.98, 0.98, 0.98, 0.97, 0.97, 0.98, 0.98, 0.98, 0.98, 0.98, 0.98, 0.97, 0.97, 0.98, 0.98, 0.98, 0.98, 0.98, 0.98, 0.97, 0.97, 0.98, 0.98, 0.98, 0.98, 0.98, 0.98, 0.97, 0.97, 0.98, 0.98, 0.98, 0.98, 0.98, 0.98, 0.98, 0.98, 0.98, 0.98, 0.98, 0.99, 0.98, 0.99, 0.97, 0.97, 0.98, 0.98, 0.98, 0.98, 0.98, 0.98, 0.97, 0.97, 0.98, 0.98, 0.98, 0.98, 0.98, 0.98, 0.97, 0.97, 0.98, 0.98, 0.98, 0.98, 0.98, 0.98, 0.98, 0.98, 0.98, 0.98, 0.98, 0.99, 0.98, 0.99, 0.97, 0.97, 0.98, 0.98, 0.98, 0.98, 0.98, 0.98, 0.98, 0.98, 0.98, 0.98, 0.98, 0.99, 0.98, 0.99, 0.98, 0.98, 0.98, 0.98, 0.98, 0.99, 0.98, 0.99, 0.98, 0.99, 0.98, 0.99, 0.98, 0.99, 0.98, 0.99, 0.97, 0.97, 0.98, 0.98, 0.98, 0.98, 0.98, 0.98, 0.97, 0.97, 0.98, 0.98, 0.98, 0.98, 0.98, 0.98, 0.97, 0.97, 0.98, 0.98, 0.98, 0.98, 0.98, 0.98, 0.98, 0.98, 0.98, 0.98, 0.98, 0.99, 0.98, 0.99, 0.97, 0.97, 0.98, 0.98, 0.98, 0.98, 0.98, 0.98, 0.98, 0.98, 0.98, 0.98, 0.98, 0.99, 0.98, 0.99, 0.98, 0.98, 0.98, 0.98, 0.98, 0.99, 0.98, 0.99, 0.98, 0.99, 0.98, 0.99, 0.98, 0.99, 0.98, 0.99, 0.97, 0.97, 0.98, 0.98, 0.98, 0.98, 0.98, 0.98, 0.98, 0.98, 0.98, 0.98, 0.98, 0.99, 0.98, 0.99, 0.98, 0.98, 0.98, 0.98, 0.98, 0.99, 0.98, 0.99, 0.98, 0.99, 0.98, 0.99, 0.98, 0.99, 0.98, 0.99, 0.98, 0.98, 0.98, 0.98, 0.98, 0.99, 0.98, 0.99, 0.98, 0.99, 0.98, 0.99, 0.98, 0.99, 0.98, 0.99, 0.98, 0.98, 0.98, 0.98, 0.98, 0.99, 0.98, 0.99, 0.98, 0.99, 0.98, 0.99, 0.98, 0.99, 0.98, 0.99, 0.97, 0.97, 0.98, 0.98, 0.98, 0.98, 0.98, 0.98, 0.97, 0.97, 0.98, 0.98, 0.98, 0.98, 0.98, 0.98, 0.97, 0.97, 0.98, 0.98, 0.98, 0.98, 0.98, 0.98, 0.98, 0.98, 0.98, 0.98, 0.98, 0.99, 0.98, 0.99, 0.97, 0.97, 0.98, 0.98, 0.98, 0.98, 0.98, 0.98, 0.98, 0.98, 0.98, 0.98, 0.98, 0.99, 0.98, 0.99, 0.98, 0.98, 0.98, 0.98, 0.98, 0.99, 0.98, 0.99, 0.98, 0.99, 0.98, 0.99, 0.98, 0.99, 0.98, 0.99, 0.97, 0.97, 0.98, 0.98, 0.98, 0.98, 0.98, 0.98, 0.98, 0.98, 0.98, 0.98, 0.98, 0.99, 0.98, 0.99, 0.98, 0.98, 0.98, 0.98, 0.98, 0.99, 0.98, 0.99, 0.98, 0.99, 0.98, 0.99, 0.98, 0.99, 0.98, 0.99, 0.98, 0.98, 0.98, 0.98, 0.98, 0.99, 0.98, 0.99, 0.98, 0.99, 0.98, 0.99, 0.98, 0.99, 0.98, 0.99, 0.98, 0.98, 0.98, 0.98, 0.98, 0.99, 0.98, 0.99, 0.98, 0.99, 0.98, 0.99, 0.98, 0.99, 0.98, 0.99, 0.97, 0.97, 0.98, 0.98, 0.98, 0.98, 0.98, 0.98, 0.98, 0.98, 0.98, 0.98, 0.98, 0.99, 0.98, 0.99, 0.98, 0.98, 0.98, 0.98, 0.98, 0.99, 0.98, 0.99, 0.98, 0.99, 0.98, 0.99, 0.98, 0.99, 0.98, 0.99, 0.98, 0.98, 0.98, 0.98, 0.98, 0.99, 0.98, 0.99, 0.98, 0.99, 0.98, 0.99, 0.98, 0.99, 0.98, 0.99, 0.98, 0.98, 0.98, 0.98, 0.98, 0.99, 0.98, 0.99, 0.98, 0.99, 0.98, 0.99, 0.98, 0.99, 0.98, 0.99, 0.98, 0.98, 0.98, 0.98, 0.98, 0.99, 0.98, 0.99, 0.98, 0.99, 0.98, 0.99, 0.98, 0.99, 0.98, 0.99, 0.98, 0.98, 0.98, 0.98, 0.98, 0.99, 0.98, 0.99, 0.98, 0.99, 0.98, 0.99, 0.98, 0.99, 0.98, 0.99, 0.98, 0.98, 0.98, 0.98, 0.98, 0.99, 0.98, 0.99, 0.98, 0.99, 0.98, 0.99, 0.98, 0.99, 0.98, 0.99, 0.98, 0.99, 0.98, 0.99, 0.98, 0.99, 0.98, 0.99, 0.98, 0.99, 0.99, 0.99, 0.98, 0.99, 0.99, 0.99, 0.97, 0.97, 0.98, 0.98, 0.98, 0.98, 0.98, 0.98, 0.97, 0.97, 0.98, 0.98, 0.98, 0.98, 0.98, 0.98, 0.97, 0.97, 0.98, 0.98, 0.98, 0.98, 0.98, 0.98, 0.98, 0.98, 0.98, 0.98, 0.98, 0.99, 0.98, 0.99, 0.97, 0.97, 0.98, 0.98, 0.98, 0.98, 0.98, 0.98, 0.98, 0.98, 0.98, 0.98, 0.98, 0.99, 0.98, 0.99, 0.98, 0.98, 0.98, 0.98, 0.98, 0.99, 0.98, 0.99, 0.98, 0.99, 0.98, 0.99, 0.98, 0.99, 0.98, 0.99, 0.97, 0.97, 0.98, 0.98, 0.98, 0.98, 0.98, 0.98, 0.98, 0.98, 0.98, 0.98, 0.98, 0.99, 0.98, 0.99, 0.98, 0.98, 0.98, 0.98, 0.98, 0.99, 0.98, 0.99, 0.98, 0.99, 0.98, 0.99, 0.98, 0.99, 0.98, 0.99, 0.98, 0.98, 0.98, 0.98, 0.98, 0.99, 0.98, 0.99, 0.98, 0.99, 0.98, 0.99, 0.98, 0.99, 0.98, 0.99, 0.98, 0.98, 0.98, 0.98, 0.98, 0.99, 0.98, 0.99, 0.98, 0.99, 0.98, 0.99, 0.98, 0.99, 0.98, 0.99, 0.97, 0.97, 0.98, 0.98, 0.98, 0.98, 0.98, 0.98, 0.98, 0.98, 0.98, 0.98, 0.98, 0.99, 0.98, 0.99, 0.98, 0.98, 0.98, 0.98, 0.98, 0.99, 0.98, 0.99, 0.98, 0.99, 0.98, 0.99, 0.98, 0.99, 0.98, 0.99, 0.98, 0.98, 0.98, 0.98, 0.98, 0.99, 0.98, 0.99, 0.98, 0.99, 0.98, 0.99, 0.98, 0.99, 0.98, 0.99, 0.98, 0.98, 0.98, 0.98, 0.98, 0.99, 0.98, 0.99, 0.98, 0.99, 0.98, 0.99, 0.98, 0.99, 0.98, 0.99, 0.98, 0.98, 0.98, 0.98, 0.98, 0.99, 0.98, 0.99, 0.98, 0.99, 0.98, 0.99, 0.98, 0.99, 0.98, 0.99, 0.98, 0.98, 0.98, 0.98, 0.98, 0.99, 0.98, 0.99, 0.98, 0.99, 0.98, 0.99, 0.98, 0.99, 0.98, 0.99, 0.98, 0.98, 0.98, 0.98, 0.98, 0.99, 0.98, 0.99, 0.98, 0.99, 0.98, 0.99, 0.98, 0.99, 0.98, 0.99, 0.98, 0.99, 0.98, 0.99, 0.98, 0.99, 0.98, 0.99, 0.98, 0.99, 0.99, 0.99, 0.98, 0.99, 0.99, 0.99, 0.97, 0.97, 0.98, 0.98, 0.98, 0.98, 0.98, 0.98, 0.98, 0.98, 0.98, 0.98, 0.98, 0.99, 0.98, 0.99, 0.98, 0.98, 0.98, 0.98, 0.98, 0.99, 0.98, 0.99, 0.98, 0.99, 0.98, 0.99, 0.98, 0.99, 0.98, 0.99, 0.98, 0.98, 0.98, 0.98, 0.98, 0.99, 0.98, 0.99, 0.98, 0.99, 0.98, 0.99, 0.98, 0.99, 0.98, 0.99, 0.98, 0.98, 0.98, 0.98, 0.98, 0.99, 0.98, 0.99, 0.98, 0.99, 0.98, 0.99, 0.98, 0.99, 0.98, 0.99, 0.98, 0.98, 0.98, 0.98, 0.98, 0.99, 0.98, 0.99, 0.98, 0.99, 0.98, 0.99, 0.98, 0.99, 0.98, 0.99, 0.98, 0.98, 0.98, 0.98, 0.98, 0.99, 0.98, 0.99, 0.98, 0.99, 0.98, 0.99, 0.98, 0.99, 0.98, 0.99, 0.98, 0.98, 0.98, 0.98, 0.98, 0.99, 0.98, 0.99, 0.98, 0.99, 0.98, 0.99, 0.98, 0.99, 0.98, 0.99, 0.98, 0.99, 0.98, 0.99, 0.98, 0.99, 0.98, 0.99, 0.98, 0.99, 0.99, 0.99, 0.98, 0.99, 0.99, 0.99, 0.98, 0.98, 0.98, 0.98, 0.98, 0.99, 0.98, 0.99, 0.98, 0.99, 0.98, 0.99, 0.98, 0.99, 0.98, 0.99, 0.98, 0.98, 0.98, 0.98, 0.98, 0.99, 0.98, 0.99, 0.98, 0.99, 0.98, 0.99, 0.98, 0.99, 0.98, 0.99, 0.98, 0.98, 0.98, 0.98, 0.98, 0.99, 0.98, 0.99, 0.98, 0.99, 0.98, 0.99, 0.98, 0.99, 0.98, 0.99, 0.98, 0.99, 0.98, 0.99, 0.98, 0.99, 0.98, 0.99, 0.98, 0.99, 0.99, 0.99, 0.98, 0.99, 0.99, 0.99, 0.98, 0.99, 0.98, 0.99, 0.98, 0.99, 0.98, 0.99, 0.98, 0.99, 0.99, 0.99, 0.98, 0.99, 0.99, 0.99, 0.98, 0.99, 0.99, 0.99, 0.98, 0.99, 0.99, 0.99, 0.98, 0.99, 0.99, 0.99, 0.98, 0.99, 0.99, 0.99, 0.98, 0.99, 0.98, 0.99, 0.98, 0.99, 0.98, 0.99, 0.98, 0.99, 0.99, 0.99, 0.98, 0.99, 0.99, 0.99, 0.98, 0.99, 0.99, 0.99, 0.98, 0.99, 0.99, 0.99, 0.98, 0.99, 0.99, 0.99, 0.98, 0.99, 0.99, 0.99, 0.97, 0.97, 0.98, 0.98, 0.98, 0.98, 0.98, 0.98, 0.97, 0.97, 0.98, 0.98, 0.98, 0.98, 0.98, 0.98, 0.97, 0.97, 0.98, 0.98, 0.98, 0.98, 0.98, 0.98, 0.98, 0.98, 0.98, 0.98, 0.98, 0.99, 0.98, 0.99, 0.97, 0.97, 0.98, 0.98, 0.98, 0.98, 0.98, 0.98, 0.98, 0.98, 0.98, 0.98, 0.98, 0.99, 0.98, 0.99, 0.98, 0.98, 0.98, 0.98, 0.98, 0.99, 0.98, 0.99, 0.98, 0.99, 0.98, 0.99, 0.98, 0.99, 0.98, 0.99, 0.97, 0.97, 0.98, 0.98, 0.98, 0.98, 0.98, 0.98, 0.98, 0.98, 0.98, 0.98, 0.98, 0.99, 0.98, 0.99, 0.98, 0.98, 0.98, 0.98, 0.98, 0.99, 0.98, 0.99, 0.98, 0.99, 0.98, 0.99, 0.98, 0.99, 0.98, 0.99, 0.98, 0.98, 0.98, 0.98, 0.98, 0.99, 0.98, 0.99, 0.98, 0.99, 0.98, 0.99, 0.98, 0.99, 0.98, 0.99, 0.98, 0.98, 0.98, 0.98, 0.98, 0.99, 0.98, 0.99, 0.98, 0.99, 0.98, 0.99, 0.98, 0.99, 0.98, 0.99, 0.97, 0.97, 0.98, 0.98, 0.98, 0.98, 0.98, 0.98, 0.98, 0.98, 0.98, 0.98, 0.98, 0.99, 0.98, 0.99, 0.98, 0.98, 0.98, 0.98, 0.98, 0.99, 0.98, 0.99, 0.98, 0.99, 0.98, 0.99, 0.98, 0.99, 0.98, 0.99, 0.98, 0.98, 0.98, 0.98, 0.98, 0.99, 0.98, 0.99, 0.98, 0.99, 0.98, 0.99, 0.98, 0.99, 0.98, 0.99, 0.98, 0.98, 0.98, 0.98, 0.98, 0.99, 0.98, 0.99, 0.98, 0.99, 0.98, 0.99, 0.98, 0.99, 0.98, 0.99, 0.98, 0.98, 0.98, 0.98, 0.98, 0.99, 0.98, 0.99, 0.98, 0.99, 0.98, 0.99, 0.98, 0.99, 0.98, 0.99, 0.98, 0.98, 0.98, 0.98, 0.98, 0.99, 0.98, 0.99, 0.98, 0.99, 0.98, 0.99, 0.98, 0.99, 0.98, 0.99, 0.98, 0.98, 0.98, 0.98, 0.98, 0.99, 0.98, 0.99, 0.98, 0.99, 0.98, 0.99, 0.98, 0.99, 0.98, 0.99, 0.98, 0.99, 0.98, 0.99, 0.98, 0.99, 0.98, 0.99, 0.98, 0.99, 0.99, 0.99, 0.98, 0.99, 0.99, 0.99, 0.97, 0.97, 0.98, 0.98, 0.98, 0.98, 0.98, 0.98, 0.98, 0.98, 0.98, 0.98, 0.98, 0.99, 0.98, 0.99, 0.98, 0.98, 0.98, 0.98, 0.98, 0.99, 0.98, 0.99, 0.98, 0.99, 0.98, 0.99, 0.98, 0.99, 0.98, 0.99, 0.98, 0.98, 0.98, 0.98, 0.98, 0.99, 0.98, 0.99, 0.98, 0.99, 0.98, 0.99, 0.98, 0.99, 0.98, 0.99, 0.98, 0.98, 0.98, 0.98, 0.98, 0.99, 0.98, 0.99, 0.98, 0.99, 0.98, 0.99, 0.98, 0.99, 0.98, 0.99, 0.98, 0.98, 0.98, 0.98, 0.98, 0.99, 0.98, 0.99, 0.98, 0.99, 0.98, 0.99, 0.98, 0.99, 0.98, 0.99, 0.98, 0.98, 0.98, 0.98, 0.98, 0.99, 0.98, 0.99, 0.98, 0.99, 0.98, 0.99, 0.98, 0.99, 0.98, 0.99, 0.98, 0.98, 0.98, 0.98, 0.98, 0.99, 0.98, 0.99, 0.98, 0.99, 0.98, 0.99, 0.98, 0.99, 0.98, 0.99, 0.98, 0.99, 0.98, 0.99, 0.98, 0.99, 0.98, 0.99, 0.98, 0.99, 0.99, 0.99, 0.98, 0.99, 0.99, 0.99, 0.98, 0.98, 0.98, 0.98, 0.98, 0.99, 0.98, 0.99, 0.98, 0.99, 0.98, 0.99, 0.98, 0.99, 0.98, 0.99, 0.98, 0.98, 0.98, 0.98, 0.98, 0.99, 0.98, 0.99, 0.98, 0.99, 0.98, 0.99, 0.98, 0.99, 0.98, 0.99, 0.98, 0.98, 0.98, 0.98, 0.98, 0.99, 0.98, 0.99, 0.98, 0.99, 0.98, 0.99, 0.98, 0.99, 0.98, 0.99, 0.98, 0.99, 0.98, 0.99, 0.98, 0.99, 0.98, 0.99, 0.98, 0.99, 0.99, 0.99, 0.98, 0.99, 0.99, 0.99, 0.98, 0.99, 0.98, 0.99, 0.98, 0.99, 0.98, 0.99, 0.98, 0.99, 0.99, 0.99, 0.98, 0.99, 0.99, 0.99, 0.98, 0.99, 0.99, 0.99, 0.98, 0.99, 0.99, 0.99, 0.98, 0.99, 0.99, 0.99, 0.98, 0.99, 0.99, 0.99, 0.98, 0.99, 0.98, 0.99, 0.98, 0.99, 0.98, 0.99, 0.98, 0.99, 0.99, 0.99, 0.98, 0.99, 0.99, 0.99, 0.98, 0.99, 0.99, 0.99, 0.98, 0.99, 0.99, 0.99, 0.98, 0.99, 0.99, 0.99, 0.98, 0.99, 0.99, 0.99, 0.97, 0.97, 0.98, 0.98, 0.98, 0.98, 0.98, 0.98, 0.98, 0.98, 0.98, 0.98, 0.98, 0.99, 0.98, 0.99, 0.98, 0.98, 0.98, 0.98, 0.98, 0.99, 0.98, 0.99, 0.98, 0.99, 0.98, 0.99, 0.98, 0.99, 0.98, 0.99, 0.98, 0.98, 0.98, 0.98, 0.98, 0.99, 0.98, 0.99, 0.98, 0.99, 0.98, 0.99, 0.98, 0.99, 0.98, 0.99, 0.98, 0.98, 0.98, 0.98, 0.98, 0.99, 0.98, 0.99, 0.98, 0.99, 0.98, 0.99, 0.98, 0.99, 0.98, 0.99, 0.98, 0.98, 0.98, 0.98, 0.98, 0.99, 0.98, 0.99, 0.98, 0.99, 0.98, 0.99, 0.98, 0.99, 0.98, 0.99, 0.98, 0.98, 0.98, 0.98, 0.98, 0.99, 0.98, 0.99, 0.98, 0.99, 0.98, 0.99, 0.98, 0.99, 0.98, 0.99, 0.98, 0.98, 0.98, 0.98, 0.98, 0.99, 0.98, 0.99, 0.98, 0.99, 0.98, 0.99, 0.98, 0.99, 0.98, 0.99, 0.98, 0.99, 0.98, 0.99, 0.98, 0.99, 0.98, 0.99, 0.98, 0.99, 0.99, 0.99, 0.98, 0.99, 0.99, 0.99, 0.98, 0.98, 0.98, 0.98, 0.98, 0.99, 0.98, 0.99, 0.98, 0.99, 0.98, 0.99, 0.98, 0.99, 0.98, 0.99, 0.98, 0.98, 0.98, 0.98, 0.98, 0.99, 0.98, 0.99, 0.98, 0.99, 0.98, 0.99, 0.98, 0.99, 0.98, 0.99, 0.98, 0.98, 0.98, 0.98, 0.98, 0.99, 0.98, 0.99, 0.98, 0.99, 0.98, 0.99, 0.98, 0.99, 0.98, 0.99, 0.98, 0.99, 0.98, 0.99, 0.98, 0.99, 0.98, 0.99, 0.98, 0.99, 0.99, 0.99, 0.98, 0.99, 0.99, 0.99, 0.98, 0.98, 0.98, 0.98, 0.98, 0.99, 0.98, 0.99, 0.98, 0.99, 0.98, 0.99, 0.98, 0.99, 0.98, 0.99, 0.98, 0.99, 0.98, 0.99, 0.98, 0.99, 0.98, 0.99, 0.98, 0.99, 0.99, 0.99, 0.98, 0.99, 0.99, 0.99, 0.98, 0.99, 0.98, 0.99, 0.98, 0.99, 0.98, 0.99, 0.98, 0.99, 0.99, 0.99, 0.98, 0.99, 0.99, 0.99, 0.98, 0.99, 0.99, 0.99, 0.98, 0.99, 0.99, 0.99, 0.98, 0.99, 0.99, 0.99, 0.98, 0.99, 0.99, 0.99, 0.98, 0.98, 0.98, 0.98, 0.98, 0.99, 0.98, 0.99, 0.98, 0.99, 0.98, 0.99, 0.98, 0.99, 0.98, 0.99, 0.98, 0.98, 0.98, 0.98, 0.98, 0.99, 0.98, 0.99, 0.98, 0.99, 0.98, 0.99, 0.98, 0.99, 0.98, 0.99, 0.98, 0.98, 0.98, 0.98, 0.98, 0.99, 0.98, 0.99, 0.98, 0.99, 0.98, 0.99, 0.98, 0.99, 0.98, 0.99, 0.98, 0.99, 0.98, 0.99, 0.98, 0.99, 0.98, 0.99, 0.98, 0.99, 0.99, 0.99, 0.98, 0.99, 0.99, 0.99, 0.98, 0.99, 0.98, 0.99, 0.98, 0.99, 0.98, 0.99, 0.98, 0.99, 0.99, 0.99, 0.98, 0.99, 0.99, 0.99, 0.98, 0.99, 0.99, 0.99, 0.98, 0.99, 0.99, 0.99, 0.98, 0.99, 0.99, 0.99, 0.98, 0.99, 0.99, 0.99, 0.98, 0.99, 0.98, 0.99, 0.98, 0.99, 0.98, 0.99, 0.98, 0.99, 0.99, 0.99, 0.98, 0.99, 0.99, 0.99, 0.98, 0.99, 0.99, 0.99, 0.98, 0.99, 0.99, 0.99, 0.98, 0.99, 0.99, 0.99, 0.98, 0.99, 0.99, 0.99, 0.98, 0.98, 0.98, 0.98, 0.98, 0.99, 0.98, 0.99, 0.98, 0.99, 0.98, 0.99, 0.98, 0.99, 0.98, 0.99, 0.98, 0.99, 0.98, 0.99, 0.98, 0.99, 0.98, 0.99, 0.98, 0.99, 0.99, 0.99, 0.98, 0.99, 0.99, 0.99, 0.98, 0.99, 0.98, 0.99, 0.98, 0.99, 0.98, 0.99, 0.98, 0.99, 0.99, 0.99, 0.98, 0.99, 0.99, 0.99, 0.98, 0.99, 0.99, 0.99, 0.98, 0.99, 0.99, 0.99, 0.98, 0.99, 0.99, 0.99, 0.98, 0.99, 0.99, 0.99, 0.98, 0.99, 0.98, 0.99, 0.98, 0.99, 0.98, 0.99, 0.98, 0.99, 0.99, 0.99, 0.98, 0.99, 0.99, 0.99, 0.98, 0.99, 0.99, 0.99, 0.98, 0.99, 0.99, 0.99, 0.98, 0.99, 0.99, 0.99, 0.98, 0.99, 0.99, 0.99, 0.98, 0.99, 0.98, 0.99, 0.98, 0.99, 0.98, 0.99, 0.98, 0.99, 0.99, 0.99, 0.98, 0.99, 0.99, 0.99, 0.98, 0.99, 0.99, 0.99, 0.98, 0.99, 0.99, 0.99, 0.98, 0.99, 0.99, 0.99, 0.98, 0.99, 0.99, 0.99, 0.97, 0.97, 0.98, 0.98, 0.98, 0.98, 0.98, 0.98, 0.97, 0.97, 0.98, 0.98, 0.98, 0.98, 0.98, 0.98, 0.97, 0.97, 0.98, 0.98, 0.98, 0.98, 0.98, 0.98, 0.98, 0.98, 0.98, 0.98, 0.98, 0.99, 0.98, 0.99, 0.97, 0.97, 0.98, 0.98, 0.98, 0.98, 0.98, 0.98, 0.98, 0.98, 0.98, 0.98, 0.98, 0.99, 0.98, 0.99, 0.98, 0.98, 0.98, 0.98, 0.98, 0.99, 0.98, 0.99, 0.98, 0.99, 0.98, 0.99, 0.98, 0.99, 0.98, 0.99, 0.97, 0.97, 0.98, 0.98, 0.98, 0.98, 0.98, 0.98, 0.98, 0.98, 0.98, 0.98, 0.98, 0.99, 0.98, 0.99, 0.98, 0.98, 0.98, 0.98, 0.98, 0.99, 0.98, 0.99, 0.98, 0.99, 0.98, 0.99, 0.98, 0.99, 0.98, 0.99, 0.98, 0.98, 0.98, 0.98, 0.98, 0.99, 0.98, 0.99, 0.98, 0.99, 0.98, 0.99, 0.98, 0.99, 0.98, 0.99, 0.98, 0.98, 0.98, 0.98, 0.98, 0.99, 0.98, 0.99, 0.98, 0.99, 0.98, 0.99, 0.98, 0.99, 0.98, 0.99, 0.97, 0.97, 0.98, 0.98, 0.98, 0.98, 0.98, 0.98, 0.98, 0.98, 0.98, 0.98, 0.98, 0.99, 0.98, 0.99, 0.98, 0.98, 0.98, 0.98, 0.98, 0.99, 0.98, 0.99, 0.98, 0.99, 0.98, 0.99, 0.98, 0.99, 0.98, 0.99, 0.98, 0.98, 0.98, 0.98, 0.98, 0.99, 0.98, 0.99, 0.98, 0.99, 0.98, 0.99, 0.98, 0.99, 0.98, 0.99, 0.98, 0.98, 0.98, 0.98, 0.98, 0.99, 0.98, 0.99, 0.98, 0.99, 0.98, 0.99, 0.98, 0.99, 0.98, 0.99, 0.98, 0.98, 0.98, 0.98, 0.98, 0.99, 0.98, 0.99, 0.98, 0.99, 0.98, 0.99, 0.98, 0.99, 0.98, 0.99, 0.98, 0.98, 0.98, 0.98, 0.98, 0.99, 0.98, 0.99, 0.98, 0.99, 0.98, 0.99, 0.98, 0.99, 0.98, 0.99, 0.98, 0.98, 0.98, 0.98, 0.98, 0.99, 0.98, 0.99, 0.98, 0.99, 0.98, 0.99, 0.98, 0.99, 0.98, 0.99, 0.98, 0.99, 0.98, 0.99, 0.98, 0.99, 0.98, 0.99, 0.98, 0.99, 0.99, 0.99, 0.98, 0.99, 0.99, 0.99, 0.97, 0.97, 0.98, 0.98, 0.98, 0.98, 0.98, 0.98, 0.98, 0.98, 0.98, 0.98, 0.98, 0.99, 0.98, 0.99, 0.98, 0.98, 0.98, 0.98, 0.98, 0.99, 0.98, 0.99, 0.98, 0.99, 0.98, 0.99, 0.98, 0.99, 0.98, 0.99, 0.98, 0.98, 0.98, 0.98, 0.98, 0.99, 0.98, 0.99, 0.98, 0.99, 0.98, 0.99, 0.98, 0.99, 0.98, 0.99, 0.98, 0.98, 0.98, 0.98, 0.98, 0.99, 0.98, 0.99, 0.98, 0.99, 0.98, 0.99, 0.98, 0.99, 0.98, 0.99, 0.98, 0.98, 0.98, 0.98, 0.98, 0.99, 0.98, 0.99, 0.98, 0.99, 0.98, 0.99, 0.98, 0.99, 0.98, 0.99, 0.98, 0.98, 0.98, 0.98, 0.98, 0.99, 0.98, 0.99, 0.98, 0.99, 0.98, 0.99, 0.98, 0.99, 0.98, 0.99, 0.98, 0.98, 0.98, 0.98, 0.98, 0.99, 0.98, 0.99, 0.98, 0.99, 0.98, 0.99, 0.98, 0.99, 0.98, 0.99, 0.98, 0.99, 0.98, 0.99, 0.98, 0.99, 0.98, 0.99, 0.98, 0.99, 0.99, 0.99, 0.98, 0.99, 0.99, 0.99, 0.98, 0.98, 0.98, 0.98, 0.98, 0.99, 0.98, 0.99, 0.98, 0.99, 0.98, 0.99, 0.98, 0.99, 0.98, 0.99, 0.98, 0.98, 0.98, 0.98, 0.98, 0.99, 0.98, 0.99, 0.98, 0.99, 0.98, 0.99, 0.98, 0.99, 0.98, 0.99, 0.98, 0.98, 0.98, 0.98, 0.98, 0.99, 0.98, 0.99, 0.98, 0.99, 0.98, 0.99, 0.98, 0.99, 0.98, 0.99, 0.98, 0.99, 0.98, 0.99, 0.98, 0.99, 0.98, 0.99, 0.98, 0.99, 0.99, 0.99, 0.98, 0.99, 0.99, 0.99, 0.98, 0.99, 0.98, 0.99, 0.98, 0.99, 0.98, 0.99, 0.98, 0.99, 0.99, 0.99, 0.98, 0.99, 0.99, 0.99, 0.98, 0.99, 0.99, 0.99, 0.98, 0.99, 0.99, 0.99, 0.98, 0.99, 0.99, 0.99, 0.98, 0.99, 0.99, 0.99, 0.98, 0.99, 0.98, 0.99, 0.98, 0.99, 0.98, 0.99, 0.98, 0.99, 0.99, 0.99, 0.98, 0.99, 0.99, 0.99, 0.98, 0.99, 0.99, 0.99, 0.98, 0.99, 0.99, 0.99, 0.98, 0.99, 0.99, 0.99, 0.98, 0.99, 0.99, 0.99, 0.97, 0.97, 0.98, 0.98, 0.98, 0.98, 0.98, 0.98, 0.98, 0.98, 0.98, 0.98, 0.98, 0.99, 0.98, 0.99, 0.98, 0.98, 0.98, 0.98, 0.98, 0.99, 0.98, 0.99, 0.98, 0.99, 0.98, 0.99, 0.98, 0.99, 0.98, 0.99, 0.98, 0.98, 0.98, 0.98, 0.98, 0.99, 0.98, 0.99, 0.98, 0.99, 0.98, 0.99, 0.98, 0.99, 0.98, 0.99, 0.98, 0.98, 0.98, 0.98, 0.98, 0.99, 0.98, 0.99, 0.98, 0.99, 0.98, 0.99, 0.98, 0.99, 0.98, 0.99, 0.98, 0.98, 0.98, 0.98, 0.98, 0.99, 0.98, 0.99, 0.98, 0.99, 0.98, 0.99, 0.98, 0.99, 0.98, 0.99, 0.98, 0.98, 0.98, 0.98, 0.98, 0.99, 0.98, 0.99, 0.98, 0.99, 0.98, 0.99, 0.98, 0.99, 0.98, 0.99, 0.98, 0.98, 0.98, 0.98, 0.98, 0.99, 0.98, 0.99, 0.98, 0.99, 0.98, 0.99, 0.98, 0.99, 0.98, 0.99, 0.98, 0.99, 0.98, 0.99, 0.98, 0.99, 0.98, 0.99, 0.98, 0.99, 0.99, 0.99, 0.98, 0.99, 0.99, 0.99, 0.98, 0.98, 0.98, 0.98, 0.98, 0.99, 0.98, 0.99, 0.98, 0.99, 0.98, 0.99, 0.98, 0.99, 0.98, 0.99, 0.98, 0.98, 0.98, 0.98, 0.98, 0.99, 0.98, 0.99, 0.98, 0.99, 0.98, 0.99, 0.98, 0.99, 0.98, 0.99, 0.98, 0.98, 0.98, 0.98, 0.98, 0.99, 0.98, 0.99, 0.98, 0.99, 0.98, 0.99, 0.98, 0.99, 0.98, 0.99, 0.98, 0.99, 0.98, 0.99, 0.98, 0.99, 0.98, 0.99, 0.98, 0.99, 0.99, 0.99, 0.98, 0.99, 0.99, 0.99, 0.98, 0.98, 0.98, 0.98, 0.98, 0.99, 0.98, 0.99, 0.98, 0.99, 0.98, 0.99, 0.98, 0.99, 0.98, 0.99, 0.98, 0.99, 0.98, 0.99, 0.98, 0.99, 0.98, 0.99, 0.98, 0.99, 0.99, 0.99, 0.98, 0.99, 0.99, 0.99, 0.98, 0.99, 0.98, 0.99, 0.98, 0.99, 0.98, 0.99, 0.98, 0.99, 0.99, 0.99, 0.98, 0.99, 0.99, 0.99, 0.98, 0.99, 0.99, 0.99, 0.98, 0.99, 0.99, 0.99, 0.98, 0.99, 0.99, 0.99, 0.98, 0.99, 0.99, 0.99, 0.98, 0.98, 0.98, 0.98, 0.98, 0.99, 0.98, 0.99, 0.98, 0.99, 0.98, 0.99, 0.98, 0.99, 0.98, 0.99, 0.98, 0.98, 0.98, 0.98, 0.98, 0.99, 0.98, 0.99, 0.98, 0.99, 0.98, 0.99, 0.98, 0.99, 0.98, 0.99, 0.98, 0.98, 0.98, 0.98, 0.98, 0.99, 0.98, 0.99, 0.98, 0.99, 0.98, 0.99, 0.98, 0.99, 0.98, 0.99, 0.98, 0.99, 0.98, 0.99, 0.98, 0.99, 0.98, 0.99, 0.98, 0.99, 0.99, 0.99, 0.98, 0.99, 0.99, 0.99, 0.98, 0.99, 0.98, 0.99, 0.98, 0.99, 0.98, 0.99, 0.98, 0.99, 0.99, 0.99, 0.98, 0.99, 0.99, 0.99, 0.98, 0.99, 0.99, 0.99, 0.98, 0.99, 0.99, 0.99, 0.98, 0.99, 0.99, 0.99, 0.98, 0.99, 0.99, 0.99, 0.98, 0.99, 0.98, 0.99, 0.98, 0.99, 0.98, 0.99, 0.98, 0.99, 0.99, 0.99, 0.98, 0.99, 0.99, 0.99, 0.98, 0.99, 0.99, 0.99, 0.98, 0.99, 0.99, 0.99, 0.98, 0.99, 0.99, 0.99, 0.98, 0.99, 0.99, 0.99, 0.98, 0.98, 0.98, 0.98, 0.98, 0.99, 0.98, 0.99, 0.98, 0.99, 0.98, 0.99, 0.98, 0.99, 0.98, 0.99, 0.98, 0.99, 0.98, 0.99, 0.98, 0.99, 0.98, 0.99, 0.98, 0.99, 0.99, 0.99, 0.98, 0.99, 0.99, 0.99, 0.98, 0.99, 0.98, 0.99, 0.98, 0.99, 0.98, 0.99, 0.98, 0.99, 0.99, 0.99, 0.98, 0.99, 0.99, 0.99, 0.98, 0.99, 0.99, 0.99, 0.98, 0.99, 0.99, 0.99, 0.98, 0.99, 0.99, 0.99, 0.98, 0.99, 0.99, 0.99, 0.98, 0.99, 0.98, 0.99, 0.98, 0.99, 0.98, 0.99, 0.98, 0.99, 0.99, 0.99, 0.98, 0.99, 0.99, 0.99, 0.98, 0.99, 0.99, 0.99, 0.98, 0.99, 0.99, 0.99, 0.98, 0.99, 0.99, 0.99, 0.98, 0.99, 0.99, 0.99, 0.98, 0.99, 0.98, 0.99, 0.98, 0.99, 0.98, 0.99, 0.98, 0.99, 0.99, 0.99, 0.98, 0.99, 0.99, 0.99, 0.98, 0.99, 0.99, 0.99, 0.98, 0.99, 0.99, 0.99, 0.98, 0.99, 0.99, 0.99, 0.98, 0.99, 0.99, 0.99, 0.97, 0.97, 0.98, 0.98, 0.98, 0.98, 0.98, 0.98, 0.98, 0.98, 0.98, 0.98, 0.98, 0.99, 0.98, 0.99, 0.98, 0.98, 0.98, 0.98, 0.98, 0.99, 0.98, 0.99, 0.98, 0.99, 0.98, 0.99, 0.98, 0.99, 0.98, 0.99, 0.98, 0.98, 0.98, 0.98, 0.98, 0.99, 0.98, 0.99, 0.98, 0.99, 0.98, 0.99, 0.98, 0.99, 0.98, 0.99, 0.98, 0.98, 0.98, 0.98, 0.98, 0.99, 0.98, 0.99, 0.98, 0.99, 0.98, 0.99, 0.98, 0.99, 0.98, 0.99, 0.98, 0.98, 0.98, 0.98, 0.98, 0.99, 0.98, 0.99, 0.98, 0.99, 0.98, 0.99, 0.98, 0.99, 0.98, 0.99, 0.98, 0.98, 0.98, 0.98, 0.98, 0.99, 0.98, 0.99, 0.98, 0.99, 0.98, 0.99, 0.98, 0.99, 0.98, 0.99, 0.98, 0.98, 0.98, 0.98, 0.98, 0.99, 0.98, 0.99, 0.98, 0.99, 0.98, 0.99, 0.98, 0.99, 0.98, 0.99, 0.98, 0.99, 0.98, 0.99, 0.98, 0.99, 0.98, 0.99, 0.98, 0.99, 0.99, 0.99, 0.98, 0.99, 0.99, 0.99, 0.98, 0.98, 0.98, 0.98, 0.98, 0.99, 0.98, 0.99, 0.98, 0.99, 0.98, 0.99, 0.98, 0.99, 0.98, 0.99, 0.98, 0.98, 0.98, 0.98, 0.98, 0.99, 0.98, 0.99, 0.98, 0.99, 0.98, 0.99, 0.98, 0.99, 0.98, 0.99, 0.98, 0.98, 0.98, 0.98, 0.98, 0.99, 0.98, 0.99, 0.98, 0.99, 0.98, 0.99, 0.98, 0.99, 0.98, 0.99, 0.98, 0.99, 0.98, 0.99, 0.98, 0.99, 0.98, 0.99, 0.98, 0.99, 0.99, 0.99, 0.98, 0.99, 0.99, 0.99, 0.98, 0.98, 0.98, 0.98, 0.98, 0.99, 0.98, 0.99, 0.98, 0.99, 0.98, 0.99, 0.98, 0.99, 0.98, 0.99, 0.98, 0.99, 0.98, 0.99, 0.98, 0.99, 0.98, 0.99, 0.98, 0.99, 0.99, 0.99, 0.98, 0.99, 0.99, 0.99, 0.98, 0.99, 0.98, 0.99, 0.98, 0.99, 0.98, 0.99, 0.98, 0.99, 0.99, 0.99, 0.98, 0.99, 0.99, 0.99, 0.98, 0.99, 0.99, 0.99, 0.98, 0.99, 0.99, 0.99, 0.98, 0.99, 0.99, 0.99, 0.98, 0.99, 0.99, 0.99, 0.98, 0.98, 0.98, 0.98, 0.98, 0.99, 0.98, 0.99, 0.98, 0.99, 0.98, 0.99, 0.98, 0.99, 0.98, 0.99, 0.98, 0.98, 0.98, 0.98, 0.98, 0.99, 0.98, 0.99, 0.98, 0.99, 0.98, 0.99, 0.98, 0.99, 0.98, 0.99, 0.98, 0.98, 0.98, 0.98, 0.98, 0.99, 0.98, 0.99, 0.98, 0.99, 0.98, 0.99, 0.98, 0.99, 0.98, 0.99, 0.98, 0.99, 0.98, 0.99, 0.98, 0.99, 0.98, 0.99, 0.98, 0.99, 0.99, 0.99, 0.98, 0.99, 0.99, 0.99, 0.98, 0.99, 0.98, 0.99, 0.98, 0.99, 0.98, 0.99, 0.98, 0.99, 0.99, 0.99, 0.98, 0.99, 0.99, 0.99, 0.98, 0.99, 0.99, 0.99, 0.98, 0.99, 0.99, 0.99, 0.98, 0.99, 0.99, 0.99, 0.98, 0.99, 0.99, 0.99, 0.98, 0.99, 0.98, 0.99, 0.98, 0.99, 0.98, 0.99, 0.98, 0.99, 0.99, 0.99, 0.98, 0.99, 0.99, 0.99, 0.98, 0.99, 0.99, 0.99, 0.98, 0.99, 0.99, 0.99, 0.98, 0.99, 0.99, 0.99, 0.98, 0.99, 0.99, 0.99, 0.98, 0.98, 0.98, 0.98, 0.98, 0.99, 0.98, 0.99, 0.98, 0.99, 0.98, 0.99, 0.98, 0.99, 0.98, 0.99, 0.98, 0.99, 0.98, 0.99, 0.98, 0.99, 0.98, 0.99, 0.98, 0.99, 0.99, 0.99, 0.98, 0.99, 0.99, 0.99, 0.98, 0.99, 0.98, 0.99, 0.98, 0.99, 0.98, 0.99, 0.98, 0.99, 0.99, 0.99, 0.98, 0.99, 0.99, 0.99, 0.98, 0.99, 0.99, 0.99, 0.98, 0.99, 0.99, 0.99, 0.98, 0.99, 0.99, 0.99, 0.98, 0.99, 0.99, 0.99, 0.98, 0.99, 0.98, 0.99, 0.98, 0.99, 0.98, 0.99, 0.98, 0.99, 0.99, 0.99, 0.98, 0.99, 0.99, 0.99, 0.98, 0.99, 0.99, 0.99, 0.98, 0.99, 0.99, 0.99, 0.98, 0.99, 0.99, 0.99, 0.98, 0.99, 0.99, 0.99, 0.98, 0.99, 0.98, 0.99, 0.98, 0.99, 0.98, 0.99, 0.98, 0.99, 0.99, 0.99, 0.98, 0.99, 0.99, 0.99, 0.98, 0.99, 0.99, 0.99, 0.98, 0.99, 0.99, 0.99, 0.98, 0.99, 0.99, 0.99, 0.98, 0.99, 0.99, 0.99, 0.98, 0.98, 0.98, 0.98, 0.98, 0.99, 0.98, 0.99, 0.98, 0.99, 0.98, 0.99, 0.98, 0.99, 0.98, 0.99, 0.98, 0.98, 0.98, 0.98, 0.98, 0.99, 0.98, 0.99, 0.98, 0.99, 0.98, 0.99, 0.98, 0.99, 0.98, 0.99, 0.98, 0.98, 0.98, 0.98, 0.98, 0.99, 0.98, 0.99, 0.98, 0.99, 0.98, 0.99, 0.98, 0.99, 0.98, 0.99, 0.98, 0.99, 0.98, 0.99, 0.98, 0.99, 0.98, 0.99, 0.98, 0.99, 0.99, 0.99, 0.98, 0.99, 0.99, 0.99, 0.98, 0.99, 0.98, 0.99, 0.98, 0.99, 0.98, 0.99, 0.98, 0.99, 0.99, 0.99, 0.98, 0.99, 0.99, 0.99, 0.98, 0.99, 0.99, 0.99, 0.98, 0.99, 0.99, 0.99, 0.98, 0.99, 0.99, 0.99, 0.98, 0.99, 0.99, 0.99, 0.98, 0.99, 0.98, 0.99, 0.98, 0.99, 0.98, 0.99, 0.98, 0.99, 0.99, 0.99, 0.98, 0.99, 0.99, 0.99, 0.98, 0.99, 0.99, 0.99, 0.98, 0.99, 0.99, 0.99, 0.98, 0.99, 0.99, 0.99, 0.98, 0.99, 0.99, 0.99, 0.98, 0.98, 0.98, 0.98, 0.98, 0.99, 0.98, 0.99, 0.98, 0.99, 0.98, 0.99, 0.98, 0.99, 0.98, 0.99, 0.98, 0.99, 0.98, 0.99, 0.98, 0.99, 0.98, 0.99, 0.98, 0.99, 0.99, 0.99, 0.98, 0.99, 0.99, 0.99, 0.98, 0.99, 0.98, 0.99, 0.98, 0.99, 0.98, 0.99, 0.98, 0.99, 0.99, 0.99, 0.98, 0.99, 0.99, 0.99, 0.98, 0.99, 0.99, 0.99, 0.98, 0.99, 0.99, 0.99, 0.98, 0.99, 0.99, 0.99, 0.98, 0.99, 0.99, 0.99, 0.98, 0.99, 0.98, 0.99, 0.98, 0.99, 0.98, 0.99, 0.98, 0.99, 0.99, 0.99, 0.98, 0.99, 0.99, 0.99, 0.98, 0.99, 0.99, 0.99, 0.98, 0.99, 0.99, 0.99, 0.98, 0.99, 0.99, 0.99, 0.98, 0.99, 0.99, 0.99, 0.98, 0.99, 0.98, 0.99, 0.98, 0.99, 0.98, 0.99, 0.98, 0.99, 0.99, 0.99, 0.98, 0.99, 0.99, 0.99, 0.98, 0.99, 0.99, 0.99, 0.98, 0.99, 0.99, 0.99, 0.98, 0.99, 0.99, 0.99, 0.98, 0.99, 0.99, 0.99, 0.98, 0.99, 0.98, 0.99, 0.98, 0.99, 0.98, 0.99, 0.98, 0.99, 0.99, 0.99, 0.98, 0.99, 0.99, 0.99, 0.98, 0.99, 0.99, 0.99, 0.98, 0.99, 0.99, 0.99, 0.98, 0.99, 0.99, 0.99, 0.98, 0.99, 0.99, 0.99, 0.98, 0.99, 0.98, 0.99, 0.98, 0.99, 0.98, 0.99, 0.98, 0.99, 0.99, 0.99, 0.98, 0.99, 0.99, 0.99, 0.98, 0.99, 0.99, 0.99, 0.98, 0.99, 0.99, 0.99, 0.98, 0.99, 0.99, 0.99, 0.98, 0.99, 0.99, 0.99, 0.98, 0.99, 0.98, 0.99, 0.98, 0.99, 0.98, 0.99, 0.98, 0.99, 0.99, 0.99, 0.98, 0.99, 0.99, 0.99, 0.98, 0.99, 0.99, 0.99, 0.98, 0.99, 0.99, 0.99, 0.98, 0.99, 0.99, 0.99, 0.98, 0.99, 0.99, 0.99, 0.98, 0.99, 0.99, 0.99, 0.98, 0.99, 0.99, 0.99, 0.98, 0.99, 0.99, 0.99, 0.98, 0.99, 0.99, 0.99, 0.98, 0.99, 0.99, 0.99, 0.99, 0.99, 0.99, 0.99, 0.98, 0.99, 0.99, 0.99, 0.99, 0.99, 0.99, 0.99, 0.98, 0.99, 0.98, 0.99, 0.98, 0.99, 0.98, 0.99, 0.98, 0.99, 0.99, 0.99, 0.98, 0.99, 0.99, 0.99, 0.98, 0.99, 0.99, 0.99, 0.98, 0.99, 0.99, 0.99, 0.98, 0.99, 0.99, 0.99, 0.98, 0.99, 0.99, 0.99, 0.98, 0.99, 0.99, 0.99, 0.98, 0.99, 0.99, 0.99, 0.98, 0.99, 0.99, 0.99, 0.98, 0.99, 0.99, 0.99, 0.98, 0.99, 0.99, 0.99, 0.99, 0.99, 0.99, 0.99, 0.98, 0.99, 0.99, 0.99, 0.99, 0.99, 0.99, 0.99, 0.98, 0.99, 0.99, 0.99, 0.98, 0.99, 0.99, 0.99, 0.98, 0.99, 0.99, 0.99, 0.98, 0.99, 0.99, 0.99, 0.98, 0.99, 0.99, 0.99, 0.99, 0.99, 0.99, 0.99, 0.98, 0.99, 0.99, 0.99, 0.99, 0.99, 0.99, 0.99, 0.98, 0.99, 0.99, 0.99, 0.99, 0.99, 0.99, 0.99, 0.98, 0.99, 0.99, 0.99, 0.99, 0.99, 0.99, 0.99, 0.98, 0.99, 0.99, 0.99, 0.99, 0.99, 0.99, 0.99, 0.98, 0.99, 0.99, 0.99, 0.99, 0.99, 0.99, 0.99, 0.96, 0.97, 0.97, 0.97, 0.97, 0.97, 0.98, 0.98, 0.97, 0.97, 0.98, 0.98, 0.98, 0.98, 0.98, 0.98, 0.97, 0.97, 0.98, 0.98, 0.98, 0.98, 0.98, 0.98, 0.97, 0.97, 0.98, 0.98, 0.98, 0.98, 0.98, 0.98, 0.97, 0.97, 0.98, 0.98, 0.98, 0.98, 0.98, 0.98, 0.97, 0.97, 0.98, 0.98, 0.98, 0.98, 0.98, 0.98, 0.97, 0.97, 0.98, 0.98, 0.98, 0.98, 0.98, 0.98, 0.98, 0.98, 0.98, 0.98, 0.98, 0.99, 0.98, 0.99, 0.97, 0.97, 0.98, 0.98, 0.98, 0.98, 0.98, 0.98, 0.97, 0.97, 0.98, 0.98, 0.98, 0.98, 0.98, 0.98, 0.97, 0.97, 0.98, 0.98, 0.98, 0.98, 0.98, 0.98, 0.98, 0.98, 0.98, 0.98, 0.98, 0.99, 0.98, 0.99, 0.97, 0.97, 0.98, 0.98, 0.98, 0.98, 0.98, 0.98, 0.98, 0.98, 0.98, 0.98, 0.98, 0.99, 0.98, 0.99, 0.98, 0.98, 0.98, 0.98, 0.98, 0.99, 0.98, 0.99, 0.98, 0.99, 0.98, 0.99, 0.98, 0.99, 0.98, 0.99, 0.97, 0.97, 0.98, 0.98, 0.98, 0.98, 0.98, 0.98, 0.97, 0.97, 0.98, 0.98, 0.98, 0.98, 0.98, 0.98, 0.97, 0.97, 0.98, 0.98, 0.98, 0.98, 0.98, 0.98, 0.98, 0.98, 0.98, 0.98, 0.98, 0.99, 0.98, 0.99, 0.97, 0.97, 0.98, 0.98, 0.98, 0.98, 0.98, 0.98, 0.98, 0.98, 0.98, 0.98, 0.98, 0.99, 0.98, 0.99, 0.98, 0.98, 0.98, 0.98, 0.98, 0.99, 0.98, 0.99, 0.98, 0.99, 0.98, 0.99, 0.98, 0.99, 0.98, 0.99, 0.97, 0.97, 0.98, 0.98, 0.98, 0.98, 0.98, 0.98, 0.98, 0.98, 0.98, 0.98, 0.98, 0.99, 0.98, 0.99, 0.98, 0.98, 0.98, 0.98, 0.98, 0.99, 0.98, 0.99, 0.98, 0.99, 0.98, 0.99, 0.98, 0.99, 0.98, 0.99, 0.98, 0.98, 0.98, 0.98, 0.98, 0.99, 0.98, 0.99, 0.98, 0.99, 0.98, 0.99, 0.98, 0.99, 0.98, 0.99, 0.98, 0.98, 0.98, 0.98, 0.98, 0.99, 0.98, 0.99, 0.98, 0.99, 0.98, 0.99, 0.98, 0.99, 0.98, 0.99, 0.97, 0.97, 0.98, 0.98, 0.98, 0.98, 0.98, 0.98, 0.97, 0.97, 0.98, 0.98, 0.98, 0.98, 0.98, 0.98, 0.97, 0.97, 0.98, 0.98, 0.98, 0.98, 0.98, 0.98, 0.98, 0.98, 0.98, 0.98, 0.98, 0.99, 0.98, 0.99, 0.97, 0.97, 0.98, 0.98, 0.98, 0.98, 0.98, 0.98, 0.98, 0.98, 0.98, 0.98, 0.98, 0.99, 0.98, 0.99, 0.98, 0.98, 0.98, 0.98, 0.98, 0.99, 0.98, 0.99, 0.98, 0.99, 0.98, 0.99, 0.98, 0.99, 0.98, 0.99, 0.97, 0.97, 0.98, 0.98, 0.98, 0.98, 0.98, 0.98, 0.98, 0.98, 0.98, 0.98, 0.98, 0.99, 0.98, 0.99, 0.98, 0.98, 0.98, 0.98, 0.98, 0.99, 0.98, 0.99, 0.98, 0.99, 0.98, 0.99, 0.98, 0.99, 0.98, 0.99, 0.98, 0.98, 0.98, 0.98, 0.98, 0.99, 0.98, 0.99, 0.98, 0.99, 0.98, 0.99, 0.98, 0.99, 0.98, 0.99, 0.98, 0.98, 0.98, 0.98, 0.98, 0.99, 0.98, 0.99, 0.98, 0.99, 0.98, 0.99, 0.98, 0.99, 0.98, 0.99, 0.97, 0.97, 0.98, 0.98, 0.98, 0.98, 0.98, 0.98, 0.98, 0.98, 0.98, 0.98, 0.98, 0.99, 0.98, 0.99, 0.98, 0.98, 0.98, 0.98, 0.98, 0.99, 0.98, 0.99, 0.98, 0.99, 0.98, 0.99, 0.98, 0.99, 0.98, 0.99, 0.98, 0.98, 0.98, 0.98, 0.98, 0.99, 0.98, 0.99, 0.98, 0.99, 0.98, 0.99, 0.98, 0.99, 0.98, 0.99, 0.98, 0.98, 0.98, 0.98, 0.98, 0.99, 0.98, 0.99, 0.98, 0.99, 0.98, 0.99, 0.98, 0.99, 0.98, 0.99, 0.98, 0.98, 0.98, 0.98, 0.98, 0.99, 0.98, 0.99, 0.98, 0.99, 0.98, 0.99, 0.98, 0.99, 0.98, 0.99, 0.98, 0.98, 0.98, 0.98, 0.98, 0.99, 0.98, 0.99, 0.98, 0.99, 0.98, 0.99, 0.98, 0.99, 0.98, 0.99, 0.98, 0.98, 0.98, 0.98, 0.98, 0.99, 0.98, 0.99, 0.98, 0.99, 0.98, 0.99, 0.98, 0.99, 0.98, 0.99, 0.98, 0.99, 0.98, 0.99, 0.98, 0.99, 0.98, 0.99, 0.98, 0.99, 0.99, 0.99, 0.98, 0.99, 0.99, 0.99, 0.97, 0.97, 0.98, 0.98, 0.98, 0.98, 0.98, 0.98, 0.97, 0.97, 0.98, 0.98, 0.98, 0.98, 0.98, 0.98, 0.97, 0.97, 0.98, 0.98, 0.98, 0.98, 0.98, 0.98, 0.98, 0.98, 0.98, 0.98, 0.98, 0.99, 0.98, 0.99, 0.97, 0.97, 0.98, 0.98, 0.98, 0.98, 0.98, 0.98, 0.98, 0.98, 0.98, 0.98, 0.98, 0.99, 0.98, 0.99, 0.98, 0.98, 0.98, 0.98, 0.98, 0.99, 0.98, 0.99, 0.98, 0.99, 0.98, 0.99, 0.98, 0.99, 0.98, 0.99, 0.97, 0.97, 0.98, 0.98, 0.98, 0.98, 0.98, 0.98, 0.98, 0.98, 0.98, 0.98, 0.98, 0.99, 0.98, 0.99, 0.98, 0.98, 0.98, 0.98, 0.98, 0.99, 0.98, 0.99, 0.98, 0.99, 0.98, 0.99, 0.98, 0.99, 0.98, 0.99, 0.98, 0.98, 0.98, 0.98, 0.98, 0.99, 0.98, 0.99, 0.98, 0.99, 0.98, 0.99, 0.98, 0.99, 0.98, 0.99, 0.98, 0.98, 0.98, 0.98, 0.98, 0.99, 0.98, 0.99, 0.98, 0.99, 0.98, 0.99, 0.98, 0.99, 0.98, 0.99, 0.97, 0.97, 0.98, 0.98, 0.98, 0.98, 0.98, 0.98, 0.98, 0.98, 0.98, 0.98, 0.98, 0.99, 0.98, 0.99, 0.98, 0.98, 0.98, 0.98, 0.98, 0.99, 0.98, 0.99, 0.98, 0.99, 0.98, 0.99, 0.98, 0.99, 0.98, 0.99, 0.98, 0.98, 0.98, 0.98, 0.98, 0.99, 0.98, 0.99, 0.98, 0.99, 0.98, 0.99, 0.98, 0.99, 0.98, 0.99, 0.98, 0.98, 0.98, 0.98, 0.98, 0.99, 0.98, 0.99, 0.98, 0.99, 0.98, 0.99, 0.98, 0.99, 0.98, 0.99, 0.98, 0.98, 0.98, 0.98, 0.98, 0.99, 0.98, 0.99, 0.98, 0.99, 0.98, 0.99, 0.98, 0.99, 0.98, 0.99, 0.98, 0.98, 0.98, 0.98, 0.98, 0.99, 0.98, 0.99, 0.98, 0.99, 0.98, 0.99, 0.98, 0.99, 0.98, 0.99, 0.98, 0.98, 0.98, 0.98, 0.98, 0.99, 0.98, 0.99, 0.98, 0.99, 0.98, 0.99, 0.98, 0.99, 0.98, 0.99, 0.98, 0.99, 0.98, 0.99, 0.98, 0.99, 0.98, 0.99, 0.98, 0.99, 0.99, 0.99, 0.98, 0.99, 0.99, 0.99, 0.97, 0.97, 0.98, 0.98, 0.98, 0.98, 0.98, 0.98, 0.98, 0.98, 0.98, 0.98, 0.98, 0.99, 0.98, 0.99, 0.98, 0.98, 0.98, 0.98, 0.98, 0.99, 0.98, 0.99, 0.98, 0.99, 0.98, 0.99, 0.98, 0.99, 0.98, 0.99, 0.98, 0.98, 0.98, 0.98, 0.98, 0.99, 0.98, 0.99, 0.98, 0.99, 0.98, 0.99, 0.98, 0.99, 0.98, 0.99, 0.98, 0.98, 0.98, 0.98, 0.98, 0.99, 0.98, 0.99, 0.98, 0.99, 0.98, 0.99, 0.98, 0.99, 0.98, 0.99, 0.98, 0.98, 0.98, 0.98, 0.98, 0.99, 0.98, 0.99, 0.98, 0.99, 0.98, 0.99, 0.98, 0.99, 0.98, 0.99, 0.98, 0.98, 0.98, 0.98, 0.98, 0.99, 0.98, 0.99, 0.98, 0.99, 0.98, 0.99, 0.98, 0.99, 0.98, 0.99, 0.98, 0.98, 0.98, 0.98, 0.98, 0.99, 0.98, 0.99, 0.98, 0.99, 0.98, 0.99, 0.98, 0.99, 0.98, 0.99, 0.98, 0.99, 0.98, 0.99, 0.98, 0.99, 0.98, 0.99, 0.98, 0.99, 0.99, 0.99, 0.98, 0.99, 0.99, 0.99, 0.98, 0.98, 0.98, 0.98, 0.98, 0.99, 0.98, 0.99, 0.98, 0.99, 0.98, 0.99, 0.98, 0.99, 0.98, 0.99, 0.98, 0.98, 0.98, 0.98, 0.98, 0.99, 0.98, 0.99, 0.98, 0.99, 0.98, 0.99, 0.98, 0.99, 0.98, 0.99, 0.98, 0.98, 0.98, 0.98, 0.98, 0.99, 0.98, 0.99, 0.98, 0.99, 0.98, 0.99, 0.98, 0.99, 0.98, 0.99, 0.98, 0.99, 0.98, 0.99, 0.98, 0.99, 0.98, 0.99, 0.98, 0.99, 0.99, 0.99, 0.98, 0.99, 0.99, 0.99, 0.98, 0.99, 0.98, 0.99, 0.98, 0.99, 0.98, 0.99, 0.98, 0.99, 0.99, 0.99, 0.98, 0.99, 0.99, 0.99, 0.98, 0.99, 0.99, 0.99, 0.98, 0.99, 0.99, 0.99, 0.98, 0.99, 0.99, 0.99, 0.98, 0.99, 0.99, 0.99, 0.98, 0.99, 0.98, 0.99, 0.98, 0.99, 0.98, 0.99, 0.98, 0.99, 0.99, 0.99, 0.98, 0.99, 0.99, 0.99, 0.98, 0.99, 0.99, 0.99, 0.98, 0.99, 0.99, 0.99, 0.98, 0.99, 0.99, 0.99, 0.98, 0.99, 0.99, 0.99, 0.97, 0.97, 0.98, 0.98, 0.98, 0.98, 0.98, 0.98, 0.97, 0.97, 0.98, 0.98, 0.98, 0.98, 0.98, 0.98, 0.97, 0.97, 0.98, 0.98, 0.98, 0.98, 0.98, 0.98, 0.98, 0.98, 0.98, 0.98, 0.98, 0.99, 0.98, 0.99, 0.97, 0.97, 0.98, 0.98, 0.98, 0.98, 0.98, 0.98, 0.98, 0.98, 0.98, 0.98, 0.98, 0.99, 0.98, 0.99, 0.98, 0.98, 0.98, 0.98, 0.98, 0.99, 0.98, 0.99, 0.98, 0.99, 0.98, 0.99, 0.98, 0.99, 0.98, 0.99, 0.97, 0.97, 0.98, 0.98, 0.98, 0.98, 0.98, 0.98, 0.98, 0.98, 0.98, 0.98, 0.98, 0.99, 0.98, 0.99, 0.98, 0.98, 0.98, 0.98, 0.98, 0.99, 0.98, 0.99, 0.98, 0.99, 0.98, 0.99, 0.98, 0.99, 0.98, 0.99, 0.98, 0.98, 0.98, 0.98, 0.98, 0.99, 0.98, 0.99, 0.98, 0.99, 0.98, 0.99, 0.98, 0.99, 0.98, 0.99, 0.98, 0.98, 0.98, 0.98, 0.98, 0.99, 0.98, 0.99, 0.98, 0.99, 0.98, 0.99, 0.98, 0.99, 0.98, 0.99, 0.97, 0.97, 0.98, 0.98, 0.98, 0.98, 0.98, 0.98, 0.98, 0.98, 0.98, 0.98, 0.98, 0.99, 0.98, 0.99, 0.98, 0.98, 0.98, 0.98, 0.98, 0.99, 0.98, 0.99, 0.98, 0.99, 0.98, 0.99, 0.98, 0.99, 0.98, 0.99, 0.98, 0.98, 0.98, 0.98, 0.98, 0.99, 0.98, 0.99, 0.98, 0.99, 0.98, 0.99, 0.98, 0.99, 0.98, 0.99, 0.98, 0.98, 0.98, 0.98, 0.98, 0.99, 0.98, 0.99, 0.98, 0.99, 0.98, 0.99, 0.98, 0.99, 0.98, 0.99, 0.98, 0.98, 0.98, 0.98, 0.98, 0.99, 0.98, 0.99, 0.98, 0.99, 0.98, 0.99, 0.98, 0.99, 0.98, 0.99, 0.98, 0.98, 0.98, 0.98, 0.98, 0.99, 0.98, 0.99, 0.98, 0.99, 0.98, 0.99, 0.98, 0.99, 0.98, 0.99, 0.98, 0.98, 0.98, 0.98, 0.98, 0.99, 0.98, 0.99, 0.98, 0.99, 0.98, 0.99, 0.98, 0.99, 0.98, 0.99, 0.98, 0.99, 0.98, 0.99, 0.98, 0.99, 0.98, 0.99, 0.98, 0.99, 0.99, 0.99, 0.98, 0.99, 0.99, 0.99, 0.97, 0.97, 0.98, 0.98, 0.98, 0.98, 0.98, 0.98, 0.98, 0.98, 0.98, 0.98, 0.98, 0.99, 0.98, 0.99, 0.98, 0.98, 0.98, 0.98, 0.98, 0.99, 0.98, 0.99, 0.98, 0.99, 0.98, 0.99, 0.98, 0.99, 0.98, 0.99, 0.98, 0.98, 0.98, 0.98, 0.98, 0.99, 0.98, 0.99, 0.98, 0.99, 0.98, 0.99, 0.98, 0.99, 0.98, 0.99, 0.98, 0.98, 0.98, 0.98, 0.98, 0.99, 0.98, 0.99, 0.98, 0.99, 0.98, 0.99, 0.98, 0.99, 0.98, 0.99, 0.98, 0.98, 0.98, 0.98, 0.98, 0.99, 0.98, 0.99, 0.98, 0.99, 0.98, 0.99, 0.98, 0.99, 0.98, 0.99, 0.98, 0.98, 0.98, 0.98, 0.98, 0.99, 0.98, 0.99, 0.98, 0.99, 0.98, 0.99, 0.98, 0.99, 0.98, 0.99, 0.98, 0.98, 0.98, 0.98, 0.98, 0.99, 0.98, 0.99, 0.98, 0.99, 0.98, 0.99, 0.98, 0.99, 0.98, 0.99, 0.98, 0.99, 0.98, 0.99, 0.98, 0.99, 0.98, 0.99, 0.98, 0.99, 0.99, 0.99, 0.98, 0.99, 0.99, 0.99, 0.98, 0.98, 0.98, 0.98, 0.98, 0.99, 0.98, 0.99, 0.98, 0.99, 0.98, 0.99, 0.98, 0.99, 0.98, 0.99, 0.98, 0.98, 0.98, 0.98, 0.98, 0.99, 0.98, 0.99, 0.98, 0.99, 0.98, 0.99, 0.98, 0.99, 0.98, 0.99, 0.98, 0.98, 0.98, 0.98, 0.98, 0.99, 0.98, 0.99, 0.98, 0.99, 0.98, 0.99, 0.98, 0.99, 0.98, 0.99, 0.98, 0.99, 0.98, 0.99, 0.98, 0.99, 0.98, 0.99, 0.98, 0.99, 0.99, 0.99, 0.98, 0.99, 0.99, 0.99, 0.98, 0.99, 0.98, 0.99, 0.98, 0.99, 0.98, 0.99, 0.98, 0.99, 0.99, 0.99, 0.98, 0.99, 0.99, 0.99, 0.98, 0.99, 0.99, 0.99, 0.98, 0.99, 0.99, 0.99, 0.98, 0.99, 0.99, 0.99, 0.98, 0.99, 0.99, 0.99, 0.98, 0.99, 0.98, 0.99, 0.98, 0.99, 0.98, 0.99, 0.98, 0.99, 0.99, 0.99, 0.98, 0.99, 0.99, 0.99, 0.98, 0.99, 0.99, 0.99, 0.98, 0.99, 0.99, 0.99, 0.98, 0.99, 0.99, 0.99, 0.98, 0.99, 0.99, 0.99, 0.97, 0.97, 0.98, 0.98, 0.98, 0.98, 0.98, 0.98, 0.98, 0.98, 0.98, 0.98, 0.98, 0.99, 0.98, 0.99, 0.98, 0.98, 0.98, 0.98, 0.98, 0.99, 0.98, 0.99, 0.98, 0.99, 0.98, 0.99, 0.98, 0.99, 0.98, 0.99, 0.98, 0.98, 0.98, 0.98, 0.98, 0.99, 0.98, 0.99, 0.98, 0.99, 0.98, 0.99, 0.98, 0.99, 0.98, 0.99, 0.98, 0.98, 0.98, 0.98, 0.98, 0.99, 0.98, 0.99, 0.98, 0.99, 0.98, 0.99, 0.98, 0.99, 0.98, 0.99, 0.98, 0.98, 0.98, 0.98, 0.98, 0.99, 0.98, 0.99, 0.98, 0.99, 0.98, 0.99, 0.98, 0.99, 0.98, 0.99, 0.98, 0.98, 0.98, 0.98, 0.98, 0.99, 0.98, 0.99, 0.98, 0.99, 0.98, 0.99, 0.98, 0.99, 0.98, 0.99, 0.98, 0.98, 0.98, 0.98, 0.98, 0.99, 0.98, 0.99, 0.98, 0.99, 0.98, 0.99, 0.98, 0.99, 0.98, 0.99, 0.98, 0.99, 0.98, 0.99, 0.98, 0.99, 0.98, 0.99, 0.98, 0.99, 0.99, 0.99, 0.98, 0.99, 0.99, 0.99, 0.98, 0.98, 0.98, 0.98, 0.98, 0.99, 0.98, 0.99, 0.98, 0.99, 0.98, 0.99, 0.98, 0.99, 0.98, 0.99, 0.98, 0.98, 0.98, 0.98, 0.98, 0.99, 0.98, 0.99, 0.98, 0.99, 0.98, 0.99, 0.98, 0.99, 0.98, 0.99, 0.98, 0.98, 0.98, 0.98, 0.98, 0.99, 0.98, 0.99, 0.98, 0.99, 0.98, 0.99, 0.98, 0.99, 0.98, 0.99, 0.98, 0.99, 0.98, 0.99, 0.98, 0.99, 0.98, 0.99, 0.98, 0.99, 0.99, 0.99, 0.98, 0.99, 0.99, 0.99, 0.98, 0.98, 0.98, 0.98, 0.98, 0.99, 0.98, 0.99, 0.98, 0.99, 0.98, 0.99, 0.98, 0.99, 0.98, 0.99, 0.98, 0.99, 0.98, 0.99, 0.98, 0.99, 0.98, 0.99, 0.98, 0.99, 0.99, 0.99, 0.98, 0.99, 0.99, 0.99, 0.98, 0.99, 0.98, 0.99, 0.98, 0.99, 0.98, 0.99, 0.98, 0.99, 0.99, 0.99, 0.98, 0.99, 0.99, 0.99, 0.98, 0.99, 0.99, 0.99, 0.98, 0.99, 0.99, 0.99, 0.98, 0.99, 0.99, 0.99, 0.98, 0.99, 0.99, 0.99, 0.98, 0.98, 0.98, 0.98, 0.98, 0.99, 0.98, 0.99, 0.98, 0.99, 0.98, 0.99, 0.98, 0.99, 0.98, 0.99, 0.98, 0.98, 0.98, 0.98, 0.98, 0.99, 0.98, 0.99, 0.98, 0.99, 0.98, 0.99, 0.98, 0.99, 0.98, 0.99, 0.98, 0.98, 0.98, 0.98, 0.98, 0.99, 0.98, 0.99, 0.98, 0.99, 0.98, 0.99, 0.98, 0.99, 0.98, 0.99, 0.98, 0.99, 0.98, 0.99, 0.98, 0.99, 0.98, 0.99, 0.98, 0.99, 0.99, 0.99, 0.98, 0.99, 0.99, 0.99, 0.98, 0.99, 0.98, 0.99, 0.98, 0.99, 0.98, 0.99, 0.98, 0.99, 0.99, 0.99, 0.98, 0.99, 0.99, 0.99, 0.98, 0.99, 0.99, 0.99, 0.98, 0.99, 0.99, 0.99, 0.98, 0.99, 0.99, 0.99, 0.98, 0.99, 0.99, 0.99, 0.98, 0.99, 0.98, 0.99, 0.98, 0.99, 0.98, 0.99, 0.98, 0.99, 0.99, 0.99, 0.98, 0.99, 0.99, 0.99, 0.98, 0.99, 0.99, 0.99, 0.98, 0.99, 0.99, 0.99, 0.98, 0.99, 0.99, 0.99, 0.98, 0.99, 0.99, 0.99, 0.98, 0.98, 0.98, 0.98, 0.98, 0.99, 0.98, 0.99, 0.98, 0.99, 0.98, 0.99, 0.98, 0.99, 0.98, 0.99, 0.98, 0.99, 0.98, 0.99, 0.98, 0.99, 0.98, 0.99, 0.98, 0.99, 0.99, 0.99, 0.98, 0.99, 0.99, 0.99, 0.98, 0.99, 0.98, 0.99, 0.98, 0.99, 0.98, 0.99, 0.98, 0.99, 0.99, 0.99, 0.98, 0.99, 0.99, 0.99, 0.98, 0.99, 0.99, 0.99, 0.98, 0.99, 0.99, 0.99, 0.98, 0.99, 0.99, 0.99, 0.98, 0.99, 0.99, 0.99, 0.98, 0.99, 0.98, 0.99, 0.98, 0.99, 0.98, 0.99, 0.98, 0.99, 0.99, 0.99, 0.98, 0.99, 0.99, 0.99, 0.98, 0.99, 0.99, 0.99, 0.98, 0.99, 0.99, 0.99, 0.98, 0.99, 0.99, 0.99, 0.98, 0.99, 0.99, 0.99, 0.98, 0.99, 0.98, 0.99, 0.98, 0.99, 0.98, 0.99, 0.98, 0.99, 0.99, 0.99, 0.98, 0.99, 0.99, 0.99, 0.98, 0.99, 0.99, 0.99, 0.98, 0.99, 0.99, 0.99, 0.98, 0.99, 0.99, 0.99, 0.98, 0.99, 0.99, 0.99, 0.97, 0.97, 0.98, 0.98, 0.98, 0.98, 0.98, 0.98, 0.97, 0.97, 0.98, 0.98, 0.98, 0.98, 0.98, 0.98, 0.97, 0.97, 0.98, 0.98, 0.98, 0.98, 0.98, 0.98, 0.98, 0.98, 0.98, 0.98, 0.98, 0.99, 0.98, 0.99, 0.97, 0.97, 0.98, 0.98, 0.98, 0.98, 0.98, 0.98, 0.98, 0.98, 0.98, 0.98, 0.98, 0.99, 0.98, 0.99, 0.98, 0.98, 0.98, 0.98, 0.98, 0.99, 0.98, 0.99, 0.98, 0.99, 0.98, 0.99, 0.98, 0.99, 0.98, 0.99, 0.97, 0.97, 0.98, 0.98, 0.98, 0.98, 0.98, 0.98, 0.98, 0.98, 0.98, 0.98, 0.98, 0.99, 0.98, 0.99, 0.98, 0.98, 0.98, 0.98, 0.98, 0.99, 0.98, 0.99, 0.98, 0.99, 0.98, 0.99, 0.98, 0.99, 0.98, 0.99, 0.98, 0.98, 0.98, 0.98, 0.98, 0.99, 0.98, 0.99, 0.98, 0.99, 0.98, 0.99, 0.98, 0.99, 0.98, 0.99, 0.98, 0.98, 0.98, 0.98, 0.98, 0.99, 0.98, 0.99, 0.98, 0.99, 0.98, 0.99, 0.98, 0.99, 0.98, 0.99, 0.97, 0.97, 0.98, 0.98, 0.98, 0.98, 0.98, 0.98, 0.98, 0.98, 0.98, 0.98, 0.98, 0.99, 0.98, 0.99, 0.98, 0.98, 0.98, 0.98, 0.98, 0.99, 0.98, 0.99, 0.98, 0.99, 0.98, 0.99, 0.98, 0.99, 0.98, 0.99, 0.98, 0.98, 0.98, 0.98, 0.98, 0.99, 0.98, 0.99, 0.98, 0.99, 0.98, 0.99, 0.98, 0.99, 0.98, 0.99, 0.98, 0.98, 0.98, 0.98, 0.98, 0.99, 0.98, 0.99, 0.98, 0.99, 0.98, 0.99, 0.98, 0.99, 0.98, 0.99, 0.98, 0.98, 0.98, 0.98, 0.98, 0.99, 0.98, 0.99, 0.98, 0.99, 0.98, 0.99, 0.98, 0.99, 0.98, 0.99, 0.98, 0.98, 0.98, 0.98, 0.98, 0.99, 0.98, 0.99, 0.98, 0.99, 0.98, 0.99, 0.98, 0.99, 0.98, 0.99, 0.98, 0.98, 0.98, 0.98, 0.98, 0.99, 0.98, 0.99, 0.98, 0.99, 0.98, 0.99, 0.98, 0.99, 0.98, 0.99, 0.98, 0.99, 0.98, 0.99, 0.98, 0.99, 0.98, 0.99, 0.98, 0.99, 0.99, 0.99, 0.98, 0.99, 0.99, 0.99, 0.97, 0.97, 0.98, 0.98, 0.98, 0.98, 0.98, 0.98, 0.98, 0.98, 0.98, 0.98, 0.98, 0.99, 0.98, 0.99, 0.98, 0.98, 0.98, 0.98, 0.98, 0.99, 0.98, 0.99, 0.98, 0.99, 0.98, 0.99, 0.98, 0.99, 0.98, 0.99, 0.98, 0.98, 0.98, 0.98, 0.98, 0.99, 0.98, 0.99, 0.98, 0.99, 0.98, 0.99, 0.98, 0.99, 0.98, 0.99, 0.98, 0.98, 0.98, 0.98, 0.98, 0.99, 0.98, 0.99, 0.98, 0.99, 0.98, 0.99, 0.98, 0.99, 0.98, 0.99, 0.98, 0.98, 0.98, 0.98, 0.98, 0.99, 0.98, 0.99, 0.98, 0.99, 0.98, 0.99, 0.98, 0.99, 0.98, 0.99, 0.98, 0.98, 0.98, 0.98, 0.98, 0.99, 0.98, 0.99, 0.98, 0.99, 0.98, 0.99, 0.98, 0.99, 0.98, 0.99, 0.98, 0.98, 0.98, 0.98, 0.98, 0.99, 0.98, 0.99, 0.98, 0.99, 0.98, 0.99, 0.98, 0.99, 0.98, 0.99, 0.98, 0.99, 0.98, 0.99, 0.98, 0.99, 0.98, 0.99, 0.98, 0.99, 0.99, 0.99, 0.98, 0.99, 0.99, 0.99, 0.98, 0.98, 0.98, 0.98, 0.98, 0.99, 0.98, 0.99, 0.98, 0.99, 0.98, 0.99, 0.98, 0.99, 0.98, 0.99, 0.98, 0.98, 0.98, 0.98, 0.98, 0.99, 0.98, 0.99, 0.98, 0.99, 0.98, 0.99, 0.98, 0.99, 0.98, 0.99, 0.98, 0.98, 0.98, 0.98, 0.98, 0.99, 0.98, 0.99, 0.98, 0.99, 0.98, 0.99, 0.98, 0.99, 0.98, 0.99, 0.98, 0.99, 0.98, 0.99, 0.98, 0.99, 0.98, 0.99, 0.98, 0.99, 0.99, 0.99, 0.98, 0.99, 0.99, 0.99, 0.98, 0.99, 0.98, 0.99, 0.98, 0.99, 0.98, 0.99, 0.98, 0.99, 0.99, 0.99, 0.98, 0.99, 0.99, 0.99, 0.98, 0.99, 0.99, 0.99, 0.98, 0.99, 0.99, 0.99, 0.98, 0.99, 0.99, 0.99, 0.98, 0.99, 0.99, 0.99, 0.98, 0.99, 0.98, 0.99, 0.98, 0.99, 0.98, 0.99, 0.98, 0.99, 0.99, 0.99, 0.98, 0.99, 0.99, 0.99, 0.98, 0.99, 0.99, 0.99, 0.98, 0.99, 0.99, 0.99, 0.98, 0.99, 0.99, 0.99, 0.98, 0.99, 0.99, 0.99, 0.97, 0.97, 0.98, 0.98, 0.98, 0.98, 0.98, 0.98, 0.98, 0.98, 0.98, 0.98, 0.98, 0.99, 0.98, 0.99, 0.98, 0.98, 0.98, 0.98, 0.98, 0.99, 0.98, 0.99, 0.98, 0.99, 0.98, 0.99, 0.98, 0.99, 0.98, 0.99, 0.98, 0.98, 0.98, 0.98, 0.98, 0.99, 0.98, 0.99, 0.98, 0.99, 0.98, 0.99, 0.98, 0.99, 0.98, 0.99, 0.98, 0.98, 0.98, 0.98, 0.98, 0.99, 0.98, 0.99, 0.98, 0.99, 0.98, 0.99, 0.98, 0.99, 0.98, 0.99, 0.98, 0.98, 0.98, 0.98, 0.98, 0.99, 0.98, 0.99, 0.98, 0.99, 0.98, 0.99, 0.98, 0.99, 0.98, 0.99, 0.98, 0.98, 0.98, 0.98, 0.98, 0.99, 0.98, 0.99, 0.98, 0.99, 0.98, 0.99, 0.98, 0.99, 0.98, 0.99, 0.98, 0.98, 0.98, 0.98, 0.98, 0.99, 0.98, 0.99, 0.98, 0.99, 0.98, 0.99, 0.98, 0.99, 0.98, 0.99, 0.98, 0.99, 0.98, 0.99, 0.98, 0.99, 0.98, 0.99, 0.98, 0.99, 0.99, 0.99, 0.98, 0.99, 0.99, 0.99, 0.98, 0.98, 0.98, 0.98, 0.98, 0.99, 0.98, 0.99, 0.98, 0.99, 0.98, 0.99, 0.98, 0.99, 0.98, 0.99, 0.98, 0.98, 0.98, 0.98, 0.98, 0.99, 0.98, 0.99, 0.98, 0.99, 0.98, 0.99, 0.98, 0.99, 0.98, 0.99, 0.98, 0.98, 0.98, 0.98, 0.98, 0.99, 0.98, 0.99, 0.98, 0.99, 0.98, 0.99, 0.98, 0.99, 0.98, 0.99, 0.98, 0.99, 0.98, 0.99, 0.98, 0.99, 0.98, 0.99, 0.98, 0.99, 0.99, 0.99, 0.98, 0.99, 0.99, 0.99, 0.98, 0.98, 0.98, 0.98, 0.98, 0.99, 0.98, 0.99, 0.98, 0.99, 0.98, 0.99, 0.98, 0.99, 0.98, 0.99, 0.98, 0.99, 0.98, 0.99, 0.98, 0.99, 0.98, 0.99, 0.98, 0.99, 0.99, 0.99, 0.98, 0.99, 0.99, 0.99, 0.98, 0.99, 0.98, 0.99, 0.98, 0.99, 0.98, 0.99, 0.98, 0.99, 0.99, 0.99, 0.98, 0.99, 0.99, 0.99, 0.98, 0.99, 0.99, 0.99, 0.98, 0.99, 0.99, 0.99, 0.98, 0.99, 0.99, 0.99, 0.98, 0.99, 0.99, 0.99, 0.98, 0.98, 0.98, 0.98, 0.98, 0.99, 0.98, 0.99, 0.98, 0.99, 0.98, 0.99, 0.98, 0.99, 0.98, 0.99, 0.98, 0.98, 0.98, 0.98, 0.98, 0.99, 0.98, 0.99, 0.98, 0.99, 0.98, 0.99, 0.98, 0.99, 0.98, 0.99, 0.98, 0.98, 0.98, 0.98, 0.98, 0.99, 0.98, 0.99, 0.98, 0.99, 0.98, 0.99, 0.98, 0.99, 0.98, 0.99, 0.98, 0.99, 0.98, 0.99, 0.98, 0.99, 0.98, 0.99, 0.98, 0.99, 0.99, 0.99, 0.98, 0.99, 0.99, 0.99, 0.98, 0.99, 0.98, 0.99, 0.98, 0.99, 0.98, 0.99, 0.98, 0.99, 0.99, 0.99, 0.98, 0.99, 0.99, 0.99, 0.98, 0.99, 0.99, 0.99, 0.98, 0.99, 0.99, 0.99, 0.98, 0.99, 0.99, 0.99, 0.98, 0.99, 0.99, 0.99, 0.98, 0.99, 0.98, 0.99, 0.98, 0.99, 0.98, 0.99, 0.98, 0.99, 0.99, 0.99, 0.98, 0.99, 0.99, 0.99, 0.98, 0.99, 0.99, 0.99, 0.98, 0.99, 0.99, 0.99, 0.98, 0.99, 0.99, 0.99, 0.98, 0.99, 0.99, 0.99, 0.98, 0.98, 0.98, 0.98, 0.98, 0.99, 0.98, 0.99, 0.98, 0.99, 0.98, 0.99, 0.98, 0.99, 0.98, 0.99, 0.98, 0.99, 0.98, 0.99, 0.98, 0.99, 0.98, 0.99, 0.98, 0.99, 0.99, 0.99, 0.98, 0.99, 0.99, 0.99, 0.98, 0.99, 0.98, 0.99, 0.98, 0.99, 0.98, 0.99, 0.98, 0.99, 0.99, 0.99, 0.98, 0.99, 0.99, 0.99, 0.98, 0.99, 0.99, 0.99, 0.98, 0.99, 0.99, 0.99, 0.98, 0.99, 0.99, 0.99, 0.98, 0.99, 0.99, 0.99, 0.98, 0.99, 0.98, 0.99, 0.98, 0.99, 0.98, 0.99, 0.98, 0.99, 0.99, 0.99, 0.98, 0.99, 0.99, 0.99, 0.98, 0.99, 0.99, 0.99, 0.98, 0.99, 0.99, 0.99, 0.98, 0.99, 0.99, 0.99, 0.98, 0.99, 0.99, 0.99, 0.98, 0.99, 0.98, 0.99, 0.98, 0.99, 0.98, 0.99, 0.98, 0.99, 0.99, 0.99, 0.98, 0.99, 0.99, 0.99, 0.98, 0.99, 0.99, 0.99, 0.98, 0.99, 0.99, 0.99, 0.98, 0.99, 0.99, 0.99, 0.98, 0.99, 0.99, 0.99, 0.97, 0.97, 0.98, 0.98, 0.98, 0.98, 0.98, 0.98, 0.98, 0.98, 0.98, 0.98, 0.98, 0.99, 0.98, 0.99, 0.98, 0.98, 0.98, 0.98, 0.98, 0.99, 0.98, 0.99, 0.98, 0.99, 0.98, 0.99, 0.98, 0.99, 0.98, 0.99, 0.98, 0.98, 0.98, 0.98, 0.98, 0.99, 0.98, 0.99, 0.98, 0.99, 0.98, 0.99, 0.98, 0.99, 0.98, 0.99, 0.98, 0.98, 0.98, 0.98, 0.98, 0.99, 0.98, 0.99, 0.98, 0.99, 0.98, 0.99, 0.98, 0.99, 0.98, 0.99, 0.98, 0.98, 0.98, 0.98, 0.98, 0.99, 0.98, 0.99, 0.98, 0.99, 0.98, 0.99, 0.98, 0.99, 0.98, 0.99, 0.98, 0.98, 0.98, 0.98, 0.98, 0.99, 0.98, 0.99, 0.98, 0.99, 0.98, 0.99, 0.98, 0.99, 0.98, 0.99, 0.98, 0.98, 0.98, 0.98, 0.98, 0.99, 0.98, 0.99, 0.98, 0.99, 0.98, 0.99, 0.98, 0.99, 0.98, 0.99, 0.98, 0.99, 0.98, 0.99, 0.98, 0.99, 0.98, 0.99, 0.98, 0.99, 0.99, 0.99, 0.98, 0.99, 0.99, 0.99, 0.98, 0.98, 0.98, 0.98, 0.98, 0.99, 0.98, 0.99, 0.98, 0.99, 0.98, 0.99, 0.98, 0.99, 0.98, 0.99, 0.98, 0.98, 0.98, 0.98, 0.98, 0.99, 0.98, 0.99, 0.98, 0.99, 0.98, 0.99, 0.98, 0.99, 0.98, 0.99, 0.98, 0.98, 0.98, 0.98, 0.98, 0.99, 0.98, 0.99, 0.98, 0.99, 0.98, 0.99, 0.98, 0.99, 0.98, 0.99, 0.98, 0.99, 0.98, 0.99, 0.98, 0.99, 0.98, 0.99, 0.98, 0.99, 0.99, 0.99, 0.98, 0.99, 0.99, 0.99, 0.98, 0.98, 0.98, 0.98, 0.98, 0.99, 0.98, 0.99, 0.98, 0.99, 0.98, 0.99, 0.98, 0.99, 0.98, 0.99, 0.98, 0.99, 0.98, 0.99, 0.98, 0.99, 0.98, 0.99, 0.98, 0.99, 0.99, 0.99, 0.98, 0.99, 0.99, 0.99, 0.98, 0.99, 0.98, 0.99, 0.98, 0.99, 0.98, 0.99, 0.98, 0.99, 0.99, 0.99, 0.98, 0.99, 0.99, 0.99, 0.98, 0.99, 0.99, 0.99, 0.98, 0.99, 0.99, 0.99, 0.98, 0.99, 0.99, 0.99, 0.98, 0.99, 0.99, 0.99, 0.98, 0.98, 0.98, 0.98, 0.98, 0.99, 0.98, 0.99, 0.98, 0.99, 0.98, 0.99, 0.98, 0.99, 0.98, 0.99, 0.98, 0.98, 0.98, 0.98, 0.98, 0.99, 0.98, 0.99, 0.98, 0.99, 0.98, 0.99, 0.98, 0.99, 0.98, 0.99, 0.98, 0.98, 0.98, 0.98, 0.98, 0.99, 0.98, 0.99, 0.98, 0.99, 0.98, 0.99, 0.98, 0.99, 0.98, 0.99, 0.98, 0.99, 0.98, 0.99, 0.98, 0.99, 0.98, 0.99, 0.98, 0.99, 0.99, 0.99, 0.98, 0.99, 0.99, 0.99, 0.98, 0.99, 0.98, 0.99, 0.98, 0.99, 0.98, 0.99, 0.98, 0.99, 0.99, 0.99, 0.98, 0.99, 0.99, 0.99, 0.98, 0.99, 0.99, 0.99, 0.98, 0.99, 0.99, 0.99, 0.98, 0.99, 0.99, 0.99, 0.98, 0.99, 0.99, 0.99, 0.98, 0.99, 0.98, 0.99, 0.98, 0.99, 0.98, 0.99, 0.98, 0.99, 0.99, 0.99, 0.98, 0.99, 0.99, 0.99, 0.98, 0.99, 0.99, 0.99, 0.98, 0.99, 0.99, 0.99, 0.98, 0.99, 0.99, 0.99, 0.98, 0.99, 0.99, 0.99, 0.98, 0.98, 0.98, 0.98, 0.98, 0.99, 0.98, 0.99, 0.98, 0.99, 0.98, 0.99, 0.98, 0.99, 0.98, 0.99, 0.98, 0.99, 0.98, 0.99, 0.98, 0.99, 0.98, 0.99, 0.98, 0.99, 0.99, 0.99, 0.98, 0.99, 0.99, 0.99, 0.98, 0.99, 0.98, 0.99, 0.98, 0.99, 0.98, 0.99, 0.98, 0.99, 0.99, 0.99, 0.98, 0.99, 0.99, 0.99, 0.98, 0.99, 0.99, 0.99, 0.98, 0.99, 0.99, 0.99, 0.98, 0.99, 0.99, 0.99, 0.98, 0.99, 0.99, 0.99, 0.98, 0.99, 0.98, 0.99, 0.98, 0.99, 0.98, 0.99, 0.98, 0.99, 0.99, 0.99, 0.98, 0.99, 0.99, 0.99, 0.98, 0.99, 0.99, 0.99, 0.98, 0.99, 0.99, 0.99, 0.98, 0.99, 0.99, 0.99, 0.98, 0.99, 0.99, 0.99, 0.98, 0.99, 0.98, 0.99, 0.98, 0.99, 0.98, 0.99, 0.98, 0.99, 0.99, 0.99, 0.98, 0.99, 0.99, 0.99, 0.98, 0.99, 0.99, 0.99, 0.98, 0.99, 0.99, 0.99, 0.98, 0.99, 0.99, 0.99, 0.98, 0.99, 0.99, 0.99, 0.98, 0.98, 0.98, 0.98, 0.98, 0.99, 0.98, 0.99, 0.98, 0.99, 0.98, 0.99, 0.98, 0.99, 0.98, 0.99, 0.98, 0.98, 0.98, 0.98, 0.98, 0.99, 0.98, 0.99, 0.98, 0.99, 0.98, 0.99, 0.98, 0.99, 0.98, 0.99, 0.98, 0.98, 0.98, 0.98, 0.98, 0.99, 0.98, 0.99, 0.98, 0.99, 0.98, 0.99, 0.98, 0.99, 0.98, 0.99, 0.98, 0.99, 0.98, 0.99, 0.98, 0.99, 0.98, 0.99, 0.98, 0.99, 0.99, 0.99, 0.98, 0.99, 0.99, 0.99, 0.98, 0.99, 0.98, 0.99, 0.98, 0.99, 0.98, 0.99, 0.98, 0.99, 0.99, 0.99, 0.98, 0.99, 0.99, 0.99, 0.98, 0.99, 0.99, 0.99, 0.98, 0.99, 0.99, 0.99, 0.98, 0.99, 0.99, 0.99, 0.98, 0.99, 0.99, 0.99, 0.98, 0.99, 0.98, 0.99, 0.98, 0.99, 0.98, 0.99, 0.98, 0.99, 0.99, 0.99, 0.98, 0.99, 0.99, 0.99, 0.98, 0.99, 0.99, 0.99, 0.98, 0.99, 0.99, 0.99, 0.98, 0.99, 0.99, 0.99, 0.98, 0.99, 0.99, 0.99, 0.98, 0.98, 0.98, 0.98, 0.98, 0.99, 0.98, 0.99, 0.98, 0.99, 0.98, 0.99, 0.98, 0.99, 0.98, 0.99, 0.98, 0.99, 0.98, 0.99, 0.98, 0.99, 0.98, 0.99, 0.98, 0.99, 0.99, 0.99, 0.98, 0.99, 0.99, 0.99, 0.98, 0.99, 0.98, 0.99, 0.98, 0.99, 0.98, 0.99, 0.98, 0.99, 0.99, 0.99, 0.98, 0.99, 0.99, 0.99, 0.98, 0.99, 0.99, 0.99, 0.98, 0.99, 0.99, 0.99, 0.98, 0.99, 0.99, 0.99, 0.98, 0.99, 0.99, 0.99, 0.98, 0.99, 0.98, 0.99, 0.98, 0.99, 0.98, 0.99, 0.98, 0.99, 0.99, 0.99, 0.98, 0.99, 0.99, 0.99, 0.98, 0.99, 0.99, 0.99, 0.98, 0.99, 0.99, 0.99, 0.98, 0.99, 0.99, 0.99, 0.98, 0.99, 0.99, 0.99, 0.98, 0.99, 0.98, 0.99, 0.98, 0.99, 0.98, 0.99, 0.98, 0.99, 0.99, 0.99, 0.98, 0.99, 0.99, 0.99, 0.98, 0.99, 0.99, 0.99, 0.98, 0.99, 0.99, 0.99, 0.98, 0.99, 0.99, 0.99, 0.98, 0.99, 0.99, 0.99, 0.98, 0.99, 0.98, 0.99, 0.98, 0.99, 0.98, 0.99, 0.98, 0.99, 0.99, 0.99, 0.98, 0.99, 0.99, 0.99, 0.98, 0.99, 0.99, 0.99, 0.98, 0.99, 0.99, 0.99, 0.98, 0.99, 0.99, 0.99, 0.98, 0.99, 0.99, 0.99, 0.98, 0.99, 0.98, 0.99, 0.98, 0.99, 0.98, 0.99, 0.98, 0.99, 0.99, 0.99, 0.98, 0.99, 0.99, 0.99, 0.98, 0.99, 0.99, 0.99, 0.98, 0.99, 0.99, 0.99, 0.98, 0.99, 0.99, 0.99, 0.98, 0.99, 0.99, 0.99, 0.98, 0.99, 0.98, 0.99, 0.98, 0.99, 0.98, 0.99, 0.98, 0.99, 0.99, 0.99, 0.98, 0.99, 0.99, 0.99, 0.98, 0.99, 0.99, 0.99, 0.98, 0.99, 0.99, 0.99, 0.98, 0.99, 0.99, 0.99, 0.98, 0.99, 0.99, 0.99, 0.98, 0.99, 0.99, 0.99, 0.98, 0.99, 0.99, 0.99, 0.98, 0.99, 0.99, 0.99, 0.98, 0.99, 0.99, 0.99, 0.98, 0.99, 0.99, 0.99, 0.99, 0.99, 0.99, 0.99, 0.98, 0.99, 0.99, 0.99, 0.99, 0.99, 0.99, 0.99, 0.98, 0.99, 0.98, 0.99, 0.98, 0.99, 0.98, 0.99, 0.98, 0.99, 0.99, 0.99, 0.98, 0.99, 0.99, 0.99, 0.98, 0.99, 0.99, 0.99, 0.98, 0.99, 0.99, 0.99, 0.98, 0.99, 0.99, 0.99, 0.98, 0.99, 0.99, 0.99, 0.98, 0.99, 0.99, 0.99, 0.98, 0.99, 0.99, 0.99, 0.98, 0.99, 0.99, 0.99, 0.98, 0.99, 0.99, 0.99, 0.98, 0.99, 0.99, 0.99, 0.99, 0.99, 0.99, 0.99, 0.98, 0.99, 0.99, 0.99, 0.99, 0.99, 0.99, 0.99, 0.98, 0.99, 0.99, 0.99, 0.98, 0.99, 0.99, 0.99, 0.98, 0.99, 0.99, 0.99, 0.98, 0.99, 0.99, 0.99, 0.98, 0.99, 0.99, 0.99, 0.99, 0.99, 0.99, 0.99, 0.98, 0.99, 0.99, 0.99, 0.99, 0.99, 0.99, 0.99, 0.98, 0.99, 0.99, 0.99, 0.99, 0.99, 0.99, 0.99, 0.98, 0.99, 0.99, 0.99, 0.99, 0.99, 0.99, 0.99, 0.98, 0.99, 0.99, 0.99, 0.99, 0.99, 0.99, 0.99, 0.98, 0.99, 0.99, 0.99, 0.99, 0.99, 0.99, 0.99, 0.97, 0.97, 0.98, 0.98, 0.98, 0.98, 0.98, 0.98, 0.97, 0.97, 0.98, 0.98, 0.98, 0.98, 0.98, 0.98, 0.97, 0.97, 0.98, 0.98, 0.98, 0.98, 0.98, 0.98, 0.98, 0.98, 0.98, 0.98, 0.98, 0.99, 0.98, 0.99, 0.97, 0.97, 0.98, 0.98, 0.98, 0.98, 0.98, 0.98, 0.98, 0.98, 0.98, 0.98, 0.98, 0.99, 0.98, 0.99, 0.98, 0.98, 0.98, 0.98, 0.98, 0.99, 0.98, 0.99, 0.98, 0.99, 0.98, 0.99, 0.98, 0.99, 0.98, 0.99, 0.97, 0.97, 0.98, 0.98, 0.98, 0.98, 0.98, 0.98, 0.98, 0.98, 0.98, 0.98, 0.98, 0.99, 0.98, 0.99, 0.98, 0.98, 0.98, 0.98, 0.98, 0.99, 0.98, 0.99, 0.98, 0.99, 0.98, 0.99, 0.98, 0.99, 0.98, 0.99, 0.98, 0.98, 0.98, 0.98, 0.98, 0.99, 0.98, 0.99, 0.98, 0.99, 0.98, 0.99, 0.98, 0.99, 0.98, 0.99, 0.98, 0.98, 0.98, 0.98, 0.98, 0.99, 0.98, 0.99, 0.98, 0.99, 0.98, 0.99, 0.98, 0.99, 0.98, 0.99, 0.97, 0.97, 0.98, 0.98, 0.98, 0.98, 0.98, 0.98, 0.98, 0.98, 0.98, 0.98, 0.98, 0.99, 0.98, 0.99, 0.98, 0.98, 0.98, 0.98, 0.98, 0.99, 0.98, 0.99, 0.98, 0.99, 0.98, 0.99, 0.98, 0.99, 0.98, 0.99, 0.98, 0.98, 0.98, 0.98, 0.98, 0.99, 0.98, 0.99, 0.98, 0.99, 0.98, 0.99, 0.98, 0.99, 0.98, 0.99, 0.98, 0.98, 0.98, 0.98, 0.98, 0.99, 0.98, 0.99, 0.98, 0.99, 0.98, 0.99, 0.98, 0.99, 0.98, 0.99, 0.98, 0.98, 0.98, 0.98, 0.98, 0.99, 0.98, 0.99, 0.98, 0.99, 0.98, 0.99, 0.98, 0.99, 0.98, 0.99, 0.98, 0.98, 0.98, 0.98, 0.98, 0.99, 0.98, 0.99, 0.98, 0.99, 0.98, 0.99, 0.98, 0.99, 0.98, 0.99, 0.98, 0.98, 0.98, 0.98, 0.98, 0.99, 0.98, 0.99, 0.98, 0.99, 0.98, 0.99, 0.98, 0.99, 0.98, 0.99, 0.98, 0.99, 0.98, 0.99, 0.98, 0.99, 0.98, 0.99, 0.98, 0.99, 0.99, 0.99, 0.98, 0.99, 0.99, 0.99, 0.97, 0.97, 0.98, 0.98, 0.98, 0.98, 0.98, 0.98, 0.98, 0.98, 0.98, 0.98, 0.98, 0.99, 0.98, 0.99, 0.98, 0.98, 0.98, 0.98, 0.98, 0.99, 0.98, 0.99, 0.98, 0.99, 0.98, 0.99, 0.98, 0.99, 0.98, 0.99, 0.98, 0.98, 0.98, 0.98, 0.98, 0.99, 0.98, 0.99, 0.98, 0.99, 0.98, 0.99, 0.98, 0.99, 0.98, 0.99, 0.98, 0.98, 0.98, 0.98, 0.98, 0.99, 0.98, 0.99, 0.98, 0.99, 0.98, 0.99, 0.98, 0.99, 0.98, 0.99, 0.98, 0.98, 0.98, 0.98, 0.98, 0.99, 0.98, 0.99, 0.98, 0.99, 0.98, 0.99, 0.98, 0.99, 0.98, 0.99, 0.98, 0.98, 0.98, 0.98, 0.98, 0.99, 0.98, 0.99, 0.98, 0.99, 0.98, 0.99, 0.98, 0.99, 0.98, 0.99, 0.98, 0.98, 0.98, 0.98, 0.98, 0.99, 0.98, 0.99, 0.98, 0.99, 0.98, 0.99, 0.98, 0.99, 0.98, 0.99, 0.98, 0.99, 0.98, 0.99, 0.98, 0.99, 0.98, 0.99, 0.98, 0.99, 0.99, 0.99, 0.98, 0.99, 0.99, 0.99, 0.98, 0.98, 0.98, 0.98, 0.98, 0.99, 0.98, 0.99, 0.98, 0.99, 0.98, 0.99, 0.98, 0.99, 0.98, 0.99, 0.98, 0.98, 0.98, 0.98, 0.98, 0.99, 0.98, 0.99, 0.98, 0.99, 0.98, 0.99, 0.98, 0.99, 0.98, 0.99, 0.98, 0.98, 0.98, 0.98, 0.98, 0.99, 0.98, 0.99, 0.98, 0.99, 0.98, 0.99, 0.98, 0.99, 0.98, 0.99, 0.98, 0.99, 0.98, 0.99, 0.98, 0.99, 0.98, 0.99, 0.98, 0.99, 0.99, 0.99, 0.98, 0.99, 0.99, 0.99, 0.98, 0.99, 0.98, 0.99, 0.98, 0.99, 0.98, 0.99, 0.98, 0.99, 0.99, 0.99, 0.98, 0.99, 0.99, 0.99, 0.98, 0.99, 0.99, 0.99, 0.98, 0.99, 0.99, 0.99, 0.98, 0.99, 0.99, 0.99, 0.98, 0.99, 0.99, 0.99, 0.98, 0.99, 0.98, 0.99, 0.98, 0.99, 0.98, 0.99, 0.98, 0.99, 0.99, 0.99, 0.98, 0.99, 0.99, 0.99, 0.98, 0.99, 0.99, 0.99, 0.98, 0.99, 0.99, 0.99, 0.98, 0.99, 0.99, 0.99, 0.98, 0.99, 0.99, 0.99, 0.97, 0.97, 0.98, 0.98, 0.98, 0.98, 0.98, 0.98, 0.98, 0.98, 0.98, 0.98, 0.98, 0.99, 0.98, 0.99, 0.98, 0.98, 0.98, 0.98, 0.98, 0.99, 0.98, 0.99, 0.98, 0.99, 0.98, 0.99, 0.98, 0.99, 0.98, 0.99, 0.98, 0.98, 0.98, 0.98, 0.98, 0.99, 0.98, 0.99, 0.98, 0.99, 0.98, 0.99, 0.98, 0.99, 0.98, 0.99, 0.98, 0.98, 0.98, 0.98, 0.98, 0.99, 0.98, 0.99, 0.98, 0.99, 0.98, 0.99, 0.98, 0.99, 0.98, 0.99, 0.98, 0.98, 0.98, 0.98, 0.98, 0.99, 0.98, 0.99, 0.98, 0.99, 0.98, 0.99, 0.98, 0.99, 0.98, 0.99, 0.98, 0.98, 0.98, 0.98, 0.98, 0.99, 0.98, 0.99, 0.98, 0.99, 0.98, 0.99, 0.98, 0.99, 0.98, 0.99, 0.98, 0.98, 0.98, 0.98, 0.98, 0.99, 0.98, 0.99, 0.98, 0.99, 0.98, 0.99, 0.98, 0.99, 0.98, 0.99, 0.98, 0.99, 0.98, 0.99, 0.98, 0.99, 0.98, 0.99, 0.98, 0.99, 0.99, 0.99, 0.98, 0.99, 0.99, 0.99, 0.98, 0.98, 0.98, 0.98, 0.98, 0.99, 0.98, 0.99, 0.98, 0.99, 0.98, 0.99, 0.98, 0.99, 0.98, 0.99, 0.98, 0.98, 0.98, 0.98, 0.98, 0.99, 0.98, 0.99, 0.98, 0.99, 0.98, 0.99, 0.98, 0.99, 0.98, 0.99, 0.98, 0.98, 0.98, 0.98, 0.98, 0.99, 0.98, 0.99, 0.98, 0.99, 0.98, 0.99, 0.98, 0.99, 0.98, 0.99, 0.98, 0.99, 0.98, 0.99, 0.98, 0.99, 0.98, 0.99, 0.98, 0.99, 0.99, 0.99, 0.98, 0.99, 0.99, 0.99, 0.98, 0.98, 0.98, 0.98, 0.98, 0.99, 0.98, 0.99, 0.98, 0.99, 0.98, 0.99, 0.98, 0.99, 0.98, 0.99, 0.98, 0.99, 0.98, 0.99, 0.98, 0.99, 0.98, 0.99, 0.98, 0.99, 0.99, 0.99, 0.98, 0.99, 0.99, 0.99, 0.98, 0.99, 0.98, 0.99, 0.98, 0.99, 0.98, 0.99, 0.98, 0.99, 0.99, 0.99, 0.98, 0.99, 0.99, 0.99, 0.98, 0.99, 0.99, 0.99, 0.98, 0.99, 0.99, 0.99, 0.98, 0.99, 0.99, 0.99, 0.98, 0.99, 0.99, 0.99, 0.98, 0.98, 0.98, 0.98, 0.98, 0.99, 0.98, 0.99, 0.98, 0.99, 0.98, 0.99, 0.98, 0.99, 0.98, 0.99, 0.98, 0.98, 0.98, 0.98, 0.98, 0.99, 0.98, 0.99, 0.98, 0.99, 0.98, 0.99, 0.98, 0.99, 0.98, 0.99, 0.98, 0.98, 0.98, 0.98, 0.98, 0.99, 0.98, 0.99, 0.98, 0.99, 0.98, 0.99, 0.98, 0.99, 0.98, 0.99, 0.98, 0.99, 0.98, 0.99, 0.98, 0.99, 0.98, 0.99, 0.98, 0.99, 0.99, 0.99, 0.98, 0.99, 0.99, 0.99, 0.98, 0.99, 0.98, 0.99, 0.98, 0.99, 0.98, 0.99, 0.98, 0.99, 0.99, 0.99, 0.98, 0.99, 0.99, 0.99, 0.98, 0.99, 0.99, 0.99, 0.98, 0.99, 0.99, 0.99, 0.98, 0.99, 0.99, 0.99, 0.98, 0.99, 0.99, 0.99, 0.98, 0.99, 0.98, 0.99, 0.98, 0.99, 0.98, 0.99, 0.98, 0.99, 0.99, 0.99, 0.98, 0.99, 0.99, 0.99, 0.98, 0.99, 0.99, 0.99, 0.98, 0.99, 0.99, 0.99, 0.98, 0.99, 0.99, 0.99, 0.98, 0.99, 0.99, 0.99, 0.98, 0.98, 0.98, 0.98, 0.98, 0.99, 0.98, 0.99, 0.98, 0.99, 0.98, 0.99, 0.98, 0.99, 0.98, 0.99, 0.98, 0.99, 0.98, 0.99, 0.98, 0.99, 0.98, 0.99, 0.98, 0.99, 0.99, 0.99, 0.98, 0.99, 0.99, 0.99, 0.98, 0.99, 0.98, 0.99, 0.98, 0.99, 0.98, 0.99, 0.98, 0.99, 0.99, 0.99, 0.98, 0.99, 0.99, 0.99, 0.98, 0.99, 0.99, 0.99, 0.98, 0.99, 0.99, 0.99, 0.98, 0.99, 0.99, 0.99, 0.98, 0.99, 0.99, 0.99, 0.98, 0.99, 0.98, 0.99, 0.98, 0.99, 0.98, 0.99, 0.98, 0.99, 0.99, 0.99, 0.98, 0.99, 0.99, 0.99, 0.98, 0.99, 0.99, 0.99, 0.98, 0.99, 0.99, 0.99, 0.98, 0.99, 0.99, 0.99, 0.98, 0.99, 0.99, 0.99, 0.98, 0.99, 0.98, 0.99, 0.98, 0.99, 0.98, 0.99, 0.98, 0.99, 0.99, 0.99, 0.98, 0.99, 0.99, 0.99, 0.98, 0.99, 0.99, 0.99, 0.98, 0.99, 0.99, 0.99, 0.98, 0.99, 0.99, 0.99, 0.98, 0.99, 0.99, 0.99, 0.97, 0.97, 0.98, 0.98, 0.98, 0.98, 0.98, 0.98, 0.98, 0.98, 0.98, 0.98, 0.98, 0.99, 0.98, 0.99, 0.98, 0.98, 0.98, 0.98, 0.98, 0.99, 0.98, 0.99, 0.98, 0.99, 0.98, 0.99, 0.98, 0.99, 0.98, 0.99, 0.98, 0.98, 0.98, 0.98, 0.98, 0.99, 0.98, 0.99, 0.98, 0.99, 0.98, 0.99, 0.98, 0.99, 0.98, 0.99, 0.98, 0.98, 0.98, 0.98, 0.98, 0.99, 0.98, 0.99, 0.98, 0.99, 0.98, 0.99, 0.98, 0.99, 0.98, 0.99, 0.98, 0.98, 0.98, 0.98, 0.98, 0.99, 0.98, 0.99, 0.98, 0.99, 0.98, 0.99, 0.98, 0.99, 0.98, 0.99, 0.98, 0.98, 0.98, 0.98, 0.98, 0.99, 0.98, 0.99, 0.98, 0.99, 0.98, 0.99, 0.98, 0.99, 0.98, 0.99, 0.98, 0.98, 0.98, 0.98, 0.98, 0.99, 0.98, 0.99, 0.98, 0.99, 0.98, 0.99, 0.98, 0.99, 0.98, 0.99, 0.98, 0.99, 0.98, 0.99, 0.98, 0.99, 0.98, 0.99, 0.98, 0.99, 0.99, 0.99, 0.98, 0.99, 0.99, 0.99, 0.98, 0.98, 0.98, 0.98, 0.98, 0.99, 0.98, 0.99, 0.98, 0.99, 0.98, 0.99, 0.98, 0.99, 0.98, 0.99, 0.98, 0.98, 0.98, 0.98, 0.98, 0.99, 0.98, 0.99, 0.98, 0.99, 0.98, 0.99, 0.98, 0.99, 0.98, 0.99, 0.98, 0.98, 0.98, 0.98, 0.98, 0.99, 0.98, 0.99, 0.98, 0.99, 0.98, 0.99, 0.98, 0.99, 0.98, 0.99, 0.98, 0.99, 0.98, 0.99, 0.98, 0.99, 0.98, 0.99, 0.98, 0.99, 0.99, 0.99, 0.98, 0.99, 0.99, 0.99, 0.98, 0.98, 0.98, 0.98, 0.98, 0.99, 0.98, 0.99, 0.98, 0.99, 0.98, 0.99, 0.98, 0.99, 0.98, 0.99, 0.98, 0.99, 0.98, 0.99, 0.98, 0.99, 0.98, 0.99, 0.98, 0.99, 0.99, 0.99, 0.98, 0.99, 0.99, 0.99, 0.98, 0.99, 0.98, 0.99, 0.98, 0.99, 0.98, 0.99, 0.98, 0.99, 0.99, 0.99, 0.98, 0.99, 0.99, 0.99, 0.98, 0.99, 0.99, 0.99, 0.98, 0.99, 0.99, 0.99, 0.98, 0.99, 0.99, 0.99, 0.98, 0.99, 0.99, 0.99, 0.98, 0.98, 0.98, 0.98, 0.98, 0.99, 0.98, 0.99, 0.98, 0.99, 0.98, 0.99, 0.98, 0.99, 0.98, 0.99, 0.98, 0.98, 0.98, 0.98, 0.98, 0.99, 0.98, 0.99, 0.98, 0.99, 0.98, 0.99, 0.98, 0.99, 0.98, 0.99, 0.98, 0.98, 0.98, 0.98, 0.98, 0.99, 0.98, 0.99, 0.98, 0.99, 0.98, 0.99, 0.98, 0.99, 0.98, 0.99, 0.98, 0.99, 0.98, 0.99, 0.98, 0.99, 0.98, 0.99, 0.98, 0.99, 0.99, 0.99, 0.98, 0.99, 0.99, 0.99, 0.98, 0.99, 0.98, 0.99, 0.98, 0.99, 0.98, 0.99, 0.98, 0.99, 0.99, 0.99, 0.98, 0.99, 0.99, 0.99, 0.98, 0.99, 0.99, 0.99, 0.98, 0.99, 0.99, 0.99, 0.98, 0.99, 0.99, 0.99, 0.98, 0.99, 0.99, 0.99, 0.98, 0.99, 0.98, 0.99, 0.98, 0.99, 0.98, 0.99, 0.98, 0.99, 0.99, 0.99, 0.98, 0.99, 0.99, 0.99, 0.98, 0.99, 0.99, 0.99, 0.98, 0.99, 0.99, 0.99, 0.98, 0.99, 0.99, 0.99, 0.98, 0.99, 0.99, 0.99, 0.98, 0.98, 0.98, 0.98, 0.98, 0.99, 0.98, 0.99, 0.98, 0.99, 0.98, 0.99, 0.98, 0.99, 0.98, 0.99, 0.98, 0.99, 0.98, 0.99, 0.98, 0.99, 0.98, 0.99, 0.98, 0.99, 0.99, 0.99, 0.98, 0.99, 0.99, 0.99, 0.98, 0.99, 0.98, 0.99, 0.98, 0.99, 0.98, 0.99, 0.98, 0.99, 0.99, 0.99, 0.98, 0.99, 0.99, 0.99, 0.98, 0.99, 0.99, 0.99, 0.98, 0.99, 0.99, 0.99, 0.98, 0.99, 0.99, 0.99, 0.98, 0.99, 0.99, 0.99, 0.98, 0.99, 0.98, 0.99, 0.98, 0.99, 0.98, 0.99, 0.98, 0.99, 0.99, 0.99, 0.98, 0.99, 0.99, 0.99, 0.98, 0.99, 0.99, 0.99, 0.98, 0.99, 0.99, 0.99, 0.98, 0.99, 0.99, 0.99, 0.98, 0.99, 0.99, 0.99, 0.98, 0.99, 0.98, 0.99, 0.98, 0.99, 0.98, 0.99, 0.98, 0.99, 0.99, 0.99, 0.98, 0.99, 0.99, 0.99, 0.98, 0.99, 0.99, 0.99, 0.98, 0.99, 0.99, 0.99, 0.98, 0.99, 0.99, 0.99, 0.98, 0.99, 0.99, 0.99, 0.98, 0.98, 0.98, 0.98, 0.98, 0.99, 0.98, 0.99, 0.98, 0.99, 0.98, 0.99, 0.98, 0.99, 0.98, 0.99, 0.98, 0.98, 0.98, 0.98, 0.98, 0.99, 0.98, 0.99, 0.98, 0.99, 0.98, 0.99, 0.98, 0.99, 0.98, 0.99, 0.98, 0.98, 0.98, 0.98, 0.98, 0.99, 0.98, 0.99, 0.98, 0.99, 0.98, 0.99, 0.98, 0.99, 0.98, 0.99, 0.98, 0.99, 0.98, 0.99, 0.98, 0.99, 0.98, 0.99, 0.98, 0.99, 0.99, 0.99, 0.98, 0.99, 0.99, 0.99, 0.98, 0.99, 0.98, 0.99, 0.98, 0.99, 0.98, 0.99, 0.98, 0.99, 0.99, 0.99, 0.98, 0.99, 0.99, 0.99, 0.98, 0.99, 0.99, 0.99, 0.98, 0.99, 0.99, 0.99, 0.98, 0.99, 0.99, 0.99, 0.98, 0.99, 0.99, 0.99, 0.98, 0.99, 0.98, 0.99, 0.98, 0.99, 0.98, 0.99, 0.98, 0.99, 0.99, 0.99, 0.98, 0.99, 0.99, 0.99, 0.98, 0.99, 0.99, 0.99, 0.98, 0.99, 0.99, 0.99, 0.98, 0.99, 0.99, 0.99, 0.98, 0.99, 0.99, 0.99, 0.98, 0.98, 0.98, 0.98, 0.98, 0.99, 0.98, 0.99, 0.98, 0.99, 0.98, 0.99, 0.98, 0.99, 0.98, 0.99, 0.98, 0.99, 0.98, 0.99, 0.98, 0.99, 0.98, 0.99, 0.98, 0.99, 0.99, 0.99, 0.98, 0.99, 0.99, 0.99, 0.98, 0.99, 0.98, 0.99, 0.98, 0.99, 0.98, 0.99, 0.98, 0.99, 0.99, 0.99, 0.98, 0.99, 0.99, 0.99, 0.98, 0.99, 0.99, 0.99, 0.98, 0.99, 0.99, 0.99, 0.98, 0.99, 0.99, 0.99, 0.98, 0.99, 0.99, 0.99, 0.98, 0.99, 0.98, 0.99, 0.98, 0.99, 0.98, 0.99, 0.98, 0.99, 0.99, 0.99, 0.98, 0.99, 0.99, 0.99, 0.98, 0.99, 0.99, 0.99, 0.98, 0.99, 0.99, 0.99, 0.98, 0.99, 0.99, 0.99, 0.98, 0.99, 0.99, 0.99, 0.98, 0.99, 0.98, 0.99, 0.98, 0.99, 0.98, 0.99, 0.98, 0.99, 0.99, 0.99, 0.98, 0.99, 0.99, 0.99, 0.98, 0.99, 0.99, 0.99, 0.98, 0.99, 0.99, 0.99, 0.98, 0.99, 0.99, 0.99, 0.98, 0.99, 0.99, 0.99, 0.98, 0.99, 0.98, 0.99, 0.98, 0.99, 0.98, 0.99, 0.98, 0.99, 0.99, 0.99, 0.98, 0.99, 0.99, 0.99, 0.98, 0.99, 0.99, 0.99, 0.98, 0.99, 0.99, 0.99, 0.98, 0.99, 0.99, 0.99, 0.98, 0.99, 0.99, 0.99, 0.98, 0.99, 0.98, 0.99, 0.98, 0.99, 0.98, 0.99, 0.98, 0.99, 0.99, 0.99, 0.98, 0.99, 0.99, 0.99, 0.98, 0.99, 0.99, 0.99, 0.98, 0.99, 0.99, 0.99, 0.98, 0.99, 0.99, 0.99, 0.98, 0.99, 0.99, 0.99, 0.98, 0.99, 0.98, 0.99, 0.98, 0.99, 0.98, 0.99, 0.98, 0.99, 0.99, 0.99, 0.98, 0.99, 0.99, 0.99, 0.98, 0.99, 0.99, 0.99, 0.98, 0.99, 0.99, 0.99, 0.98, 0.99, 0.99, 0.99, 0.98, 0.99, 0.99, 0.99, 0.98, 0.99, 0.99, 0.99, 0.98, 0.99, 0.99, 0.99, 0.98, 0.99, 0.99, 0.99, 0.98, 0.99, 0.99, 0.99, 0.98, 0.99, 0.99, 0.99, 0.99, 0.99, 0.99, 0.99, 0.98, 0.99, 0.99, 0.99, 0.99, 0.99, 0.99, 0.99, 0.98, 0.99, 0.98, 0.99, 0.98, 0.99, 0.98, 0.99, 0.98, 0.99, 0.99, 0.99, 0.98, 0.99, 0.99, 0.99, 0.98, 0.99, 0.99, 0.99, 0.98, 0.99, 0.99, 0.99, 0.98, 0.99, 0.99, 0.99, 0.98, 0.99, 0.99, 0.99, 0.98, 0.99, 0.99, 0.99, 0.98, 0.99, 0.99, 0.99, 0.98, 0.99, 0.99, 0.99, 0.98, 0.99, 0.99, 0.99, 0.98, 0.99, 0.99, 0.99, 0.99, 0.99, 0.99, 0.99, 0.98, 0.99, 0.99, 0.99, 0.99, 0.99, 0.99, 0.99, 0.98, 0.99, 0.99, 0.99, 0.98, 0.99, 0.99, 0.99, 0.98, 0.99, 0.99, 0.99, 0.98, 0.99, 0.99, 0.99, 0.98, 0.99, 0.99, 0.99, 0.99, 0.99, 0.99, 0.99, 0.98, 0.99, 0.99, 0.99, 0.99, 0.99, 0.99, 0.99, 0.98, 0.99, 0.99, 0.99, 0.99, 0.99, 0.99, 0.99, 0.98, 0.99, 0.99, 0.99, 0.99, 0.99, 0.99, 0.99, 0.98, 0.99, 0.99, 0.99, 0.99, 0.99, 0.99, 0.99, 0.98, 0.99, 0.99, 0.99, 0.99, 0.99, 0.99, 0.99, 0.97, 0.97, 0.98, 0.98, 0.98, 0.98, 0.98, 0.98, 0.98, 0.98, 0.98, 0.98, 0.98, 0.99, 0.98, 0.99, 0.98, 0.98, 0.98, 0.98, 0.98, 0.99, 0.98, 0.99, 0.98, 0.99, 0.98, 0.99, 0.98, 0.99, 0.98, 0.99, 0.98, 0.98, 0.98, 0.98, 0.98, 0.99, 0.98, 0.99, 0.98, 0.99, 0.98, 0.99, 0.98, 0.99, 0.98, 0.99, 0.98, 0.98, 0.98, 0.98, 0.98, 0.99, 0.98, 0.99, 0.98, 0.99, 0.98, 0.99, 0.98, 0.99, 0.98, 0.99, 0.98, 0.98, 0.98, 0.98, 0.98, 0.99, 0.98, 0.99, 0.98, 0.99, 0.98, 0.99, 0.98, 0.99, 0.98, 0.99, 0.98, 0.98, 0.98, 0.98, 0.98, 0.99, 0.98, 0.99, 0.98, 0.99, 0.98, 0.99, 0.98, 0.99, 0.98, 0.99, 0.98, 0.98, 0.98, 0.98, 0.98, 0.99, 0.98, 0.99, 0.98, 0.99, 0.98, 0.99, 0.98, 0.99, 0.98, 0.99, 0.98, 0.99, 0.98, 0.99, 0.98, 0.99, 0.98, 0.99, 0.98, 0.99, 0.99, 0.99, 0.98, 0.99, 0.99, 0.99, 0.98, 0.98, 0.98, 0.98, 0.98, 0.99, 0.98, 0.99, 0.98, 0.99, 0.98, 0.99, 0.98, 0.99, 0.98, 0.99, 0.98, 0.98, 0.98, 0.98, 0.98, 0.99, 0.98, 0.99, 0.98, 0.99, 0.98, 0.99, 0.98, 0.99, 0.98, 0.99, 0.98, 0.98, 0.98, 0.98, 0.98, 0.99, 0.98, 0.99, 0.98, 0.99, 0.98, 0.99, 0.98, 0.99, 0.98, 0.99, 0.98, 0.99, 0.98, 0.99, 0.98, 0.99, 0.98, 0.99, 0.98, 0.99, 0.99, 0.99, 0.98, 0.99, 0.99, 0.99, 0.98, 0.98, 0.98, 0.98, 0.98, 0.99, 0.98, 0.99, 0.98, 0.99, 0.98, 0.99, 0.98, 0.99, 0.98, 0.99, 0.98, 0.99, 0.98, 0.99, 0.98, 0.99, 0.98, 0.99, 0.98, 0.99, 0.99, 0.99, 0.98, 0.99, 0.99, 0.99, 0.98, 0.99, 0.98, 0.99, 0.98, 0.99, 0.98, 0.99, 0.98, 0.99, 0.99, 0.99, 0.98, 0.99, 0.99, 0.99, 0.98, 0.99, 0.99, 0.99, 0.98, 0.99, 0.99, 0.99, 0.98, 0.99, 0.99, 0.99, 0.98, 0.99, 0.99, 0.99, 0.98, 0.98, 0.98, 0.98, 0.98, 0.99, 0.98, 0.99, 0.98, 0.99, 0.98, 0.99, 0.98, 0.99, 0.98, 0.99, 0.98, 0.98, 0.98, 0.98, 0.98, 0.99, 0.98, 0.99, 0.98, 0.99, 0.98, 0.99, 0.98, 0.99, 0.98, 0.99, 0.98, 0.98, 0.98, 0.98, 0.98, 0.99, 0.98, 0.99, 0.98, 0.99, 0.98, 0.99, 0.98, 0.99, 0.98, 0.99, 0.98, 0.99, 0.98, 0.99, 0.98, 0.99, 0.98, 0.99, 0.98, 0.99, 0.99, 0.99, 0.98, 0.99, 0.99, 0.99, 0.98, 0.99, 0.98, 0.99, 0.98, 0.99, 0.98, 0.99, 0.98, 0.99, 0.99, 0.99, 0.98, 0.99, 0.99, 0.99, 0.98, 0.99, 0.99, 0.99, 0.98, 0.99, 0.99, 0.99, 0.98, 0.99, 0.99, 0.99, 0.98, 0.99, 0.99, 0.99, 0.98, 0.99, 0.98, 0.99, 0.98, 0.99, 0.98, 0.99, 0.98, 0.99, 0.99, 0.99, 0.98, 0.99, 0.99, 0.99, 0.98, 0.99, 0.99, 0.99, 0.98, 0.99, 0.99, 0.99, 0.98, 0.99, 0.99, 0.99, 0.98, 0.99, 0.99, 0.99, 0.98, 0.98, 0.98, 0.98, 0.98, 0.99, 0.98, 0.99, 0.98, 0.99, 0.98, 0.99, 0.98, 0.99, 0.98, 0.99, 0.98, 0.99, 0.98, 0.99, 0.98, 0.99, 0.98, 0.99, 0.98, 0.99, 0.99, 0.99, 0.98, 0.99, 0.99, 0.99, 0.98, 0.99, 0.98, 0.99, 0.98, 0.99, 0.98, 0.99, 0.98, 0.99, 0.99, 0.99, 0.98, 0.99, 0.99, 0.99, 0.98, 0.99, 0.99, 0.99, 0.98, 0.99, 0.99, 0.99, 0.98, 0.99, 0.99, 0.99, 0.98, 0.99, 0.99, 0.99, 0.98, 0.99, 0.98, 0.99, 0.98, 0.99, 0.98, 0.99, 0.98, 0.99, 0.99, 0.99, 0.98, 0.99, 0.99, 0.99, 0.98, 0.99, 0.99, 0.99, 0.98, 0.99, 0.99, 0.99, 0.98, 0.99, 0.99, 0.99, 0.98, 0.99, 0.99, 0.99, 0.98, 0.99, 0.98, 0.99, 0.98, 0.99, 0.98, 0.99, 0.98, 0.99, 0.99, 0.99, 0.98, 0.99, 0.99, 0.99, 0.98, 0.99, 0.99, 0.99, 0.98, 0.99, 0.99, 0.99, 0.98, 0.99, 0.99, 0.99, 0.98, 0.99, 0.99, 0.99, 0.98, 0.98, 0.98, 0.98, 0.98, 0.99, 0.98, 0.99, 0.98, 0.99, 0.98, 0.99, 0.98, 0.99, 0.98, 0.99, 0.98, 0.98, 0.98, 0.98, 0.98, 0.99, 0.98, 0.99, 0.98, 0.99, 0.98, 0.99, 0.98, 0.99, 0.98, 0.99, 0.98, 0.98, 0.98, 0.98, 0.98, 0.99, 0.98, 0.99, 0.98, 0.99, 0.98, 0.99, 0.98, 0.99, 0.98, 0.99, 0.98, 0.99, 0.98, 0.99, 0.98, 0.99, 0.98, 0.99, 0.98, 0.99, 0.99, 0.99, 0.98, 0.99, 0.99, 0.99, 0.98, 0.99, 0.98, 0.99, 0.98, 0.99, 0.98, 0.99, 0.98, 0.99, 0.99, 0.99, 0.98, 0.99, 0.99, 0.99, 0.98, 0.99, 0.99, 0.99, 0.98, 0.99, 0.99, 0.99, 0.98, 0.99, 0.99, 0.99, 0.98, 0.99, 0.99, 0.99, 0.98, 0.99, 0.98, 0.99, 0.98, 0.99, 0.98, 0.99, 0.98, 0.99, 0.99, 0.99, 0.98, 0.99, 0.99, 0.99, 0.98, 0.99, 0.99, 0.99, 0.98, 0.99, 0.99, 0.99, 0.98, 0.99, 0.99, 0.99, 0.98, 0.99, 0.99, 0.99, 0.98, 0.98, 0.98, 0.98, 0.98, 0.99, 0.98, 0.99, 0.98, 0.99, 0.98, 0.99, 0.98, 0.99, 0.98, 0.99, 0.98, 0.99, 0.98, 0.99, 0.98, 0.99, 0.98, 0.99, 0.98, 0.99, 0.99, 0.99, 0.98, 0.99, 0.99, 0.99, 0.98, 0.99, 0.98, 0.99, 0.98, 0.99, 0.98, 0.99, 0.98, 0.99, 0.99, 0.99, 0.98, 0.99, 0.99, 0.99, 0.98, 0.99, 0.99, 0.99, 0.98, 0.99, 0.99, 0.99, 0.98, 0.99, 0.99, 0.99, 0.98, 0.99, 0.99, 0.99, 0.98, 0.99, 0.98, 0.99, 0.98, 0.99, 0.98, 0.99, 0.98, 0.99, 0.99, 0.99, 0.98, 0.99, 0.99, 0.99, 0.98, 0.99, 0.99, 0.99, 0.98, 0.99, 0.99, 0.99, 0.98, 0.99, 0.99, 0.99, 0.98, 0.99, 0.99, 0.99, 0.98, 0.99, 0.98, 0.99, 0.98, 0.99, 0.98, 0.99, 0.98, 0.99, 0.99, 0.99, 0.98, 0.99, 0.99, 0.99, 0.98, 0.99, 0.99, 0.99, 0.98, 0.99, 0.99, 0.99, 0.98, 0.99, 0.99, 0.99, 0.98, 0.99, 0.99, 0.99, 0.98, 0.99, 0.98, 0.99, 0.98, 0.99, 0.98, 0.99, 0.98, 0.99, 0.99, 0.99, 0.98, 0.99, 0.99, 0.99, 0.98, 0.99, 0.99, 0.99, 0.98, 0.99, 0.99, 0.99, 0.98, 0.99, 0.99, 0.99, 0.98, 0.99, 0.99, 0.99, 0.98, 0.99, 0.98, 0.99, 0.98, 0.99, 0.98, 0.99, 0.98, 0.99, 0.99, 0.99, 0.98, 0.99, 0.99, 0.99, 0.98, 0.99, 0.99, 0.99, 0.98, 0.99, 0.99, 0.99, 0.98, 0.99, 0.99, 0.99, 0.98, 0.99, 0.99, 0.99, 0.98, 0.99, 0.98, 0.99, 0.98, 0.99, 0.98, 0.99, 0.98, 0.99, 0.99, 0.99, 0.98, 0.99, 0.99, 0.99, 0.98, 0.99, 0.99, 0.99, 0.98, 0.99, 0.99, 0.99, 0.98, 0.99, 0.99, 0.99, 0.98, 0.99, 0.99, 0.99, 0.98, 0.99, 0.99, 0.99, 0.98, 0.99, 0.99, 0.99, 0.98, 0.99, 0.99, 0.99, 0.98, 0.99, 0.99, 0.99, 0.98, 0.99, 0.99, 0.99, 0.99, 0.99, 0.99, 0.99, 0.98, 0.99, 0.99, 0.99, 0.99, 0.99, 0.99, 0.99, 0.98, 0.99, 0.98, 0.99, 0.98, 0.99, 0.98, 0.99, 0.98, 0.99, 0.99, 0.99, 0.98, 0.99, 0.99, 0.99, 0.98, 0.99, 0.99, 0.99, 0.98, 0.99, 0.99, 0.99, 0.98, 0.99, 0.99, 0.99, 0.98, 0.99, 0.99, 0.99, 0.98, 0.99, 0.99, 0.99, 0.98, 0.99, 0.99, 0.99, 0.98, 0.99, 0.99, 0.99, 0.98, 0.99, 0.99, 0.99, 0.98, 0.99, 0.99, 0.99, 0.99, 0.99, 0.99, 0.99, 0.98, 0.99, 0.99, 0.99, 0.99, 0.99, 0.99, 0.99, 0.98, 0.99, 0.99, 0.99, 0.98, 0.99, 0.99, 0.99, 0.98, 0.99, 0.99, 0.99, 0.98, 0.99, 0.99, 0.99, 0.98, 0.99, 0.99, 0.99, 0.99, 0.99, 0.99, 0.99, 0.98, 0.99, 0.99, 0.99, 0.99, 0.99, 0.99, 0.99, 0.98, 0.99, 0.99, 0.99, 0.99, 0.99, 0.99, 0.99, 0.98, 0.99, 0.99, 0.99, 0.99, 0.99, 0.99, 0.99, 0.98, 0.99, 0.99, 0.99, 0.99, 0.99, 0.99, 0.99, 0.98, 0.99, 0.99, 0.99, 0.99, 0.99, 0.99, 0.99, 0.98, 0.98, 0.98, 0.98, 0.98, 0.99, 0.98, 0.99, 0.98, 0.99, 0.98, 0.99, 0.98, 0.99, 0.98, 0.99, 0.98, 0.98, 0.98, 0.98, 0.98, 0.99, 0.98, 0.99, 0.98, 0.99, 0.98, 0.99, 0.98, 0.99, 0.98, 0.99, 0.98, 0.98, 0.98, 0.98, 0.98, 0.99, 0.98, 0.99, 0.98, 0.99, 0.98, 0.99, 0.98, 0.99, 0.98, 0.99, 0.98, 0.99, 0.98, 0.99, 0.98, 0.99, 0.98, 0.99, 0.98, 0.99, 0.99, 0.99, 0.98, 0.99, 0.99, 0.99, 0.98, 0.99, 0.98, 0.99, 0.98, 0.99, 0.98, 0.99, 0.98, 0.99, 0.99, 0.99, 0.98, 0.99, 0.99, 0.99, 0.98, 0.99, 0.99, 0.99, 0.98, 0.99, 0.99, 0.99, 0.98, 0.99, 0.99, 0.99, 0.98, 0.99, 0.99, 0.99, 0.98, 0.99, 0.98, 0.99, 0.98, 0.99, 0.98, 0.99, 0.98, 0.99, 0.99, 0.99, 0.98, 0.99, 0.99, 0.99, 0.98, 0.99, 0.99, 0.99, 0.98, 0.99, 0.99, 0.99, 0.98, 0.99, 0.99, 0.99, 0.98, 0.99, 0.99, 0.99, 0.98, 0.98, 0.98, 0.98, 0.98, 0.99, 0.98, 0.99, 0.98, 0.99, 0.98, 0.99, 0.98, 0.99, 0.98, 0.99, 0.98, 0.99, 0.98, 0.99, 0.98, 0.99, 0.98, 0.99, 0.98, 0.99, 0.99, 0.99, 0.98, 0.99, 0.99, 0.99, 0.98, 0.99, 0.98, 0.99, 0.98, 0.99, 0.98, 0.99, 0.98, 0.99, 0.99, 0.99, 0.98, 0.99, 0.99, 0.99, 0.98, 0.99, 0.99, 0.99, 0.98, 0.99, 0.99, 0.99, 0.98, 0.99, 0.99, 0.99, 0.98, 0.99, 0.99, 0.99, 0.98, 0.99, 0.98, 0.99, 0.98, 0.99, 0.98, 0.99, 0.98, 0.99, 0.99, 0.99, 0.98, 0.99, 0.99, 0.99, 0.98, 0.99, 0.99, 0.99, 0.98, 0.99, 0.99, 0.99, 0.98, 0.99, 0.99, 0.99, 0.98, 0.99, 0.99, 0.99, 0.98, 0.99, 0.98, 0.99, 0.98, 0.99, 0.98, 0.99, 0.98, 0.99, 0.99, 0.99, 0.98, 0.99, 0.99, 0.99, 0.98, 0.99, 0.99, 0.99, 0.98, 0.99, 0.99, 0.99, 0.98, 0.99, 0.99, 0.99, 0.98, 0.99, 0.99, 0.99, 0.98, 0.99, 0.98, 0.99, 0.98, 0.99, 0.98, 0.99, 0.98, 0.99, 0.99, 0.99, 0.98, 0.99, 0.99, 0.99, 0.98, 0.99, 0.99, 0.99, 0.98, 0.99, 0.99, 0.99, 0.98, 0.99, 0.99, 0.99, 0.98, 0.99, 0.99, 0.99, 0.98, 0.99, 0.98, 0.99, 0.98, 0.99, 0.98, 0.99, 0.98, 0.99, 0.99, 0.99, 0.98, 0.99, 0.99, 0.99, 0.98, 0.99, 0.99, 0.99, 0.98, 0.99, 0.99, 0.99, 0.98, 0.99, 0.99, 0.99, 0.98, 0.99, 0.99, 0.99, 0.98, 0.99, 0.98, 0.99, 0.98, 0.99, 0.98, 0.99, 0.98, 0.99, 0.99, 0.99, 0.98, 0.99, 0.99, 0.99, 0.98, 0.99, 0.99, 0.99, 0.98, 0.99, 0.99, 0.99, 0.98, 0.99, 0.99, 0.99, 0.98, 0.99, 0.99, 0.99, 0.98, 0.99, 0.99, 0.99, 0.98, 0.99, 0.99, 0.99, 0.98, 0.99, 0.99, 0.99, 0.98, 0.99, 0.99, 0.99, 0.98, 0.99, 0.99, 0.99, 0.99, 0.99, 0.99, 0.99, 0.98, 0.99, 0.99, 0.99, 0.99, 0.99, 0.99, 0.99, 0.98, 0.99, 0.98, 0.99, 0.98, 0.99, 0.98, 0.99, 0.98, 0.99, 0.99, 0.99, 0.98, 0.99, 0.99, 0.99, 0.98, 0.99, 0.99, 0.99, 0.98, 0.99, 0.99, 0.99, 0.98, 0.99, 0.99, 0.99, 0.98, 0.99, 0.99, 0.99, 0.98, 0.99, 0.99, 0.99, 0.98, 0.99, 0.99, 0.99, 0.98, 0.99, 0.99, 0.99, 0.98, 0.99, 0.99, 0.99, 0.98, 0.99, 0.99, 0.99, 0.99, 0.99, 0.99, 0.99, 0.98, 0.99, 0.99, 0.99, 0.99, 0.99, 0.99, 0.99, 0.98, 0.99, 0.99, 0.99, 0.98, 0.99, 0.99, 0.99, 0.98, 0.99, 0.99, 0.99, 0.98, 0.99, 0.99, 0.99, 0.98, 0.99, 0.99, 0.99, 0.99, 0.99, 0.99, 0.99, 0.98, 0.99, 0.99, 0.99, 0.99, 0.99, 0.99, 0.99, 0.98, 0.99, 0.99, 0.99, 0.99, 0.99, 0.99, 0.99, 0.98, 0.99, 0.99, 0.99, 0.99, 0.99, 0.99, 0.99, 0.98, 0.99, 0.99, 0.99, 0.99, 0.99, 0.99, 0.99, 0.98, 0.99, 0.99, 0.99, 0.99, 0.99, 0.99, 0.99, 0.98, 0.98, 0.98, 0.98, 0.98, 0.99, 0.98, 0.99, 0.98, 0.99, 0.98, 0.99, 0.98, 0.99, 0.98, 0.99, 0.98, 0.99, 0.98, 0.99, 0.98, 0.99, 0.98, 0.99, 0.98, 0.99, 0.99, 0.99, 0.98, 0.99, 0.99, 0.99, 0.98, 0.99, 0.98, 0.99, 0.98, 0.99, 0.98, 0.99, 0.98, 0.99, 0.99, 0.99, 0.98, 0.99, 0.99, 0.99, 0.98, 0.99, 0.99, 0.99, 0.98, 0.99, 0.99, 0.99, 0.98, 0.99, 0.99, 0.99, 0.98, 0.99, 0.99, 0.99, 0.98, 0.99, 0.98, 0.99, 0.98, 0.99, 0.98, 0.99, 0.98, 0.99, 0.99, 0.99, 0.98, 0.99, 0.99, 0.99, 0.98, 0.99, 0.99, 0.99, 0.98, 0.99, 0.99, 0.99, 0.98, 0.99, 0.99, 0.99, 0.98, 0.99, 0.99, 0.99, 0.98, 0.99, 0.98, 0.99, 0.98, 0.99, 0.98, 0.99, 0.98, 0.99, 0.99, 0.99, 0.98, 0.99, 0.99, 0.99, 0.98, 0.99, 0.99, 0.99, 0.98, 0.99, 0.99, 0.99, 0.98, 0.99, 0.99, 0.99, 0.98, 0.99, 0.99, 0.99, 0.98, 0.99, 0.98, 0.99, 0.98, 0.99, 0.98, 0.99, 0.98, 0.99, 0.99, 0.99, 0.98, 0.99, 0.99, 0.99, 0.98, 0.99, 0.99, 0.99, 0.98, 0.99, 0.99, 0.99, 0.98, 0.99, 0.99, 0.99, 0.98, 0.99, 0.99, 0.99, 0.98, 0.99, 0.98, 0.99, 0.98, 0.99, 0.98, 0.99, 0.98, 0.99, 0.99, 0.99, 0.98, 0.99, 0.99, 0.99, 0.98, 0.99, 0.99, 0.99, 0.98, 0.99, 0.99, 0.99, 0.98, 0.99, 0.99, 0.99, 0.98, 0.99, 0.99, 0.99, 0.98, 0.99, 0.98, 0.99, 0.98, 0.99, 0.98, 0.99, 0.98, 0.99, 0.99, 0.99, 0.98, 0.99, 0.99, 0.99, 0.98, 0.99, 0.99, 0.99, 0.98, 0.99, 0.99, 0.99, 0.98, 0.99, 0.99, 0.99, 0.98, 0.99, 0.99, 0.99, 0.98, 0.99, 0.99, 0.99, 0.98, 0.99, 0.99, 0.99, 0.98, 0.99, 0.99, 0.99, 0.98, 0.99, 0.99, 0.99, 0.98, 0.99, 0.99, 0.99, 0.99, 0.99, 0.99, 0.99, 0.98, 0.99, 0.99, 0.99, 0.99, 0.99, 0.99, 0.99, 0.98, 0.99, 0.98, 0.99, 0.98, 0.99, 0.98, 0.99, 0.98, 0.99, 0.99, 0.99, 0.98, 0.99, 0.99, 0.99, 0.98, 0.99, 0.99, 0.99, 0.98, 0.99, 0.99, 0.99, 0.98, 0.99, 0.99, 0.99, 0.98, 0.99, 0.99, 0.99, 0.98, 0.99, 0.98, 0.99, 0.98, 0.99, 0.98, 0.99, 0.98, 0.99, 0.99, 0.99, 0.98, 0.99, 0.99, 0.99, 0.98, 0.99, 0.99, 0.99, 0.98, 0.99, 0.99, 0.99, 0.98, 0.99, 0.99, 0.99, 0.98, 0.99, 0.99, 0.99, 0.98, 0.99, 0.98, 0.99, 0.98, 0.99, 0.98, 0.99, 0.98, 0.99, 0.99, 0.99, 0.98, 0.99, 0.99, 0.99, 0.98, 0.99, 0.99, 0.99, 0.98, 0.99, 0.99, 0.99, 0.98, 0.99, 0.99, 0.99, 0.98, 0.99, 0.99, 0.99, 0.98, 0.99, 0.99, 0.99, 0.98, 0.99, 0.99, 0.99, 0.98, 0.99, 0.99, 0.99, 0.98, 0.99, 0.99, 0.99, 0.98, 0.99, 0.99, 0.99, 0.99, 0.99, 0.99, 0.99, 0.98, 0.99, 0.99, 0.99, 0.99, 0.99, 0.99, 0.99, 0.98, 0.99, 0.99, 0.99, 0.98, 0.99, 0.99, 0.99, 0.98, 0.99, 0.99, 0.99, 0.98, 0.99, 0.99, 0.99, 0.98, 0.99, 0.99, 0.99, 0.99, 0.99, 0.99, 0.99, 0.98, 0.99, 0.99, 0.99, 0.99, 0.99, 0.99, 0.99, 0.98, 0.99, 0.99, 0.99, 0.99, 0.99, 0.99, 0.99, 0.98, 0.99, 0.99, 0.99, 0.99, 0.99, 0.99, 0.99, 0.98, 0.99, 0.99, 0.99, 0.99, 0.99, 0.99, 0.99, 0.98, 0.99, 0.99, 0.99, 0.99, 0.99, 0.99, 0.99, 0.98, 0.99, 0.99, 0.99, 0.98, 0.99, 0.99, 0.99, 0.98, 0.99, 0.99, 0.99, 0.98, 0.99, 0.99, 0.99, 0.98, 0.99, 0.99, 0.99, 0.99, 0.99, 0.99, 0.99, 0.98, 0.99, 0.99, 0.99, 0.99, 0.99, 0.99, 0.99, 0.98, 0.99, 0.99, 0.99, 0.99, 0.99, 0.99, 0.99, 0.98, 0.99, 0.99, 0.99, 0.99, 0.99, 0.99, 0.99, 0.98, 0.99, 0.99, 0.99, 0.99, 0.99, 0.99, 0.99, 0.98, 0.99, 0.99, 0.99, 0.99, 0.99, 0.99, 0.99)\n"
          ]
        }
      ]
    },
    {
      "cell_type": "code",
      "source": [
        "# Дополнение к коду для обработки результата\n",
        "TDI_processed_result = process_fuzzy_result(TDI)\n",
        "\n",
        "# Вывод обработанного результата\n",
        "print(f\"Обработанный результат TDI: {TDI_processed_result}\")"
      ],
      "metadata": {
        "colab": {
          "base_uri": "https://localhost:8080/"
        },
        "id": "zGGg09j89NJh",
        "outputId": "97f3176d-560d-45cc-bdf8-b3a2b656f082"
      },
      "execution_count": null,
      "outputs": [
        {
          "output_type": "stream",
          "name": "stdout",
          "text": [
            "Обработанный результат TDI: (42, 0.95, 0.96, 0.97, 0.98, 0.99)\n"
          ]
        }
      ]
    },
    {
      "cell_type": "code",
      "source": [
        "# Расчет значения фактора выравнивания VAF\n",
        "# VAF = (TDI * 0.01) + 0.65\n",
        "# Функция для умножения дискретного колеблющегося нечеткого числа на константу\n",
        "def multiply_fuzzy_number_with_constant(X, A):\n",
        "    x, *parameters = X\n",
        "    Z = round(A * x, 3)\n",
        "    new_parameters = [round(1 - (1 - param) ** A, 2) for param in parameters]\n",
        "    return (round(Z, 3), *new_parameters)\n",
        "\n",
        "def add_fuzzy_number_with_constant(X, A):\n",
        "    # Распаковка параметров нечеткого числа\n",
        "    x, *membership_degrees = X  # Извлекаем значение и степени принадлежности\n",
        "\n",
        "    # Вычисление нового значения Z\n",
        "    Z = x + A  # Сумма значения X и константы A\n",
        "\n",
        "    # Параметры (степени принадлежности) остаются без изменений\n",
        "    return (round(Z, 3), *membership_degrees)\n",
        "\n",
        "\n",
        "# Умножаем TDI на 0.01\n",
        "multiplied_result = multiply_fuzzy_number_with_constant(TDI_processed_result, 0.01)\n",
        "\n",
        "# Теперь прибавляем 0.65 к результату\n",
        "VAF = add_fuzzy_number_with_constant(multiplied_result, 0.65)\n",
        "\n",
        "# Вывод результата VAF\n",
        "print(f\"Значение VAF: {VAF}\")"
      ],
      "metadata": {
        "colab": {
          "base_uri": "https://localhost:8080/"
        },
        "id": "w2RnM7Rv-woR",
        "outputId": "bd26d398-6f4b-4176-a43f-0957a1d605be"
      },
      "execution_count": null,
      "outputs": [
        {
          "output_type": "stream",
          "name": "stdout",
          "text": [
            "Значение VAF: (1.07, 0.03, 0.03, 0.03, 0.04, 0.05)\n"
          ]
        }
      ]
    },
    {
      "cell_type": "code",
      "source": [
        "# Дополнение к коду для обработки результата\n",
        "VAF_processed_result = process_fuzzy_result(VAF)\n",
        "\n",
        "# Вывод обработанного результата\n",
        "print(f\"Обработанный результат VAF: {VAF_processed_result}\")"
      ],
      "metadata": {
        "colab": {
          "base_uri": "https://localhost:8080/"
        },
        "id": "UyH1CiUD_zU8",
        "outputId": "69c19a96-2869-4084-c205-327b11ad186e"
      },
      "execution_count": null,
      "outputs": [
        {
          "output_type": "stream",
          "name": "stdout",
          "text": [
            "Обработанный результат VAF: (1.07, 0.03, 0.04, 0.05)\n"
          ]
        }
      ]
    },
    {
      "cell_type": "markdown",
      "source": [
        "Так как при умножении нечеткого колеблющегося числа на константу значения константы становятся показателями степеней, в которую возводятся значения *HFE*, то при возведении значений функции принадлежности в степень 0.01 получаются значения, очень близкие к 1. Поскольку по формуле далее они вычитаются из 1, то итоговые значения степеней принадлежности *VAF* очень близки к нулю, что в дальнейшем приводит к очень низким показателям степеней принадлежности итогового расчетного результата по модели."
      ],
      "metadata": {
        "id": "hkNY91Sccqw2"
      }
    },
    {
      "cell_type": "code",
      "source": [
        "def multiply_discrete_fuzzy_numbers(X, Y):\n",
        "    # Распаковка параметров дискретных колеблющихся нечетких чисел\n",
        "    x_value, *x_parameters = X  # Извлекаем значение и параметры X\n",
        "    y_value, *y_parameters = Y  # Извлекаем значение и параметры Y\n",
        "\n",
        "    # Список для хранения результатов\n",
        "    result_parameters = []\n",
        "\n",
        "    # Перебор всех параметров X и Y\n",
        "    for x_param in x_parameters:\n",
        "        for y_param in y_parameters:\n",
        "            # Вычисление параметров для Z\n",
        "            z_param = round(x_param * y_param, 2)\n",
        "            result_parameters.append(z_param)\n",
        "\n",
        "    # Вычисление значения Z\n",
        "    Z_value = round(x_value * y_value, 2)  # Произведение значений X и Y\n",
        "\n",
        "    return (Z_value, *result_parameters)\n",
        "\n",
        "# Умножение колеблющихся нечетких чисел\n",
        "AFP = multiply_discrete_fuzzy_numbers(UFP_processed_result, VAF_processed_result)"
      ],
      "metadata": {
        "id": "ThDz3jmpBFmB"
      },
      "execution_count": null,
      "outputs": []
    },
    {
      "cell_type": "code",
      "source": [
        "print(f\"При рассчитанных выше параметрах, оценка проекта (новая функциональность) AFP принимает значение {AFP} выровненных функциональных точек\")"
      ],
      "metadata": {
        "colab": {
          "base_uri": "https://localhost:8080/"
        },
        "id": "6NFsm21rCkn6",
        "outputId": "053e5ebd-bd02-457f-ec51-667abbd7aee1"
      },
      "execution_count": null,
      "outputs": [
        {
          "output_type": "stream",
          "name": "stdout",
          "text": [
            "При рассчитанных выше параметрах, оценка проекта (новая функциональность) AFP принимает значение (33.17, 0.03, 0.04, 0.05, 0.03, 0.04, 0.05, 0.03, 0.04, 0.05) выровненных функциональных точек\n"
          ]
        }
      ]
    },
    {
      "cell_type": "code",
      "source": [
        "# Дополнение к коду для обработки результата\n",
        "AFP_processed_result = process_fuzzy_result(AFP)\n",
        "\n",
        "# Вывод обработанного результата\n",
        "print(f\"Обработанный результат AFP: {AFP_processed_result}\")"
      ],
      "metadata": {
        "colab": {
          "base_uri": "https://localhost:8080/"
        },
        "id": "VjHCRDz5CvUc",
        "outputId": "6963b128-8b3e-4be1-b0cb-d10c57c2c2ec"
      },
      "execution_count": null,
      "outputs": [
        {
          "output_type": "stream",
          "name": "stdout",
          "text": [
            "Обработанный результат AFP: (33.17, 0.03, 0.04, 0.05)\n"
          ]
        }
      ]
    },
    {
      "cell_type": "markdown",
      "source": [
        "Вывод: колеблющиеся нечеткие множества не совсем подходят для использования в данной модели, так как большое количество нечетких слагаемых (со степенями принадлежности выше 0.5) при суммировании приводит к значениям степеней принадлежности результирующего *HFE* , близким к 1, а константы (если они близки к 0), при умножении на них *HFE* очень сильно cнижают итоговые значения степеней принадлежности результата. В итоге степень принадлежности расчетного параметра либо очень большая (около, либо равна 1), либо очень маленькая (около, либо равна 0) и ее значение наглядно не отражает уровни степеней принадлежности входных данных.\n"
      ],
      "metadata": {
        "id": "xR1PAd9npz89"
      }
    },
    {
      "cell_type": "markdown",
      "metadata": {
        "id": "A_Elk7IDwXzi"
      },
      "source": [
        "# Модель *COCOMO II*"
      ]
    },
    {
      "cell_type": "markdown",
      "metadata": {
        "id": "zxZa_wvIwjpE"
      },
      "source": [
        "**Четкая модель *COCOMO II* (предварительная оценка на начальной стадии проекта при однокомпонентной разработке, используются 7 факторов масштаба *FSj*. У детальной оценки после проработки архитектуры - 17 факторов масштаба *FSj*)**"
      ]
    },
    {
      "cell_type": "code",
      "execution_count": null,
      "metadata": {
        "id": "E6vQ5YtiOqcT"
      },
      "outputs": [],
      "source": [
        "def SF_COCOMOII(PREC, FLEX, RESL, TEAM, PMAT):\n",
        "# если PREC = \"Very Low\", то PREC1 = 6.20, если PREC = \"Low\", то PREC1 = 4.96, если PREC = \"Nominal\", то PREC1 = 3,72, если PREC = \"High\", то PREC1 = 2.48, если PREC = \"Very High\", то PREC1 = 1.24, если PREC = \"Extra High\", то PREC1 = 0;\n",
        "# если FLEX = \"Very Low\", то FLEX1 = 5.07, если FLEX = \"Low\", то FLEX1 = 4.05, если FLEX = \"Nominal\", то FLEX1 = 3,04, если FLEX = \"High\", то FLEX1 = 2.03, если FLEX = \"Very High\", то FLEX1 = 1.01, если FLEX = \"Extra High\", то FLEX1 = 0;\n",
        "# если RESL = \"Very Low\", то RESL1 = 7.07, если RESL = \"Low\", то RESL1 = 5.65, если RESL = \"Nominal\", то RESL1 = 4,24, если RESL = \"High\", то RESL1 = 2.83, если RESL = \"Very High\", то RESL1 = 1.41, если RESL = \"Extra High\", то RESL1 = 0;\n",
        "# если TEAM = \"Very Low\", то TEAM1 = 5.48, если TEAM = \"Low\", то TEAM1 = 4.38, если TEAM = \"Nominal\", то TEAM1 = 3,29, если TEAM = \"High\", то TEAM1 = 2.19, если TEAM = \"Very High\", то TEAM1 = 1.10, если TEAM = \"Extra High\", то TEAM1 = 0;\n",
        "# если PMAT = \"Very Low\", то PMAT1 = 7.80, если PMAT = \"Low\", то PMAT1 = 6.24, если PMAT = \"Nominal\", то PMAT1 = 4,68, если PMAT = \"High\", то PMAT1 = 3.12, если PMAT = \"Very High\", то PMAT1 = 1.56, если PMAT = \"Extra High\", то PMAT1 = 0;\n",
        "# Определение значений для PREC1\n",
        "    if PREC == \"Very Low\":\n",
        "        PREC1 = 6.20\n",
        "    elif PREC == \"Low\":\n",
        "        PREC1 = 4.96\n",
        "    elif PREC == \"Nominal\":\n",
        "        PREC1 = 3.72\n",
        "    elif PREC == \"High\":\n",
        "        PREC1 = 2.48\n",
        "    elif PREC == \"Very High\":\n",
        "        PREC1 = 1.24\n",
        "    elif PREC == \"Extra High\":\n",
        "        PREC1 = 0.00\n",
        "\n",
        "    # Определение значений для FLEX1\n",
        "    if FLEX == \"Very Low\":\n",
        "        FLEX1 = 5.07\n",
        "    elif FLEX == \"Low\":\n",
        "        FLEX1 = 4.05\n",
        "    elif FLEX == \"Nominal\":\n",
        "        FLEX1 = 3.04\n",
        "    elif FLEX == \"High\":\n",
        "        FLEX1 = 2.03\n",
        "    elif FLEX == \"Very High\":\n",
        "        FLEX1 = 1.01\n",
        "    elif FLEX == \"Extra High\":\n",
        "        FLEX1 = 0.00\n",
        "\n",
        "    # Определение значений для RESL1\n",
        "    if RESL == \"Very Low\":\n",
        "        RESL1 = 7.07\n",
        "    elif RESL == \"Low\":\n",
        "        RESL1 = 5.65\n",
        "    elif RESL == \"Nominal\":\n",
        "        RESL1 = 4.24\n",
        "    elif RESL == \"High\":\n",
        "        RESL1 = 2.83\n",
        "    elif RESL == \"Very High\":\n",
        "        RESL1 = 1.41\n",
        "    elif RESL == \"Extra High\":\n",
        "        RESL1 = 0.00\n",
        "\n",
        "    # Определение значений для TEAM1\n",
        "    if TEAM == \"Very Low\":\n",
        "        TEAM1 = 5.48\n",
        "    elif TEAM == \"Low\":\n",
        "        TEAM1 = 4.38\n",
        "    elif TEAM == \"Nominal\":\n",
        "        TEAM1 = 3.29\n",
        "    elif TEAM == \"High\":\n",
        "        TEAM1 = 2.19\n",
        "    elif TEAM == \"Very High\":\n",
        "        TEAM1 = 1.10\n",
        "    elif TEAM == \"Extra High\":\n",
        "        TEAM1 = 0.00\n",
        "\n",
        "    # Определение значений для PMAT1\n",
        "    if PMAT == \"Very Low\":\n",
        "        PMAT1 = 7.80\n",
        "    elif PMAT == \"Low\":\n",
        "        PMAT1 = 6.24\n",
        "    elif PMAT == \"Nominal\":\n",
        "        PMAT1 = 4.68\n",
        "    elif PMAT == \"High\":\n",
        "        PMAT1 = 3.12\n",
        "    elif PMAT == \"Very High\":\n",
        "        PMAT1 = 1.56\n",
        "    elif PMAT == \"Extra High\":\n",
        "        PMAT1 = 0.00\n",
        "    SF_summ = PREC1 + FLEX1 + RESL1 + TEAM1 + PMAT1\n",
        "    return SF_summ"
      ]
    },
    {
      "cell_type": "code",
      "execution_count": null,
      "metadata": {
        "colab": {
          "base_uri": "https://localhost:8080/"
        },
        "id": "b4zq5td_OqE9",
        "outputId": "c39bb23e-3299-4295-f7fc-d6673ca5dce5"
      },
      "outputs": [
        {
          "output_type": "stream",
          "name": "stdout",
          "text": [
            "При вышеуказанных значениях факторов масштаба, показатель SFj принимает значение 16.08\n"
          ]
        }
      ],
      "source": [
        "# Ввод факторов масштаба. Варианты оценки: \"Very Low\", \"Low\", \"Nominal\", \"High\", \"Very High\", \"Extra High\"\n",
        "PREC = \"Nominal\"    # Прецендентность, наличие опыта аналогичных разработок\n",
        "FLEX = \"Low\"        # Гибкость процесса разработки\n",
        "RESL = \"High\"       # Архитектура и разрешение рисков\n",
        "TEAM = \"Very Low\"   # Сработанность команды\n",
        "PMAT = \"Extra High\" # Зрелость процессов\n",
        "SF_COCOMOII(PREC, FLEX, RESL, TEAM, PMAT)\n",
        "print(f\"При вышеуказанных значениях факторов масштаба, показатель SFj принимает значение {SF_COCOMOII(PREC, FLEX, RESL, TEAM, PMAT)}\")"
      ]
    },
    {
      "cell_type": "code",
      "execution_count": null,
      "metadata": {
        "id": "gvuvbcPfWQUB"
      },
      "outputs": [],
      "source": [
        "E = round(0.91 + 0.01 * SF_COCOMOII(PREC, FLEX, RESL, TEAM, PMAT), 2)"
      ]
    },
    {
      "cell_type": "code",
      "execution_count": null,
      "metadata": {
        "colab": {
          "base_uri": "https://localhost:8080/"
        },
        "id": "HP6nOsiSW-lZ",
        "outputId": "010918f2-4e72-4637-8c37-d4a88491197f"
      },
      "outputs": [
        {
          "output_type": "stream",
          "name": "stdout",
          "text": [
            "При вышеуказанных значениях факторов масштаба, показатель E принимает значение 1.07\n"
          ]
        }
      ],
      "source": [
        "print(f\"При вышеуказанных значениях факторов масштаба, показатель E принимает значение {E}\")"
      ]
    },
    {
      "cell_type": "code",
      "execution_count": null,
      "metadata": {
        "id": "EjvB6pZKXiwm"
      },
      "outputs": [],
      "source": [
        "def EM_COCOMOII(PERS, RCPX, RUSE, PDIF, PREX, FCIL, SCED):\n",
        "# если PERS = \"Extra Low\", то PERS1 = 2.12, если PERS = \"Very Low\", то PERS1 = 1.62, если PERS = \"Low\", то PERS1 = 1,26, если PERS = \"Nominal\", то PERS1 = 1.00, если PERS = \"High\", то PERS1 = 0.83, если PERS = \"Very High\", то PERS1 = 0.63, если PERS = \"Extra High\", то PERS1 = 0.5;\n",
        "# если RCPX = \"Extra Low\", то RCPX1 = 0.49, если RCPX = \"Very Low\", то RCPX1 = 0.60, если RCPX = \"Low\", то RCPX1 = 0,83, если RCPX = \"Nominal\", то RCPX1 = 1.00, если RCPX = \"High\", то RCPX1 = 1.33, если RCPX = \"Very High\", то RCPX1 = 1.91, если RCPX = \"Extra High\", то RCPX1 = 2.72;\n",
        "# если RUSE = \"Low\", то RUSE1 = 0,95, если RUSE = \"Nominal\", то RUSE1 = 1.00, если RUSE = \"High\", то RUSE1 = 1.07, если RUSE = \"Very High\", то RUSE1 = 1.15, если RUSE = \"Extra High\", то RUSE1 = 1.24;\n",
        "# если PDIF = \"Low\", то PDIF1 = 0,87, если PDIF = \"Nominal\", то PDIF1 = 1.00, если PDIF = \"High\", то PDIF1 = 1.29, если PDIF = \"Very High\", то PDIF1 = 1.81, если PDIF = \"Extra High\", то PDIF1 = 2.61;\n",
        "# если PREX = \"Extra Low\", то PREX1 = 1.59, если PREX = \"Very Low\", то PREX1 = 1.33, если PREX = \"Low\", то PREX1 = 1,22, если PREX = \"Nominal\", то PREX1 = 1.00, если PREX = \"High\", то PREX1 = 0.87, если PREX = \"Very High\", то PREX1 = 0.74, если PREX = \"Extra High\", то PREX1 = 0.62;\n",
        "# если FCIL = \"Extra Low\", то FCIL1 = 1.43, если FCIL = \"Very Low\", то FCIL1 = 1.30, если FCIL = \"Low\", то FCIL1 = 1,10, если FCIL = \"Nominal\", то FCIL1 = 1.00, если FCIL = \"High\", то FCIL1 = 0.87, если FCIL = \"Very High\", то FCIL1 = 0.73, если FCIL = \"Extra High\", то FCIL1 = 0.62;\n",
        "# если SCED = \"Very Low\", то SCED1 = 1.43, если SCED = \"Low\", то SCED1 = 1,14, если SCED = \"Nominal\", то SCED1 = 1.00, если SCED = \"High\", то SCED1 = 1.00, если SCED = \"Very High\", то SCED1 = 1.00;\n",
        "    # Определение значений для PERS1\n",
        "    if PERS == \"Extra Low\":\n",
        "        PERS1 = 2.12\n",
        "    elif PERS == \"Very Low\":\n",
        "        PERS1 = 1.62\n",
        "    elif PERS == \"Low\":\n",
        "        PERS1 = 1.26\n",
        "    elif PERS == \"Nominal\":\n",
        "        PERS1 = 1.00\n",
        "    elif PERS == \"High\":\n",
        "        PERS1 = 0.83\n",
        "    elif PERS == \"Very High\":\n",
        "        PERS1 = 0.63\n",
        "    elif PERS == \"Extra High\":\n",
        "        PERS1 = 0.50\n",
        "\n",
        "    # Определение значений для RCPX1\n",
        "    if RCPX == \"Extra Low\":\n",
        "        RCPX1 = 0.49\n",
        "    elif RCPX == \"Very Low\":\n",
        "        RCPX1 = 0.60\n",
        "    elif RCPX == \"Low\":\n",
        "        RCPX1 = 0.83\n",
        "    elif RCPX == \"Nominal\":\n",
        "        RCPX1 = 1.00\n",
        "    elif RCPX == \"High\":\n",
        "        RCPX1 = 1.33\n",
        "    elif RCPX == \"Very High\":\n",
        "        RCPX1 = 1.91\n",
        "    elif RCPX == \"Extra High\":\n",
        "        RCPX1 = 2.72\n",
        "\n",
        "    # Определение значений для RUSE1\n",
        "    if RUSE == \"Low\":\n",
        "        RUSE1 = 0.95\n",
        "    elif RUSE == \"Nominal\":\n",
        "        RUSE1 = 1.00\n",
        "    elif RUSE == \"High\":\n",
        "        RUSE1 = 1.07\n",
        "    elif RUSE == \"Very High\":\n",
        "        RUSE1 = 1.15\n",
        "    elif RUSE == \"Extra High\":\n",
        "        RUSE1 = 1.24\n",
        "\n",
        "    # Определение значений для PDIF1\n",
        "    if PDIF == \"Low\":\n",
        "        PDIF1 = 0.87\n",
        "    elif PDIF == \"Nominal\":\n",
        "        PDIF1 = 1.00\n",
        "    elif PDIF == \"High\":\n",
        "        PDIF1 = 1.29\n",
        "    elif PDIF == \"Very High\":\n",
        "        PDIF1 = 1.81\n",
        "    elif PDIF == \"Extra High\":\n",
        "        PDIF1 = 2.61\n",
        "\n",
        "    # Определение значений для PREX1\n",
        "    if PREX == \"Extra Low\":\n",
        "        PREX1 = 1.59\n",
        "    elif PREX == \"Very Low\":\n",
        "        PREX1 = 1.33\n",
        "    elif PREX == \"Low\":\n",
        "        PREX1 = 1.22\n",
        "    elif PREX == \"Nominal\":\n",
        "        PREX1 = 1.00\n",
        "    elif PREX == \"High\":\n",
        "        PREX1 = 0.87\n",
        "    elif PREX == \"Very High\":\n",
        "        PREX1 = 0.74\n",
        "    elif PREX == \"Extra High\":\n",
        "        PREX1 = 0.62\n",
        "\n",
        "    # Определение значений для FCIL1\n",
        "    if FCIL == \"Extra Low\":\n",
        "        FCIL1 = 1.43\n",
        "    elif FCIL == \"Very Low\":\n",
        "        FCIL1 = 1.30\n",
        "    elif FCIL == \"Low\":\n",
        "        FCIL1 = 1.10\n",
        "    elif FCIL == \"Nominal\":\n",
        "        FCIL1 = 1.00\n",
        "    elif FCIL == \"High\":\n",
        "        FCIL1 = 0.87\n",
        "    elif FCIL == \"Very High\":\n",
        "        FCIL1 = 0.73\n",
        "    elif FCIL == \"Extra High\":\n",
        "        FCIL1 = 0.62\n",
        "\n",
        "    # Определение значений для SCED1\n",
        "    if SCED == \"Very Low\":\n",
        "        SCED1 = 1.43\n",
        "    elif SCED == \"Low\":\n",
        "        SCED1 = 1.14\n",
        "    elif SCED == \"Nominal\":\n",
        "        SCED1 = 1.00\n",
        "    elif SCED == \"High\":\n",
        "        SCED1 = 1.00\n",
        "    elif SCED == \"Very High\":\n",
        "        SCED1 = 1.00\n",
        "\n",
        "    EM_mult = PERS1 * RCPX1 * RUSE1 * PDIF1 * PREX1 * FCIL1 * SCED1\n",
        "    return EM_mult\n"
      ]
    },
    {
      "cell_type": "code",
      "execution_count": null,
      "metadata": {
        "colab": {
          "base_uri": "https://localhost:8080/"
        },
        "id": "1L5m7JrIXm28",
        "outputId": "3231ece4-5e05-4c2c-ff76-2dd86acfe920"
      },
      "outputs": [
        {
          "output_type": "stream",
          "name": "stdout",
          "text": [
            "При вышеуказанных значениях множителей трудоемкости, произведение EMj принимает значение 0.55\n"
          ]
        }
      ],
      "source": [
        "# Ввод множителей трудоемкости. Варианты оценки: \"Extra Low\", \"Very Low\", \"Low\", \"Nominal\", \"High\", \"Very High\", \"Extra High\".\n",
        "PERS = \"Low\"       # Квалификация персонала. Значения от \"Extra Low\" до \"Extra High\".\n",
        "RCPX = \"Very Low\"  # Сложность и надежность продукта. Значения от \"Extra Low\" до \"Extra High\".\n",
        "RUSE = \"Nominal\"   # Разработка для повторного использования. Значения от \"Low\" до \"Extra High\".\n",
        "PDIF = \"Nominal\"   # Сложность платформы разработки. Значения от \"Low\" до \"Extra High\".\n",
        "PREX = \"Very High\" # Опыт персонала. Значения от \"Extra Low\" до \"Extra High\".\n",
        "FCIL = \"High\"      # Оборудование. Значения от \"Extra Low\" до \"Extra High\".\n",
        "SCED = \"Low\"       # Сжатие расписания. Значения от \"Very Low\" до \"Very High\".\n",
        "EM_COCOMOII(PERS, RCPX, RUSE, PDIF, PREX, FCIL, SCED)\n",
        "print(f\"При вышеуказанных значениях множителей трудоемкости, произведение EMj принимает значение {round(EM_COCOMOII(PERS, RCPX, RUSE, PDIF, PREX, FCIL, SCED),2)}\")"
      ]
    },
    {
      "cell_type": "code",
      "execution_count": null,
      "metadata": {
        "colab": {
          "base_uri": "https://localhost:8080/"
        },
        "id": "zKFagCyyh_5Z",
        "outputId": "f312fc30-95ed-4417-efd2-cac0e87c1c49"
      },
      "outputs": [
        {
          "output_type": "stream",
          "name": "stdout",
          "text": [
            "При рассчитанных выше параметрах, а также размере продукта в 7.2 KSLOC, оценка трудоемкости проекта PC принимает значение 13.49 чел*мес\n"
          ]
        }
      ],
      "source": [
        "SIZE = 7.2 # размер продукта в KSLOC, тысячах строк исходного кода.\n",
        "PM = 2.94 * (SIZE**(E)) * EM_COCOMOII(PERS, RCPX, RUSE, PDIF, PREX, FCIL, SCED)\n",
        "print(f\"При рассчитанных выше параметрах, а также размере продукта в {SIZE} KSLOC, оценка трудоемкости проекта PC принимает значение {round(PM,2)} чел*мес\")"
      ]
    },
    {
      "cell_type": "markdown",
      "source": [
        "# Нечеткая модель *COCOMO II*. Применение трапециевидных нечетких чисел 2 типа"
      ],
      "metadata": {
        "id": "wcAzecMupL2e"
      }
    },
    {
      "cell_type": "markdown",
      "source": [
        "Нечеткие трапециевидные числа второго типа имеют две ФП - верхнюю и нижнюю для ИНМ2Т и функции принадлежности и непринадлежности для интуиционистских НМ, отражающие сомнения эксперта в оценках границ нечеткости, т.е. правая и левая границы нечеткости имеют по 2 значения. Левая граница - это минимальное значение нечеткости, правая, соответственно, максимальное."
      ],
      "metadata": {
        "id": "2nStDHkZqQ5t"
      }
    },
    {
      "cell_type": "code",
      "source": [
        "# Функция округления параметров трапециевидного нечеткого числа (интуиционистского или интервального 2 типа)\n",
        "def round_fuzzy_number(fuzzy_number):\n",
        "    (x1, x2, x3, x4), (x5, x6, x7, x8) = fuzzy_number\n",
        "    return ((round(x1, 3), round(x2, 3), round(x3, 3), round(x4, 3)),\n",
        "            (round(x5, 3), round(x6, 3), round(x7, 3), round(x8, 3)))"
      ],
      "metadata": {
        "id": "DUB-KhGBOWtQ"
      },
      "execution_count": null,
      "outputs": []
    },
    {
      "cell_type": "code",
      "source": [
        "# Функция умножения трапециевидного нечеткого числа (интуиционистского или интервального 2 типа) на константу\n",
        "def multiply_fuzzy_number_by_constant(fuzzy_number, constant):\n",
        "    # Умножение нечеткого числа на константу\n",
        "    (x1, x2, x3, x4), (x5, x6, x7, x8) = fuzzy_number\n",
        "    if constant < 0:\n",
        "        # Умножение всех координат на константу в обратном порядке\n",
        "        new_X = (\n",
        "            (x4 * constant, x3 * constant, x2 * constant, x1 * constant),\n",
        "            (x8 * constant, x7 * constant, x6 * constant, x5 * constant)\n",
        "        )\n",
        "    else:\n",
        "        # Умножение всех координат на константу в обычном порядке\n",
        "        new_X = (\n",
        "            (x1 * constant, x2 * constant, x3 * constant, x4 * constant),\n",
        "            (x5 * constant, x6 * constant, x7 * constant, x8 * constant)\n",
        "        )\n",
        "    return new_X"
      ],
      "metadata": {
        "id": "qmj7lqGwOvuz"
      },
      "execution_count": null,
      "outputs": []
    },
    {
      "cell_type": "code",
      "source": [
        "# Функция сложения двух трапециевидных нечетких чисел (интуиционистских или интервальных 2 типа)\n",
        "def add_intuitionistic_trapezoidal_fuzzy_numbers(fuzzy_number1, fuzzy_number2):\n",
        "    (x1, x2, x3, x4), (x5, x6, x7, x8) = fuzzy_number1\n",
        "    (y1, y2, y3, y4), (y5, y6, y7, y8) = fuzzy_number2\n",
        "    return ((round(x1 + y1, 3), round(x2 + y2, 3), round(x3 + y3, 3), round(x4 + y4, 3)),\n",
        "            (round(x5 + y5, 3), round(x6 + y6, 3), round(x7 + y7, 3), round(x8 + y8, 3)))"
      ],
      "metadata": {
        "id": "IEso6g0XMYZr"
      },
      "execution_count": null,
      "outputs": []
    },
    {
      "cell_type": "code",
      "source": [
        "# Функция для вычисления альфа-среза\n",
        "def alpha_cut(fuzzy_number, alpha):\n",
        "    # Распаковка параметров нечеткого числа\n",
        "    (x1, x2, x3, x4), (x5, x6, x7, x8) = fuzzy_number\n",
        "\n",
        "    # Вычисление концов верхнего интервала альфа-среза\n",
        "    upper_start = alpha * x2 + (1 - alpha) * x1\n",
        "    upper_end = alpha * x3 + (1 - alpha) * x4\n",
        "\n",
        "    # Вычисление концов нижнего интервала альфа-среза\n",
        "    lower_start = alpha * x6 + (1 - alpha) * x5\n",
        "    lower_end = alpha * x7 + (1 - alpha) * x8\n",
        "\n",
        "    # Округляем значения до 3 знаков после запятой\n",
        "    upper_start = round(upper_start, 3)\n",
        "    upper_end = round(upper_end, 3)\n",
        "    lower_start = round(lower_start, 3)\n",
        "    lower_end = round(lower_end, 3)\n",
        "\n",
        "    # Возвращаем альфа-срез в виде нечеткого числа\n",
        "    return ((upper_start, upper_end), (lower_start, lower_end))"
      ],
      "metadata": {
        "id": "gxrllA6Cun2Z"
      },
      "execution_count": null,
      "outputs": []
    },
    {
      "cell_type": "code",
      "source": [
        "# Функция вычисления центроида системы двух точек\n",
        "def centroid(alpha_cut_result):\n",
        "    # Распаковка верхнего и нижнего отрезков альфа-среза\n",
        "    (upper_start, upper_end), (lower_start, lower_end) = alpha_cut_result\n",
        "\n",
        "    # Расчет среднего значения\n",
        "    central_upper = round((upper_start + upper_end) / 2, 3)\n",
        "    central_lower = round((lower_start + lower_end) / 2, 3)\n",
        "\n",
        "    # Возвращаем результат в нужном формате\n",
        "    return (central_upper, central_lower)"
      ],
      "metadata": {
        "id": "Uc0YbkZKQAvI"
      },
      "execution_count": null,
      "outputs": []
    },
    {
      "cell_type": "code",
      "source": [
        "# Функция вычисления среднего арифметического дефаззифицированных значений двух функция принадлежности\n",
        "def calculate_average(defuzzified_values):\n",
        "    # Извлекаем значения из кортежа\n",
        "    defuzzified_upper, defuzzified_lower = defuzzified_values\n",
        "    # Вычисляем среднее арифметическое\n",
        "    average = round((defuzzified_upper + defuzzified_lower) / 2, 3)\n",
        "    return average"
      ],
      "metadata": {
        "id": "_poNtxbrQk3y"
      },
      "execution_count": null,
      "outputs": []
    },
    {
      "cell_type": "code",
      "source": [
        "def calculate_SF_summ(*params):\n",
        "    SF_summ = params[0]\n",
        "    for param in params[1:]:\n",
        "        SF_summ = add_intuitionistic_trapezoidal_fuzzy_numbers(SF_summ, param)\n",
        "    return SF_summ\n",
        "\n",
        "def SF_COCOMOII(PREC, FLEX, RESL, TEAM, PMAT):\n",
        "    # Определение значений для PREC1\n",
        "    if PREC == \"Very Low\":\n",
        "        PREC1 = ((4.96, 5.70, 6.70, 7.44), (5.33, 5.70, 6.70, 7.07))\n",
        "    elif PREC == \"Low\":\n",
        "        PREC1 = ((3.72, 4.46, 5.46, 6.20), (4.09, 4.46, 5.46, 5.83))\n",
        "    elif PREC == \"Nominal\":\n",
        "        PREC1 = ((2.48, 3.22, 4.22, 4.96), (2.85, 3.22, 4.22, 4.59))\n",
        "    elif PREC == \"High\":\n",
        "        PREC1 = ((1.24, 1.98, 2.98, 3.72), (1.61, 1.98, 2.98, 3.35))\n",
        "    elif PREC == \"Very High\":\n",
        "        PREC1 = ((0.00, 0.74, 1.74, 2.48), (0.37, 0.74, 1.74, 2.11))\n",
        "    elif PREC == \"Extra High\":\n",
        "        PREC1 = ((0.00, 0.00, 0.00, 1.24), (0.00, 0.00, 0.00, 0.62))\n",
        "    else:\n",
        "        raise ValueError(\"PREC не соответствует заданным вариантам оценки\")\n",
        "\n",
        "    # Определение значений для FLEX1\n",
        "    if FLEX == \"Very Low\":\n",
        "        FLEX1 = ((4.05, 4.57, 5.57, 6.09), (4.31, 4.57, 5.57, 5.83))\n",
        "    elif FLEX == \"Low\":\n",
        "        FLEX1 = ((3.04, 3.55, 4.55, 5.07), (3.30, 3.55, 4.55, 4.81))\n",
        "    elif FLEX == \"Nominal\":\n",
        "        FLEX1 = ((2.03, 2.54, 3.54, 4.05), (2.29, 2.54, 3.54, 3.80))\n",
        "    elif FLEX == \"High\":\n",
        "        FLEX1 = ((1.01, 1.53, 2.53, 3.04), (1.27, 1.53, 2.53, 2.79))\n",
        "    elif FLEX == \"Very High\":\n",
        "        FLEX1 = ((0.00, 0.51, 1.51, 2.03), (0.26, 0.51, 1.51, 1.77))\n",
        "    elif FLEX == \"Extra High\":\n",
        "        FLEX1 = ((0.00, 0.00, 0.00, 1.01), (0.00, 0.00, 0.50, 0.51))\n",
        "    else:\n",
        "        raise ValueError(\"FLEX не соответствует заданным вариантам оценки\")\n",
        "\n",
        "    # Определение значений для RESL1\n",
        "    if RESL == \"Very Low\":\n",
        "        RESL1 = ((5.65, 6.57, 7.57, 8.49), (6.11, 6.57, 7.57, 8.03))\n",
        "    elif RESL == \"Low\":\n",
        "        RESL1 = ((4.24, 5.15, 6.15, 7.07), (4.70, 5.15, 6.15, 6.61))\n",
        "    elif RESL == \"Nominal\":\n",
        "        RESL1 = ((2.83, 3.74, 4.74, 5.65), (3.29, 3.74, 4.74, 5.20))\n",
        "    elif RESL == \"High\":\n",
        "        RESL1 = ((1.41, 2.33, 3.33, 4.24), (1.87, 2.33, 3.33, 3.79))\n",
        "    elif RESL == \"Very High\":\n",
        "        RESL1 = ((0.00, 0.91, 1.91, 2.83), (0.46, 0.91, 1.91, 2.37))\n",
        "    elif RESL == \"Extra High\":\n",
        "        RESL1 = ((0.00, 0.00, 0.00, 1.41), (0.00, 0.00, 0.00, 0.71))\n",
        "    else:\n",
        "        raise ValueError(\"RESL не соответствует заданным вариантам оценки\")\n",
        "\n",
        "    # Определение значений для TEAM1\n",
        "    if TEAM == \"Very Low\":\n",
        "        TEAM1 = ((4.38, 4.98, 5.98, 6.58), (4.68, 4.98, 5.98, 6.28))\n",
        "    elif TEAM == \"Low\":\n",
        "        TEAM1 = ((3.29, 3.88, 4.88, 5.48), (3.59, 3.88, 4.88, 5.18))\n",
        "    elif TEAM == \"Nominal\":\n",
        "        TEAM1 = ((2.19, 2.79, 3.79, 4.38), (2.49, 2.79, 3.79, 4.09))\n",
        "    elif TEAM == \"High\":\n",
        "        TEAM1 = ((1.10, 1.69, 2.69, 3.29), (1.40, 1.69, 2.69, 2.99))\n",
        "    elif TEAM == \"Very High\":\n",
        "        TEAM1 = ((0.00, 0.60, 1.60, 2.19), (0.30, 0.60, 1.60, 1.90))\n",
        "    elif TEAM == \"Extra High\":\n",
        "        TEAM1 = ((0.00, 0.00, 0.00, 1.10), (0.00, 0.00, 0.00, 0.55))\n",
        "    else:\n",
        "        raise ValueError(\"TEAM не соответствует заданным вариантам оценки\")\n",
        "\n",
        "    # Определение значений для PMAT1\n",
        "    if PMAT == \"Very Low\":\n",
        "        PMAT1 = ((6.24, 7.30, 8.30, 9.36), (6.77, 7.30, 8.30, 8.83))\n",
        "    elif PMAT == \"Low\":\n",
        "        PMAT1 = ((4.68, 5.74, 6.74, 7.80), (5.21, 5.74, 6.74, 7.27))\n",
        "    elif PMAT == \"Nominal\":\n",
        "        PMAT1 = ((3.12, 4.18, 5.18, 6.24), (3.65, 4.18, 5.18, 5.71))\n",
        "    elif PMAT == \"High\":\n",
        "        PMAT1 = ((1.56, 2.62, 3.62, 4.68), (2.09, 2.62, 3.62, 4.15))\n",
        "    elif PMAT == \"Very High\":\n",
        "        PMAT1 = ((0.00, 1.06, 2.06, 3.12), (0.53, 1.06, 2.06, 2.59))\n",
        "    elif PMAT == \"Extra High\":\n",
        "        PMAT1 = ((0.00, 0.00, 0.00, 1.56), (0.00, 0.00, 0.00, 0.78))\n",
        "    else:\n",
        "        raise ValueError(\"PMAT не соответствует заданным вариантам оценки\")\n",
        "\n",
        "    print(f\"PREC = {PREC} принимает значение {PREC1}\")\n",
        "    print(f\"FLEX = {FLEX} принимает значение {FLEX1}\")\n",
        "    print(f\"RESL = {RESL} принимает значение {RESL1}\")\n",
        "    print(f\"TEAM = {TEAM} принимает значение {TEAM1}\")\n",
        "    print(f\"PMAT = {PMAT} принимает значение {PMAT1}\")\n",
        "\n",
        "    # Вычисляем итоговый SF\n",
        "    SF = calculate_SF_summ(PREC1, FLEX1, RESL1, TEAM1, PMAT1)\n",
        "\n",
        "    return SF"
      ],
      "metadata": {
        "id": "6cUxVgdKp6DK"
      },
      "execution_count": null,
      "outputs": []
    },
    {
      "cell_type": "code",
      "source": [
        "# Ввод факторов масштаба. Варианты оценки: \"Very Low\", \"Low\", \"Nominal\", \"High\", \"Very High\", \"Extra High\"\n",
        "PREC = \"Nominal\"    # Прецендентность, наличие опыта аналогичных разработок\n",
        "FLEX = \"Low\"        # Гибкость процесса разработки\n",
        "RESL = \"High\"       # Архитектура и разрешение рисков\n",
        "TEAM = \"Very Low\"   # Сработанность команды\n",
        "PMAT = \"Extra High\" # Зрелость процессов\n",
        "\n",
        "SF_summ = SF_COCOMOII(PREC, FLEX, RESL, TEAM, PMAT)\n",
        "print(f\"При вышеуказанных значениях факторов масштаба, суммарный эффект SF принимает значение {SF_summ}\")"
      ],
      "metadata": {
        "colab": {
          "base_uri": "https://localhost:8080/"
        },
        "id": "EslNmtseh-OU",
        "outputId": "0c3f13b8-df38-4881-8b4f-c7c631fb460b"
      },
      "execution_count": null,
      "outputs": [
        {
          "output_type": "stream",
          "name": "stdout",
          "text": [
            "PREC = Nominal принимает значение ((2.48, 3.22, 4.22, 4.96), (2.85, 3.22, 4.22, 4.59))\n",
            "FLEX = Low принимает значение ((3.04, 3.55, 4.55, 5.07), (3.3, 3.55, 4.55, 4.81))\n",
            "RESL = High принимает значение ((1.41, 2.33, 3.33, 4.24), (1.87, 2.33, 3.33, 3.79))\n",
            "TEAM = Very Low принимает значение ((4.38, 4.98, 5.98, 6.58), (4.68, 4.98, 5.98, 6.28))\n",
            "PMAT = Extra High принимает значение ((0.0, 0.0, 0.0, 1.56), (0.0, 0.0, 0.0, 0.78))\n",
            "При вышеуказанных значениях факторов масштаба, суммарный эффект SF принимает значение ((11.31, 14.08, 18.08, 22.41), (12.7, 14.08, 18.08, 20.25))\n"
          ]
        }
      ]
    },
    {
      "cell_type": "code",
      "source": [
        "# Вычисление E = 0.91 + 0.01 * SF_summ\n",
        "\n",
        "def add_constant_to_fuzzy_number(X, constant):\n",
        "    (x1, x2, x3, x4), (x5, x6, x7, x8) = X\n",
        "    # Прибавление константы ко всем координатам\n",
        "    new_X = (\n",
        "        (x1 + constant, x2 + constant, x3 + constant, x4 + constant),\n",
        "        (x5 + constant, x6 + constant, x7 + constant, x8 + constant)\n",
        "    )\n",
        "    return new_X\n",
        "\n",
        "# Умножаем SF_summ на 0.01\n",
        "SF_summ_multiplied = multiply_fuzzy_number_by_constant(SF_summ, 0.01)\n",
        "\n",
        "# Добавляем 0.91 к результату\n",
        "E = add_constant_to_fuzzy_number(SF_summ_multiplied, 0.91)\n",
        "\n",
        "# Округляем E\n",
        "E_rounded = round_fuzzy_number(E)"
      ],
      "metadata": {
        "id": "M1ZQk_F9kF0P"
      },
      "execution_count": null,
      "outputs": []
    },
    {
      "cell_type": "code",
      "source": [
        "print(f\"При вышеуказанных значениях факторов масштаба, показатель E принимает значение {E_rounded}\")"
      ],
      "metadata": {
        "colab": {
          "base_uri": "https://localhost:8080/"
        },
        "id": "DT8ow2H2srsp",
        "outputId": "f5522414-a3b0-49e9-cf80-4e5e7a772db1"
      },
      "execution_count": null,
      "outputs": [
        {
          "output_type": "stream",
          "name": "stdout",
          "text": [
            "При вышеуказанных значениях факторов масштаба, показатель E принимает значение ((1.023, 1.051, 1.091, 1.134), (1.037, 1.051, 1.091, 1.113))\n"
          ]
        }
      ]
    },
    {
      "cell_type": "markdown",
      "source": [
        "Для перехода от нечетких значений к четким применим операцию альфа-среза. В результате получим четкий интервал (отрезок) значений из области определения нечеткого трепециевидного числа 2-го типа, который будет соответствовать единственному значению функции принадлежности, заданному уровнем альфа-среза."
      ],
      "metadata": {
        "id": "2NDkUhhDo6aL"
      }
    },
    {
      "cell_type": "markdown",
      "source": [
        "Зададим уровень альфа-среза равным 0.8. Значение альфа-среза - это уровень уверенности стейкхолдеров в полученной оценке итогового результата моделирования. Левая и права граница интервала (отрезка, являющегося результатом применения альфа-среза) - это минимальное (левая граница) и максимальное (правая граница) значения, которые может принимать результат моделирования с данной степенью уверенности."
      ],
      "metadata": {
        "id": "kKIPu5KQpERL"
      }
    },
    {
      "cell_type": "code",
      "source": [
        "# Вычисление альфа-среза\n",
        "alpha = 0.8\n",
        "alpha_cut_result = alpha_cut(E_rounded, alpha)\n",
        "print(f\"Альфа-срез при альфа={alpha} для E_rounded {E_rounded} равен {alpha_cut_result}\")"
      ],
      "metadata": {
        "colab": {
          "base_uri": "https://localhost:8080/"
        },
        "id": "ozjzIGTGpIVt",
        "outputId": "d826c953-f473-4024-8365-e0c09db65b70"
      },
      "execution_count": null,
      "outputs": [
        {
          "output_type": "stream",
          "name": "stdout",
          "text": [
            "Альфа-срез при альфа=0.8 для E_rounded ((1.023, 1.051, 1.091, 1.134), (1.037, 1.051, 1.091, 1.113)) равен ((1.045, 1.1), (1.048, 1.095))\n"
          ]
        }
      ]
    },
    {
      "cell_type": "markdown",
      "source": [
        "Другими словами, с 80% уверенностью можно утверждать, что величина показателя степени E составит от 1.045 до 1.1 ед. в верхней функции принадлежности и от 1.048 до 1.095 ед. в нижней функции принадлежности."
      ],
      "metadata": {
        "id": "LAlN_EJcphRq"
      }
    },
    {
      "cell_type": "markdown",
      "source": [
        "Для приведения интервальных оценок к точечным результатам применяются методы усреднения, например, центроид системы двух точек, которым является является середина отрезка, соединяющего данные точки, т.е. среднее арифметическое левого и правого значения его координат (среднее минимума и максимума по оси абсцисс)."
      ],
      "metadata": {
        "id": "TClLixKppjOe"
      }
    },
    {
      "cell_type": "code",
      "source": [
        "# Расчет центроида системы двух точек\n",
        "alpha_cut_result = alpha_cut(E_rounded, alpha)\n",
        "central_result = centroid(alpha_cut_result)\n",
        "\n",
        "print(f\"Усредненные значения для E_rounded {E_rounded} при альфа={alpha} равны {central_result}\")"
      ],
      "metadata": {
        "colab": {
          "base_uri": "https://localhost:8080/"
        },
        "id": "CcFZeNnIpan5",
        "outputId": "e7b9abfd-daba-45bd-ec76-5dfa6a4ce4d7"
      },
      "execution_count": null,
      "outputs": [
        {
          "output_type": "stream",
          "name": "stdout",
          "text": [
            "Усредненные значения для E_rounded ((1.023, 1.051, 1.091, 1.134), (1.037, 1.051, 1.091, 1.113)) при альфа=0.8 равны (1.073, 1.071)\n"
          ]
        }
      ]
    },
    {
      "cell_type": "code",
      "source": [
        "# Вычисляем среднее арифметическое усредненных значений\n",
        "E_final = calculate_average(central_result)\n",
        "\n",
        "print(f\"Среднее арифметическое усредненных значений показателя степени E составляет {E_final}\")\n"
      ],
      "metadata": {
        "colab": {
          "base_uri": "https://localhost:8080/"
        },
        "id": "Wrvs539bqCLG",
        "outputId": "8d9f3e4e-ef02-426e-85ff-87d055256ed1"
      },
      "execution_count": null,
      "outputs": [
        {
          "output_type": "stream",
          "name": "stdout",
          "text": [
            "Среднее арифметическое усредненных значений показателя степени E составляет 1.072\n"
          ]
        }
      ]
    },
    {
      "cell_type": "markdown",
      "source": [
        "Итак, усредненный (четкий) итоговый результат оценки показателя степени E составит составляет 1,072 ед."
      ],
      "metadata": {
        "id": "N9M4aNSHrKrW"
      }
    },
    {
      "cell_type": "code",
      "source": [
        "def multiply_intuitionistic_trapezoidal_fuzzy_numbers(X, Y):\n",
        "    # Распаковка параметров интервальных трапециевидных чисел 2 типа\n",
        "    (x1, x2, x3, x4), (x5, x6, x7, x8) = X\n",
        "    (y1, y2, y3, y4), (y5, y6, y7, y8) = Y\n",
        "\n",
        "    # Вычисление координат для произведения\n",
        "    z1 = x2 * y1 - x2 * y2 + x1 * y2\n",
        "    z2 = x2 * y2\n",
        "    z3 = x3 * y3\n",
        "    z4 = x3 * y4 - x3 * y3 + y3 * x4\n",
        "\n",
        "    z5 = x6 * y5 - x6 * y6 + x5 * y6\n",
        "    z6 = x6 * y6\n",
        "    z7 = x7 * y7\n",
        "    z8 = x7 * y8 - x7 * y7 + y7 * x8\n",
        "\n",
        "    return ((z1, z2, z3, z4), (z5, z6, z7, z8))\n",
        "\n",
        "def calculate_SF_multiply(*params):\n",
        "    EM_multiply = params[0]\n",
        "    for param in params[1:]:\n",
        "        EM_multiply = multiply_intuitionistic_trapezoidal_fuzzy_numbers (EM_multiply, param)\n",
        "    return EM_multiply\n",
        "\n",
        "def EM_COCOMOII(PERS, RCPX, RUSE, PDIF, PREX, FCIL, SCED):\n",
        "    # Определение значений для PERS1\n",
        "    if PERS == \"Extra Low\":\n",
        "        PERS1 = ((1.62, 2.07, 2.17, 2.62), (1.85, 2.07, 2.17, 2.40))\n",
        "    elif PERS == \"Very Low\":\n",
        "        PERS1 = ((1.26, 1.57, 1.67, 2.12), (1.42, 1.57, 1.67, 1.90))\n",
        "    elif PERS == \"Low\":\n",
        "        PERS1 = ((1.00, 1.21, 1.31, 1.62), (1.11, 1.21, 1.31, 1.47))\n",
        "    elif PERS == \"Nominal\":\n",
        "        PERS1 = ((0.83, 0.95, 1.05, 1.26), (0.89, 0.95, 1.05, 1.16))\n",
        "    elif PERS == \"High\":\n",
        "        PERS1 = ((0.63, 0.78, 0.88, 1.00), (0.71, 0.78, 0.88, 0.94))\n",
        "    elif PERS == \"Very High\":\n",
        "        PERS1 = ((0.50, 0.58, 0.68, 0.83), (0.54, 0.58, 0.68, 0.76))\n",
        "    elif PERS == \"Extra High\":\n",
        "        PERS1 = ((0.37, 0.45, 0.55, 0.63), (0.41, 0.45, 0.55, 0.59))\n",
        "\n",
        "    # Определение значений для RCPX1\n",
        "    if RCPX == \"Extra Low\":\n",
        "        RCPX1 = ((0.38, 0.44, 0.54, 0.60), (0.41, 0.44, 0.54, 0.57))\n",
        "    elif RCPX == \"Very Low\":\n",
        "        RCPX1 = ((0.49, 0.55, 0.65, 0.83), (0.52, 0.55, 0.65, 0.74))\n",
        "    elif RCPX == \"Low\":\n",
        "        RCPX1 = ((0.60, 0.78, 0.88, 1.00), (0.69, 0.78, 0.88, 0.94))\n",
        "    elif RCPX == \"Nominal\":\n",
        "        RCPX1 = ((0.83, 0.95, 1.05, 1.33), (0.89, 0.95, 1.05, 1.19))\n",
        "    elif RCPX == \"High\":\n",
        "        RCPX1 = ((1.00, 1.28, 1.38, 1.91), (1.14, 1.28, 1.38, 1.65))\n",
        "    elif RCPX == \"Very High\":\n",
        "        RCPX1 = ((1.33, 1.86, 1.96, 2.72), (1.60, 1.86, 1.96, 2.34))\n",
        "    elif RCPX == \"Extra High\":\n",
        "        RCPX1 = ((1.91, 2.67, 2.77, 3.15), (2.29, 2.67, 2.77, 2.96))\n",
        "\n",
        "    # Определение значений для RUSE1\n",
        "    if RUSE == \"Low\":\n",
        "        RUSE1 = ((0.90, 0.94, 0.96, 1.00), (0.92, 0.94, 0.96, 1.98))\n",
        "    elif RUSE == \"Nominal\":\n",
        "        RUSE1 = ((0.95, 0.99, 1.01, 1.07), (0.97, 0.99, 1.01, 1.04))\n",
        "    elif RUSE == \"High\":\n",
        "        RUSE1 = ((1.00, 1.06, 1.08, 1.15), (1.03, 1.06, 1.08, 1.12))\n",
        "    elif RUSE == \"Very High\":\n",
        "        RUSE1 = ((1.07, 1.14, 1.16, 1.24), (1.11, 1.14, 1.16, 1.20))\n",
        "    elif RUSE == \"Extra High\":\n",
        "        RUSE1 = ((1.15, 1.23, 1.25, 1.29), (1.19, 1.23, 1.25, 1.27))\n",
        "\n",
        "    # Определение значений для PDIF1\n",
        "    if PDIF == \"Low\":\n",
        "        PDIF1 = ((0.74, 0.82, 0.92, 1.00), (0.78, 0.82, 0.92, 0.96))\n",
        "    elif PDIF == \"Nominal\":\n",
        "        PDIF1 = ((0.87, 0.95, 1.05, 1.29), (0.91, 0.95, 1.05, 1.17))\n",
        "    elif PDIF == \"High\":\n",
        "        PDIF1 = ((1.00, 1.24, 1.34, 1.81), (1.12, 1.24, 1.34, 1.58))\n",
        "    elif PDIF == \"Very High\":\n",
        "        PDIF1 = ((1.29, 1.76, 1.86, 2.61), (1.53, 1.76, 1.86, 2.24))\n",
        "    elif PDIF == \"Extra High\":\n",
        "        PDIF1 = ((1.81, 2.56, 2.66, 3.04), (2.19, 2.56, 2.66, 2.85))\n",
        "\n",
        "    # Определение значений для PREX1\n",
        "    if PREX == \"Extra Low\":\n",
        "        PREX1 = ((1.33, 1.54, 1.64, 1.85), (1.44, 1.54, 1.64, 1.75))\n",
        "    elif PREX == \"Very Low\":\n",
        "        PREX1 = ((1.22, 1.28, 1.38, 1.59), (1.25, 1.28, 1.38, 1.49))\n",
        "    elif PREX == \"Low\":\n",
        "        PREX1 = ((1.00, 1.17, 1.27, 1.33), (1.09, 1.17, 1.27, 1.30))\n",
        "    elif PREX == \"Nominal\":\n",
        "        PREX1 = ((0.87, 0.95, 1.05, 1.22), (0.91, 0.95, 1.05, 1.14))\n",
        "    elif PREX == \"High\":\n",
        "        PREX1 = ((0.74, 0.82, 0.92, 1.00), (0.78, 0.82, 0.92, 0.96))\n",
        "    elif PREX == \"Very High\":\n",
        "        PREX1 = ((0.62, 0.69, 0.79, 0.87), (0.66, 0.69, 0.79, 0.83))\n",
        "    elif PREX == \"Extra High\":\n",
        "        PREX1 = ((0.50, 0.57, 0.67, 0.74), (0.54, 0.57, 0.67, 0.71))\n",
        "\n",
        "    # Определение значений для FCIL1\n",
        "    if FCIL == \"Extra Low\":\n",
        "        FCIL1 = ((1.30, 1.38, 1.48, 1.56), (1.34, 1.38, 1.48, 1.52))\n",
        "    elif FCIL == \"Very Low\":\n",
        "        FCIL1 = ((1.10, 1.25, 1.35, 1.43), (1.18, 1.25, 1.35, 1.39))\n",
        "    elif FCIL == \"Low\":\n",
        "        FCIL1 = ((1.00, 1.05, 1.15, 1.30), (1.03, 1.05, 1.15, 1.23))\n",
        "    elif FCIL == \"Nominal\":\n",
        "        FCIL1 = ((0.87, 0.95, 1.05, 1.10), (0.91, 0.95, 1.05, 1.08))\n",
        "    elif FCIL == \"High\":\n",
        "        FCIL1 = ((0.73, 0.82, 0.92, 1.00), (0.78, 0.82, 0.92, 0.96))\n",
        "    elif FCIL == \"Very High\":\n",
        "        FCIL1 = ((0.62, 0.68, 0.78, 0.87), (0.65, 0.68, 0.78, 0.83))\n",
        "    elif FCIL == \"Extra High\":\n",
        "        FCIL1 = ((0.51, 0.57, 0.67, 0.73), (0.54, 0.57, 0.67, 0.70))\n",
        "\n",
        "    # Определение значений для SCED1\n",
        "    if SCED == \"Very Low\":\n",
        "        SCED1 = ((1.14, 1.38, 1.48, 1.72), (1.26, 1.38, 1.48, 1.60))\n",
        "    elif SCED == \"Low\":\n",
        "        SCED1 = ((1.00, 1.09, 1.19, 1.43), (1.05, 1.09, 1.19, 1.31))\n",
        "    elif SCED == \"Nominal\":\n",
        "        SCED1 = ((0.86, 0.95, 1.05, 1.14), (0.91, 0.95, 1.05, 1.10))\n",
        "    elif SCED == \"High\":\n",
        "        SCED1 = ((0.86, 0.95, 1.05, 1.14), (0.91, 0.95, 1.05, 1.10))\n",
        "    elif SCED == \"Very High\":\n",
        "        SCED1 = ((0.86, 0.95, 1.05, 1.14), (0.91, 0.95, 1.05, 1.10))\n",
        "\n",
        "    print(f\"PERS = {PERS} принимает значение {PERS1}\")\n",
        "    print(f\"RCPX = {RCPX} принимает значение {RCPX1}\")\n",
        "    print(f\"RUSE = {RUSE} принимает значение {RUSE1}\")\n",
        "    print(f\"PDIF = {PDIF} принимает значение {PDIF1}\")\n",
        "    print(f\"PREX = {PREX} принимает значение {PREX1}\")\n",
        "    print(f\"FCIL = {FCIL} принимает значение {FCIL1}\")\n",
        "    print(f\"SCED = {SCED} принимает значение {SCED1}\")\n",
        "\n",
        "    EM_mult= calculate_SF_multiply(PERS1, RCPX1, RUSE1, PDIF1, PREX1, FCIL1, SCED1)\n",
        "    return EM_mult"
      ],
      "metadata": {
        "id": "7j5luFUJyUf0"
      },
      "execution_count": null,
      "outputs": []
    },
    {
      "cell_type": "code",
      "source": [
        "# Ввод множителей трудоемкости. Варианты оценки: \"Extra Low\", \"Very Low\", \"Low\", \"Nominal\", \"High\", \"Very High\", \"Extra High\".\n",
        "PERS = \"Low\"       # валификация персонала. Значения от \"Extra Low\" до \"Extra High\".\n",
        "RCPX = \"Very Low\"  # Сложность и надежность продукта. Значения от \"Extra Low\" до \"Extra High\".\n",
        "RUSE = \"Nominal\"   # Разработка для повторного использования. Значения от \"Low\" до \"Extra High\".\n",
        "PDIF = \"Nominal\"   # Сложность платформы разработки. Значения от \"Low\" до \"Extra High\".\n",
        "PREX = \"Very High\" # Опыт персонала. Значения от \"Extra Low\" до \"Extra High\".\n",
        "FCIL = \"High\"      # Оборудование. Значения от \"Extra Low\" до \"Extra High\".\n",
        "SCED = \"Low\"       # Сжатие расписания. Значения от \"Very Low\" до \"Very High\".\n",
        "\n",
        "EM_multiply = EM_COCOMOII(PERS, RCPX, RUSE, PDIF, PREX, FCIL, SCED)\n",
        "# Округляем E\n",
        "EM_rounded = round_fuzzy_number(EM_multiply)\n",
        "\n",
        "print(f\"При вышеуказанных значениях множителей трудоемкости, произведение EMj принимает значение {EM_rounded}\")"
      ],
      "metadata": {
        "colab": {
          "base_uri": "https://localhost:8080/"
        },
        "id": "ga-tWOQYyWD5",
        "outputId": "9144bf93-bcf1-46a2-c2fb-1bfa305ab390"
      },
      "execution_count": null,
      "outputs": [
        {
          "output_type": "stream",
          "name": "stdout",
          "text": [
            "PERS = Low принимает значение ((1.0, 1.21, 1.31, 1.62), (1.11, 1.21, 1.31, 1.47))\n",
            "RCPX = Very Low принимает значение ((0.49, 0.55, 0.65, 0.83), (0.52, 0.55, 0.65, 0.74))\n",
            "RUSE = Nominal принимает значение ((0.95, 0.99, 1.01, 1.07), (0.97, 0.99, 1.01, 1.04))\n",
            "PDIF = Nominal принимает значение ((0.87, 0.95, 1.05, 1.29), (0.91, 0.95, 1.05, 1.17))\n",
            "PREX = Very High принимает значение ((0.62, 0.69, 0.79, 0.87), (0.66, 0.69, 0.79, 0.83))\n",
            "FCIL = High принимает значение ((0.73, 0.82, 0.92, 1.0), (0.78, 0.82, 0.92, 0.96))\n",
            "SCED = Low принимает значение ((1.0, 1.09, 1.19, 1.43), (1.05, 1.09, 1.19, 1.31))\n",
            "При вышеуказанных значениях множителей трудоемкости, произведение EMj принимает значение ((0.115, 0.386, 0.781, 1.712), (0.259, 0.386, 0.781, 1.249))\n"
          ]
        }
      ]
    },
    {
      "cell_type": "markdown",
      "source": [
        "Для возведения параметра *SIZE*, заданного трапециевидным нечетким числом 2-го типа, применим методы приближенного вычисления, приняв, что $(a1, a2, a3, a4)*(b1, b2, b3, b4) \\approx (a1*b1, a2*b2, a3*b3, a4*b4)$\n",
        "\n",
        " Тогда возведение трапециевидного числа в степень примет вид: $(a1, a2, a3, a4)^E \\approx (a1^E, a2^E, a3^E, a4^E)$. В данном случае возведение будет точно в степень E, но показатели левой и правой границ нечеткости $a1^E$ и $a4^E$ будут вычислены приблизительно.\n"
      ],
      "metadata": {
        "id": "l24Ipix6aHqf"
      }
    },
    {
      "cell_type": "code",
      "source": [
        "# Вычисление PM = 2.94 * (SIZE**(E)) * (EM_rounded)\n",
        "\n",
        "def fuzzy_number_exponentiation (fuzzy_number, constant):\n",
        "    # Возведение нечеткого числа в степень\n",
        "    (x1, x2, x3, x4), (x5, x6, x7, x8) = fuzzy_number\n",
        "    return ((x1**constant, x2**constant, x3**constant, x4**constant),\n",
        "            (x5**constant, x6**constant, x7**constant, x8**constant))\n",
        "\n",
        "def multiply_intuitionistic_trapezoidal_fuzzy_numbers(X, Y):\n",
        "    # Произведение двух нечетких трапециевидных чисел\n",
        "    # Распаковка параметров интервальных трапециевидных чисел 2 типа\n",
        "    (x1, x2, x3, x4), (x5, x6, x7, x8) = X\n",
        "    (y1, y2, y3, y4), (y5, y6, y7, y8) = Y\n",
        "\n",
        "    # Вычисление координат для произведения с округлением\n",
        "    z1 = round(x2 * y1 - x2 * y2 + x1 * y2, 2)\n",
        "    z2 = round(x2 * y2, 2)\n",
        "    z3 = round(x3 * y3, 2)\n",
        "    z4 = round(x3 * y4 - x3 * y3 + y3 * x4, 2)\n",
        "\n",
        "    z5 = round(x6 * y5 - x6 * y6 + x5 * y6, 2)\n",
        "    z6 = round(x6 * y6, 2)\n",
        "    z7 = round(x7 * y7, 2)\n",
        "    z8 = round(x7 * y8 - x7 * y7 + y7 * x8, 2)\n",
        "\n",
        "    return ((z1, z2, z3, z4), (z5, z6, z7, z8))\n",
        "\n",
        "\n",
        "SIZE = (5.7, 6.7, 7.7, 8.7), (6.2, 6.7, 7.7, 8.2)  # Размер продукта в KSLOC, тысячах строк исходного кода.\n",
        "\n",
        "# Возведение SIZE в степень E\n",
        "SIZE_exp_E = fuzzy_number_exponentiation (SIZE, E_final)\n",
        "\n",
        "# Умножаем SIZE_exp_E на 2.94\n",
        "SIZE_exp_E_mult_A = multiply_fuzzy_number_by_constant(SIZE_exp_E, 2.94)\n",
        "\n",
        "# Умножение интервальных трапециевидных чисел 2 типа\n",
        "PM = multiply_intuitionistic_trapezoidal_fuzzy_numbers(SIZE_exp_E_mult_A, EM_rounded)\n",
        "\n",
        "# Округляем PM\n",
        "PM_rounded = round_fuzzy_number(PM)\n",
        "\n",
        "print(f\"При рассчитанных выше параметрах, а также размере продукта в {SIZE} KSLOC, оценка трудоемкости проекта PM принимает значение {PM_rounded} чел*мес\")"
      ],
      "metadata": {
        "colab": {
          "base_uri": "https://localhost:8080/"
        },
        "id": "PFo71EXQgy-9",
        "outputId": "cc49e39f-7ece-4081-9b03-d4e2c6f4ba15"
      },
      "execution_count": null,
      "outputs": [
        {
          "output_type": "stream",
          "name": "stdout",
          "text": [
            "При рассчитанных выше параметрах, а также размере продукта в ((5.7, 6.7, 7.7, 8.7), (6.2, 6.7, 7.7, 8.2)) KSLOC, оценка трудоемкости проекта PM принимает значение ((1.21, 8.72, 20.48, 47.76), (5.15, 8.72, 20.48, 34.18)) чел*мес\n"
          ]
        }
      ]
    },
    {
      "cell_type": "markdown",
      "source": [
        "Для перехода от нечетких значений к четким применим операцию альфа-среза. В результате получим четкий интервал (отрезок) значений из области определения нечеткого трепециевидного числа 2-го типа, который будет соответствовать единственному значению функции принадлежности, заданному уровнем альфа-среза."
      ],
      "metadata": {
        "id": "jfacYkqA7UVO"
      }
    },
    {
      "cell_type": "markdown",
      "source": [
        "Зададим уровень альфа-среза равным 0.8. Значение альфа-среза - это уровень уверенности стейкхолдеров в полученной оценке итогового результата моделирования. Левая и права граница интервала (отрезка, являющегося результатом применения альфа-среза) - это минимальное (левая граница) и максимальное (правая граница) значения, которые может принимать результат моделирования с данной степенью уверенности."
      ],
      "metadata": {
        "id": "6AKcoAJ08Azp"
      }
    },
    {
      "cell_type": "code",
      "source": [
        "# Вычисление альфа-среза\n",
        "alpha = 0.8\n",
        "alpha_cut_result = alpha_cut(PM_rounded, alpha)\n",
        "print(f\"Альфа-срез при альфа={alpha} для PM_rounded {PM_rounded} равен {alpha_cut_result}\")"
      ],
      "metadata": {
        "colab": {
          "base_uri": "https://localhost:8080/"
        },
        "id": "OJ2q8-7Vlpzw",
        "outputId": "04237cad-cd47-4772-ae12-2ca2c799b87c"
      },
      "execution_count": null,
      "outputs": [
        {
          "output_type": "stream",
          "name": "stdout",
          "text": [
            "Альфа-срез при альфа=0.8 для PM_rounded ((1.21, 8.72, 20.48, 47.76), (5.15, 8.72, 20.48, 34.18)) равен ((7.218, 25.936), (8.006, 23.22))\n"
          ]
        }
      ]
    },
    {
      "cell_type": "markdown",
      "source": [
        "Другими словами, с 80% уверенностью можно утверждать, что итоговый результат оценки трудоемкости проекта составит от 7.22 до 25.94 чел∙мес в верхней функции принадлежности и от 8.01 до 23.22 чел∙мес в нижней функции принадлежности."
      ],
      "metadata": {
        "id": "7m7LYbIH-ZmB"
      }
    },
    {
      "cell_type": "markdown",
      "source": [
        "Для приведения интервальных оценок к точечным результатам применяются методы усреднения, например, центроид системы двух точек, которым является является середина отрезка, соединяющего данные точки, т.е. среднее арифметическое левого и правого значения его координат (среднее минимума и максимума по оси абсцисс)."
      ],
      "metadata": {
        "id": "1GUmLiVT715Y"
      }
    },
    {
      "cell_type": "code",
      "source": [
        "alpha_cut_result = alpha_cut(PM_rounded, alpha)\n",
        "central_result = centroid(alpha_cut_result)\n",
        "\n",
        "print(f\"Усредненные значения для PM_rounded {PM_rounded} при альфа = {alpha} равны {central_result}\")"
      ],
      "metadata": {
        "colab": {
          "base_uri": "https://localhost:8080/"
        },
        "id": "B4JZCGvKlxzo",
        "outputId": "403db8ee-96e1-45fd-d22f-b86eaef01357"
      },
      "execution_count": null,
      "outputs": [
        {
          "output_type": "stream",
          "name": "stdout",
          "text": [
            "Усредненные значения для PM_rounded ((1.21, 8.72, 20.48, 47.76), (5.15, 8.72, 20.48, 34.18)) при альфа = 0.8 равны (16.577, 15.613)\n"
          ]
        }
      ]
    },
    {
      "cell_type": "code",
      "source": [
        "# Вычисляем среднее арифметическое усредненных значений\n",
        "PM_final = calculate_average(central_result)\n",
        "\n",
        "print(f\"Среднее значение трудоемкости по нечеткой модели составляет {PM_final} чел.*мес.\")"
      ],
      "metadata": {
        "colab": {
          "base_uri": "https://localhost:8080/"
        },
        "id": "rWn-gzmRxBRL",
        "outputId": "add61037-0b9d-44f9-bec3-2f12de36dc9f"
      },
      "execution_count": null,
      "outputs": [
        {
          "output_type": "stream",
          "name": "stdout",
          "text": [
            "Среднее значение трудоемкости по нечеткой модели составляет 16.095 чел.*мес.\n"
          ]
        }
      ]
    },
    {
      "cell_type": "markdown",
      "source": [
        "# Нечеткая модель *COCOMO II*. Применение колеблющихся нечетких чисел."
      ],
      "metadata": {
        "id": "XGu_B8f8lyZQ"
      }
    },
    {
      "cell_type": "code",
      "source": [
        "# Функция для обработки результата - исключение повторов и упорядочивание по возрастанию значений функции принадлежности\n",
        "def process_fuzzy_result(fuzzy_result):\n",
        "    # Распаковка результата\n",
        "    x_value, *parameters = fuzzy_result\n",
        "\n",
        "    # Исключение повторяющихся значений и упорядочение по возрастанию\n",
        "    unique_parameters = sorted(set(parameters))\n",
        "\n",
        "    # Формирование нового кортежа с уникальными значениями\n",
        "    processed_result = (x_value, *unique_parameters)\n",
        "\n",
        "    return processed_result"
      ],
      "metadata": {
        "id": "26L8S4ZyVOH3"
      },
      "execution_count": null,
      "outputs": []
    },
    {
      "cell_type": "code",
      "source": [
        "# Функция для умножения дискретного колеблющегося нечеткого числа на константу\n",
        "def multiply_fuzzy_number_with_constant(X, A):\n",
        "    x, *parameters = X\n",
        "    Z = round(A * x, 3)\n",
        "    new_parameters = [round(1 - (1 - param) ** A, 2) for param in parameters]\n",
        "    return (round(Z, 3), *new_parameters)"
      ],
      "metadata": {
        "id": "Rd5sIDwiWPh7"
      },
      "execution_count": null,
      "outputs": []
    },
    {
      "cell_type": "code",
      "source": [
        "# Вычисление суммы значений факторов масштаба SF\n",
        "def add_discrete_fuzzy_numbers(X, Y):\n",
        "    # Распаковка параметров дискретных колеблющихся нечетких чисел\n",
        "    x_value, *x_parameters = X\n",
        "    y_value, *y_parameters = Y\n",
        "\n",
        "    # Список для хранения результатов\n",
        "    result_parameters = []\n",
        "\n",
        "    # Перебор всех параметров X и Y\n",
        "    for xi in x_parameters:\n",
        "        for yj in y_parameters:\n",
        "            # Вычисление параметров для Z\n",
        "            zij = round((xi + yj - xi*yj), 2)\n",
        "            result_parameters.append(zij)\n",
        "\n",
        "    # Вычисление значения Z\n",
        "    Z = round(x_value + y_value, 2)\n",
        "\n",
        "    return (Z, *result_parameters)\n",
        "\n",
        "def calculate_SF_summ(*params):\n",
        "    SF_summ = params[0]\n",
        "    for param in params[1:]:\n",
        "        SF_summ = add_discrete_fuzzy_numbers(SF_summ, param)\n",
        "    return SF_summ\n",
        "\n",
        "def SF_COCOMOII(PREC, FLEX, RESL, TEAM, PMAT):\n",
        "    # Определение значений для PREC1\n",
        "    if PREC == \"Very Low\":\n",
        "        PREC1 = (6.20, 0.5, 0.6)\n",
        "    elif PREC == \"Low\":\n",
        "        PREC1 = (4.96, 0.5, 0.6)\n",
        "    elif PREC == \"Nominal\":\n",
        "        PREC1 = (3.72, 0.5, 0.6)\n",
        "    elif PREC == \"High\":\n",
        "        PREC1 = (2.48, 0.5, 0.6)\n",
        "    elif PREC == \"Very High\":\n",
        "        PREC1 = (1.24, 0.5, 0.6)\n",
        "    elif PREC == \"Extra High\":\n",
        "        PREC1 = (0.00, 0.5, 0.6)\n",
        "    else:\n",
        "        raise ValueError(\"PREC не соответствует заданным вариантам оценки\")\n",
        "\n",
        "    # Определение значений для FLEX1\n",
        "    if FLEX == \"Very Low\":\n",
        "        FLEX1 = (5.07, 0.5, 0.6)\n",
        "    elif FLEX == \"Low\":\n",
        "        FLEX1 = (4.05, 0.5, 0.6)\n",
        "    elif FLEX == \"Nominal\":\n",
        "        FLEX1 = (3.04, 0.5, 0.6)\n",
        "    elif FLEX == \"High\":\n",
        "        FLEX1 = (2.03, 0.5, 0.6)\n",
        "    elif FLEX == \"Very High\":\n",
        "        FLEX1 = (1.01, 0.5, 0.6)\n",
        "    elif FLEX == \"Extra High\":\n",
        "        FLEX1 = (0.00, 0.5, 0.6)\n",
        "    else:\n",
        "        raise ValueError(\"FLEX не соответствует заданным вариантам оценки\")\n",
        "\n",
        "    # Определение значений для RESL1\n",
        "    if RESL == \"Very Low\":\n",
        "        RESL1 = (7.07, 0.5, 0.6)\n",
        "    elif RESL == \"Low\":\n",
        "        RESL1 = (5.65, 0.5, 0.6)\n",
        "    elif RESL == \"Nominal\":\n",
        "        RESL1 = (4.24, 0.5, 0.6)\n",
        "    elif RESL == \"High\":\n",
        "        RESL1 = (2.83, 0.5, 0.6)\n",
        "    elif RESL == \"Very High\":\n",
        "        RESL1 = (1.41, 0.5, 0.6)\n",
        "    elif RESL == \"Extra High\":\n",
        "        RESL1 = (0.00, 0.5, 0.6)\n",
        "    else:\n",
        "        raise ValueError(\"RESL не соответствует заданным вариантам оценки\")\n",
        "\n",
        "    # Определение значений для TEAM1\n",
        "    if TEAM == \"Very Low\":\n",
        "        TEAM1 = (5.48, 0.5, 0.6)\n",
        "    elif TEAM == \"Low\":\n",
        "        TEAM1 = (4.38, 0.5, 0.6)\n",
        "    elif TEAM == \"Nominal\":\n",
        "        TEAM1 = (3.29, 0.5, 0.6)\n",
        "    elif TEAM == \"High\":\n",
        "        TEAM1 = (2.19, 0.5, 0.6)\n",
        "    elif TEAM == \"Very High\":\n",
        "        TEAM1 = (1.10, 0.5, 0.6)\n",
        "    elif TEAM == \"Extra High\":\n",
        "        TEAM1 = (0.00, 0.5, 0.6)\n",
        "    else:\n",
        "        raise ValueError(\"TEAM не соответствует заданным вариантам оценки\")\n",
        "\n",
        "    # Определение значений для PMAT1\n",
        "    if PMAT == \"Very Low\":\n",
        "        PMAT1 = (7.80, 0.5, 0.6)\n",
        "    elif PMAT == \"Low\":\n",
        "        PMAT1 = (6.24, 0.5, 0.6)\n",
        "    elif PMAT == \"Nominal\":\n",
        "        PMAT1 = (4.68, 0.5, 0.6)\n",
        "    elif PMAT == \"High\":\n",
        "        PMAT1 = (3.12, 0.5, 0.6)\n",
        "    elif PMAT == \"Very High\":\n",
        "        PMAT1 = (1.56, 0.5, 0.6)\n",
        "    elif PMAT == \"Extra High\":\n",
        "        PMAT1 = (0.00, 0.5, 0.6)\n",
        "    else:\n",
        "        raise ValueError(\"PMAT не соответствует заданным вариантам оценки\")\n",
        "\n",
        "    print(f\"PREC = {PREC} принимает значение {PREC1}\")\n",
        "    print(f\"FLEX = {FLEX} принимает значение {FLEX1}\")\n",
        "    print(f\"RESL = {RESL} принимает значение {RESL1}\")\n",
        "    print(f\"TEAM = {TEAM} принимает значение {TEAM1}\")\n",
        "    print(f\"PMAT = {PMAT} принимает значение {PMAT1}\")\n",
        "\n",
        "    # Вычисляем итоговый SF\n",
        "    SF = calculate_SF_summ(PREC1, FLEX1, RESL1, TEAM1, PMAT1)\n",
        "\n",
        "    return SF"
      ],
      "metadata": {
        "id": "aTLy9f1Sly5p"
      },
      "execution_count": null,
      "outputs": []
    },
    {
      "cell_type": "code",
      "source": [
        "# Ввод факторов масштаба. Варианты оценки: \"Very Low\", \"Low\", \"Nominal\", \"High\", \"Very High\", \"Extra High\"\n",
        "PREC = \"Nominal\"    # Прецендентность, наличие опыта аналогичных разработок\n",
        "FLEX = \"Low\"        # Гибкость процесса разработки\n",
        "RESL = \"High\"       # Архитектура и разрешение рисков\n",
        "TEAM = \"Very Low\"   # Сработанность команды\n",
        "PMAT = \"Extra High\" # Зрелость процессов\n",
        "\n",
        "SF_summ = SF_COCOMOII(PREC, FLEX, RESL, TEAM, PMAT)\n",
        "print(f\"При вышеуказанных значениях факторов масштаба, суммарный эффект SF принимает значение {SF_summ}\")"
      ],
      "metadata": {
        "colab": {
          "base_uri": "https://localhost:8080/"
        },
        "id": "kpUHuA1VmDq8",
        "outputId": "a6b69035-18b7-41c4-e1dc-291b21a862e6"
      },
      "execution_count": null,
      "outputs": [
        {
          "output_type": "stream",
          "name": "stdout",
          "text": [
            "PREC = Nominal принимает значение (3.72, 0.5, 0.6)\n",
            "FLEX = Low принимает значение (4.05, 0.5, 0.6)\n",
            "RESL = High принимает значение (2.83, 0.5, 0.6)\n",
            "TEAM = Very Low принимает значение (5.48, 0.5, 0.6)\n",
            "PMAT = Extra High принимает значение (0.0, 0.5, 0.6)\n",
            "При вышеуказанных значениях факторов масштаба, суммарный эффект SF принимает значение (16.08, 0.97, 0.98, 0.97, 0.98, 0.97, 0.98, 0.98, 0.98, 0.97, 0.98, 0.98, 0.98, 0.98, 0.98, 0.98, 0.99, 0.97, 0.98, 0.98, 0.98, 0.98, 0.98, 0.98, 0.99, 0.98, 0.98, 0.98, 0.99, 0.98, 0.99, 0.99, 0.99)\n"
          ]
        }
      ]
    },
    {
      "cell_type": "code",
      "source": [
        "# Дополнение к коду для обработки результата\n",
        "SF_summ_processed_result = process_fuzzy_result(SF_summ)\n",
        "\n",
        "# Вывод обработанного результата\n",
        "print(f\"Обработанный результат SF_summ: {SF_summ_processed_result}\")"
      ],
      "metadata": {
        "colab": {
          "base_uri": "https://localhost:8080/"
        },
        "id": "2Thv9Jstp5PI",
        "outputId": "efddb293-0dc9-4a78-aa50-ec0cf0388e47"
      },
      "execution_count": null,
      "outputs": [
        {
          "output_type": "stream",
          "name": "stdout",
          "text": [
            "Обработанный результат SF_summ: (16.08, 0.97, 0.98, 0.99)\n"
          ]
        }
      ]
    },
    {
      "cell_type": "code",
      "source": [
        "# Расчет показателя степени E = 0.91 + 0.01 * SF_summ\n",
        "\n",
        "# Функция для суммирования дискретного колеблющегося числа с константой\n",
        "def add_fuzzy_number_with_constant(X, A):\n",
        "    # Распаковка параметров нечеткого числа\n",
        "    x, *membership_degrees = X  # Извлекаем значение и степени принадлежности\n",
        "\n",
        "    # Вычисление нового значения Z\n",
        "    Z = x + A  # Сумма значения X и константы A\n",
        "\n",
        "    # Параметры (степени принадлежности) остаются без изменений\n",
        "    return (round(Z, 3), *membership_degrees)\n",
        "\n",
        "\n",
        "# Умножаем SF_summ на 0.01\n",
        "multiplied_result = multiply_fuzzy_number_with_constant(SF_summ, 0.01)\n",
        "\n",
        "# Теперь прибавляем 0.91 к результату\n",
        "E = add_fuzzy_number_with_constant(multiplied_result, 0.91)\n",
        "\n",
        "# Вывод результата E\n",
        "print(f\"Значение нечеткого E: {E}\")"
      ],
      "metadata": {
        "colab": {
          "base_uri": "https://localhost:8080/"
        },
        "id": "zGPuUWq7r7vh",
        "outputId": "75251a74-7d69-4edb-96f5-47337bc6fb37"
      },
      "execution_count": null,
      "outputs": [
        {
          "output_type": "stream",
          "name": "stdout",
          "text": [
            "Значение нечеткого E: (1.071, 0.03, 0.04, 0.03, 0.04, 0.03, 0.04, 0.04, 0.04, 0.03, 0.04, 0.04, 0.04, 0.04, 0.04, 0.04, 0.05, 0.03, 0.04, 0.04, 0.04, 0.04, 0.04, 0.04, 0.05, 0.04, 0.04, 0.04, 0.05, 0.04, 0.05, 0.05, 0.05)\n"
          ]
        }
      ]
    },
    {
      "cell_type": "code",
      "source": [
        "E_processed_result = process_fuzzy_result(E)\n",
        "\n",
        "# Вывод обработанного результата\n",
        "print(f\"Обработанный результат E_processed_result: {E_processed_result}\")"
      ],
      "metadata": {
        "colab": {
          "base_uri": "https://localhost:8080/"
        },
        "id": "muRvIoXyuAf5",
        "outputId": "569fea5e-c940-42b2-c785-9a0fe0535f20"
      },
      "execution_count": null,
      "outputs": [
        {
          "output_type": "stream",
          "name": "stdout",
          "text": [
            "Обработанный результат E_processed_result: (1.071, 0.03, 0.04, 0.05)\n"
          ]
        }
      ]
    },
    {
      "cell_type": "code",
      "source": [
        "# Вычисление четкого показателя степени E\n",
        "def E_fuzzy_to_constant(X):\n",
        "    # Распаковка параметров нечеткого числа\n",
        "    x, *membership_degrees = X  # Извлекаем значение и степени принадлежности\n",
        "\n",
        "    # Вычисление нового значения Z\n",
        "    Z = x # Константа - это значение самого нечеткого числа без степеней принадлежности\n",
        "\n",
        "    return (Z)\n",
        "\n",
        "E_constant = E_fuzzy_to_constant(E)\n",
        "\n",
        "print(f\"Значение четкого E: {E_constant}\")"
      ],
      "metadata": {
        "colab": {
          "base_uri": "https://localhost:8080/"
        },
        "id": "nrdqhV1F6y3Q",
        "outputId": "3a07bb4a-df17-4341-a23f-2dcb3f3f5f76"
      },
      "execution_count": null,
      "outputs": [
        {
          "output_type": "stream",
          "name": "stdout",
          "text": [
            "Значение четкого E: 1.071\n"
          ]
        }
      ]
    },
    {
      "cell_type": "code",
      "source": [
        "def multiply_discrete_fuzzy_numbers(X, Y):\n",
        "    # Распаковка параметров дискретных колеблющихся нечетких чисел\n",
        "    x_value, *x_parameters = X  # Извлекаем значение и параметры X\n",
        "    y_value, *y_parameters = Y  # Извлекаем значение и параметры Y\n",
        "\n",
        "    # Список для хранения результатов\n",
        "    result_parameters = []\n",
        "\n",
        "    # Перебор всех параметров X и Y\n",
        "    for x_param in x_parameters:\n",
        "        for y_param in y_parameters:\n",
        "            # Вычисление параметров для Z\n",
        "            z_param = round(x_param * y_param, 2)\n",
        "            result_parameters.append(z_param)\n",
        "\n",
        "    # Вычисление значения Z\n",
        "    Z_value = x_value * y_value  # Произведение значений X и Y\n",
        "\n",
        "    return (round(Z_value, 3), *result_parameters)\n",
        "\n",
        "def calculate_SF_multiply(*params):\n",
        "    EM_multiply = params[0]\n",
        "    for param in params[1:]:\n",
        "        EM_multiply = multiply_discrete_fuzzy_numbers (EM_multiply, param)\n",
        "    return EM_multiply\n",
        "\n",
        "def EM_COCOMOII(PERS, RCPX, RUSE, PDIF, PREX, FCIL, SCED):\n",
        "    # Определение значений для PERS1\n",
        "    if PERS == \"Extra Low\":\n",
        "        PERS1 = (2.12, 0.8, 0.9)\n",
        "    elif PERS == \"Very Low\":\n",
        "        PERS1 = (1.62, 0.8, 0.9)\n",
        "    elif PERS == \"Low\":\n",
        "        PERS1 = (1.26, 0.8, 0.9)\n",
        "    elif PERS == \"Nominal\":\n",
        "        PERS1 = (1.00, 0.8, 0.9)\n",
        "    elif PERS == \"High\":\n",
        "        PERS1 = (0.83, 0.8, 0.9)\n",
        "    elif PERS == \"Very High\":\n",
        "        PERS1 = (0.63, 0.8, 0.9)\n",
        "    elif PERS == \"Extra High\":\n",
        "        PERS1 = (0.50, 0.8, 0.9)\n",
        "\n",
        "    # Определение значений для RCPX1\n",
        "    if RCPX == \"Extra Low\":\n",
        "        RCPX1 = (0.49, 0.8, 0.9)\n",
        "    elif RCPX == \"Very Low\":\n",
        "        RCPX1 = (0.60, 0.8, 0.9)\n",
        "    elif RCPX == \"Low\":\n",
        "        RCPX1 = (0.83, 0.8, 0.9)\n",
        "    elif RCPX == \"Nominal\":\n",
        "        RCPX1 = (1.00, 0.8, 0.9)\n",
        "    elif RCPX == \"High\":\n",
        "        RCPX1 = (1.33, 0.8, 0.9)\n",
        "    elif RCPX == \"Very High\":\n",
        "        RCPX1 = (1.91, 0.8, 0.9)\n",
        "    elif RCPX == \"Extra High\":\n",
        "        RCPX1 = (2.72, 0.8, 0.9)\n",
        "\n",
        "    # Определение значений для RUSE1\n",
        "    if RUSE == \"Low\":\n",
        "        RUSE1 = (0.95, 0.8, 0.9)\n",
        "    elif RUSE == \"Nominal\":\n",
        "        RUSE1 = (1.00, 0.8, 0.9)\n",
        "    elif RUSE == \"High\":\n",
        "        RUSE1 = (1.07, 0.8, 0.9)\n",
        "    elif RUSE == \"Very High\":\n",
        "        RUSE1 = (1.15, 0.8, 0.9)\n",
        "    elif RUSE == \"Extra High\":\n",
        "        RUSE1 = (1.24, 0.8, 0.9)\n",
        "\n",
        "    # Определение значений для PDIF1\n",
        "    if PDIF == \"Low\":\n",
        "        PDIF1 = (0.87, 0.8, 0.9)\n",
        "    elif PDIF == \"Nominal\":\n",
        "        PDIF1 = (1.00, 0.8, 0.9)\n",
        "    elif PDIF == \"High\":\n",
        "        PDIF1 = (1.29, 0.8, 0.9)\n",
        "    elif PDIF == \"Very High\":\n",
        "        PDIF1 = (1.81, 0.8, 0.9)\n",
        "    elif PDIF == \"Extra High\":\n",
        "        PDIF1 = (2.61, 0.8, 0.9)\n",
        "\n",
        "    # Определение значений для PREX1\n",
        "    if PREX == \"Extra Low\":\n",
        "        PREX1 = (1.59, 0.8, 0.9)\n",
        "    elif PREX == \"Very Low\":\n",
        "        PREX1 = (1.33, 0.8, 0.9)\n",
        "    elif PREX == \"Low\":\n",
        "        PREX1 = (1.22, 0.8, 0.9)\n",
        "    elif PREX == \"Nominal\":\n",
        "        PREX1 = (1.00, 0.8, 0.9)\n",
        "    elif PREX == \"High\":\n",
        "        PREX1 = (0.87, 0.8, 0.9)\n",
        "    elif PREX == \"Very High\":\n",
        "        PREX1 = (0.74, 0.8, 0.9)\n",
        "    elif PREX == \"Extra High\":\n",
        "        PREX1 = (0.62, 0.8, 0.9)\n",
        "\n",
        "    # Определение значений для FCIL1\n",
        "    if FCIL == \"Extra Low\":\n",
        "        FCIL1 = (1.43, 0.8, 0.9)\n",
        "    elif FCIL == \"Very Low\":\n",
        "        FCIL1 = (1.30, 0.8, 0.9)\n",
        "    elif FCIL == \"Low\":\n",
        "        FCIL1 = (1.10, 0.8, 0.9)\n",
        "    elif FCIL == \"Nominal\":\n",
        "        FCIL1 = (1.00, 0.8, 0.9)\n",
        "    elif FCIL == \"High\":\n",
        "        FCIL1 = (0.87, 0.8, 0.9)\n",
        "    elif FCIL == \"Very High\":\n",
        "        FCIL1 = (0.73, 0.8, 0.9)\n",
        "    elif FCIL == \"Extra High\":\n",
        "        FCIL1 = (0.62, 0.8, 0.9)\n",
        "\n",
        "    # Определение значений для SCED1\n",
        "    if SCED == \"Very Low\":\n",
        "        SCED1 = (1.43, 0.8, 0.9)\n",
        "    elif SCED == \"Low\":\n",
        "        SCED1 = (1.14, 0.8, 0.9)\n",
        "    elif SCED == \"Nominal\":\n",
        "        SCED1 = (1.00, 0.8, 0.9)\n",
        "    elif SCED == \"High\":\n",
        "        SCED1 = (1.00, 0.8, 0.9)\n",
        "    elif SCED == \"Very High\":\n",
        "        SCED1 = (1.00, 0.8, 0.9)\n",
        "\n",
        "    print(f\"PERS = {PERS} принимает значение {PERS1}\")\n",
        "    print(f\"RCPX = {RCPX} принимает значение {RCPX1}\")\n",
        "    print(f\"RUSE = {RUSE} принимает значение {RUSE1}\")\n",
        "    print(f\"PDIF = {PDIF} принимает значение {PDIF1}\")\n",
        "    print(f\"PREX = {PREX} принимает значение {PREX1}\")\n",
        "    print(f\"FCIL = {FCIL} принимает значение {FCIL1}\")\n",
        "    print(f\"SCED = {SCED} принимает значение {SCED1}\")\n",
        "\n",
        "    EM_mult= calculate_SF_multiply(PERS1, RCPX1, RUSE1, PDIF1, PREX1, FCIL1, SCED1)\n",
        "    return EM_mult"
      ],
      "metadata": {
        "id": "sgqdBLU1zuIa"
      },
      "execution_count": null,
      "outputs": []
    },
    {
      "cell_type": "code",
      "source": [
        "# Ввод множителей трудоемкости. Варианты оценки: \"Extra Low\", \"Very Low\", \"Low\", \"Nominal\", \"High\", \"Very High\", \"Extra High\".\n",
        "PERS = \"Low\"       # Квалификация персонала. Значения от \"Extra Low\" до \"Extra High\".\n",
        "RCPX = \"Very Low\"  # Сложность и надежность продукта. Значения от \"Extra Low\" до \"Extra High\".\n",
        "RUSE = \"Nominal\"   # Разработка для повторного использования. Значения от \"Low\" до \"Extra High\".\n",
        "PDIF = \"Nominal\"   # Сложность платформы разработки. Значения от \"Low\" до \"Extra High\".\n",
        "PREX = \"Very High\" # Опыт персонала. Значения от \"Extra Low\" до \"Extra High\".\n",
        "FCIL = \"High\"      # Оборудование. Значения от \"Extra Low\" до \"Extra High\".\n",
        "SCED = \"Low\"       # Сжатие расписания. Значения от \"Very Low\" до \"Very High\".\n",
        "\n",
        "EM_multiply = EM_COCOMOII(PERS, RCPX, RUSE, PDIF, PREX, FCIL, SCED)\n",
        "\n",
        "print(f\"При вышеуказанных значениях множителей трудоемкости, произведение EMj принимает значение {EM_multiply}\")"
      ],
      "metadata": {
        "colab": {
          "base_uri": "https://localhost:8080/"
        },
        "id": "k0lXESeVz-nL",
        "outputId": "9ecf1cde-7650-4fa0-9dc0-668596384e86"
      },
      "execution_count": null,
      "outputs": [
        {
          "output_type": "stream",
          "name": "stdout",
          "text": [
            "PERS = Low принимает значение (1.26, 0.8, 0.9)\n",
            "RCPX = Very Low принимает значение (0.6, 0.8, 0.9)\n",
            "RUSE = Nominal принимает значение (1.0, 0.8, 0.9)\n",
            "PDIF = Nominal принимает значение (1.0, 0.8, 0.9)\n",
            "PREX = Very High принимает значение (0.74, 0.8, 0.9)\n",
            "FCIL = High принимает значение (0.87, 0.8, 0.9)\n",
            "SCED = Low принимает значение (1.14, 0.8, 0.9)\n",
            "При вышеуказанных значениях множителей трудоемкости, произведение EMj принимает значение (0.554, 0.21, 0.23, 0.24, 0.27, 0.24, 0.27, 0.26, 0.3, 0.24, 0.27, 0.26, 0.3, 0.26, 0.3, 0.3, 0.33, 0.24, 0.27, 0.26, 0.3, 0.26, 0.3, 0.3, 0.33, 0.27, 0.31, 0.3, 0.34, 0.3, 0.34, 0.34, 0.38, 0.24, 0.27, 0.26, 0.3, 0.26, 0.3, 0.3, 0.33, 0.27, 0.31, 0.3, 0.34, 0.3, 0.34, 0.34, 0.38, 0.27, 0.31, 0.3, 0.34, 0.3, 0.34, 0.34, 0.38, 0.3, 0.34, 0.34, 0.38, 0.34, 0.38, 0.38, 0.43, 0.24, 0.27, 0.26, 0.3, 0.26, 0.3, 0.3, 0.33, 0.27, 0.31, 0.3, 0.34, 0.3, 0.34, 0.34, 0.38, 0.27, 0.31, 0.3, 0.34, 0.3, 0.34, 0.34, 0.38, 0.3, 0.34, 0.34, 0.38, 0.34, 0.38, 0.38, 0.43, 0.27, 0.31, 0.3, 0.34, 0.3, 0.34, 0.34, 0.38, 0.3, 0.34, 0.34, 0.38, 0.34, 0.38, 0.38, 0.43, 0.3, 0.33, 0.33, 0.37, 0.34, 0.38, 0.38, 0.42, 0.34, 0.38, 0.38, 0.43, 0.38, 0.42, 0.42, 0.48)\n"
          ]
        }
      ]
    },
    {
      "cell_type": "code",
      "source": [
        "# Дополнение к коду для обработки результата\n",
        "EM_multiply_processed_result = process_fuzzy_result(EM_multiply)\n",
        "\n",
        "# Вывод обработанного результата\n",
        "print(f\"Обработанный результат EM_multiply: {EM_multiply_processed_result}\")"
      ],
      "metadata": {
        "colab": {
          "base_uri": "https://localhost:8080/"
        },
        "id": "PdSpu8co4id-",
        "outputId": "6c3c00a4-6e8f-4a27-d8f5-9af3ae2e0750"
      },
      "execution_count": null,
      "outputs": [
        {
          "output_type": "stream",
          "name": "stdout",
          "text": [
            "Обработанный результат EM_multiply: (0.554, 0.21, 0.23, 0.24, 0.26, 0.27, 0.3, 0.31, 0.33, 0.34, 0.37, 0.38, 0.42, 0.43, 0.48)\n"
          ]
        }
      ]
    },
    {
      "cell_type": "code",
      "source": [
        "def power_fuzzy_number_with_constant(X, A):\n",
        "    # Распаковка параметров нечеткого числа\n",
        "    x, *parameters = X  # Извлекаем значение и степени принадлежности\n",
        "\n",
        "    # Вычисление нового значения Z\n",
        "    Z = round(x ** A, 2)  # Возведение в степень A и округление до 2 знаков\n",
        "\n",
        "    # Вычисление новых параметров для Z\n",
        "    new_parameters = [round(param ** A, 2) for param in parameters]\n",
        "\n",
        "    # Параметры (степени принадлежности) остаются без изменений\n",
        "    return (Z, *new_parameters)\n",
        "\n",
        "# Размер продукта в KSLOC, тысячах строк исходного кода.\n",
        "SIZE = (7.2, 0.8, 0.9)\n",
        "\n",
        "# Возведение в степень E_constant нечеткого числа SIZE\n",
        "SIZE_power_E = power_fuzzy_number_with_constant(SIZE, E_constant)\n",
        "\n",
        "print(f\"При рассчитанном выше показателе степени E {E_constant}, а также размере продукта в {SIZE} KSLOC, SIZE^E принимает значение {SIZE_power_E}\")\n"
      ],
      "metadata": {
        "colab": {
          "base_uri": "https://localhost:8080/"
        },
        "id": "MXSIhQ8AglVG",
        "outputId": "cd8c8196-5c6d-4b2e-8c75-2568918ecd20"
      },
      "execution_count": null,
      "outputs": [
        {
          "output_type": "stream",
          "name": "stdout",
          "text": [
            "При рассчитанном выше показателе степени E 1.071, а также размере продукта в (7.2, 0.8, 0.9) KSLOC, SIZE^E принимает значение (8.28, 0.79, 0.89)\n"
          ]
        }
      ]
    },
    {
      "cell_type": "code",
      "source": [
        "# Вычисление PM = 2.94 * (SIZE**(E)) * (EM_multiply)\n",
        "\n",
        "def multiply_discrete_fuzzy_numbers(X, Y):\n",
        "    # Распаковка параметров дискретных колеблющихся нечетких чисел\n",
        "    x_value, *x_parameters = X  # Извлекаем значение и параметры X\n",
        "    y_value, *y_parameters = Y  # Извлекаем значение и параметры Y\n",
        "\n",
        "    # Список для хранения результатов\n",
        "    result_parameters = []\n",
        "\n",
        "    # Перебор всех параметров X и Y\n",
        "    for x_param in x_parameters:\n",
        "        for y_param in y_parameters:\n",
        "            # Вычисление параметров для Z\n",
        "            z_param = round(x_param * y_param, 2)\n",
        "            result_parameters.append(z_param)\n",
        "\n",
        "    # Вычисление значения Z\n",
        "    Z_value = round(x_value * y_value, 3)\n",
        "\n",
        "    return (Z_value, *result_parameters)\n",
        "\n",
        "# Умножение дискретного числа на колеблющееся нечеткое число\n",
        "multiplied_A_SIZE_power_E = multiply_fuzzy_number_with_constant(SIZE_power_E, 2.94)\n",
        "\n",
        "# Умножение колеблющихся нечетких чисел\n",
        "PM = multiply_discrete_fuzzy_numbers(multiplied_A_SIZE_power_E, EM_multiply_processed_result)\n",
        "print(f\"При рассчитанном выше показателе степени E {E_constant}, а также размере продукта в {SIZE} KSLOC, оценка трудоемкости проекта PM принимает значение {PM} чел*мес\")\n"
      ],
      "metadata": {
        "colab": {
          "base_uri": "https://localhost:8080/"
        },
        "id": "iaygOinc___s",
        "outputId": "0d499fca-a405-4bce-9132-bb9cc863a25f"
      },
      "execution_count": null,
      "outputs": [
        {
          "output_type": "stream",
          "name": "stdout",
          "text": [
            "При рассчитанном выше показателе степени E 1.071, а также размере продукта в (7.2, 0.8, 0.9) KSLOC, оценка трудоемкости проекта PM принимает значение (13.486, 0.21, 0.23, 0.24, 0.26, 0.27, 0.3, 0.31, 0.33, 0.34, 0.37, 0.38, 0.42, 0.43, 0.48, 0.21, 0.23, 0.24, 0.26, 0.27, 0.3, 0.31, 0.33, 0.34, 0.37, 0.38, 0.42, 0.43, 0.48) чел*мес\n"
          ]
        }
      ]
    },
    {
      "cell_type": "code",
      "source": [
        "# Дополнение к коду для обработки результата\n",
        "PM_processed_result = process_fuzzy_result(PM)\n",
        "\n",
        "# Вывод обработанного результата\n",
        "print(f\"Обработанный результат PM: {PM_processed_result}\")"
      ],
      "metadata": {
        "colab": {
          "base_uri": "https://localhost:8080/"
        },
        "id": "I7OxCH0yJiwi",
        "outputId": "242dfd20-d8b3-43dd-9384-727d419d8496"
      },
      "execution_count": null,
      "outputs": [
        {
          "output_type": "stream",
          "name": "stdout",
          "text": [
            "Обработанный результат PM: (13.486, 0.21, 0.23, 0.24, 0.26, 0.27, 0.3, 0.31, 0.33, 0.34, 0.37, 0.38, 0.42, 0.43, 0.48)\n"
          ]
        }
      ]
    },
    {
      "cell_type": "markdown",
      "metadata": {
        "id": "wWtXf-N5ww4E"
      },
      "source": [
        "# Анализ точек сценариев (Use Case Point, *UСP*)"
      ]
    },
    {
      "cell_type": "markdown",
      "metadata": {
        "id": "VpfIpsWWxBMg"
      },
      "source": [
        "**Четкая модель *UС*P**"
      ]
    },
    {
      "cell_type": "code",
      "execution_count": null,
      "metadata": {
        "id": "-pj-Ri8S8VPc"
      },
      "outputs": [],
      "source": [
        "def UAW (A1, A2, A3):\n",
        "    UAW = 1 * A1 + 2 * A2 + 3 * A3\n",
        "    return UAW"
      ]
    },
    {
      "cell_type": "code",
      "execution_count": null,
      "metadata": {
        "colab": {
          "base_uri": "https://localhost:8080/"
        },
        "id": "15Kx7jNp95UX",
        "outputId": "5c1705e1-fee6-4a94-fdeb-f255cf6dc335"
      },
      "outputs": [
        {
          "output_type": "stream",
          "name": "stdout",
          "text": [
            "При 2 простых, 2 средних и 3 сложных действующих лицах вес действующих лиц без поправок UАW принимает значение 15\n"
          ]
        }
      ],
      "source": [
        "A1 = 2 # Количество простых действующих лиц\n",
        "A2 = 2 # Количество средних действующих лиц\n",
        "A3 = 3 # Количество сложных действующих лиц\n",
        "print(f\"При {A1} простых, {A2} средних и {A3} сложных действующих лицах вес действующих лиц без поправок UАW принимает значение {UAW(A1, A2, A3)}\")"
      ]
    },
    {
      "cell_type": "code",
      "execution_count": null,
      "metadata": {
        "id": "DlSAjc3492J4"
      },
      "outputs": [],
      "source": [
        "def UUCW (V1, V2, V3):\n",
        "  UUCW = 5 * V1 + 10 * V2 + 15 * V3\n",
        "  return UUCW"
      ]
    },
    {
      "cell_type": "code",
      "execution_count": null,
      "metadata": {
        "colab": {
          "base_uri": "https://localhost:8080/"
        },
        "id": "aTbv1PmLAI1P",
        "outputId": "bfb32e28-f886-482f-9dd2-2396947ae039"
      },
      "outputs": [
        {
          "output_type": "stream",
          "name": "stdout",
          "text": [
            "При 0 простых, 7 средних, 0 сложных вариантах использования вес вариантов использования без поправок UUCW принимает значение 70\n"
          ]
        }
      ],
      "source": [
        "V1 = 0 # Количество простых вариантов использования\n",
        "V2 = 7 # Количество средних вариантов использования\n",
        "V3 = 0 # Количество сложных вариантов использования\n",
        "print(f\"При {V1} простых, {V2} средних, {V3} сложных вариантах использования вес вариантов использования без поправок UUCW принимает значение {UUCW(V1, V2, V3)}\")\n"
      ]
    },
    {
      "cell_type": "code",
      "execution_count": null,
      "metadata": {
        "id": "EqdGgNorCHeA"
      },
      "outputs": [],
      "source": [
        "UUCP = UAW (A1, A2, A3) + UUCW (V1, V2, V3)"
      ]
    },
    {
      "cell_type": "code",
      "execution_count": null,
      "metadata": {
        "colab": {
          "base_uri": "https://localhost:8080/"
        },
        "id": "N_mtc8M8Cd2S",
        "outputId": "f88fae0b-fa60-4456-d131-fa70da273151"
      },
      "outputs": [
        {
          "output_type": "stream",
          "name": "stdout",
          "text": [
            "При A = 15 и сложности вариантов использования 70, показатель UUCP принимает значение 85\n"
          ]
        }
      ],
      "source": [
        "print(f\"При A = {UAW (A1, A2, A3)} и сложности вариантов использования {UUCW (V1, V2, V3)}, показатель UUCP принимает значение {UUCP}\")"
      ]
    },
    {
      "cell_type": "code",
      "execution_count": null,
      "metadata": {
        "id": "Mlap_Tx4DgH9"
      },
      "outputs": [],
      "source": [
        "def ST(T1, T2, T3, T4, T5, T6, T7, T8, T9, T10, T11, T12, T13):\n",
        "  STi = 2 * T1 + 1 * T2 + 1 * T3 + 1 * T4 + 1 * T5 + 0.5 * T6 + 0.5 * T7 + 2 * T8 + 1 * T9 + 1 * T10 + 1 * T11 + 1 * T12 + 1 * T13\n",
        "  return STi"
      ]
    },
    {
      "cell_type": "code",
      "execution_count": null,
      "metadata": {
        "colab": {
          "base_uri": "https://localhost:8080/"
        },
        "id": "QufRLIfzDf0h",
        "outputId": "439d1ded-a97e-4b95-d479-9fb8eb682744"
      },
      "outputs": [
        {
          "output_type": "stream",
          "name": "stdout",
          "text": [
            "При вышеуказанных параметрах T1-T13, взвешенная сумма показателей STi принимает значение 38.5\n"
          ]
        }
      ],
      "source": [
        "T1 = 4   # Распределенная система, показатель от 0 до 5 включительно\n",
        "T2 = 3   # Высокая производительность (пропускная способность), показатель от 0 до 5 включительно\n",
        "T3 = 5   # Работа конечных пользователей в режиме он-лайн, показатель от 0 до 5 включительно\n",
        "T4 = 1   # Сложная обработка данных, показатель от 0 до 5 включительно\n",
        "T5 = 0   # Повторное использование кода, показатель от 0 до 5 включительно\n",
        "T6 = 5   # Простота установки, показатель от 0 до 5 включительно\n",
        "T7 = 2   # Простота использования, показатель от 0 до 5 включительно\n",
        "T8 = 0   # Переносимость, показатель от 0 до 5 включительно\n",
        "T9 = 4   # Простота внесения изменений, показатель от 0 до 5 включительно\n",
        "T10 = 5  # Параллелизм, показатель от 0 до 5 включительно\n",
        "T11 = 3  # Специальные требования к безопасности, показатель от 0 до 5 включительно\n",
        "T12 = 5  # Непосредственный доступ к системе со стороны внешних пользователей, показатель от 0 до 5 включительно\n",
        "T13 = 1  # Специальные требования к обучению пользователей, показатель от 0 до 5 включительно\n",
        "ST(T1, T2, T3, T4, T5, T6, T7, T8, T9, T10, T11, T12, T13)\n",
        "print(f\"При вышеуказанных параметрах T1-T13, взвешенная сумма показателей STi принимает значение {ST(T1, T2, T3, T4, T5, T6, T7, T8, T9, T10, T11, T12, T13)}\")"
      ]
    },
    {
      "cell_type": "code",
      "source": [
        "TCF = 0.6 + (0.01 * ST(T1, T2, T3, T4, T5, T6, T7, T8, T9, T10, T11, T12, T13))"
      ],
      "metadata": {
        "id": "sQbLwyt4imAB"
      },
      "execution_count": null,
      "outputs": []
    },
    {
      "cell_type": "code",
      "execution_count": null,
      "metadata": {
        "colab": {
          "base_uri": "https://localhost:8080/"
        },
        "id": "FbOGVe5VIiUu",
        "outputId": "4127456c-b663-4c08-af5c-d8e91af65569"
      },
      "outputs": [
        {
          "output_type": "stream",
          "name": "stdout",
          "text": [
            "При вышеуказанных параметрах T1-T13, показатель технической сложности проекта (TCF) принимает значение 0.985\n"
          ]
        }
      ],
      "source": [
        "print(f\"При вышеуказанных параметрах T1-T13, показатель технической сложности проекта (TCF) принимает значение {TCF}\")"
      ]
    },
    {
      "cell_type": "code",
      "execution_count": null,
      "metadata": {
        "id": "Pjjkod4LJQm1"
      },
      "outputs": [],
      "source": [
        "def SF(F1, F2, F3, F4, F5, F6, F7, F8):\n",
        "  SFi = 1.5 * F1 + 0.5 * F2 + 1 * F3 + 0.5 * F4 + 1 * F5 + 2 * F6 - 1 * F7 - 1 * F8\n",
        "  return SFi"
      ]
    },
    {
      "cell_type": "code",
      "execution_count": null,
      "metadata": {
        "colab": {
          "base_uri": "https://localhost:8080/"
        },
        "id": "n06PahQnJy7H",
        "outputId": "7c498587-049d-49e5-b488-7f17c1002b78"
      },
      "outputs": [
        {
          "output_type": "stream",
          "name": "stdout",
          "text": [
            "При вышеуказанных параметрах F1-F8, взвешенная сумма показателей SFi принимает значение 18.0\n"
          ]
        }
      ],
      "source": [
        "F1 = 4   # Знакомство с технологией, показатель от 0 до 5 включительно\n",
        "F2 = 3   # Опыт разработки приложений, показатель от 0 до 5 включительно\n",
        "F3 = 5   # Опыт использования объектно-ориентированного подхода, показатель от 0 до 5 включительно\n",
        "F4 = 1   # Наличие ведущего аналитика, показатель от 0 до 5 включительно\n",
        "F5 = 0   # Мотивация, показатель от 0 до 5 включительно\n",
        "F6 = 5   # Стабильность требований, показатель от 0 до 5 включительно\n",
        "F7 = 5   # Частичная занятость, показатель от 0 до 5 включительно\n",
        "F8 = 0   # Сложные языки программирования, показатель от 0 до 5 включительно\n",
        "SF(F1, F2, F3, F4, F5, F6, F7, F8)\n",
        "print(f\"При вышеуказанных параметрах F1-F8, взвешенная сумма показателей SFi принимает значение {SF(F1, F2, F3, F4, F5, F6, F7, F8)}\")"
      ]
    },
    {
      "cell_type": "code",
      "execution_count": null,
      "metadata": {
        "id": "2CReSQdFLCna"
      },
      "outputs": [],
      "source": [
        "EF = 1.4 + (-0.03 * SF(F1, F2, F3, F4, F5, F6, F7, F8))"
      ]
    },
    {
      "cell_type": "code",
      "execution_count": null,
      "metadata": {
        "colab": {
          "base_uri": "https://localhost:8080/"
        },
        "id": "VMZ4GP6TLR0f",
        "outputId": "e7bb5246-e177-478c-d007-bc0113e6ff6b"
      },
      "outputs": [
        {
          "output_type": "stream",
          "name": "stdout",
          "text": [
            "При вышеуказанных параметрах F1-F8, показатель уровня квалификации разработчиков (EF) принимает значение 0.86\n"
          ]
        }
      ],
      "source": [
        "print(f\"При вышеуказанных параметрах F1-F8, показатель уровня квалификации разработчиков (EF) принимает значение {round(EF, 2)}\")"
      ]
    },
    {
      "cell_type": "code",
      "execution_count": null,
      "metadata": {
        "id": "abO3Cnt-L-O-"
      },
      "outputs": [],
      "source": [
        "UCP = UUCP * TCF * EF"
      ]
    },
    {
      "cell_type": "code",
      "execution_count": null,
      "metadata": {
        "colab": {
          "base_uri": "https://localhost:8080/"
        },
        "id": "oJywfZ1iMbje",
        "outputId": "ebf174fc-eb74-415f-b238-5179f90c961f"
      },
      "outputs": [
        {
          "output_type": "stream",
          "name": "stdout",
          "text": [
            "При вышеуказанных параметрах UUCP, TCF и EF, окончательное значение UCP равно 72.0\n"
          ]
        }
      ],
      "source": [
        "print(f\"При вышеуказанных параметрах UUCP, TCF и EF, окончательное значение UCP равно {round(UCP, 2)}\")"
      ]
    },
    {
      "cell_type": "markdown",
      "metadata": {
        "id": "ZFLZcdEDMzzn"
      },
      "source": [
        "В качестве начального значения предлагается использовать 20 чел.-ч. на одну *UCP*. Эта величина може уточняться с учетом опыта разработчиков. [Коротаев А.Н., Марчев Д.В. Экономика программной инженерии]"
      ]
    },
    {
      "cell_type": "markdown",
      "metadata": {
        "id": "Cha8R39vY-oh"
      },
      "source": [
        "# Нечеткая модель *UCP*. Применение трапециевидных нечетких чисел 2 типа"
      ]
    },
    {
      "cell_type": "markdown",
      "source": [
        "Нечеткие трапециевидные числа второго типа имеют две ФП - верхнюю и нижнюю для ИНМ2Т и функции принадлежности и непринадлежности для интуиционистских НМ, отражающие сомнения эксперта в оценках границ нечеткости, т.е. правая и левая границы нечеткости имеют по 2 значения. Левая граница - это минимальное значение нечеткости, правая, соответственно, максимальное."
      ],
      "metadata": {
        "id": "FxdKM3ohqUxK"
      }
    },
    {
      "cell_type": "markdown",
      "source": [
        "Все коэффициенты и присваиваемые значения, являющиеся константами, в данном методе могут быть нечеткими. Для корректной работы модели важно соблюдать пропорции между коэффициентами (если они подвергаются корректировке - это должно быть обусловлено особенностями практического применения модели для конкретного проекта)."
      ],
      "metadata": {
        "id": "rLmtlDoqdWrb"
      }
    },
    {
      "cell_type": "code",
      "source": [
        "# Функция умножения трапециевидного нечеткого числа (интуиционистского или интервального 2 типа) на константу\n",
        "def multiply_fuzzy_number_by_constant(fuzzy_number, constant):\n",
        "    # Умножение нечеткого числа на константу\n",
        "    (x1, x2, x3, x4), (x5, x6, x7, x8) = fuzzy_number\n",
        "    if constant < 0:\n",
        "        # Умножение всех координат на константу в обратном порядке\n",
        "        new_X = (\n",
        "            (x4 * constant, x3 * constant, x2 * constant, x1 * constant),\n",
        "            (x8 * constant, x7 * constant, x6 * constant, x5 * constant)\n",
        "        )\n",
        "    else:\n",
        "        # Умножение всех координат на константу в обычном порядке\n",
        "        new_X = (\n",
        "            (x1 * constant, x2 * constant, x3 * constant, x4 * constant),\n",
        "            (x5 * constant, x6 * constant, x7 * constant, x8 * constant)\n",
        "        )\n",
        "    return new_X"
      ],
      "metadata": {
        "id": "xzXKhk7VdJYo"
      },
      "execution_count": null,
      "outputs": []
    },
    {
      "cell_type": "code",
      "source": [
        "# Функция суммы двух трапециевидных нечетких чисел (интуиционистских или интервальных 2 типа)\n",
        "def add_intuitionistic_trapezoidal_fuzzy_numbers(fuzzy_number1, fuzzy_number2):\n",
        "    (x1, x2, x3, x4), (x5, x6, x7, x8) = fuzzy_number1\n",
        "    (y1, y2, y3, y4), (y5, y6, y7, y8) = fuzzy_number2\n",
        "    return ((x1 + y1, x2 + y2, x3 + y3, x4 + y4),\n",
        "            (x5 + y5, x6 + y6, x7 + y7, x8 + y8))"
      ],
      "metadata": {
        "id": "thQwZfyidJKS"
      },
      "execution_count": null,
      "outputs": []
    },
    {
      "cell_type": "code",
      "source": [
        "# Функция произведения двух трапециевидных нечетких чисел (интуиционистских или интервальных 2 типа)\n",
        "def multiply_intuitionistic_trapezoidal_fuzzy_numbers(X, Y):\n",
        "    # Распаковка параметров интервальных трапециевидных чисел 2 типа\n",
        "    (x1, x2, x3, x4), (x5, x6, x7, x8) = X\n",
        "    (y1, y2, y3, y4), (y5, y6, y7, y8) = Y\n",
        "\n",
        "    # Вычисление координат для произведения с округлением\n",
        "    z1 = round(x2 * y1 - x2 * y2 + x1 * y2, 2)\n",
        "    z2 = round(x2 * y2, 2)\n",
        "    z3 = round(x3 * y3, 2)\n",
        "    z4 = round(x3 * y4 - x3 * y3 + y3 * x4, 2)\n",
        "\n",
        "    z5 = round(x6 * y5 - x6 * y6 + x5 * y6, 2)\n",
        "    z6 = round(x6 * y6, 2)\n",
        "    z7 = round(x7 * y7, 2)\n",
        "    z8 = round(x7 * y8 - x7 * y7 + y7 * x8, 2)\n",
        "\n",
        "    return ((z1, z2, z3, z4), (z5, z6, z7, z8))"
      ],
      "metadata": {
        "id": "8rVvM6QddI4v"
      },
      "execution_count": null,
      "outputs": []
    },
    {
      "cell_type": "code",
      "source": [
        "# Функция вычисления среднего арифметического дефаззифицированных значений двух функция принадлежности\n",
        "def calculate_average(defuzzified_values):\n",
        "    # Извлекаем значения из кортежа\n",
        "    defuzzified_upper, defuzzified_lower = defuzzified_values\n",
        "    # Вычисляем среднее арифметическое\n",
        "    average = round((defuzzified_upper + defuzzified_lower) / 2, 3)\n",
        "    return average"
      ],
      "metadata": {
        "id": "jZyuanTZvyan"
      },
      "execution_count": null,
      "outputs": []
    },
    {
      "cell_type": "code",
      "execution_count": null,
      "metadata": {
        "id": "uu6lrW4Er1jR"
      },
      "outputs": [],
      "source": [
        "# Расчет коэффициента UAW: UAW= 1 * A1 + 2 * A2 + 3 * A3\n",
        "\n",
        "def UAW (A1, A2, A3):\n",
        "    # Умножаем на соответствующие константы\n",
        "    A1_weighted = multiply_fuzzy_number_by_constant(A1, 1)\n",
        "    A2_weighted = multiply_fuzzy_number_by_constant(A2, 2)\n",
        "    A3_weighted = multiply_fuzzy_number_by_constant(A3, 3)\n",
        "\n",
        "    # Складываем результаты\n",
        "    Ai = add_intuitionistic_trapezoidal_fuzzy_numbers(A1_weighted, A2_weighted)\n",
        "    Ai = add_intuitionistic_trapezoidal_fuzzy_numbers(Ai, A3_weighted)\n",
        "\n",
        "    return Ai"
      ]
    },
    {
      "cell_type": "code",
      "execution_count": null,
      "metadata": {
        "colab": {
          "base_uri": "https://localhost:8080/"
        },
        "id": "Dgqo1Vzyr2yL",
        "outputId": "ae1ec15d-f287-4c6d-c33c-bd59b39a027a"
      },
      "outputs": [
        {
          "output_type": "stream",
          "name": "stdout",
          "text": [
            "При ((2, 2, 2, 2), (2, 2, 2, 2)) простых, ((2, 2, 2, 2), (2, 2, 2, 2)) средних и ((3, 3, 3, 3), (3, 3, 3, 3)) сложных действующих лицах коэффициент UAW принимает значение ((15, 15, 15, 15), (15, 15, 15, 15))\n"
          ]
        }
      ],
      "source": [
        "A1 = ((2, 2, 2, 2),(2, 2, 2, 2)) # Количество простых действующих лиц\n",
        "A2 = ((2, 2, 2, 2),(2, 2, 2, 2)) # Количество средних действующих лиц\n",
        "A3 = ((3, 3, 3, 3),(3, 3, 3, 3)) # Количество сложных действующих лиц\n",
        "\n",
        "print(f\"При {A1} простых, {A2} средних и {A3} сложных действующих лицах коэффициент UAW принимает значение {UAW(A1, A2, A3)}\")"
      ]
    },
    {
      "cell_type": "code",
      "source": [
        "# Вычисляем UUCW = const1 * V1 + const2 * V2 + const3 * V3\n",
        "\n",
        "# задаем удельные веса вариантов использования\n",
        "const1 = ((3.5, 4.5, 5.5, 6.5),(4.0, 4.5, 5.5, 6.0))         # Удельный вес простого варианта использования\n",
        "const2 = ((8.5, 9.5, 10.5, 11.5),(9.0, 9.5, 10.5, 11.0))     # Удельный вес среднего варианта использования\n",
        "const3 = ((13.5, 14.5, 15.5, 16.5),(14.0, 14.5, 15.5, 16.0)) # Удельный вес сложного варианта использования\n",
        "\n",
        "\n",
        "def UUCW(V1, V2, V3):\n",
        "    # Умножаем const1 на V1\n",
        "    V1_weighted = multiply_intuitionistic_trapezoidal_fuzzy_numbers(const1, V1)\n",
        "    # Умножаем const2 на V2\n",
        "    V2_weighted = multiply_intuitionistic_trapezoidal_fuzzy_numbers(const2, V2)\n",
        "    # Умножаем const3 на V3\n",
        "    V3_weighted = multiply_intuitionistic_trapezoidal_fuzzy_numbers(const3, V3)\n",
        "\n",
        "    # Суммируем 3 взвешенныp нечеткие числа\n",
        "    UUCWi = add_intuitionistic_trapezoidal_fuzzy_numbers(V1_weighted, V2_weighted)\n",
        "    UUCWi = add_intuitionistic_trapezoidal_fuzzy_numbers(UUCWi, V3_weighted)\n",
        "\n",
        "    return UUCWi"
      ],
      "metadata": {
        "id": "2x_O7jbgWoI_"
      },
      "execution_count": null,
      "outputs": []
    },
    {
      "cell_type": "code",
      "source": [
        "V1 = ((0, 0, 0, 0), (0, 0, 0, 0)) # Количество простых вариантов использования\n",
        "V2 = ((7, 7, 7, 7), (7, 7, 7, 7)) # Количество средних вариантов использования\n",
        "V3 = ((0, 0, 0, 0), (0, 0, 0, 0)) # Количество сложных вариантов использования\n",
        "print(f\"При {V1} простых, {V2} средних, {V3} сложных вариантах использования вес вариантов использования без поправок UUCW принимает значение {UUCW(V1, V2, V3)}\")\n"
      ],
      "metadata": {
        "colab": {
          "base_uri": "https://localhost:8080/"
        },
        "id": "sZH5xmbpVN-O",
        "outputId": "6bc38c89-a591-4f0b-bce3-1782d1ae10b5"
      },
      "execution_count": null,
      "outputs": [
        {
          "output_type": "stream",
          "name": "stdout",
          "text": [
            "При ((0, 0, 0, 0), (0, 0, 0, 0)) простых, ((7, 7, 7, 7), (7, 7, 7, 7)) средних, ((0, 0, 0, 0), (0, 0, 0, 0)) сложных вариантах использования вес вариантов использования без поправок UUCW принимает значение ((59.5, 66.5, 73.5, 80.5), (63.0, 66.5, 73.5, 77.0))\n"
          ]
        }
      ]
    },
    {
      "cell_type": "code",
      "source": [
        "# UUCP = UAW (A1, A2, A3) + UUCW (V1, V2, V3)\n",
        "UAW_result = UAW (A1, A2, A3)\n",
        "UUCW_result = UUCW (V1, V2, V3)\n",
        "\n",
        "# Сложение результатов UAW и UUCW\n",
        "UUCP = add_intuitionistic_trapezoidal_fuzzy_numbers(UAW_result, UUCW_result)"
      ],
      "metadata": {
        "id": "vYdCzuNiXNSP"
      },
      "execution_count": null,
      "outputs": []
    },
    {
      "cell_type": "code",
      "source": [
        "print(f\"При UAW = {UAW (A1, A2, A3)} и UUCW {UUCW (V1, V2, V3)}, показатель UUCP принимает значение {UUCP}\")"
      ],
      "metadata": {
        "colab": {
          "base_uri": "https://localhost:8080/"
        },
        "id": "c3whT91_OLgX",
        "outputId": "43fcd956-7591-4de1-8a8b-81572a9f3c81"
      },
      "execution_count": null,
      "outputs": [
        {
          "output_type": "stream",
          "name": "stdout",
          "text": [
            "При UAW = ((15, 15, 15, 15), (15, 15, 15, 15)) и UUCW ((59.5, 66.5, 73.5, 80.5), (63.0, 66.5, 73.5, 77.0)), показатель UUCP принимает значение ((74.5, 81.5, 88.5, 95.5), (78.0, 81.5, 88.5, 92.0))\n"
          ]
        }
      ]
    },
    {
      "cell_type": "code",
      "source": [
        "# Вычисляем STi = 2 * T1 + 1 * T2 + 1 * T3 + 1 * T4 + 1 * T5 + 0.5 * T6 + 0.5 * T7 + 2 * T8 + 1 * T9 + 1 * T10 + 1 * T11 + 1 * T12 + 1 * T13\n",
        "\n",
        "def ST(T1, T2, T3, T4, T5, T6, T7, T8, T9, T10, T11, T12, T13):\n",
        "    # Вычисляем взвешенные нечеткие трапециевидные числа\n",
        "    STi = (\n",
        "        add_intuitionistic_trapezoidal_fuzzy_numbers(multiply_fuzzy_number_by_constant(T1, 2),\n",
        "                                                      multiply_fuzzy_number_by_constant(T2, 1)),\n",
        "        add_intuitionistic_trapezoidal_fuzzy_numbers(multiply_fuzzy_number_by_constant(T3, 1),\n",
        "                                                      multiply_fuzzy_number_by_constant(T4, 1)),\n",
        "        add_intuitionistic_trapezoidal_fuzzy_numbers(multiply_fuzzy_number_by_constant(T5, 1),\n",
        "                                                      multiply_fuzzy_number_by_constant(T6, 0.5)),\n",
        "        add_intuitionistic_trapezoidal_fuzzy_numbers(multiply_fuzzy_number_by_constant(T7, 0.5),\n",
        "                                                      multiply_fuzzy_number_by_constant(T8, 2)),\n",
        "        add_intuitionistic_trapezoidal_fuzzy_numbers(multiply_fuzzy_number_by_constant(T9, 1),\n",
        "                                                      multiply_fuzzy_number_by_constant(T10, 1)),\n",
        "        add_intuitionistic_trapezoidal_fuzzy_numbers(multiply_fuzzy_number_by_constant(T11, 1),\n",
        "                                                      multiply_fuzzy_number_by_constant(T12, 1)),\n",
        "        multiply_fuzzy_number_by_constant(T13, 1)\n",
        "    )\n",
        "\n",
        "    # Складываем все результаты\n",
        "    STi_final = add_intuitionistic_trapezoidal_fuzzy_numbers(add_intuitionistic_trapezoidal_fuzzy_numbers(STi[0], STi[1]),\n",
        "                                                              add_intuitionistic_trapezoidal_fuzzy_numbers(STi[2], STi[3]))\n",
        "    STi_final = add_intuitionistic_trapezoidal_fuzzy_numbers(STi_final,\n",
        "                                                              add_intuitionistic_trapezoidal_fuzzy_numbers(STi[4], STi[5]))\n",
        "    STi_final = add_intuitionistic_trapezoidal_fuzzy_numbers(STi_final, STi[6])\n",
        "\n",
        "    return STi_final\n"
      ],
      "metadata": {
        "id": "ABwqobumeHj6"
      },
      "execution_count": null,
      "outputs": []
    },
    {
      "cell_type": "code",
      "execution_count": null,
      "metadata": {
        "id": "Wml0C3DMquq-",
        "colab": {
          "base_uri": "https://localhost:8080/"
        },
        "outputId": "4d1163d5-c7e1-4eed-bee5-792d9dbf9c27"
      },
      "outputs": [
        {
          "output_type": "stream",
          "name": "stdout",
          "text": [
            "При вышеуказанных параметрах T1-T13, взвешенная сумма показателей STi принимает значение ((23.0, 33.0, 44.0, 58.0), (27.5, 33.0, 44.0, 51.0))\n"
          ]
        }
      ],
      "source": [
        "T1 = ((2.5, 3.5, 4.5, 5.5), (3.0, 3.5, 4.5, 5.0))   # Распределенная система, показатель от 0 до 5 включительно\n",
        "T2 = ((1.5, 2.5, 3.5, 4.5), (2.0, 2.5, 3.5, 4.0))   # Высокая производительность (пропускная способность), показатель от 0 до 5 включительно\n",
        "T3 = ((3.5, 4.5, 5.5, 6.5), (4.0, 4.5, 5.5, 6.0))   # Работа конечных пользователей в режиме он-лайн, показатель от 0 до 5 включительно\n",
        "T4 = ((0.0, 0.5, 1.5, 2.5), (0.0, 0.5, 1.5, 2.0))   # Сложная обработка данных, показатель от 0 до 5 включительно\n",
        "T5 = ((0.0, 0.0, 0.0, 1.0), (0.0, 0.0, 0.0, 0.5))   # Повторное использование кода, показатель от 0 до 5 включительно\n",
        "T6 = ((3.5, 4.5, 5.5, 6.5), (4.0, 4.5, 5.5, 6.0))   # Простота установки, показатель от 0 до 5 включительно\n",
        "T7 = ((0.5, 1.5, 2.5, 3.5), (1.0, 1.5, 2.5, 3.0))   # Простота использования, показатель от 0 до 5 включительно\n",
        "T8 = ((0.0, 0.0, 0.0, 1.0), (0.0, 0.0, 0.0, 0.5))   # Переносимость, показатель от 0 до 5 включительно\n",
        "T9 = ((2.5, 3.5, 4.5, 5.5), (3.0, 3.5, 4.5, 5.0))   # Простота внесения изменений, показатель от 0 до 5 включительно\n",
        "T10 = ((3.5, 4.5, 5.5, 6.5), (4.0, 4.5, 5.5, 6.0))  # Параллелизм, показатель от 0 до 5 включительно\n",
        "T11 = ((1.5, 2.5, 3.5, 4.5), (2.0, 2.5, 3.5, 4.0))  # Специальные требования к безопасности, показатель от 0 до 5 включительно\n",
        "T12 = ((3.5, 4.5, 5.5, 6.5), (4.0, 4.5, 5.5, 6.0))  # Непосредственный доступ к системе со стороны внешних пользователей, показатель от 0 до 5 включительно\n",
        "T13 = ((0.0, 0.5, 1.5, 2.5), (0.0, 0.5, 1.5, 2.0))  # Специальные требования к обучению пользователей, показатель от 0 до 5 включительно\n",
        "ST(T1, T2, T3, T4, T5, T6, T7, T8, T9, T10, T11, T12, T13)\n",
        "print(f\"При вышеуказанных параметрах T1-T13, взвешенная сумма показателей STi принимает значение {ST(T1, T2, T3, T4, T5, T6, T7, T8, T9, T10, T11, T12, T13)}\")"
      ]
    },
    {
      "cell_type": "code",
      "source": [
        "# Функция для округления нечеткого числа до заданного количества знаков после запятой\n",
        "def round_fuzzy_number(fuzzy_number):\n",
        "    (x1, x2, x3, x4), (x5, x6, x7, x8) = fuzzy_number\n",
        "    return (\n",
        "        (round(x1, 3), round(x2, 3), round(x3, 3), round(x4, 3)),\n",
        "        (round(x5, 3), round(x6, 3), round(x7, 3), round(x8, 3))\n",
        "    )\n",
        "\n",
        "# Вычисление TCF\n",
        "def calculate_TCF(ST_result):\n",
        "    # Умножение ST_result на 0.01\n",
        "    multiplied_result = multiply_fuzzy_number_by_constant(ST_result, 0.01)\n",
        "\n",
        "    # Константа 0.6 представляется как нечеткое трапециевидное число\n",
        "    constant_0_6 = ((0.6, 0.6, 0.6, 0.6), (0.6, 0.6, 0.6, 0.6))\n",
        "\n",
        "    # Сложение результата умножения с константой 0.6\n",
        "    final_result = add_intuitionistic_trapezoidal_fuzzy_numbers(multiplied_result, constant_0_6)\n",
        "\n",
        "    return final_result\n",
        "\n",
        "# Вычисление ST\n",
        "ST_result = ST(T1, T2, T3, T4, T5, T6, T7, T8, T9, T10, T11, T12, T13)\n",
        "\n",
        "# Вычисление TCF\n",
        "TCF_result = calculate_TCF(ST_result)\n",
        "\n",
        "# Округление итогового результата TCF до 3 знаков после запятой\n",
        "rounded_TCF_result = round_fuzzy_number(TCF_result)"
      ],
      "metadata": {
        "id": "mKDHitBn06tj"
      },
      "execution_count": null,
      "outputs": []
    },
    {
      "cell_type": "code",
      "source": [
        "print(f\"При вышеуказанных параметрах T1-T13, показатель технической сложности проекта (TCF) принимает значение {rounded_TCF_result}\")"
      ],
      "metadata": {
        "colab": {
          "base_uri": "https://localhost:8080/"
        },
        "id": "SrueLsU5jfiU",
        "outputId": "98e41fd5-ebe7-43a3-a083-558a99c967cf"
      },
      "execution_count": null,
      "outputs": [
        {
          "output_type": "stream",
          "name": "stdout",
          "text": [
            "При вышеуказанных параметрах T1-T13, показатель технической сложности проекта (TCF) принимает значение ((0.83, 0.93, 1.04, 1.18), (0.875, 0.93, 1.04, 1.11))\n"
          ]
        }
      ]
    },
    {
      "cell_type": "code",
      "execution_count": null,
      "metadata": {
        "id": "DKNJZjY7i6Oy"
      },
      "outputs": [],
      "source": [
        "# Вычисляем SFi = 1.5 * F1 + 0.5 * F2 + 1 * F3 + 0.5 * F4 + 1 * F5 + 2 * F6 - 1 * F7 - 1 * F8\n",
        "\n",
        "def SFi(F1i, F2i, F3i, F4i, F5i, F6i, F7i, F8i):\n",
        "    # Умножаем каждое нечеткое число на соответствующий коэффициент\n",
        "    F1i_weighted = multiply_fuzzy_number_by_constant(F1i, 1.5)\n",
        "    F2i_weighted = multiply_fuzzy_number_by_constant(F2i, 0.5)\n",
        "    F3i_weighted = multiply_fuzzy_number_by_constant(F3i, 1)\n",
        "    F4i_weighted = multiply_fuzzy_number_by_constant(F4i, 0.5)\n",
        "    F5i_weighted = multiply_fuzzy_number_by_constant(F5i, 1)\n",
        "    F6i_weighted = multiply_fuzzy_number_by_constant(F6i, 2)\n",
        "    F7i_weighted = multiply_fuzzy_number_by_constant(F7i, -1)\n",
        "    F8i_weighted = multiply_fuzzy_number_by_constant(F8i, -1)\n",
        "\n",
        "    # Суммируем все взвешенные нечеткие числа\n",
        "    SFii = add_intuitionistic_trapezoidal_fuzzy_numbers(F1i_weighted, F2i_weighted)\n",
        "    SFii = add_intuitionistic_trapezoidal_fuzzy_numbers(SFii, F3i_weighted)\n",
        "    SFii = add_intuitionistic_trapezoidal_fuzzy_numbers(SFii, F4i_weighted)\n",
        "    SFii = add_intuitionistic_trapezoidal_fuzzy_numbers(SFii, F5i_weighted)\n",
        "    SFii = add_intuitionistic_trapezoidal_fuzzy_numbers(SFii, F6i_weighted)\n",
        "    SFii = add_intuitionistic_trapezoidal_fuzzy_numbers(SFii, F7i_weighted)\n",
        "    SFii = add_intuitionistic_trapezoidal_fuzzy_numbers(SFii, F8i_weighted)\n",
        "\n",
        "    return SFii"
      ]
    },
    {
      "cell_type": "code",
      "source": [
        "def calculate_UFP(*params):\n",
        "    UFP = params[0]\n",
        "    for param in params[1:]:\n",
        "        UFP = add_intuitionistic_trapezoidal_fuzzy_numbers(UFP, param)\n",
        "    return UFP"
      ],
      "metadata": {
        "id": "OozQjzgLT6xN"
      },
      "execution_count": null,
      "outputs": []
    },
    {
      "cell_type": "code",
      "execution_count": null,
      "metadata": {
        "colab": {
          "base_uri": "https://localhost:8080/"
        },
        "id": "3GCa0cYbdI2C",
        "outputId": "d7b131c6-7515-493a-bf3c-8f728f922c81"
      },
      "outputs": [
        {
          "output_type": "stream",
          "name": "stdout",
          "text": [
            "При вышеуказанных параметрах F1i-F8i, взвешенная сумма показателей Fi принимает значение ((7.5, 14.75, 21.25, 28.75), (11.0, 14.75, 21.25, 25.0))\n"
          ]
        }
      ],
      "source": [
        "F1i = ((2.5, 3.5, 4.5, 5.5), (3.0, 3.5, 4.5, 5.0))   # Знакомство стехнологией, показатель от 0 до 5 включительно\n",
        "F2i = ((1.5, 2.5, 3.5, 4.5), (2.0, 2.5, 3.5, 4.0))   # Опыт разработки приложений, показатель от 0 до 5 включительно\n",
        "F3i = ((3.5, 4.5, 5.5, 6.5), (4.0, 4.5, 5.5, 6.0))   # Опыт использования объектно-ориентированного подхода, показатель от 0 до 5 включительно\n",
        "F4i = ((0.0, 0.5, 1.5, 2.5), (0.0, 0.5, 1.5, 2.0))   # Наличие ведущего аналитика, показатель от 0 до 5 включительно\n",
        "F5i = ((0.0, 0.0, 0.0, 1.0), (0.0, 0.0, 0.0, 0.5))   # Мотивация, показатель от 0 до 5 включительно\n",
        "F6i = ((3.5, 4.5, 5.5, 6.5), (4.0, 4.5, 5.5, 6.0))   # Стабильность требований, показатель от 0 до 5 включительно\n",
        "F7i = ((3.5, 4.5, 5.5, 6.5), (4.0, 4.5, 5.5, 6.0))   # Частичная занятость, показатель от 0 до 5 включительно\n",
        "F8i = ((0.0, 0.0, 0.0, 1.0), (0.0, 0.0, 0.0, 0.5))   # Сложные языки программирования, показатель от 0 до 5 включительно\n",
        "SFi(F1i, F2i, F3i, F4i, F5i, F6i, F7i, F8i)\n",
        "print(f\"При вышеуказанных параметрах F1i-F8i, взвешенная сумма показателей Fi принимает значение {SFi(F1i, F2i, F3i, F4i, F5i, F6i, F7i, F8i)}\")"
      ]
    },
    {
      "cell_type": "code",
      "execution_count": null,
      "metadata": {
        "id": "s5OFP4wZnmeu"
      },
      "outputs": [],
      "source": [
        "# Вычисление уровня квалификации разработчиков EF\n",
        "def calculate_EF(F1i, F2i, F3i, F4i, F5i, F6i, F7i, F8i):\n",
        "    # Вычисляем SFi\n",
        "    SFii = SFi(F1i, F2i, F3i, F4i, F5i, F6i, F7i, F8i)\n",
        "    # Умножаем SFi на -0.03\n",
        "    weighted_SFi = multiply_fuzzy_number_by_constant(SFii, -0.03)\n",
        "\n",
        "    # Константа 1.4 в виде нечеткого числа\n",
        "    constant_1_4 = ((1.4, 1.4, 1.4, 1.4), (1.4, 1.4, 1.4, 1.4))\n",
        "\n",
        "    # Сложение 1.4 и (-0.03 * SFi)\n",
        "    EF = add_intuitionistic_trapezoidal_fuzzy_numbers(constant_1_4, weighted_SFi)\n",
        "\n",
        "    # Округление результата до 3 знаков после запятой\n",
        "    EF_rounded = round_fuzzy_number(EF)\n",
        "\n",
        "    return EF_rounded"
      ]
    },
    {
      "cell_type": "code",
      "execution_count": null,
      "metadata": {
        "colab": {
          "base_uri": "https://localhost:8080/"
        },
        "id": "a8Qaz16xkkj_",
        "outputId": "89c81b60-8241-4253-bdb7-5230fa469d28"
      },
      "outputs": [
        {
          "output_type": "stream",
          "name": "stdout",
          "text": [
            "При вышеуказанных параметрах F1-F8, показатель уровня квалификации разработчиков (EF) принимает значение ((0.537, 0.762, 0.957, 1.175), (0.65, 0.762, 0.957, 1.07))\n"
          ]
        }
      ],
      "source": [
        "print(f\"При вышеуказанных параметрах F1-F8, показатель уровня квалификации разработчиков (EF) принимает значение {calculate_EF(F1i, F2i, F3i, F4i, F5i, F6i, F7i, F8i)}\")"
      ]
    },
    {
      "cell_type": "code",
      "source": [
        "# Вычисление итогового значения UCP\n",
        "\n",
        "# Вычисляем произведение UUCP и TCF\n",
        "UUCP_result = UUCP\n",
        "TCF_result = rounded_TCF_result\n",
        "\n",
        "# Умножаем UUCP на TCF\n",
        "UCP_intermediate = multiply_intuitionistic_trapezoidal_fuzzy_numbers(UUCP_result, TCF_result)\n",
        "\n",
        "# Умножаем полученное произведение на EF\n",
        "EF_result = calculate_EF(F1i, F2i, F3i, F4i, F5i, F6i, F7i, F8i)\n",
        "UCP_final = multiply_intuitionistic_trapezoidal_fuzzy_numbers(UCP_intermediate, EF_result)\n",
        "\n",
        "# Округляем итоговое значение UCP_final до 3 знаков после запятой\n",
        "UCP_final_rounded = round_fuzzy_number(UCP_final)"
      ],
      "metadata": {
        "id": "NLIBpd-1DfJg"
      },
      "execution_count": null,
      "outputs": []
    },
    {
      "cell_type": "code",
      "execution_count": null,
      "metadata": {
        "id": "LxZKi5cRkJ7g",
        "colab": {
          "base_uri": "https://localhost:8080/"
        },
        "outputId": "60184b3c-5f17-4363-e33b-9e191ed55682"
      },
      "outputs": [
        {
          "output_type": "stream",
          "name": "stdout",
          "text": [
            "При вышеуказанных параметрах UUCP, TCF и EF, окончательное значение UCP равно ((29.53, 57.76, 88.08, 126.97), (43.37, 57.76, 88.08, 107.9))\n"
          ]
        }
      ],
      "source": [
        "print(f\"При вышеуказанных параметрах UUCP, TCF и EF, окончательное значение UCP равно {UCP_final_rounded}\")"
      ]
    },
    {
      "cell_type": "markdown",
      "source": [
        "Для перехода от нечетких значений к четким, применим операцию альфа-среза. В результате получим четкий интервал (отрезок) значений из области определения нечеткого трапециевидного числа 2-го типа, который будет соответствовать единственному значению функции принадлежности, заданному уровнем альфа-среза."
      ],
      "metadata": {
        "id": "M8P3QviC7iKn"
      }
    },
    {
      "cell_type": "code",
      "source": [
        "# Функция вычисления альфа-среза\n",
        "def alpha_cut(fuzzy_number, alpha):\n",
        "    # Распаковка параметров нечеткого числа\n",
        "    (x1, x2, x3, x4), (x5, x6, x7, x8) = fuzzy_number\n",
        "\n",
        "    # Вычисление концов верхнего интервала альфа-среза\n",
        "    upper_start = alpha * x2 + (1 - alpha) * x1\n",
        "    upper_end = alpha * x3 + (1 - alpha) * x4\n",
        "\n",
        "    # Вычисление концов нижнего интервала альфа-среза\n",
        "    lower_start = alpha * x6 + (1 - alpha) * x5\n",
        "    lower_end = alpha * x7 + (1 - alpha) * x8\n",
        "\n",
        "    # Округляем значения до 3 знаков после запятой\n",
        "    upper_start = round(upper_start, 3)\n",
        "    upper_end = round(upper_end, 3)\n",
        "    lower_start = round(lower_start, 3)\n",
        "    lower_end = round(lower_end, 3)\n",
        "\n",
        "    # Возвращаем альфа-срез в виде нечеткого числа\n",
        "    return ((upper_start, upper_end), (lower_start, lower_end))"
      ],
      "metadata": {
        "id": "YVPkRFJBW7Cn"
      },
      "execution_count": null,
      "outputs": []
    },
    {
      "cell_type": "markdown",
      "source": [
        "Зададим уровень альфа-среза равным 0.8. Значение альфа-среза - это уровень уверенности стейкхолдеров в полученной оценке итогового результата моделирования. Левая и права граница интервала (отрезка, являющегося результатом применения альфа-среза) - это минимальное (левая граница) и максимальное (правая граница) значения, которые может принимать результат моделирования с данной степенью уверенности."
      ],
      "metadata": {
        "id": "Ah6PBDoZ8FyV"
      }
    },
    {
      "cell_type": "code",
      "source": [
        "# Вычисление альфа-среза\n",
        "alpha = 0.8\n",
        "alpha_cut_result = alpha_cut(UCP_final_rounded, alpha)\n",
        "print(f\"Альфа-срез при альфа={alpha} для UCP_final_rounded {UCP_final_rounded} равен {alpha_cut_result}\")"
      ],
      "metadata": {
        "colab": {
          "base_uri": "https://localhost:8080/"
        },
        "id": "hRaifXaOwRIc",
        "outputId": "85e95605-55bf-41f5-9929-5ad42698cc37"
      },
      "execution_count": null,
      "outputs": [
        {
          "output_type": "stream",
          "name": "stdout",
          "text": [
            "Альфа-срез при альфа=0.8 для UCP_final_rounded ((29.53, 57.76, 88.08, 126.97), (43.37, 57.76, 88.08, 107.9)) равен ((52.114, 95.858), (54.882, 92.044))\n"
          ]
        }
      ]
    },
    {
      "cell_type": "markdown",
      "source": [
        "Другими словами, с 80% уверенностью можно утверждать, что величина окончательного значения *UCP* составит от 52.11 до 95.86 ед. в верхней функции принадлежности и от 54.88 до 92.04 ед. в нижней функции принадлежности."
      ],
      "metadata": {
        "id": "8JvcWnE2_2jn"
      }
    },
    {
      "cell_type": "markdown",
      "source": [
        "Для приведения интервальных оценок к точечным результатам применяются методы усреднения, например, центроид системы двух точек, которым является является середина отрезка, соединяющего данные точки, т.е. среднее арифметическое левого и правого значения его координат (среднее минимума и максимума по оси абсцисс)."
      ],
      "metadata": {
        "id": "TZbVfa6S_gko"
      }
    },
    {
      "cell_type": "code",
      "source": [
        "# Расчет центроида системы двух точек\n",
        "def centroid(alpha_cut_result):\n",
        "    # Распаковка верхнего и нижнего отрезков альфа-среза\n",
        "    (upper_start, upper_end), (lower_start, lower_end) = alpha_cut_result\n",
        "\n",
        "    # Расчет среднего значения\n",
        "    central_upper = round((upper_start + upper_end) / 2, 3)\n",
        "    central_lower = round((lower_start + lower_end) / 2, 3)\n",
        "\n",
        "    # Возвращаем результат в нужном формате\n",
        "    return (central_upper, central_lower)\n",
        "\n",
        "alpha_cut_result = alpha_cut(UCP_final_rounded, alpha)\n",
        "central_result = centroid(alpha_cut_result)\n",
        "\n",
        "print(f\"Усредненные значения для UCP_final_rounded {UCP_final_rounded} при альфа={alpha} равны {central_result}\")\n"
      ],
      "metadata": {
        "colab": {
          "base_uri": "https://localhost:8080/"
        },
        "id": "52sl3daExVzu",
        "outputId": "0c9051a1-624e-4ec7-c4ca-3fa566b3e47e"
      },
      "execution_count": null,
      "outputs": [
        {
          "output_type": "stream",
          "name": "stdout",
          "text": [
            "Усредненные значения для UCP_final_rounded ((29.53, 57.76, 88.08, 126.97), (43.37, 57.76, 88.08, 107.9)) при альфа=0.8 равны (73.986, 73.463)\n"
          ]
        }
      ]
    },
    {
      "cell_type": "markdown",
      "source": [
        "Усредненный (четкий) итоговый результат оценки трудоемкости проекта составит составляет 73,99 *UCP* по верхней функции принадлежности и 73,46 - по нижней."
      ],
      "metadata": {
        "id": "uJGt2t7NAR4B"
      }
    },
    {
      "cell_type": "code",
      "source": [
        "# Вычисляем среднее арифметическое усредненных значений\n",
        "UCP_final_discrete = calculate_average(central_result)\n",
        "\n",
        "print(f\"Среднее значение трудоемкости по нечеткой модели составляет {UCP_final_discrete} UCP\")"
      ],
      "metadata": {
        "colab": {
          "base_uri": "https://localhost:8080/"
        },
        "id": "ONWdUALdGltP",
        "outputId": "13caa234-b6f6-4d95-fead-6cc1137acc09"
      },
      "execution_count": null,
      "outputs": [
        {
          "output_type": "stream",
          "name": "stdout",
          "text": [
            "Среднее значение трудоемкости по нечеткой модели составляет 73.725 UCP\n"
          ]
        }
      ]
    },
    {
      "cell_type": "markdown",
      "source": [
        "Итоговое усредненное четкое значение результата моделирования составит составляет 73,73 *UCP*."
      ],
      "metadata": {
        "id": "z4I7RfG9KUpN"
      }
    },
    {
      "cell_type": "markdown",
      "source": [
        "# Нечеткая модель *UCP*. Применение колеблющихся нечетких чисел."
      ],
      "metadata": {
        "id": "58VBt2QLKRFD"
      }
    },
    {
      "cell_type": "code",
      "source": [
        "# Функция для обработки результата - исключение повторов и упорядочивание по возрастанию значений функции принадлежности\n",
        "def process_fuzzy_result(fuzzy_result):\n",
        "    # Распаковка результата\n",
        "    x_value, *parameters = fuzzy_result\n",
        "\n",
        "    # Исключение повторяющихся значений и упорядочение по возрастанию\n",
        "    unique_parameters = sorted(set(parameters))\n",
        "\n",
        "    # Формирование нового кортежа с уникальными значениями\n",
        "    processed_result = (x_value, *unique_parameters)\n",
        "\n",
        "    return processed_result"
      ],
      "metadata": {
        "id": "FsiNcXWokXlU"
      },
      "execution_count": null,
      "outputs": []
    },
    {
      "cell_type": "code",
      "source": [
        "# Расчет коэффициента UAW: UAW = 1 * A1 + 2 * A2 + 3 * A3\n",
        "# Функция для умножения дискретного колеблющегося нечеткого числа на константу\n",
        "def multiply_fuzzy_number_with_constant(X, A):\n",
        "    # Распаковка параметров дискретного нечеткого числа\n",
        "    x, *parameters = X  # Извлекаем значение и параметры\n",
        "\n",
        "    # Вычисление нового значения Z\n",
        "    Z = round(A * x, 2)  # Умножение значения X на константу A\n",
        "\n",
        "    # Вычисление новых параметров для Z\n",
        "    new_parameters = [round(1 - (1 - param)**A, 2) for param in parameters]\n",
        "\n",
        "    return round(Z, 2), new_parameters\n",
        "\n",
        "# Входные данные\n",
        "X1h = (2, 0.4, 0.5)  # Количество простых действующих лиц\n",
        "A1 = 1  # Константа для умножения\n",
        "\n",
        "X2h = (2, 0.4, 0.5)  # Количество средних действующих лиц\n",
        "A2 = 2  # Константа для умножения\n",
        "\n",
        "X3h = (3, 0.4, 0.5)  # Количество сложных действующих лиц\n",
        "A3 = 3  # Константа для умножения\n",
        "\n",
        "# Умножение нечеткого числа X1h на константу A1\n",
        "result_value1, result_parameters1 = multiply_fuzzy_number_with_constant(X1h, A1)\n",
        "# Умножение нечеткого числа X2h на константу A2\n",
        "result_value2, result_parameters2 = multiply_fuzzy_number_with_constant(X2h, A2)\n",
        "# Умножение нечеткого числа X3h на константу A3\n",
        "result_value3, result_parameters3 = multiply_fuzzy_number_with_constant(X3h, A3)\n",
        "\n",
        "# Объединение результатов в кортежи\n",
        "final_result1 = (result_value1, *result_parameters1)\n",
        "final_result2 = (result_value2, *result_parameters2)\n",
        "final_result3 = (result_value3, *result_parameters3)\n",
        "\n",
        "# Вывод результатов\n",
        "print(f\"Результат умножения нечеткого числа X1 на константу A1: {final_result1}\")\n",
        "print(f\"Результат умножения нечеткого числа X2 на константу A2: {final_result2}\")\n",
        "print(f\"Результат умножения нечеткого числа X3 на константу A3: {final_result3}\")"
      ],
      "metadata": {
        "colab": {
          "base_uri": "https://localhost:8080/"
        },
        "id": "jvm5-F1ehOGW",
        "outputId": "a1a8226d-397e-4c18-b647-72866b618311"
      },
      "execution_count": null,
      "outputs": [
        {
          "output_type": "stream",
          "name": "stdout",
          "text": [
            "Результат умножения нечеткого числа X1 на константу A1: (2, 0.4, 0.5)\n",
            "Результат умножения нечеткого числа X2 на константу A2: (4, 0.64, 0.75)\n",
            "Результат умножения нечеткого числа X3 на константу A3: (9, 0.78, 0.88)\n"
          ]
        }
      ]
    },
    {
      "cell_type": "code",
      "source": [
        "# Функция для вычисления суммы дискретных колеблющихся нечетких чисел\n",
        "def add_discrete_fuzzy_numbers(X, Y):\n",
        "    # Распаковка параметров дискретных колеблющихся нечетких чисел\n",
        "    x_value, *x_parameters = X\n",
        "    y_value, *y_parameters = Y\n",
        "\n",
        "    # Список для хранения результатов\n",
        "    result_parameters = []\n",
        "\n",
        "    # Перебор всех параметров X и Y\n",
        "    for xi in x_parameters:\n",
        "        for yj in y_parameters:\n",
        "            # Вычисление параметров для Z\n",
        "            zij = round(xi + yj - xi * yj, 2)\n",
        "            result_parameters.append(zij)\n",
        "\n",
        "    # Вычисление значения Z\n",
        "    Z = round(x_value + y_value, 2)\n",
        "\n",
        "    return Z, result_parameters\n",
        "\n",
        "# Сложение final_result1 и final_result2\n",
        "sum_result1_value, sum_result1_parameters = add_discrete_fuzzy_numbers(final_result1, final_result2)\n",
        "\n",
        "# Объединение результата в кортеж\n",
        "final_result_sum1 = (sum_result1_value, *sum_result1_parameters)\n",
        "\n",
        "# Сложение полученной суммы с final_result3\n",
        "final_sum_value, final_sum_parameters = add_discrete_fuzzy_numbers(final_result_sum1, final_result3)\n",
        "\n",
        "# Объединение итогового результата в кортеж\n",
        "final_sum_result = (final_sum_value, *final_sum_parameters)\n",
        "\n",
        "# Вывод результатов\n",
        "print(f\"Коэффициент UAW принимает значение: {final_sum_result}\")\n"
      ],
      "metadata": {
        "colab": {
          "base_uri": "https://localhost:8080/"
        },
        "id": "gTc2TJRdSAHw",
        "outputId": "4b6474c3-ed9e-4ce7-8071-b8b0f522b834"
      },
      "execution_count": null,
      "outputs": [
        {
          "output_type": "stream",
          "name": "stdout",
          "text": [
            "Коэффициент UAW принимает значение: (15, 0.95, 0.97, 0.97, 0.98, 0.96, 0.98, 0.97, 0.99)\n"
          ]
        }
      ]
    },
    {
      "cell_type": "code",
      "source": [
        "# Дополнение к коду для обработки результата\n",
        "processed_result = process_fuzzy_result(final_sum_result)\n",
        "\n",
        "# Вывод обработанного результата\n",
        "print(f\"Обработанный результат UAW: {processed_result}\")\n"
      ],
      "metadata": {
        "colab": {
          "base_uri": "https://localhost:8080/"
        },
        "id": "wm3BSQ9onVAp",
        "outputId": "b0e6ff23-73bc-4da3-eca9-bb9c0387bd7c"
      },
      "execution_count": null,
      "outputs": [
        {
          "output_type": "stream",
          "name": "stdout",
          "text": [
            "Обработанный результат UAW: (15, 0.95, 0.96, 0.97, 0.98, 0.99)\n"
          ]
        }
      ]
    },
    {
      "cell_type": "code",
      "source": [
        "# Функция произведения двух дискретных колеблющихся нечетких чисел\n",
        "def multiply_discrete_fuzzy_numbers(X, Y):\n",
        "    # Распаковка параметров дискретных колеблющихся нечетких чисел\n",
        "    x_value, *x_parameters = X  # Извлекаем значение и параметры X\n",
        "    y_value, *y_parameters = Y  # Извлекаем значение и параметры Y\n",
        "\n",
        "    # Список для хранения результатов\n",
        "    result_parameters = []\n",
        "\n",
        "    # Перебор всех параметров X и Y\n",
        "    for x_param in x_parameters:\n",
        "        for y_param in y_parameters:\n",
        "            # Вычисление параметров для Z\n",
        "            z_param = round(x_param * y_param, 2)\n",
        "            result_parameters.append(z_param)\n",
        "\n",
        "    # Вычисление значения Z\n",
        "    Z_value = round(x_value * y_value, 2)\n",
        "\n",
        "    return (Z_value, *result_parameters)"
      ],
      "metadata": {
        "id": "yttVyA1Pkwcw"
      },
      "execution_count": null,
      "outputs": []
    },
    {
      "cell_type": "code",
      "source": [
        "# Вычисляем UUCW = const1 * V1 + const2 * V2 + const3 * V3\n",
        "\n",
        "# задаем удельные веса вариантов использования\n",
        "const1 = (5, 0.7, 0.8)   # Удельный вес простого варианта использования\n",
        "const2 = (10, 0.7, 0.8)  # Удельный вес среднего варианта использования\n",
        "const3 = (15, 0.7, 0.8)  # Удельный вес сложного варианта использования\n",
        "\n",
        "V1 = (0, 0.7, 0.8) # Количество простых вариантов использования\n",
        "V2 = (7, 0.7, 0.8) # Количество средних вариантов использования\n",
        "V3 = (0, 0.7, 0.8) # Количество сложных вариантов использования\n",
        "\n",
        "# Умножаем const1 на V1\n",
        "V1_weighted = multiply_discrete_fuzzy_numbers (const1, V1)\n",
        "# Умножаем const2 на V2\n",
        "V2_weighted = multiply_discrete_fuzzy_numbers (const2, V2)\n",
        "# Умножаем const3 на V3\n",
        "V3_weighted = multiply_discrete_fuzzy_numbers (const3, V3)\n",
        "\n",
        "# Сложение V1_weighted и V2_weighted\n",
        "sum_V1V2_result1_value, sum_V1V2_result1_parameters = add_discrete_fuzzy_numbers(V1_weighted, V2_weighted)\n",
        "\n",
        "# Объединение результата в кортеж\n",
        "final_V1V2_result_sum1 = (sum_V1V2_result1_value, *sum_V1V2_result1_parameters)\n",
        "\n",
        "# Сложение полученной суммы с V3_weighted\n",
        "final_sum_UUCW_value, final_sum_UUCW_parameters = add_discrete_fuzzy_numbers(final_V1V2_result_sum1, V3_weighted)\n",
        "\n",
        "# Объединение итогового результата в кортеж\n",
        "final_sum_UUCW_result = (final_sum_UUCW_value, *final_sum_UUCW_parameters)\n",
        "\n",
        "print(f\"При {V1} простых, {V2} средних, {V3} сложных вариантах использования вес вариантов использования без поправок UUCW принимает значение {final_sum_UUCW_result}\")"
      ],
      "metadata": {
        "id": "MZvraPJKiZcs",
        "colab": {
          "base_uri": "https://localhost:8080/"
        },
        "outputId": "e0a1a43a-9e47-4b96-a1bb-101108bb69fd"
      },
      "execution_count": null,
      "outputs": [
        {
          "output_type": "stream",
          "name": "stdout",
          "text": [
            "При (0, 0.7, 0.8) простых, (7, 0.7, 0.8) средних, (0, 0.7, 0.8) сложных вариантах использования вес вариантов использования без поправок UUCW принимает значение (70, 0.87, 0.89, 0.89, 0.91, 0.89, 0.9, 0.9, 0.92, 0.89, 0.9, 0.9, 0.92, 0.91, 0.92, 0.92, 0.94, 0.89, 0.9, 0.9, 0.92, 0.9, 0.92, 0.92, 0.93, 0.9, 0.92, 0.92, 0.93, 0.92, 0.93, 0.93, 0.94, 0.89, 0.9, 0.9, 0.92, 0.9, 0.92, 0.92, 0.93, 0.9, 0.92, 0.92, 0.93, 0.92, 0.93, 0.93, 0.94, 0.91, 0.92, 0.92, 0.94, 0.92, 0.93, 0.93, 0.94, 0.92, 0.93, 0.93, 0.94, 0.93, 0.94, 0.94, 0.95)\n"
          ]
        }
      ]
    },
    {
      "cell_type": "code",
      "source": [
        "# Дополнение к коду для обработки результата\n",
        "processed_result_UUCW = process_fuzzy_result(final_sum_UUCW_result)\n",
        "\n",
        "# Вывод обработанного результата\n",
        "print(f\"Обработанный результат UUCW: {processed_result_UUCW}\")"
      ],
      "metadata": {
        "colab": {
          "base_uri": "https://localhost:8080/"
        },
        "id": "BEIv_gxV3T-j",
        "outputId": "4b3326e0-d2bf-45cb-f817-9a948ec0df68"
      },
      "execution_count": null,
      "outputs": [
        {
          "output_type": "stream",
          "name": "stdout",
          "text": [
            "Обработанный результат UUCW: (70, 0.87, 0.89, 0.9, 0.91, 0.92, 0.93, 0.94, 0.95)\n"
          ]
        }
      ]
    },
    {
      "cell_type": "code",
      "source": [
        "# UUCP = UAW + UUCW\n",
        "\n",
        "# Сложение processed_result и UCP1_result\n",
        "UUCP_result_value, UUCP_result_parameters = add_discrete_fuzzy_numbers(processed_result, processed_result_UUCW)\n",
        "\n",
        "# Объединение итогового результата в кортеж\n",
        "UUCP_final_result = (UUCP_result_value, *UUCP_result_parameters)\n",
        "\n",
        "# Вывод результата\n",
        "print(f\"Значение UUCP: {UUCP_final_result}\")"
      ],
      "metadata": {
        "colab": {
          "base_uri": "https://localhost:8080/"
        },
        "id": "gLNpqMHpp0WM",
        "outputId": "10986bfe-0b1b-4507-fbf6-53ca94ae103b"
      },
      "execution_count": null,
      "outputs": [
        {
          "output_type": "stream",
          "name": "stdout",
          "text": [
            "Значение UUCP: (85, 0.99, 0.99, 1.0, 1.0, 1.0, 1.0, 1.0, 1.0, 0.99, 1.0, 1.0, 1.0, 1.0, 1.0, 1.0, 1.0, 1.0, 1.0, 1.0, 1.0, 1.0, 1.0, 1.0, 1.0, 1.0, 1.0, 1.0, 1.0, 1.0, 1.0, 1.0, 1.0, 1.0, 1.0, 1.0, 1.0, 1.0, 1.0, 1.0, 1.0)\n"
          ]
        }
      ]
    },
    {
      "cell_type": "code",
      "source": [
        "# Дополнение к коду для обработки результата\n",
        "UUCP_processed_result = process_fuzzy_result(UUCP_final_result)\n",
        "\n",
        "# Вывод обработанного результата\n",
        "print(f\"Обработанный результат UUCP: {UUCP_processed_result}\")"
      ],
      "metadata": {
        "colab": {
          "base_uri": "https://localhost:8080/"
        },
        "id": "eFHGvs8BDFgg",
        "outputId": "702dea2b-d974-4014-d205-26e2e80f0283"
      },
      "execution_count": null,
      "outputs": [
        {
          "output_type": "stream",
          "name": "stdout",
          "text": [
            "Обработанный результат UUCP: (85, 0.99, 1.0)\n"
          ]
        }
      ]
    },
    {
      "cell_type": "code",
      "source": [
        "# Вычисление STi = 2 * T1 + 1 * T2 + 1 * T3 + 1 * T4 + 1 * T5 + 0.5 * T6 + 0.5 * T7 + 2 * T8 + 1 * T9 + 1 * T10 + 1 * T11 + 1 * T12 + 1 * T13\n",
        "# Функция суммы двух дискретных колеблющихся нечетких чисел\n",
        "def add_discrete_fuzzy_numbers(X, Y):\n",
        "    x_value, *x_parameters = X\n",
        "    y_value, *y_parameters = Y\n",
        "    result_parameters = []\n",
        "\n",
        "    for xi in x_parameters:\n",
        "        for yj in y_parameters:\n",
        "            zij = round(xi + yj - xi * yj, 2)\n",
        "            result_parameters.append(zij)\n",
        "\n",
        "    Z = round(x_value + y_value, 3)\n",
        "    return (Z, *result_parameters)\n",
        "\n",
        "# Функция умножения дискретного колеблющегося нечеткого числа на константу\n",
        "def multiply_fuzzy_number_with_constant(X, A):\n",
        "    x, *parameters = X\n",
        "    Z = round(A * x, 3)\n",
        "    new_parameters = [round(1 - (1 - param)**A, 2) for param in parameters]\n",
        "    return (Z, *new_parameters)\n",
        "\n",
        "def ST(T1, T2, T3, T4, T5, T6, T7, T8, T9, T10, T11, T12, T13):\n",
        "    weights = [2, 1, 1, 1, 1, 0.5, 0.5, 2, 1, 1, 1, 1, 1]\n",
        "    inputs = [T1, T2, T3, T4, T5, T6, T7, T8, T9, T10, T11, T12, T13]\n",
        "\n",
        "    STi = (0,)\n",
        "\n",
        "    # Присвоение имен для произведений\n",
        "    results = []\n",
        "\n",
        "    for weight, input_value in zip(weights, inputs):\n",
        "        weighted_value = multiply_fuzzy_number_with_constant(input_value, weight)\n",
        "        STi = add_discrete_fuzzy_numbers(STi, weighted_value)\n",
        "        results.append(weighted_value)  # Сохраняем произведение\n",
        "\n",
        "    return STi, results\n",
        "\n",
        "# Значения показателей технической сложности проекта STi\n",
        "T1 = (4, 0.4, 0.5)   # Исходное значение\n",
        "T2 = (3, 0.4, 0.5)   # Исходное значение\n",
        "T3 = (5, 0.4, 0.5)   # Исходное значение\n",
        "T4 = (1, 0.4, 0.5)   # Исходное значение\n",
        "T5 = (0, 0.4, 0.5)   # Исходное значение\n",
        "T6 = (5, 0.4, 0.5)   # Исходное значение\n",
        "T7 = (2, 0.4, 0.5)   # Исходное значение\n",
        "T8 = (0, 0.4, 0.5)   # Исходное значение\n",
        "T9 = (4, 0.4, 0.5)   # Исходное значение\n",
        "T10 = (5, 0.4, 0.5)  # Исходное значение\n",
        "T11 = (3, 0.4, 0.5)  # Исходное значение\n",
        "T12 = (5, 0.4, 0.5)  # Исходное значение\n",
        "T13 = (1, 0.4, 0.5)  # Исходное значение\n",
        "\n",
        "# Вызов функции ST и вывод результата\n",
        "result, weighted_results = ST(T1, T2, T3, T4, T5, T6, T7, T8, T9, T10, T11, T12, T13)\n",
        "# Присвоение имен результатам\n",
        "T1h = weighted_results[0]   # Результат умножения (4, 0.4, 0.5) на 2\n",
        "T2h = weighted_results[1]   # Результат умножения (3, 0.4, 0.5) на 1\n",
        "T3h = weighted_results[2]   # Результат умножения (5, 0.4, 0.5) на 1\n",
        "T4h = weighted_results[3]   # Результат умножения (1, 0.4, 0.5) на 1\n",
        "T5h = weighted_results[4]   # Результат умножения (0, 0.4, 0.5) на 1\n",
        "T6h = weighted_results[5]   # Результат умножения (5, 0.4, 0.5) на 0.5\n",
        "T7h = weighted_results[6]   # Результат умножения (2, 0.4, 0.5) на 0.5\n",
        "T8h = weighted_results[7]   # Результат умножения (0, 0.4, 0.5) на 2\n",
        "T9h = weighted_results[8]   # Результат умножения (4, 0.4, 0.5) на 1\n",
        "T10h = weighted_results[9]  # Результат умножения (5, 0.4, 0.5) на 1\n",
        "T11h = weighted_results[10] # Результат умножения (3, 0.4, 0.5) на 1\n",
        "T12h = weighted_results[11] # Результат умножения (5, 0.4, 0.5) на 1\n",
        "T13h = weighted_results[12] # Результат умножения (1, 0.4, 0.5) на 1\n",
        "\n",
        "# Выводим результаты умножения\n",
        "for i, result in enumerate(weighted_results, start=1):\n",
        "    print(f\"T{i}h: {result}\")\n"
      ],
      "metadata": {
        "colab": {
          "base_uri": "https://localhost:8080/"
        },
        "id": "LBmxMixQ6z8O",
        "outputId": "08789492-9d2d-4e28-f090-b6639af055b6"
      },
      "execution_count": null,
      "outputs": [
        {
          "output_type": "stream",
          "name": "stdout",
          "text": [
            "T1h: (8, 0.64, 0.75)\n",
            "T2h: (3, 0.4, 0.5)\n",
            "T3h: (5, 0.4, 0.5)\n",
            "T4h: (1, 0.4, 0.5)\n",
            "T5h: (0, 0.4, 0.5)\n",
            "T6h: (2.5, 0.23, 0.29)\n",
            "T7h: (1.0, 0.23, 0.29)\n",
            "T8h: (0, 0.64, 0.75)\n",
            "T9h: (4, 0.4, 0.5)\n",
            "T10h: (5, 0.4, 0.5)\n",
            "T11h: (3, 0.4, 0.5)\n",
            "T12h: (5, 0.4, 0.5)\n",
            "T13h: (1, 0.4, 0.5)\n"
          ]
        }
      ]
    },
    {
      "cell_type": "code",
      "source": [
        "# Список всех нечетких чисел\n",
        "fuzzy_numbers = [T1h, T2h, T3h, T4h, T5h, T6h, T7h, T8h, T9h, T10h, T11h, T12h, T13h]\n",
        "\n",
        "# Начинаем с первого нечеткого числа\n",
        "current_sum = fuzzy_numbers[0]\n",
        "\n",
        "# Поочередно складываем все нечеткие числа\n",
        "for fuzzy_number in fuzzy_numbers[1:]:\n",
        "    current_sum = add_discrete_fuzzy_numbers(current_sum, fuzzy_number)\n",
        "\n",
        "# Вывод результата\n",
        "print(f\"Итоговая сумма всех нечетких чисел: {current_sum}\")  # Вывод суммы\n"
      ],
      "metadata": {
        "colab": {
          "base_uri": "https://localhost:8080/"
        },
        "id": "oVeYNTXiBAHC",
        "outputId": "a36d2053-4b8e-4aed-c295-a37b278bf5ea"
      },
      "execution_count": null,
      "outputs": [
        {
          "output_type": "stream",
          "name": "stdout",
          "text": [
            "Итоговая сумма всех нечетких чисел: (38.5, 0.99, 0.99, 0.99, 0.99, 0.99, 0.99, 0.99, 0.99, 0.99, 0.99, 0.99, 0.99, 0.99, 0.99, 0.99, 0.99, 0.99, 0.99, 0.99, 0.99, 0.99, 0.99, 0.99, 0.99, 0.99, 0.99, 0.99, 0.99, 0.99, 0.99, 0.99, 0.99, 0.99, 0.99, 0.99, 0.99, 0.99, 0.99, 0.99, 0.99, 0.99, 0.99, 0.99, 0.99, 0.99, 0.99, 0.99, 0.99, 0.99, 0.99, 0.99, 0.99, 0.99, 0.99, 0.99, 0.99, 0.99, 0.99, 0.99, 0.99, 0.99, 0.99, 0.99, 0.99, 0.99, 0.99, 0.99, 0.99, 0.99, 0.99, 0.99, 0.99, 0.99, 0.99, 0.99, 0.99, 0.99, 0.99, 0.99, 0.99, 0.99, 0.99, 0.99, 0.99, 0.99, 0.99, 0.99, 0.99, 0.99, 0.99, 0.99, 0.99, 0.99, 0.99, 0.99, 0.99, 0.99, 0.99, 0.99, 0.99, 0.99, 0.99, 0.99, 0.99, 0.99, 0.99, 0.99, 0.99, 0.99, 0.99, 0.99, 0.99, 0.99, 0.99, 0.99, 0.99, 0.99, 0.99, 0.99, 0.99, 0.99, 0.99, 0.99, 0.99, 0.99, 0.99, 0.99, 0.99, 0.99, 0.99, 0.99, 0.99, 0.99, 0.99, 0.99, 0.99, 0.99, 0.99, 0.99, 0.99, 0.99, 0.99, 0.99, 0.99, 0.99, 0.99, 0.99, 0.99, 0.99, 0.99, 0.99, 0.99, 0.99, 0.99, 0.99, 0.99, 0.99, 0.99, 0.99, 0.99, 0.99, 0.99, 0.99, 0.99, 0.99, 0.99, 0.99, 0.99, 0.99, 0.99, 0.99, 0.99, 0.99, 0.99, 0.99, 0.99, 0.99, 0.99, 0.99, 0.99, 0.99, 0.99, 0.99, 0.99, 0.99, 0.99, 0.99, 0.99, 0.99, 0.99, 0.99, 0.99, 0.99, 0.99, 0.99, 0.99, 0.99, 0.99, 0.99, 0.99, 0.99, 0.99, 0.99, 0.99, 0.99, 0.99, 0.99, 0.99, 0.99, 0.99, 0.99, 0.99, 0.99, 0.99, 0.99, 0.99, 0.99, 0.99, 0.99, 0.99, 0.99, 0.99, 0.99, 0.99, 0.99, 0.99, 0.99, 0.99, 0.99, 0.99, 0.99, 0.99, 0.99, 0.99, 0.99, 0.99, 0.99, 0.99, 0.99, 0.99, 0.99, 0.99, 0.99, 0.99, 0.99, 0.99, 0.99, 0.99, 0.99, 0.99, 0.99, 0.99, 0.99, 0.99, 0.99, 0.99, 0.99, 0.99, 0.99, 0.99, 0.99, 0.99, 0.99, 0.99, 0.99, 0.99, 0.99, 0.99, 0.99, 0.99, 0.99, 0.99, 0.99, 0.99, 0.99, 0.99, 0.99, 0.99, 0.99, 0.99, 0.99, 0.99, 0.99, 0.99, 0.99, 0.99, 0.99, 0.99, 0.99, 0.99, 0.99, 0.99, 0.99, 0.99, 0.99, 0.99, 0.99, 0.99, 0.99, 0.99, 0.99, 0.99, 0.99, 0.99, 0.99, 0.99, 0.99, 0.99, 0.99, 0.99, 0.99, 0.99, 0.99, 0.99, 0.99, 0.99, 0.99, 0.99, 0.99, 0.99, 0.99, 0.99, 0.99, 0.99, 0.99, 0.99, 0.99, 0.99, 0.99, 0.99, 0.99, 0.99, 0.99, 0.99, 0.99, 0.99, 0.99, 0.99, 0.99, 0.99, 0.99, 0.99, 0.99, 0.99, 0.99, 0.99, 0.99, 0.99, 0.99, 0.99, 0.99, 0.99, 0.99, 0.99, 0.99, 0.99, 0.99, 0.99, 0.99, 0.99, 0.99, 0.99, 0.99, 0.99, 0.99, 0.99, 0.99, 0.99, 0.99, 0.99, 0.99, 0.99, 0.99, 0.99, 0.99, 0.99, 0.99, 0.99, 0.99, 0.99, 0.99, 0.99, 0.99, 0.99, 0.99, 0.99, 0.99, 0.99, 0.99, 0.99, 0.99, 0.99, 0.99, 0.99, 0.99, 0.99, 0.99, 0.99, 0.99, 0.99, 0.99, 0.99, 0.99, 0.99, 0.99, 0.99, 0.99, 0.99, 0.99, 0.99, 0.99, 0.99, 0.99, 0.99, 0.99, 0.99, 0.99, 0.99, 0.99, 0.99, 0.99, 0.99, 0.99, 0.99, 0.99, 0.99, 0.99, 0.99, 0.99, 0.99, 0.99, 0.99, 0.99, 0.99, 0.99, 0.99, 0.99, 0.99, 0.99, 0.99, 0.99, 0.99, 0.99, 0.99, 0.99, 0.99, 0.99, 0.99, 0.99, 0.99, 0.99, 0.99, 0.99, 0.99, 0.99, 0.99, 0.99, 0.99, 0.99, 0.99, 0.99, 0.99, 0.99, 0.99, 0.99, 0.99, 0.99, 0.99, 0.99, 0.99, 0.99, 0.99, 0.99, 0.99, 0.99, 0.99, 0.99, 0.99, 0.99, 0.99, 0.99, 0.99, 0.99, 0.99, 0.99, 0.99, 0.99, 0.99, 0.99, 0.99, 0.99, 0.99, 0.99, 0.99, 0.99, 0.99, 0.99, 0.99, 0.99, 0.99, 0.99, 0.99, 0.99, 0.99, 0.99, 0.99, 0.99, 0.99, 0.99, 0.99, 0.99, 0.99, 0.99, 0.99, 0.99, 0.99, 0.99, 0.99, 0.99, 0.99, 0.99, 0.99, 0.99, 0.99, 0.99, 0.99, 0.99, 0.99, 0.99, 0.99, 0.99, 0.99, 0.99, 0.99, 0.99, 0.99, 0.99, 0.99, 0.99, 0.99, 0.99, 0.99, 0.99, 0.99, 0.99, 0.99, 0.99, 0.99, 0.99, 0.99, 0.99, 0.99, 0.99, 0.99, 0.99, 0.99, 0.99, 0.99, 0.99, 0.99, 0.99, 0.99, 0.99, 0.99, 0.99, 0.99, 0.99, 0.99, 0.99, 0.99, 0.99, 0.99, 0.99, 0.99, 0.99, 0.99, 0.99, 0.99, 0.99, 0.99, 0.99, 0.99, 0.99, 0.99, 0.99, 0.99, 0.99, 0.99, 0.99, 0.99, 0.99, 0.99, 0.99, 0.99, 0.99, 0.99, 0.99, 0.99, 0.99, 0.99, 0.99, 0.99, 0.99, 0.99, 0.99, 0.99, 0.99, 0.99, 0.99, 0.99, 0.99, 0.99, 0.99, 0.99, 0.99, 0.99, 0.99, 0.99, 0.99, 0.99, 0.99, 0.99, 0.99, 0.99, 0.99, 0.99, 0.99, 0.99, 0.99, 0.99, 0.99, 0.99, 0.99, 0.99, 0.99, 0.99, 0.99, 0.99, 0.99, 0.99, 0.99, 0.99, 0.99, 0.99, 0.99, 0.99, 0.99, 0.99, 0.99, 0.99, 0.99, 0.99, 0.99, 0.99, 0.99, 0.99, 0.99, 0.99, 0.99, 0.99, 0.99, 0.99, 0.99, 0.99, 0.99, 0.99, 0.99, 0.99, 0.99, 0.99, 0.99, 0.99, 0.99, 0.99, 0.99, 0.99, 0.99, 0.99, 0.99, 0.99, 0.99, 0.99, 0.99, 0.99, 0.99, 0.99, 0.99, 0.99, 0.99, 0.99, 0.99, 0.99, 0.99, 0.99, 0.99, 0.99, 0.99, 0.99, 0.99, 0.99, 0.99, 0.99, 0.99, 0.99, 0.99, 0.99, 0.99, 0.99, 0.99, 0.99, 0.99, 0.99, 0.99, 0.99, 0.99, 0.99, 0.99, 0.99, 0.99, 0.99, 0.99, 0.99, 0.99, 0.99, 0.99, 0.99, 0.99, 0.99, 0.99, 0.99, 0.99, 0.99, 0.99, 0.99, 0.99, 0.99, 0.99, 0.99, 0.99, 0.99, 0.99, 0.99, 0.99, 0.99, 0.99, 0.99, 0.99, 0.99, 0.99, 0.99, 0.99, 0.99, 0.99, 0.99, 0.99, 0.99, 0.99, 0.99, 0.99, 0.99, 0.99, 0.99, 0.99, 0.99, 0.99, 0.99, 0.99, 0.99, 0.99, 0.99, 0.99, 0.99, 0.99, 0.99, 0.99, 0.99, 0.99, 0.99, 0.99, 0.99, 0.99, 0.99, 0.99, 0.99, 0.99, 0.99, 0.99, 0.99, 0.99, 0.99, 0.99, 0.99, 0.99, 0.99, 0.99, 0.99, 0.99, 0.99, 0.99, 0.99, 0.99, 0.99, 0.99, 0.99, 0.99, 0.99, 0.99, 0.99, 0.99, 0.99, 0.99, 0.99, 0.99, 0.99, 0.99, 0.99, 0.99, 0.99, 0.99, 0.99, 0.99, 0.99, 0.99, 0.99, 0.99, 0.99, 0.99, 0.99, 0.99, 0.99, 0.99, 0.99, 1.0, 1.0, 1.0, 1.0, 1.0, 1.0, 1.0, 1.0, 1.0, 1.0, 1.0, 1.0, 1.0, 1.0, 1.0, 1.0, 1.0, 1.0, 1.0, 1.0, 1.0, 1.0, 1.0, 1.0, 1.0, 1.0, 1.0, 1.0, 1.0, 1.0, 1.0, 1.0, 1.0, 1.0, 1.0, 1.0, 1.0, 1.0, 1.0, 1.0, 1.0, 1.0, 1.0, 1.0, 1.0, 1.0, 1.0, 1.0, 1.0, 1.0, 1.0, 1.0, 1.0, 1.0, 1.0, 1.0, 1.0, 1.0, 1.0, 1.0, 1.0, 1.0, 1.0, 1.0, 0.99, 0.99, 0.99, 0.99, 0.99, 0.99, 0.99, 0.99, 0.99, 0.99, 0.99, 0.99, 0.99, 0.99, 0.99, 0.99, 0.99, 0.99, 0.99, 0.99, 0.99, 0.99, 0.99, 0.99, 0.99, 0.99, 0.99, 0.99, 0.99, 0.99, 0.99, 0.99, 0.99, 0.99, 0.99, 0.99, 0.99, 0.99, 0.99, 0.99, 0.99, 0.99, 0.99, 0.99, 0.99, 0.99, 0.99, 0.99, 0.99, 0.99, 0.99, 0.99, 0.99, 0.99, 0.99, 0.99, 0.99, 0.99, 0.99, 0.99, 0.99, 0.99, 0.99, 0.99, 1.0, 1.0, 1.0, 1.0, 1.0, 1.0, 1.0, 1.0, 1.0, 1.0, 1.0, 1.0, 1.0, 1.0, 1.0, 1.0, 1.0, 1.0, 1.0, 1.0, 1.0, 1.0, 1.0, 1.0, 1.0, 1.0, 1.0, 1.0, 1.0, 1.0, 1.0, 1.0, 1.0, 1.0, 1.0, 1.0, 1.0, 1.0, 1.0, 1.0, 1.0, 1.0, 1.0, 1.0, 1.0, 1.0, 1.0, 1.0, 1.0, 1.0, 1.0, 1.0, 1.0, 1.0, 1.0, 1.0, 1.0, 1.0, 1.0, 1.0, 1.0, 1.0, 1.0, 1.0, 0.99, 0.99, 0.99, 0.99, 0.99, 0.99, 0.99, 0.99, 0.99, 0.99, 0.99, 0.99, 0.99, 0.99, 0.99, 0.99, 0.99, 0.99, 0.99, 0.99, 0.99, 0.99, 0.99, 0.99, 0.99, 0.99, 0.99, 0.99, 0.99, 0.99, 0.99, 0.99, 0.99, 0.99, 0.99, 0.99, 0.99, 0.99, 0.99, 0.99, 0.99, 0.99, 0.99, 0.99, 0.99, 0.99, 0.99, 0.99, 0.99, 0.99, 0.99, 0.99, 0.99, 0.99, 0.99, 0.99, 0.99, 0.99, 0.99, 0.99, 0.99, 0.99, 0.99, 0.99, 0.99, 0.99, 0.99, 0.99, 0.99, 0.99, 0.99, 0.99, 0.99, 0.99, 0.99, 0.99, 0.99, 0.99, 0.99, 0.99, 0.99, 0.99, 0.99, 0.99, 0.99, 0.99, 0.99, 0.99, 0.99, 0.99, 0.99, 0.99, 0.99, 0.99, 0.99, 0.99, 0.99, 0.99, 0.99, 0.99, 0.99, 0.99, 0.99, 0.99, 0.99, 0.99, 0.99, 0.99, 0.99, 0.99, 0.99, 0.99, 0.99, 0.99, 0.99, 0.99, 0.99, 0.99, 0.99, 0.99, 0.99, 0.99, 0.99, 0.99, 0.99, 0.99, 0.99, 0.99, 0.99, 0.99, 0.99, 0.99, 0.99, 0.99, 0.99, 0.99, 0.99, 0.99, 0.99, 0.99, 0.99, 0.99, 0.99, 0.99, 0.99, 0.99, 0.99, 0.99, 0.99, 0.99, 0.99, 0.99, 0.99, 0.99, 0.99, 0.99, 0.99, 0.99, 0.99, 0.99, 0.99, 0.99, 0.99, 0.99, 0.99, 0.99, 0.99, 0.99, 0.99, 0.99, 0.99, 0.99, 0.99, 0.99, 0.99, 0.99, 0.99, 0.99, 0.99, 0.99, 0.99, 0.99, 0.99, 0.99, 0.99, 0.99, 0.99, 0.99, 0.99, 0.99, 0.99, 0.99, 0.99, 0.99, 0.99, 0.99, 0.99, 0.99, 0.99, 0.99, 0.99, 0.99, 0.99, 0.99, 0.99, 0.99, 0.99, 0.99, 0.99, 0.99, 0.99, 0.99, 0.99, 0.99, 0.99, 0.99, 0.99, 0.99, 0.99, 0.99, 0.99, 0.99, 0.99, 0.99, 0.99, 0.99, 0.99, 0.99, 0.99, 0.99, 0.99, 0.99, 0.99, 0.99, 0.99, 0.99, 0.99, 0.99, 0.99, 0.99, 0.99, 0.99, 0.99, 0.99, 0.99, 0.99, 0.99, 0.99, 0.99, 0.99, 0.99, 0.99, 0.99, 0.99, 0.99, 0.99, 0.99, 0.99, 0.99, 0.99, 0.99, 0.99, 0.99, 0.99, 0.99, 0.99, 0.99, 0.99, 0.99, 0.99, 0.99, 0.99, 0.99, 0.99, 0.99, 0.99, 0.99, 0.99, 0.99, 0.99, 0.99, 0.99, 0.99, 0.99, 0.99, 0.99, 0.99, 0.99, 0.99, 0.99, 0.99, 0.99, 0.99, 0.99, 0.99, 0.99, 0.99, 0.99, 0.99, 0.99, 0.99, 0.99, 0.99, 0.99, 0.99, 0.99, 0.99, 0.99, 0.99, 0.99, 0.99, 0.99, 0.99, 0.99, 0.99, 0.99, 0.99, 0.99, 0.99, 0.99, 1.0, 1.0, 1.0, 1.0, 1.0, 1.0, 1.0, 1.0, 1.0, 1.0, 1.0, 1.0, 1.0, 1.0, 1.0, 1.0, 1.0, 1.0, 1.0, 1.0, 1.0, 1.0, 1.0, 1.0, 1.0, 1.0, 1.0, 1.0, 1.0, 1.0, 1.0, 1.0, 1.0, 1.0, 1.0, 1.0, 1.0, 1.0, 1.0, 1.0, 1.0, 1.0, 1.0, 1.0, 1.0, 1.0, 1.0, 1.0, 1.0, 1.0, 1.0, 1.0, 1.0, 1.0, 1.0, 1.0, 1.0, 1.0, 1.0, 1.0, 1.0, 1.0, 1.0, 1.0, 0.99, 0.99, 0.99, 0.99, 0.99, 0.99, 0.99, 0.99, 0.99, 0.99, 0.99, 0.99, 0.99, 0.99, 0.99, 0.99, 0.99, 0.99, 0.99, 0.99, 0.99, 0.99, 0.99, 0.99, 0.99, 0.99, 0.99, 0.99, 0.99, 0.99, 0.99, 0.99, 0.99, 0.99, 0.99, 0.99, 0.99, 0.99, 0.99, 0.99, 0.99, 0.99, 0.99, 0.99, 0.99, 0.99, 0.99, 0.99, 0.99, 0.99, 0.99, 0.99, 0.99, 0.99, 0.99, 0.99, 0.99, 0.99, 0.99, 0.99, 0.99, 0.99, 0.99, 0.99, 1.0, 1.0, 1.0, 1.0, 1.0, 1.0, 1.0, 1.0, 1.0, 1.0, 1.0, 1.0, 1.0, 1.0, 1.0, 1.0, 1.0, 1.0, 1.0, 1.0, 1.0, 1.0, 1.0, 1.0, 1.0, 1.0, 1.0, 1.0, 1.0, 1.0, 1.0, 1.0, 1.0, 1.0, 1.0, 1.0, 1.0, 1.0, 1.0, 1.0, 1.0, 1.0, 1.0, 1.0, 1.0, 1.0, 1.0, 1.0, 1.0, 1.0, 1.0, 1.0, 1.0, 1.0, 1.0, 1.0, 1.0, 1.0, 1.0, 1.0, 1.0, 1.0, 1.0, 1.0, 0.99, 0.99, 0.99, 0.99, 0.99, 0.99, 0.99, 0.99, 0.99, 0.99, 0.99, 0.99, 0.99, 0.99, 0.99, 0.99, 0.99, 0.99, 0.99, 0.99, 0.99, 0.99, 0.99, 0.99, 0.99, 0.99, 0.99, 0.99, 0.99, 0.99, 0.99, 0.99, 0.99, 0.99, 0.99, 0.99, 0.99, 0.99, 0.99, 0.99, 0.99, 0.99, 0.99, 0.99, 0.99, 0.99, 0.99, 0.99, 0.99, 0.99, 0.99, 0.99, 0.99, 0.99, 0.99, 0.99, 0.99, 0.99, 0.99, 0.99, 0.99, 0.99, 0.99, 0.99, 1.0, 1.0, 1.0, 1.0, 1.0, 1.0, 1.0, 1.0, 1.0, 1.0, 1.0, 1.0, 1.0, 1.0, 1.0, 1.0, 1.0, 1.0, 1.0, 1.0, 1.0, 1.0, 1.0, 1.0, 1.0, 1.0, 1.0, 1.0, 1.0, 1.0, 1.0, 1.0, 1.0, 1.0, 1.0, 1.0, 1.0, 1.0, 1.0, 1.0, 1.0, 1.0, 1.0, 1.0, 1.0, 1.0, 1.0, 1.0, 1.0, 1.0, 1.0, 1.0, 1.0, 1.0, 1.0, 1.0, 1.0, 1.0, 1.0, 1.0, 1.0, 1.0, 1.0, 1.0, 0.99, 0.99, 0.99, 0.99, 0.99, 0.99, 0.99, 0.99, 0.99, 0.99, 0.99, 0.99, 0.99, 0.99, 0.99, 0.99, 0.99, 0.99, 0.99, 0.99, 0.99, 0.99, 0.99, 0.99, 0.99, 0.99, 0.99, 0.99, 0.99, 0.99, 0.99, 0.99, 0.99, 0.99, 0.99, 0.99, 0.99, 0.99, 0.99, 0.99, 0.99, 0.99, 0.99, 0.99, 0.99, 0.99, 0.99, 0.99, 0.99, 0.99, 0.99, 0.99, 0.99, 0.99, 0.99, 0.99, 0.99, 0.99, 0.99, 0.99, 0.99, 0.99, 0.99, 0.99, 1.0, 1.0, 1.0, 1.0, 1.0, 1.0, 1.0, 1.0, 1.0, 1.0, 1.0, 1.0, 1.0, 1.0, 1.0, 1.0, 1.0, 1.0, 1.0, 1.0, 1.0, 1.0, 1.0, 1.0, 1.0, 1.0, 1.0, 1.0, 1.0, 1.0, 1.0, 1.0, 1.0, 1.0, 1.0, 1.0, 1.0, 1.0, 1.0, 1.0, 1.0, 1.0, 1.0, 1.0, 1.0, 1.0, 1.0, 1.0, 1.0, 1.0, 1.0, 1.0, 1.0, 1.0, 1.0, 1.0, 1.0, 1.0, 1.0, 1.0, 1.0, 1.0, 1.0, 1.0, 0.99, 0.99, 0.99, 0.99, 0.99, 0.99, 0.99, 0.99, 0.99, 0.99, 0.99, 0.99, 0.99, 0.99, 0.99, 0.99, 0.99, 0.99, 0.99, 0.99, 0.99, 0.99, 0.99, 0.99, 0.99, 0.99, 0.99, 0.99, 0.99, 0.99, 0.99, 0.99, 0.99, 0.99, 0.99, 0.99, 0.99, 0.99, 0.99, 0.99, 0.99, 0.99, 0.99, 0.99, 0.99, 0.99, 0.99, 0.99, 0.99, 0.99, 0.99, 0.99, 0.99, 0.99, 0.99, 0.99, 0.99, 0.99, 0.99, 0.99, 0.99, 0.99, 0.99, 0.99, 1.0, 1.0, 1.0, 1.0, 1.0, 1.0, 1.0, 1.0, 1.0, 1.0, 1.0, 1.0, 1.0, 1.0, 1.0, 1.0, 1.0, 1.0, 1.0, 1.0, 1.0, 1.0, 1.0, 1.0, 1.0, 1.0, 1.0, 1.0, 1.0, 1.0, 1.0, 1.0, 1.0, 1.0, 1.0, 1.0, 1.0, 1.0, 1.0, 1.0, 1.0, 1.0, 1.0, 1.0, 1.0, 1.0, 1.0, 1.0, 1.0, 1.0, 1.0, 1.0, 1.0, 1.0, 1.0, 1.0, 1.0, 1.0, 1.0, 1.0, 1.0, 1.0, 1.0, 1.0, 0.99, 0.99, 0.99, 0.99, 0.99, 0.99, 0.99, 0.99, 0.99, 0.99, 0.99, 0.99, 0.99, 0.99, 0.99, 0.99, 0.99, 0.99, 0.99, 0.99, 0.99, 0.99, 0.99, 0.99, 0.99, 0.99, 0.99, 0.99, 0.99, 0.99, 0.99, 0.99, 0.99, 0.99, 0.99, 0.99, 0.99, 0.99, 0.99, 0.99, 0.99, 0.99, 0.99, 0.99, 0.99, 0.99, 0.99, 0.99, 0.99, 0.99, 0.99, 0.99, 0.99, 0.99, 0.99, 0.99, 0.99, 0.99, 0.99, 0.99, 0.99, 0.99, 0.99, 0.99, 1.0, 1.0, 1.0, 1.0, 1.0, 1.0, 1.0, 1.0, 1.0, 1.0, 1.0, 1.0, 1.0, 1.0, 1.0, 1.0, 1.0, 1.0, 1.0, 1.0, 1.0, 1.0, 1.0, 1.0, 1.0, 1.0, 1.0, 1.0, 1.0, 1.0, 1.0, 1.0, 1.0, 1.0, 1.0, 1.0, 1.0, 1.0, 1.0, 1.0, 1.0, 1.0, 1.0, 1.0, 1.0, 1.0, 1.0, 1.0, 1.0, 1.0, 1.0, 1.0, 1.0, 1.0, 1.0, 1.0, 1.0, 1.0, 1.0, 1.0, 1.0, 1.0, 1.0, 1.0, 0.99, 0.99, 0.99, 0.99, 0.99, 0.99, 0.99, 0.99, 0.99, 0.99, 0.99, 0.99, 0.99, 0.99, 0.99, 0.99, 0.99, 0.99, 0.99, 0.99, 0.99, 0.99, 0.99, 0.99, 0.99, 0.99, 0.99, 0.99, 0.99, 0.99, 0.99, 0.99, 0.99, 0.99, 0.99, 0.99, 0.99, 0.99, 0.99, 0.99, 0.99, 0.99, 0.99, 0.99, 0.99, 0.99, 0.99, 0.99, 0.99, 0.99, 0.99, 0.99, 0.99, 0.99, 0.99, 0.99, 0.99, 0.99, 0.99, 0.99, 0.99, 0.99, 0.99, 0.99, 0.99, 0.99, 0.99, 0.99, 0.99, 0.99, 0.99, 0.99, 0.99, 0.99, 0.99, 0.99, 0.99, 0.99, 0.99, 0.99, 0.99, 0.99, 0.99, 0.99, 0.99, 0.99, 0.99, 0.99, 0.99, 0.99, 0.99, 0.99, 0.99, 0.99, 0.99, 0.99, 0.99, 0.99, 0.99, 0.99, 0.99, 0.99, 0.99, 0.99, 0.99, 0.99, 0.99, 0.99, 0.99, 0.99, 0.99, 0.99, 0.99, 0.99, 0.99, 0.99, 0.99, 0.99, 0.99, 0.99, 0.99, 0.99, 0.99, 0.99, 0.99, 0.99, 0.99, 0.99, 0.99, 0.99, 0.99, 0.99, 0.99, 0.99, 0.99, 0.99, 0.99, 0.99, 0.99, 0.99, 0.99, 0.99, 0.99, 0.99, 0.99, 0.99, 0.99, 0.99, 0.99, 0.99, 0.99, 0.99, 0.99, 0.99, 0.99, 0.99, 0.99, 0.99, 0.99, 0.99, 0.99, 0.99, 0.99, 0.99, 0.99, 0.99, 0.99, 0.99, 0.99, 0.99, 0.99, 0.99, 0.99, 0.99, 0.99, 0.99, 0.99, 0.99, 0.99, 0.99, 0.99, 0.99, 0.99, 0.99, 0.99, 0.99, 0.99, 0.99, 0.99, 0.99, 0.99, 0.99, 0.99, 0.99, 0.99, 0.99, 0.99, 0.99, 0.99, 0.99, 0.99, 0.99, 0.99, 0.99, 0.99, 0.99, 0.99, 0.99, 0.99, 0.99, 0.99, 0.99, 0.99, 0.99, 0.99, 0.99, 0.99, 0.99, 0.99, 0.99, 0.99, 0.99, 0.99, 0.99, 0.99, 0.99, 0.99, 0.99, 0.99, 0.99, 0.99, 0.99, 0.99, 0.99, 0.99, 0.99, 0.99, 0.99, 0.99, 0.99, 0.99, 0.99, 0.99, 0.99, 0.99, 0.99, 0.99, 0.99, 0.99, 0.99, 0.99, 0.99, 0.99, 0.99, 0.99, 0.99, 0.99, 0.99, 0.99, 0.99, 0.99, 0.99, 0.99, 0.99, 0.99, 0.99, 0.99, 0.99, 0.99, 0.99, 0.99, 0.99, 0.99, 0.99, 0.99, 0.99, 0.99, 0.99, 0.99, 0.99, 0.99, 0.99, 0.99, 0.99, 0.99, 0.99, 0.99, 0.99, 0.99, 0.99, 0.99, 0.99, 0.99, 0.99, 0.99, 0.99, 0.99, 0.99, 0.99, 0.99, 0.99, 0.99, 0.99, 0.99, 0.99, 0.99, 0.99, 0.99, 0.99, 0.99, 0.99, 0.99, 0.99, 0.99, 0.99, 0.99, 0.99, 0.99, 0.99, 0.99, 1.0, 1.0, 1.0, 1.0, 1.0, 1.0, 1.0, 1.0, 1.0, 1.0, 1.0, 1.0, 1.0, 1.0, 1.0, 1.0, 1.0, 1.0, 1.0, 1.0, 1.0, 1.0, 1.0, 1.0, 1.0, 1.0, 1.0, 1.0, 1.0, 1.0, 1.0, 1.0, 1.0, 1.0, 1.0, 1.0, 1.0, 1.0, 1.0, 1.0, 1.0, 1.0, 1.0, 1.0, 1.0, 1.0, 1.0, 1.0, 1.0, 1.0, 1.0, 1.0, 1.0, 1.0, 1.0, 1.0, 1.0, 1.0, 1.0, 1.0, 1.0, 1.0, 1.0, 1.0, 0.99, 0.99, 0.99, 0.99, 0.99, 0.99, 0.99, 0.99, 0.99, 0.99, 0.99, 0.99, 0.99, 0.99, 0.99, 0.99, 0.99, 0.99, 0.99, 0.99, 0.99, 0.99, 0.99, 0.99, 0.99, 0.99, 0.99, 0.99, 0.99, 0.99, 0.99, 0.99, 0.99, 0.99, 0.99, 0.99, 0.99, 0.99, 0.99, 0.99, 0.99, 0.99, 0.99, 0.99, 0.99, 0.99, 0.99, 0.99, 0.99, 0.99, 0.99, 0.99, 0.99, 0.99, 0.99, 0.99, 0.99, 0.99, 0.99, 0.99, 0.99, 0.99, 0.99, 0.99, 1.0, 1.0, 1.0, 1.0, 1.0, 1.0, 1.0, 1.0, 1.0, 1.0, 1.0, 1.0, 1.0, 1.0, 1.0, 1.0, 1.0, 1.0, 1.0, 1.0, 1.0, 1.0, 1.0, 1.0, 1.0, 1.0, 1.0, 1.0, 1.0, 1.0, 1.0, 1.0, 1.0, 1.0, 1.0, 1.0, 1.0, 1.0, 1.0, 1.0, 1.0, 1.0, 1.0, 1.0, 1.0, 1.0, 1.0, 1.0, 1.0, 1.0, 1.0, 1.0, 1.0, 1.0, 1.0, 1.0, 1.0, 1.0, 1.0, 1.0, 1.0, 1.0, 1.0, 1.0, 0.99, 0.99, 0.99, 0.99, 0.99, 0.99, 0.99, 0.99, 0.99, 0.99, 0.99, 0.99, 0.99, 0.99, 0.99, 0.99, 0.99, 0.99, 0.99, 0.99, 0.99, 0.99, 0.99, 0.99, 0.99, 0.99, 0.99, 0.99, 0.99, 0.99, 0.99, 0.99, 0.99, 0.99, 0.99, 0.99, 0.99, 0.99, 0.99, 0.99, 0.99, 0.99, 0.99, 0.99, 0.99, 0.99, 0.99, 0.99, 0.99, 0.99, 0.99, 0.99, 0.99, 0.99, 0.99, 0.99, 0.99, 0.99, 0.99, 0.99, 0.99, 0.99, 0.99, 0.99, 1.0, 1.0, 1.0, 1.0, 1.0, 1.0, 1.0, 1.0, 1.0, 1.0, 1.0, 1.0, 1.0, 1.0, 1.0, 1.0, 1.0, 1.0, 1.0, 1.0, 1.0, 1.0, 1.0, 1.0, 1.0, 1.0, 1.0, 1.0, 1.0, 1.0, 1.0, 1.0, 1.0, 1.0, 1.0, 1.0, 1.0, 1.0, 1.0, 1.0, 1.0, 1.0, 1.0, 1.0, 1.0, 1.0, 1.0, 1.0, 1.0, 1.0, 1.0, 1.0, 1.0, 1.0, 1.0, 1.0, 1.0, 1.0, 1.0, 1.0, 1.0, 1.0, 1.0, 1.0, 0.99, 0.99, 0.99, 0.99, 0.99, 0.99, 0.99, 0.99, 0.99, 0.99, 0.99, 0.99, 0.99, 0.99, 0.99, 0.99, 0.99, 0.99, 0.99, 0.99, 0.99, 0.99, 0.99, 0.99, 0.99, 0.99, 0.99, 0.99, 0.99, 0.99, 0.99, 0.99, 0.99, 0.99, 0.99, 0.99, 0.99, 0.99, 0.99, 0.99, 0.99, 0.99, 0.99, 0.99, 0.99, 0.99, 0.99, 0.99, 0.99, 0.99, 0.99, 0.99, 0.99, 0.99, 0.99, 0.99, 0.99, 0.99, 0.99, 0.99, 0.99, 0.99, 0.99, 0.99, 1.0, 1.0, 1.0, 1.0, 1.0, 1.0, 1.0, 1.0, 1.0, 1.0, 1.0, 1.0, 1.0, 1.0, 1.0, 1.0, 1.0, 1.0, 1.0, 1.0, 1.0, 1.0, 1.0, 1.0, 1.0, 1.0, 1.0, 1.0, 1.0, 1.0, 1.0, 1.0, 1.0, 1.0, 1.0, 1.0, 1.0, 1.0, 1.0, 1.0, 1.0, 1.0, 1.0, 1.0, 1.0, 1.0, 1.0, 1.0, 1.0, 1.0, 1.0, 1.0, 1.0, 1.0, 1.0, 1.0, 1.0, 1.0, 1.0, 1.0, 1.0, 1.0, 1.0, 1.0, 0.99, 0.99, 0.99, 0.99, 0.99, 0.99, 0.99, 0.99, 0.99, 0.99, 0.99, 0.99, 0.99, 0.99, 0.99, 0.99, 0.99, 0.99, 0.99, 0.99, 0.99, 0.99, 0.99, 0.99, 0.99, 0.99, 0.99, 0.99, 0.99, 0.99, 0.99, 0.99, 0.99, 0.99, 0.99, 0.99, 0.99, 0.99, 0.99, 0.99, 0.99, 0.99, 0.99, 0.99, 0.99, 0.99, 0.99, 0.99, 0.99, 0.99, 0.99, 0.99, 0.99, 0.99, 0.99, 0.99, 0.99, 0.99, 0.99, 0.99, 0.99, 0.99, 0.99, 0.99, 1.0, 1.0, 1.0, 1.0, 1.0, 1.0, 1.0, 1.0, 1.0, 1.0, 1.0, 1.0, 1.0, 1.0, 1.0, 1.0, 1.0, 1.0, 1.0, 1.0, 1.0, 1.0, 1.0, 1.0, 1.0, 1.0, 1.0, 1.0, 1.0, 1.0, 1.0, 1.0, 1.0, 1.0, 1.0, 1.0, 1.0, 1.0, 1.0, 1.0, 1.0, 1.0, 1.0, 1.0, 1.0, 1.0, 1.0, 1.0, 1.0, 1.0, 1.0, 1.0, 1.0, 1.0, 1.0, 1.0, 1.0, 1.0, 1.0, 1.0, 1.0, 1.0, 1.0, 1.0, 0.99, 0.99, 0.99, 0.99, 0.99, 0.99, 0.99, 0.99, 0.99, 0.99, 0.99, 0.99, 0.99, 0.99, 0.99, 0.99, 0.99, 0.99, 0.99, 0.99, 0.99, 0.99, 0.99, 0.99, 0.99, 0.99, 0.99, 0.99, 0.99, 0.99, 0.99, 0.99, 0.99, 0.99, 0.99, 0.99, 0.99, 0.99, 0.99, 0.99, 0.99, 0.99, 0.99, 0.99, 0.99, 0.99, 0.99, 0.99, 0.99, 0.99, 0.99, 0.99, 0.99, 0.99, 0.99, 0.99, 0.99, 0.99, 0.99, 0.99, 0.99, 0.99, 0.99, 0.99, 1.0, 1.0, 1.0, 1.0, 1.0, 1.0, 1.0, 1.0, 1.0, 1.0, 1.0, 1.0, 1.0, 1.0, 1.0, 1.0, 1.0, 1.0, 1.0, 1.0, 1.0, 1.0, 1.0, 1.0, 1.0, 1.0, 1.0, 1.0, 1.0, 1.0, 1.0, 1.0, 1.0, 1.0, 1.0, 1.0, 1.0, 1.0, 1.0, 1.0, 1.0, 1.0, 1.0, 1.0, 1.0, 1.0, 1.0, 1.0, 1.0, 1.0, 1.0, 1.0, 1.0, 1.0, 1.0, 1.0, 1.0, 1.0, 1.0, 1.0, 1.0, 1.0, 1.0, 1.0, 0.99, 0.99, 0.99, 0.99, 0.99, 0.99, 0.99, 0.99, 0.99, 0.99, 0.99, 0.99, 0.99, 0.99, 0.99, 0.99, 0.99, 0.99, 0.99, 0.99, 0.99, 0.99, 0.99, 0.99, 0.99, 0.99, 0.99, 0.99, 0.99, 0.99, 0.99, 0.99, 0.99, 0.99, 0.99, 0.99, 0.99, 0.99, 0.99, 0.99, 0.99, 0.99, 0.99, 0.99, 0.99, 0.99, 0.99, 0.99, 0.99, 0.99, 0.99, 0.99, 0.99, 0.99, 0.99, 0.99, 0.99, 0.99, 0.99, 0.99, 0.99, 0.99, 0.99, 0.99, 1.0, 1.0, 1.0, 1.0, 1.0, 1.0, 1.0, 1.0, 1.0, 1.0, 1.0, 1.0, 1.0, 1.0, 1.0, 1.0, 1.0, 1.0, 1.0, 1.0, 1.0, 1.0, 1.0, 1.0, 1.0, 1.0, 1.0, 1.0, 1.0, 1.0, 1.0, 1.0, 1.0, 1.0, 1.0, 1.0, 1.0, 1.0, 1.0, 1.0, 1.0, 1.0, 1.0, 1.0, 1.0, 1.0, 1.0, 1.0, 1.0, 1.0, 1.0, 1.0, 1.0, 1.0, 1.0, 1.0, 1.0, 1.0, 1.0, 1.0, 1.0, 1.0, 1.0, 1.0, 0.99, 0.99, 0.99, 0.99, 0.99, 0.99, 0.99, 0.99, 0.99, 0.99, 0.99, 0.99, 0.99, 0.99, 0.99, 0.99, 0.99, 0.99, 0.99, 0.99, 0.99, 0.99, 0.99, 0.99, 0.99, 0.99, 0.99, 0.99, 0.99, 0.99, 0.99, 0.99, 0.99, 0.99, 0.99, 0.99, 0.99, 0.99, 0.99, 0.99, 0.99, 0.99, 0.99, 0.99, 0.99, 0.99, 0.99, 0.99, 0.99, 0.99, 0.99, 0.99, 0.99, 0.99, 0.99, 0.99, 0.99, 0.99, 0.99, 0.99, 0.99, 0.99, 0.99, 0.99, 1.0, 1.0, 1.0, 1.0, 1.0, 1.0, 1.0, 1.0, 1.0, 1.0, 1.0, 1.0, 1.0, 1.0, 1.0, 1.0, 1.0, 1.0, 1.0, 1.0, 1.0, 1.0, 1.0, 1.0, 1.0, 1.0, 1.0, 1.0, 1.0, 1.0, 1.0, 1.0, 1.0, 1.0, 1.0, 1.0, 1.0, 1.0, 1.0, 1.0, 1.0, 1.0, 1.0, 1.0, 1.0, 1.0, 1.0, 1.0, 1.0, 1.0, 1.0, 1.0, 1.0, 1.0, 1.0, 1.0, 1.0, 1.0, 1.0, 1.0, 1.0, 1.0, 1.0, 1.0, 0.99, 0.99, 0.99, 0.99, 0.99, 0.99, 0.99, 0.99, 0.99, 0.99, 0.99, 0.99, 0.99, 0.99, 0.99, 0.99, 0.99, 0.99, 0.99, 0.99, 0.99, 0.99, 0.99, 0.99, 0.99, 0.99, 0.99, 0.99, 0.99, 0.99, 0.99, 0.99, 0.99, 0.99, 0.99, 0.99, 0.99, 0.99, 0.99, 0.99, 0.99, 0.99, 0.99, 0.99, 0.99, 0.99, 0.99, 0.99, 0.99, 0.99, 0.99, 0.99, 0.99, 0.99, 0.99, 0.99, 0.99, 0.99, 0.99, 0.99, 0.99, 0.99, 0.99, 0.99, 1.0, 1.0, 1.0, 1.0, 1.0, 1.0, 1.0, 1.0, 1.0, 1.0, 1.0, 1.0, 1.0, 1.0, 1.0, 1.0, 1.0, 1.0, 1.0, 1.0, 1.0, 1.0, 1.0, 1.0, 1.0, 1.0, 1.0, 1.0, 1.0, 1.0, 1.0, 1.0, 1.0, 1.0, 1.0, 1.0, 1.0, 1.0, 1.0, 1.0, 1.0, 1.0, 1.0, 1.0, 1.0, 1.0, 1.0, 1.0, 1.0, 1.0, 1.0, 1.0, 1.0, 1.0, 1.0, 1.0, 1.0, 1.0, 1.0, 1.0, 1.0, 1.0, 1.0, 1.0, 0.99, 0.99, 0.99, 0.99, 0.99, 0.99, 0.99, 0.99, 0.99, 0.99, 0.99, 0.99, 0.99, 0.99, 0.99, 0.99, 0.99, 0.99, 0.99, 0.99, 0.99, 0.99, 0.99, 0.99, 0.99, 0.99, 0.99, 0.99, 0.99, 0.99, 0.99, 0.99, 0.99, 0.99, 0.99, 0.99, 0.99, 0.99, 0.99, 0.99, 0.99, 0.99, 0.99, 0.99, 0.99, 0.99, 0.99, 0.99, 0.99, 0.99, 0.99, 0.99, 0.99, 0.99, 0.99, 0.99, 0.99, 0.99, 0.99, 0.99, 0.99, 0.99, 0.99, 0.99, 1.0, 1.0, 1.0, 1.0, 1.0, 1.0, 1.0, 1.0, 1.0, 1.0, 1.0, 1.0, 1.0, 1.0, 1.0, 1.0, 1.0, 1.0, 1.0, 1.0, 1.0, 1.0, 1.0, 1.0, 1.0, 1.0, 1.0, 1.0, 1.0, 1.0, 1.0, 1.0, 1.0, 1.0, 1.0, 1.0, 1.0, 1.0, 1.0, 1.0, 1.0, 1.0, 1.0, 1.0, 1.0, 1.0, 1.0, 1.0, 1.0, 1.0, 1.0, 1.0, 1.0, 1.0, 1.0, 1.0, 1.0, 1.0, 1.0, 1.0, 1.0, 1.0, 1.0, 1.0, 0.99, 0.99, 0.99, 0.99, 0.99, 0.99, 0.99, 0.99, 0.99, 0.99, 0.99, 0.99, 0.99, 0.99, 0.99, 0.99, 0.99, 0.99, 0.99, 0.99, 0.99, 0.99, 0.99, 0.99, 0.99, 0.99, 0.99, 0.99, 0.99, 0.99, 0.99, 0.99, 0.99, 0.99, 0.99, 0.99, 0.99, 0.99, 0.99, 0.99, 0.99, 0.99, 0.99, 0.99, 0.99, 0.99, 0.99, 0.99, 0.99, 0.99, 0.99, 0.99, 0.99, 0.99, 0.99, 0.99, 0.99, 0.99, 0.99, 0.99, 0.99, 0.99, 0.99, 0.99, 1.0, 1.0, 1.0, 1.0, 1.0, 1.0, 1.0, 1.0, 1.0, 1.0, 1.0, 1.0, 1.0, 1.0, 1.0, 1.0, 1.0, 1.0, 1.0, 1.0, 1.0, 1.0, 1.0, 1.0, 1.0, 1.0, 1.0, 1.0, 1.0, 1.0, 1.0, 1.0, 1.0, 1.0, 1.0, 1.0, 1.0, 1.0, 1.0, 1.0, 1.0, 1.0, 1.0, 1.0, 1.0, 1.0, 1.0, 1.0, 1.0, 1.0, 1.0, 1.0, 1.0, 1.0, 1.0, 1.0, 1.0, 1.0, 1.0, 1.0, 1.0, 1.0, 1.0, 1.0, 1.0, 1.0, 1.0, 1.0, 1.0, 1.0, 1.0, 1.0, 1.0, 1.0, 1.0, 1.0, 1.0, 1.0, 1.0, 1.0, 1.0, 1.0, 1.0, 1.0, 1.0, 1.0, 1.0, 1.0, 1.0, 1.0, 1.0, 1.0, 1.0, 1.0, 1.0, 1.0, 1.0, 1.0, 1.0, 1.0, 1.0, 1.0, 1.0, 1.0, 1.0, 1.0, 1.0, 1.0, 1.0, 1.0, 1.0, 1.0, 1.0, 1.0, 1.0, 1.0, 1.0, 1.0, 1.0, 1.0, 1.0, 1.0, 1.0, 1.0, 1.0, 1.0, 1.0, 1.0, 1.0, 1.0, 1.0, 1.0, 1.0, 1.0, 1.0, 1.0, 1.0, 1.0, 1.0, 1.0, 1.0, 1.0, 1.0, 1.0, 1.0, 1.0, 1.0, 1.0, 1.0, 1.0, 1.0, 1.0, 1.0, 1.0, 1.0, 1.0, 1.0, 1.0, 1.0, 1.0, 1.0, 1.0, 1.0, 1.0, 1.0, 1.0, 1.0, 1.0, 1.0, 1.0, 1.0, 1.0, 1.0, 1.0, 1.0, 1.0, 1.0, 1.0, 1.0, 1.0, 1.0, 1.0, 1.0, 1.0, 1.0, 1.0, 1.0, 1.0, 1.0, 1.0, 1.0, 1.0, 0.99, 0.99, 0.99, 0.99, 0.99, 0.99, 0.99, 0.99, 0.99, 0.99, 0.99, 0.99, 0.99, 0.99, 0.99, 0.99, 0.99, 0.99, 0.99, 0.99, 0.99, 0.99, 0.99, 0.99, 0.99, 0.99, 0.99, 0.99, 0.99, 0.99, 0.99, 0.99, 0.99, 0.99, 0.99, 0.99, 0.99, 0.99, 0.99, 0.99, 0.99, 0.99, 0.99, 0.99, 0.99, 0.99, 0.99, 0.99, 0.99, 0.99, 0.99, 0.99, 0.99, 0.99, 0.99, 0.99, 0.99, 0.99, 0.99, 0.99, 0.99, 0.99, 0.99, 0.99, 1.0, 1.0, 1.0, 1.0, 1.0, 1.0, 1.0, 1.0, 1.0, 1.0, 1.0, 1.0, 1.0, 1.0, 1.0, 1.0, 1.0, 1.0, 1.0, 1.0, 1.0, 1.0, 1.0, 1.0, 1.0, 1.0, 1.0, 1.0, 1.0, 1.0, 1.0, 1.0, 1.0, 1.0, 1.0, 1.0, 1.0, 1.0, 1.0, 1.0, 1.0, 1.0, 1.0, 1.0, 1.0, 1.0, 1.0, 1.0, 1.0, 1.0, 1.0, 1.0, 1.0, 1.0, 1.0, 1.0, 1.0, 1.0, 1.0, 1.0, 1.0, 1.0, 1.0, 1.0, 1.0, 1.0, 1.0, 1.0, 1.0, 1.0, 1.0, 1.0, 1.0, 1.0, 1.0, 1.0, 1.0, 1.0, 1.0, 1.0, 1.0, 1.0, 1.0, 1.0, 1.0, 1.0, 1.0, 1.0, 1.0, 1.0, 1.0, 1.0, 1.0, 1.0, 1.0, 1.0, 1.0, 1.0, 1.0, 1.0, 1.0, 1.0, 1.0, 1.0, 1.0, 1.0, 1.0, 1.0, 1.0, 1.0, 1.0, 1.0, 1.0, 1.0, 1.0, 1.0, 1.0, 1.0, 1.0, 1.0, 1.0, 1.0, 1.0, 1.0, 1.0, 1.0, 1.0, 1.0, 1.0, 1.0, 1.0, 1.0, 1.0, 1.0, 1.0, 1.0, 1.0, 1.0, 1.0, 1.0, 1.0, 1.0, 1.0, 1.0, 1.0, 1.0, 1.0, 1.0, 1.0, 1.0, 1.0, 1.0, 1.0, 1.0, 1.0, 1.0, 1.0, 1.0, 1.0, 1.0, 1.0, 1.0, 1.0, 1.0, 1.0, 1.0, 1.0, 1.0, 1.0, 1.0, 1.0, 1.0, 1.0, 1.0, 1.0, 1.0, 1.0, 1.0, 1.0, 1.0, 1.0, 1.0, 1.0, 1.0, 1.0, 1.0, 1.0, 1.0, 1.0, 1.0, 1.0, 1.0, 0.99, 0.99, 0.99, 0.99, 0.99, 0.99, 0.99, 0.99, 0.99, 0.99, 0.99, 0.99, 0.99, 0.99, 0.99, 0.99, 0.99, 0.99, 0.99, 0.99, 0.99, 0.99, 0.99, 0.99, 0.99, 0.99, 0.99, 0.99, 0.99, 0.99, 0.99, 0.99, 0.99, 0.99, 0.99, 0.99, 0.99, 0.99, 0.99, 0.99, 0.99, 0.99, 0.99, 0.99, 0.99, 0.99, 0.99, 0.99, 0.99, 0.99, 0.99, 0.99, 0.99, 0.99, 0.99, 0.99, 0.99, 0.99, 0.99, 0.99, 0.99, 0.99, 0.99, 0.99, 1.0, 1.0, 1.0, 1.0, 1.0, 1.0, 1.0, 1.0, 1.0, 1.0, 1.0, 1.0, 1.0, 1.0, 1.0, 1.0, 1.0, 1.0, 1.0, 1.0, 1.0, 1.0, 1.0, 1.0, 1.0, 1.0, 1.0, 1.0, 1.0, 1.0, 1.0, 1.0, 1.0, 1.0, 1.0, 1.0, 1.0, 1.0, 1.0, 1.0, 1.0, 1.0, 1.0, 1.0, 1.0, 1.0, 1.0, 1.0, 1.0, 1.0, 1.0, 1.0, 1.0, 1.0, 1.0, 1.0, 1.0, 1.0, 1.0, 1.0, 1.0, 1.0, 1.0, 1.0, 0.99, 0.99, 0.99, 0.99, 0.99, 0.99, 0.99, 0.99, 0.99, 0.99, 0.99, 0.99, 0.99, 0.99, 0.99, 0.99, 0.99, 0.99, 0.99, 0.99, 0.99, 0.99, 0.99, 0.99, 0.99, 0.99, 0.99, 0.99, 0.99, 0.99, 0.99, 0.99, 0.99, 0.99, 0.99, 0.99, 0.99, 0.99, 0.99, 0.99, 0.99, 0.99, 0.99, 0.99, 0.99, 0.99, 0.99, 0.99, 0.99, 0.99, 0.99, 0.99, 0.99, 0.99, 0.99, 0.99, 0.99, 0.99, 0.99, 0.99, 0.99, 0.99, 0.99, 0.99, 1.0, 1.0, 1.0, 1.0, 1.0, 1.0, 1.0, 1.0, 1.0, 1.0, 1.0, 1.0, 1.0, 1.0, 1.0, 1.0, 1.0, 1.0, 1.0, 1.0, 1.0, 1.0, 1.0, 1.0, 1.0, 1.0, 1.0, 1.0, 1.0, 1.0, 1.0, 1.0, 1.0, 1.0, 1.0, 1.0, 1.0, 1.0, 1.0, 1.0, 1.0, 1.0, 1.0, 1.0, 1.0, 1.0, 1.0, 1.0, 1.0, 1.0, 1.0, 1.0, 1.0, 1.0, 1.0, 1.0, 1.0, 1.0, 1.0, 1.0, 1.0, 1.0, 1.0, 1.0, 0.99, 0.99, 0.99, 0.99, 0.99, 0.99, 0.99, 0.99, 0.99, 0.99, 0.99, 0.99, 0.99, 0.99, 0.99, 0.99, 0.99, 0.99, 0.99, 0.99, 0.99, 0.99, 0.99, 0.99, 0.99, 0.99, 0.99, 0.99, 0.99, 0.99, 0.99, 0.99, 0.99, 0.99, 0.99, 0.99, 0.99, 0.99, 0.99, 0.99, 0.99, 0.99, 0.99, 0.99, 0.99, 0.99, 0.99, 0.99, 0.99, 0.99, 0.99, 0.99, 0.99, 0.99, 0.99, 0.99, 0.99, 0.99, 0.99, 0.99, 0.99, 0.99, 0.99, 0.99, 1.0, 1.0, 1.0, 1.0, 1.0, 1.0, 1.0, 1.0, 1.0, 1.0, 1.0, 1.0, 1.0, 1.0, 1.0, 1.0, 1.0, 1.0, 1.0, 1.0, 1.0, 1.0, 1.0, 1.0, 1.0, 1.0, 1.0, 1.0, 1.0, 1.0, 1.0, 1.0, 1.0, 1.0, 1.0, 1.0, 1.0, 1.0, 1.0, 1.0, 1.0, 1.0, 1.0, 1.0, 1.0, 1.0, 1.0, 1.0, 1.0, 1.0, 1.0, 1.0, 1.0, 1.0, 1.0, 1.0, 1.0, 1.0, 1.0, 1.0, 1.0, 1.0, 1.0, 1.0, 0.99, 0.99, 0.99, 0.99, 0.99, 0.99, 0.99, 0.99, 0.99, 0.99, 0.99, 0.99, 0.99, 0.99, 0.99, 0.99, 0.99, 0.99, 0.99, 0.99, 0.99, 0.99, 0.99, 0.99, 0.99, 0.99, 0.99, 0.99, 0.99, 0.99, 0.99, 0.99, 0.99, 0.99, 0.99, 0.99, 0.99, 0.99, 0.99, 0.99, 0.99, 0.99, 0.99, 0.99, 0.99, 0.99, 0.99, 0.99, 0.99, 0.99, 0.99, 0.99, 0.99, 0.99, 0.99, 0.99, 0.99, 0.99, 0.99, 0.99, 0.99, 0.99, 0.99, 0.99, 1.0, 1.0, 1.0, 1.0, 1.0, 1.0, 1.0, 1.0, 1.0, 1.0, 1.0, 1.0, 1.0, 1.0, 1.0, 1.0, 1.0, 1.0, 1.0, 1.0, 1.0, 1.0, 1.0, 1.0, 1.0, 1.0, 1.0, 1.0, 1.0, 1.0, 1.0, 1.0, 1.0, 1.0, 1.0, 1.0, 1.0, 1.0, 1.0, 1.0, 1.0, 1.0, 1.0, 1.0, 1.0, 1.0, 1.0, 1.0, 1.0, 1.0, 1.0, 1.0, 1.0, 1.0, 1.0, 1.0, 1.0, 1.0, 1.0, 1.0, 1.0, 1.0, 1.0, 1.0, 0.99, 0.99, 0.99, 0.99, 0.99, 0.99, 0.99, 0.99, 0.99, 0.99, 0.99, 0.99, 0.99, 0.99, 0.99, 0.99, 0.99, 0.99, 0.99, 0.99, 0.99, 0.99, 0.99, 0.99, 0.99, 0.99, 0.99, 0.99, 0.99, 0.99, 0.99, 0.99, 0.99, 0.99, 0.99, 0.99, 0.99, 0.99, 0.99, 0.99, 0.99, 0.99, 0.99, 0.99, 0.99, 0.99, 0.99, 0.99, 0.99, 0.99, 0.99, 0.99, 0.99, 0.99, 0.99, 0.99, 0.99, 0.99, 0.99, 0.99, 0.99, 0.99, 0.99, 0.99, 1.0, 1.0, 1.0, 1.0, 1.0, 1.0, 1.0, 1.0, 1.0, 1.0, 1.0, 1.0, 1.0, 1.0, 1.0, 1.0, 1.0, 1.0, 1.0, 1.0, 1.0, 1.0, 1.0, 1.0, 1.0, 1.0, 1.0, 1.0, 1.0, 1.0, 1.0, 1.0, 1.0, 1.0, 1.0, 1.0, 1.0, 1.0, 1.0, 1.0, 1.0, 1.0, 1.0, 1.0, 1.0, 1.0, 1.0, 1.0, 1.0, 1.0, 1.0, 1.0, 1.0, 1.0, 1.0, 1.0, 1.0, 1.0, 1.0, 1.0, 1.0, 1.0, 1.0, 1.0, 1.0, 1.0, 1.0, 1.0, 1.0, 1.0, 1.0, 1.0, 1.0, 1.0, 1.0, 1.0, 1.0, 1.0, 1.0, 1.0, 1.0, 1.0, 1.0, 1.0, 1.0, 1.0, 1.0, 1.0, 1.0, 1.0, 1.0, 1.0, 1.0, 1.0, 1.0, 1.0, 1.0, 1.0, 1.0, 1.0, 1.0, 1.0, 1.0, 1.0, 1.0, 1.0, 1.0, 1.0, 1.0, 1.0, 1.0, 1.0, 1.0, 1.0, 1.0, 1.0, 1.0, 1.0, 1.0, 1.0, 1.0, 1.0, 1.0, 1.0, 1.0, 1.0, 1.0, 1.0, 1.0, 1.0, 1.0, 1.0, 1.0, 1.0, 1.0, 1.0, 1.0, 1.0, 1.0, 1.0, 1.0, 1.0, 1.0, 1.0, 1.0, 1.0, 1.0, 1.0, 1.0, 1.0, 1.0, 1.0, 1.0, 1.0, 1.0, 1.0, 1.0, 1.0, 1.0, 1.0, 1.0, 1.0, 1.0, 1.0, 1.0, 1.0, 1.0, 1.0, 1.0, 1.0, 1.0, 1.0, 1.0, 1.0, 1.0, 1.0, 1.0, 1.0, 1.0, 1.0, 1.0, 1.0, 1.0, 1.0, 1.0, 1.0, 1.0, 1.0, 1.0, 1.0, 1.0, 1.0, 0.99, 0.99, 0.99, 0.99, 0.99, 0.99, 0.99, 0.99, 0.99, 0.99, 0.99, 0.99, 0.99, 0.99, 0.99, 0.99, 0.99, 0.99, 0.99, 0.99, 0.99, 0.99, 0.99, 0.99, 0.99, 0.99, 0.99, 0.99, 0.99, 0.99, 0.99, 0.99, 0.99, 0.99, 0.99, 0.99, 0.99, 0.99, 0.99, 0.99, 0.99, 0.99, 0.99, 0.99, 0.99, 0.99, 0.99, 0.99, 0.99, 0.99, 0.99, 0.99, 0.99, 0.99, 0.99, 0.99, 0.99, 0.99, 0.99, 0.99, 0.99, 0.99, 0.99, 0.99, 1.0, 1.0, 1.0, 1.0, 1.0, 1.0, 1.0, 1.0, 1.0, 1.0, 1.0, 1.0, 1.0, 1.0, 1.0, 1.0, 1.0, 1.0, 1.0, 1.0, 1.0, 1.0, 1.0, 1.0, 1.0, 1.0, 1.0, 1.0, 1.0, 1.0, 1.0, 1.0, 1.0, 1.0, 1.0, 1.0, 1.0, 1.0, 1.0, 1.0, 1.0, 1.0, 1.0, 1.0, 1.0, 1.0, 1.0, 1.0, 1.0, 1.0, 1.0, 1.0, 1.0, 1.0, 1.0, 1.0, 1.0, 1.0, 1.0, 1.0, 1.0, 1.0, 1.0, 1.0, 1.0, 1.0, 1.0, 1.0, 1.0, 1.0, 1.0, 1.0, 1.0, 1.0, 1.0, 1.0, 1.0, 1.0, 1.0, 1.0, 1.0, 1.0, 1.0, 1.0, 1.0, 1.0, 1.0, 1.0, 1.0, 1.0, 1.0, 1.0, 1.0, 1.0, 1.0, 1.0, 1.0, 1.0, 1.0, 1.0, 1.0, 1.0, 1.0, 1.0, 1.0, 1.0, 1.0, 1.0, 1.0, 1.0, 1.0, 1.0, 1.0, 1.0, 1.0, 1.0, 1.0, 1.0, 1.0, 1.0, 1.0, 1.0, 1.0, 1.0, 1.0, 1.0, 1.0, 1.0, 1.0, 1.0, 1.0, 1.0, 1.0, 1.0, 1.0, 1.0, 1.0, 1.0, 1.0, 1.0, 1.0, 1.0, 1.0, 1.0, 1.0, 1.0, 1.0, 1.0, 1.0, 1.0, 1.0, 1.0, 1.0, 1.0, 1.0, 1.0, 1.0, 1.0, 1.0, 1.0, 1.0, 1.0, 1.0, 1.0, 1.0, 1.0, 1.0, 1.0, 1.0, 1.0, 1.0, 1.0, 1.0, 1.0, 1.0, 1.0, 1.0, 1.0, 1.0, 1.0, 1.0, 1.0, 1.0, 1.0, 1.0, 1.0, 1.0, 1.0, 1.0, 1.0, 1.0, 1.0, 0.99, 0.99, 0.99, 0.99, 0.99, 0.99, 0.99, 0.99, 0.99, 0.99, 0.99, 0.99, 0.99, 0.99, 0.99, 0.99, 0.99, 0.99, 0.99, 0.99, 0.99, 0.99, 0.99, 0.99, 0.99, 0.99, 0.99, 0.99, 0.99, 0.99, 0.99, 0.99, 0.99, 0.99, 0.99, 0.99, 0.99, 0.99, 0.99, 0.99, 0.99, 0.99, 0.99, 0.99, 0.99, 0.99, 0.99, 0.99, 0.99, 0.99, 0.99, 0.99, 0.99, 0.99, 0.99, 0.99, 0.99, 0.99, 0.99, 0.99, 0.99, 0.99, 0.99, 0.99, 1.0, 1.0, 1.0, 1.0, 1.0, 1.0, 1.0, 1.0, 1.0, 1.0, 1.0, 1.0, 1.0, 1.0, 1.0, 1.0, 1.0, 1.0, 1.0, 1.0, 1.0, 1.0, 1.0, 1.0, 1.0, 1.0, 1.0, 1.0, 1.0, 1.0, 1.0, 1.0, 1.0, 1.0, 1.0, 1.0, 1.0, 1.0, 1.0, 1.0, 1.0, 1.0, 1.0, 1.0, 1.0, 1.0, 1.0, 1.0, 1.0, 1.0, 1.0, 1.0, 1.0, 1.0, 1.0, 1.0, 1.0, 1.0, 1.0, 1.0, 1.0, 1.0, 1.0, 1.0, 1.0, 1.0, 1.0, 1.0, 1.0, 1.0, 1.0, 1.0, 1.0, 1.0, 1.0, 1.0, 1.0, 1.0, 1.0, 1.0, 1.0, 1.0, 1.0, 1.0, 1.0, 1.0, 1.0, 1.0, 1.0, 1.0, 1.0, 1.0, 1.0, 1.0, 1.0, 1.0, 1.0, 1.0, 1.0, 1.0, 1.0, 1.0, 1.0, 1.0, 1.0, 1.0, 1.0, 1.0, 1.0, 1.0, 1.0, 1.0, 1.0, 1.0, 1.0, 1.0, 1.0, 1.0, 1.0, 1.0, 1.0, 1.0, 1.0, 1.0, 1.0, 1.0, 1.0, 1.0, 1.0, 1.0, 1.0, 1.0, 1.0, 1.0, 1.0, 1.0, 1.0, 1.0, 1.0, 1.0, 1.0, 1.0, 1.0, 1.0, 1.0, 1.0, 1.0, 1.0, 1.0, 1.0, 1.0, 1.0, 1.0, 1.0, 1.0, 1.0, 1.0, 1.0, 1.0, 1.0, 1.0, 1.0, 1.0, 1.0, 1.0, 1.0, 1.0, 1.0, 1.0, 1.0, 1.0, 1.0, 1.0, 1.0, 1.0, 1.0, 1.0, 1.0, 1.0, 1.0, 1.0, 1.0, 1.0, 1.0, 1.0, 1.0, 1.0, 1.0, 1.0, 1.0, 1.0, 1.0, 0.99, 0.99, 0.99, 0.99, 0.99, 0.99, 0.99, 0.99, 0.99, 0.99, 0.99, 0.99, 0.99, 0.99, 0.99, 0.99, 0.99, 0.99, 0.99, 0.99, 0.99, 0.99, 0.99, 0.99, 0.99, 0.99, 0.99, 0.99, 0.99, 0.99, 0.99, 0.99, 0.99, 0.99, 0.99, 0.99, 0.99, 0.99, 0.99, 0.99, 0.99, 0.99, 0.99, 0.99, 0.99, 0.99, 0.99, 0.99, 0.99, 0.99, 0.99, 0.99, 0.99, 0.99, 0.99, 0.99, 0.99, 0.99, 0.99, 0.99, 0.99, 0.99, 0.99, 0.99, 1.0, 1.0, 1.0, 1.0, 1.0, 1.0, 1.0, 1.0, 1.0, 1.0, 1.0, 1.0, 1.0, 1.0, 1.0, 1.0, 1.0, 1.0, 1.0, 1.0, 1.0, 1.0, 1.0, 1.0, 1.0, 1.0, 1.0, 1.0, 1.0, 1.0, 1.0, 1.0, 1.0, 1.0, 1.0, 1.0, 1.0, 1.0, 1.0, 1.0, 1.0, 1.0, 1.0, 1.0, 1.0, 1.0, 1.0, 1.0, 1.0, 1.0, 1.0, 1.0, 1.0, 1.0, 1.0, 1.0, 1.0, 1.0, 1.0, 1.0, 1.0, 1.0, 1.0, 1.0, 1.0, 1.0, 1.0, 1.0, 1.0, 1.0, 1.0, 1.0, 1.0, 1.0, 1.0, 1.0, 1.0, 1.0, 1.0, 1.0, 1.0, 1.0, 1.0, 1.0, 1.0, 1.0, 1.0, 1.0, 1.0, 1.0, 1.0, 1.0, 1.0, 1.0, 1.0, 1.0, 1.0, 1.0, 1.0, 1.0, 1.0, 1.0, 1.0, 1.0, 1.0, 1.0, 1.0, 1.0, 1.0, 1.0, 1.0, 1.0, 1.0, 1.0, 1.0, 1.0, 1.0, 1.0, 1.0, 1.0, 1.0, 1.0, 1.0, 1.0, 1.0, 1.0, 1.0, 1.0, 1.0, 1.0, 1.0, 1.0, 1.0, 1.0, 1.0, 1.0, 1.0, 1.0, 1.0, 1.0, 1.0, 1.0, 1.0, 1.0, 1.0, 1.0, 1.0, 1.0, 1.0, 1.0, 1.0, 1.0, 1.0, 1.0, 1.0, 1.0, 1.0, 1.0, 1.0, 1.0, 1.0, 1.0, 1.0, 1.0, 1.0, 1.0, 1.0, 1.0, 1.0, 1.0, 1.0, 1.0, 1.0, 1.0, 1.0, 1.0, 1.0, 1.0, 1.0, 1.0, 1.0, 1.0, 1.0, 1.0, 1.0, 1.0, 1.0, 1.0, 1.0, 1.0, 1.0, 1.0, 0.99, 0.99, 0.99, 0.99, 0.99, 0.99, 0.99, 0.99, 0.99, 0.99, 0.99, 0.99, 0.99, 0.99, 0.99, 0.99, 0.99, 0.99, 0.99, 0.99, 0.99, 0.99, 0.99, 0.99, 0.99, 0.99, 0.99, 0.99, 0.99, 0.99, 0.99, 0.99, 0.99, 0.99, 0.99, 0.99, 0.99, 0.99, 0.99, 0.99, 0.99, 0.99, 0.99, 0.99, 0.99, 0.99, 0.99, 0.99, 0.99, 0.99, 0.99, 0.99, 0.99, 0.99, 0.99, 0.99, 0.99, 0.99, 0.99, 0.99, 0.99, 0.99, 0.99, 0.99, 1.0, 1.0, 1.0, 1.0, 1.0, 1.0, 1.0, 1.0, 1.0, 1.0, 1.0, 1.0, 1.0, 1.0, 1.0, 1.0, 1.0, 1.0, 1.0, 1.0, 1.0, 1.0, 1.0, 1.0, 1.0, 1.0, 1.0, 1.0, 1.0, 1.0, 1.0, 1.0, 1.0, 1.0, 1.0, 1.0, 1.0, 1.0, 1.0, 1.0, 1.0, 1.0, 1.0, 1.0, 1.0, 1.0, 1.0, 1.0, 1.0, 1.0, 1.0, 1.0, 1.0, 1.0, 1.0, 1.0, 1.0, 1.0, 1.0, 1.0, 1.0, 1.0, 1.0, 1.0, 1.0, 1.0, 1.0, 1.0, 1.0, 1.0, 1.0, 1.0, 1.0, 1.0, 1.0, 1.0, 1.0, 1.0, 1.0, 1.0, 1.0, 1.0, 1.0, 1.0, 1.0, 1.0, 1.0, 1.0, 1.0, 1.0, 1.0, 1.0, 1.0, 1.0, 1.0, 1.0, 1.0, 1.0, 1.0, 1.0, 1.0, 1.0, 1.0, 1.0, 1.0, 1.0, 1.0, 1.0, 1.0, 1.0, 1.0, 1.0, 1.0, 1.0, 1.0, 1.0, 1.0, 1.0, 1.0, 1.0, 1.0, 1.0, 1.0, 1.0, 1.0, 1.0, 1.0, 1.0, 1.0, 1.0, 1.0, 1.0, 1.0, 1.0, 1.0, 1.0, 1.0, 1.0, 1.0, 1.0, 1.0, 1.0, 1.0, 1.0, 1.0, 1.0, 1.0, 1.0, 1.0, 1.0, 1.0, 1.0, 1.0, 1.0, 1.0, 1.0, 1.0, 1.0, 1.0, 1.0, 1.0, 1.0, 1.0, 1.0, 1.0, 1.0, 1.0, 1.0, 1.0, 1.0, 1.0, 1.0, 1.0, 1.0, 1.0, 1.0, 1.0, 1.0, 1.0, 1.0, 1.0, 1.0, 1.0, 1.0, 1.0, 1.0, 1.0, 1.0, 1.0, 1.0, 1.0, 1.0, 0.99, 0.99, 0.99, 0.99, 0.99, 0.99, 0.99, 0.99, 0.99, 0.99, 0.99, 0.99, 0.99, 0.99, 0.99, 0.99, 0.99, 0.99, 0.99, 0.99, 0.99, 0.99, 0.99, 0.99, 0.99, 0.99, 0.99, 0.99, 0.99, 0.99, 0.99, 0.99, 0.99, 0.99, 0.99, 0.99, 0.99, 0.99, 0.99, 0.99, 0.99, 0.99, 0.99, 0.99, 0.99, 0.99, 0.99, 0.99, 0.99, 0.99, 0.99, 0.99, 0.99, 0.99, 0.99, 0.99, 0.99, 0.99, 0.99, 0.99, 0.99, 0.99, 0.99, 0.99, 1.0, 1.0, 1.0, 1.0, 1.0, 1.0, 1.0, 1.0, 1.0, 1.0, 1.0, 1.0, 1.0, 1.0, 1.0, 1.0, 1.0, 1.0, 1.0, 1.0, 1.0, 1.0, 1.0, 1.0, 1.0, 1.0, 1.0, 1.0, 1.0, 1.0, 1.0, 1.0, 1.0, 1.0, 1.0, 1.0, 1.0, 1.0, 1.0, 1.0, 1.0, 1.0, 1.0, 1.0, 1.0, 1.0, 1.0, 1.0, 1.0, 1.0, 1.0, 1.0, 1.0, 1.0, 1.0, 1.0, 1.0, 1.0, 1.0, 1.0, 1.0, 1.0, 1.0, 1.0, 1.0, 1.0, 1.0, 1.0, 1.0, 1.0, 1.0, 1.0, 1.0, 1.0, 1.0, 1.0, 1.0, 1.0, 1.0, 1.0, 1.0, 1.0, 1.0, 1.0, 1.0, 1.0, 1.0, 1.0, 1.0, 1.0, 1.0, 1.0, 1.0, 1.0, 1.0, 1.0, 1.0, 1.0, 1.0, 1.0, 1.0, 1.0, 1.0, 1.0, 1.0, 1.0, 1.0, 1.0, 1.0, 1.0, 1.0, 1.0, 1.0, 1.0, 1.0, 1.0, 1.0, 1.0, 1.0, 1.0, 1.0, 1.0, 1.0, 1.0, 1.0, 1.0, 1.0, 1.0, 1.0, 1.0, 1.0, 1.0, 1.0, 1.0, 1.0, 1.0, 1.0, 1.0, 1.0, 1.0, 1.0, 1.0, 1.0, 1.0, 1.0, 1.0, 1.0, 1.0, 1.0, 1.0, 1.0, 1.0, 1.0, 1.0, 1.0, 1.0, 1.0, 1.0, 1.0, 1.0, 1.0, 1.0, 1.0, 1.0, 1.0, 1.0, 1.0, 1.0, 1.0, 1.0, 1.0, 1.0, 1.0, 1.0, 1.0, 1.0, 1.0, 1.0, 1.0, 1.0, 1.0, 1.0, 1.0, 1.0, 1.0, 1.0, 1.0, 1.0, 1.0, 1.0, 1.0, 1.0, 0.99, 0.99, 0.99, 0.99, 0.99, 0.99, 0.99, 0.99, 0.99, 0.99, 0.99, 0.99, 0.99, 0.99, 0.99, 0.99, 0.99, 0.99, 0.99, 0.99, 0.99, 0.99, 0.99, 0.99, 0.99, 0.99, 0.99, 0.99, 0.99, 0.99, 0.99, 0.99, 0.99, 0.99, 0.99, 0.99, 0.99, 0.99, 0.99, 0.99, 0.99, 0.99, 0.99, 0.99, 0.99, 0.99, 0.99, 0.99, 0.99, 0.99, 0.99, 0.99, 0.99, 0.99, 0.99, 0.99, 0.99, 0.99, 0.99, 0.99, 0.99, 0.99, 0.99, 0.99, 1.0, 1.0, 1.0, 1.0, 1.0, 1.0, 1.0, 1.0, 1.0, 1.0, 1.0, 1.0, 1.0, 1.0, 1.0, 1.0, 1.0, 1.0, 1.0, 1.0, 1.0, 1.0, 1.0, 1.0, 1.0, 1.0, 1.0, 1.0, 1.0, 1.0, 1.0, 1.0, 1.0, 1.0, 1.0, 1.0, 1.0, 1.0, 1.0, 1.0, 1.0, 1.0, 1.0, 1.0, 1.0, 1.0, 1.0, 1.0, 1.0, 1.0, 1.0, 1.0, 1.0, 1.0, 1.0, 1.0, 1.0, 1.0, 1.0, 1.0, 1.0, 1.0, 1.0, 1.0, 1.0, 1.0, 1.0, 1.0, 1.0, 1.0, 1.0, 1.0, 1.0, 1.0, 1.0, 1.0, 1.0, 1.0, 1.0, 1.0, 1.0, 1.0, 1.0, 1.0, 1.0, 1.0, 1.0, 1.0, 1.0, 1.0, 1.0, 1.0, 1.0, 1.0, 1.0, 1.0, 1.0, 1.0, 1.0, 1.0, 1.0, 1.0, 1.0, 1.0, 1.0, 1.0, 1.0, 1.0, 1.0, 1.0, 1.0, 1.0, 1.0, 1.0, 1.0, 1.0, 1.0, 1.0, 1.0, 1.0, 1.0, 1.0, 1.0, 1.0, 1.0, 1.0, 1.0, 1.0, 1.0, 1.0, 1.0, 1.0, 1.0, 1.0, 1.0, 1.0, 1.0, 1.0, 1.0, 1.0, 1.0, 1.0, 1.0, 1.0, 1.0, 1.0, 1.0, 1.0, 1.0, 1.0, 1.0, 1.0, 1.0, 1.0, 1.0, 1.0, 1.0, 1.0, 1.0, 1.0, 1.0, 1.0, 1.0, 1.0, 1.0, 1.0, 1.0, 1.0, 1.0, 1.0, 1.0, 1.0, 1.0, 1.0, 1.0, 1.0, 1.0, 1.0, 1.0, 1.0, 1.0, 1.0, 1.0, 1.0, 1.0, 1.0, 1.0, 1.0, 1.0, 1.0, 1.0, 1.0, 0.99, 0.99, 0.99, 0.99, 0.99, 0.99, 0.99, 0.99, 0.99, 0.99, 0.99, 0.99, 0.99, 0.99, 0.99, 0.99, 0.99, 0.99, 0.99, 0.99, 0.99, 0.99, 0.99, 0.99, 0.99, 0.99, 0.99, 0.99, 0.99, 0.99, 0.99, 0.99, 0.99, 0.99, 0.99, 0.99, 0.99, 0.99, 0.99, 0.99, 0.99, 0.99, 0.99, 0.99, 0.99, 0.99, 0.99, 0.99, 0.99, 0.99, 0.99, 0.99, 0.99, 0.99, 0.99, 0.99, 0.99, 0.99, 0.99, 0.99, 0.99, 0.99, 0.99, 0.99, 1.0, 1.0, 1.0, 1.0, 1.0, 1.0, 1.0, 1.0, 1.0, 1.0, 1.0, 1.0, 1.0, 1.0, 1.0, 1.0, 1.0, 1.0, 1.0, 1.0, 1.0, 1.0, 1.0, 1.0, 1.0, 1.0, 1.0, 1.0, 1.0, 1.0, 1.0, 1.0, 1.0, 1.0, 1.0, 1.0, 1.0, 1.0, 1.0, 1.0, 1.0, 1.0, 1.0, 1.0, 1.0, 1.0, 1.0, 1.0, 1.0, 1.0, 1.0, 1.0, 1.0, 1.0, 1.0, 1.0, 1.0, 1.0, 1.0, 1.0, 1.0, 1.0, 1.0, 1.0, 1.0, 1.0, 1.0, 1.0, 1.0, 1.0, 1.0, 1.0, 1.0, 1.0, 1.0, 1.0, 1.0, 1.0, 1.0, 1.0, 1.0, 1.0, 1.0, 1.0, 1.0, 1.0, 1.0, 1.0, 1.0, 1.0, 1.0, 1.0, 1.0, 1.0, 1.0, 1.0, 1.0, 1.0, 1.0, 1.0, 1.0, 1.0, 1.0, 1.0, 1.0, 1.0, 1.0, 1.0, 1.0, 1.0, 1.0, 1.0, 1.0, 1.0, 1.0, 1.0, 1.0, 1.0, 1.0, 1.0, 1.0, 1.0, 1.0, 1.0, 1.0, 1.0, 1.0, 1.0, 1.0, 1.0, 1.0, 1.0, 1.0, 1.0, 1.0, 1.0, 1.0, 1.0, 1.0, 1.0, 1.0, 1.0, 1.0, 1.0, 1.0, 1.0, 1.0, 1.0, 1.0, 1.0, 1.0, 1.0, 1.0, 1.0, 1.0, 1.0, 1.0, 1.0, 1.0, 1.0, 1.0, 1.0, 1.0, 1.0, 1.0, 1.0, 1.0, 1.0, 1.0, 1.0, 1.0, 1.0, 1.0, 1.0, 1.0, 1.0, 1.0, 1.0, 1.0, 1.0, 1.0, 1.0, 1.0, 1.0, 1.0, 1.0, 1.0, 1.0, 1.0, 1.0, 1.0, 1.0, 0.99, 0.99, 0.99, 0.99, 0.99, 0.99, 0.99, 0.99, 0.99, 0.99, 0.99, 0.99, 0.99, 0.99, 0.99, 0.99, 0.99, 0.99, 0.99, 0.99, 0.99, 0.99, 0.99, 0.99, 0.99, 0.99, 0.99, 0.99, 0.99, 0.99, 0.99, 0.99, 0.99, 0.99, 0.99, 0.99, 0.99, 0.99, 0.99, 0.99, 0.99, 0.99, 0.99, 0.99, 0.99, 0.99, 0.99, 0.99, 0.99, 0.99, 0.99, 0.99, 0.99, 0.99, 0.99, 0.99, 0.99, 0.99, 0.99, 0.99, 0.99, 0.99, 0.99, 0.99, 1.0, 1.0, 1.0, 1.0, 1.0, 1.0, 1.0, 1.0, 1.0, 1.0, 1.0, 1.0, 1.0, 1.0, 1.0, 1.0, 1.0, 1.0, 1.0, 1.0, 1.0, 1.0, 1.0, 1.0, 1.0, 1.0, 1.0, 1.0, 1.0, 1.0, 1.0, 1.0, 1.0, 1.0, 1.0, 1.0, 1.0, 1.0, 1.0, 1.0, 1.0, 1.0, 1.0, 1.0, 1.0, 1.0, 1.0, 1.0, 1.0, 1.0, 1.0, 1.0, 1.0, 1.0, 1.0, 1.0, 1.0, 1.0, 1.0, 1.0, 1.0, 1.0, 1.0, 1.0, 1.0, 1.0, 1.0, 1.0, 1.0, 1.0, 1.0, 1.0, 1.0, 1.0, 1.0, 1.0, 1.0, 1.0, 1.0, 1.0, 1.0, 1.0, 1.0, 1.0, 1.0, 1.0, 1.0, 1.0, 1.0, 1.0, 1.0, 1.0, 1.0, 1.0, 1.0, 1.0, 1.0, 1.0, 1.0, 1.0, 1.0, 1.0, 1.0, 1.0, 1.0, 1.0, 1.0, 1.0, 1.0, 1.0, 1.0, 1.0, 1.0, 1.0, 1.0, 1.0, 1.0, 1.0, 1.0, 1.0, 1.0, 1.0, 1.0, 1.0, 1.0, 1.0, 1.0, 1.0, 1.0, 1.0, 1.0, 1.0, 1.0, 1.0, 1.0, 1.0, 1.0, 1.0, 1.0, 1.0, 1.0, 1.0, 1.0, 1.0, 1.0, 1.0, 1.0, 1.0, 1.0, 1.0, 1.0, 1.0, 1.0, 1.0, 1.0, 1.0, 1.0, 1.0, 1.0, 1.0, 1.0, 1.0, 1.0, 1.0, 1.0, 1.0, 1.0, 1.0, 1.0, 1.0, 1.0, 1.0, 1.0, 1.0, 1.0, 1.0, 1.0, 1.0, 1.0, 1.0, 1.0, 1.0, 1.0, 1.0, 1.0, 1.0, 1.0, 1.0, 1.0, 1.0, 1.0, 1.0, 0.99, 0.99, 0.99, 0.99, 0.99, 0.99, 0.99, 0.99, 0.99, 0.99, 0.99, 0.99, 0.99, 0.99, 0.99, 0.99, 0.99, 0.99, 0.99, 0.99, 0.99, 0.99, 0.99, 0.99, 0.99, 0.99, 0.99, 0.99, 0.99, 0.99, 0.99, 0.99, 0.99, 0.99, 0.99, 0.99, 0.99, 0.99, 0.99, 0.99, 0.99, 0.99, 0.99, 0.99, 0.99, 0.99, 0.99, 0.99, 0.99, 0.99, 0.99, 0.99, 0.99, 0.99, 0.99, 0.99, 0.99, 0.99, 0.99, 0.99, 0.99, 0.99, 0.99, 0.99, 1.0, 1.0, 1.0, 1.0, 1.0, 1.0, 1.0, 1.0, 1.0, 1.0, 1.0, 1.0, 1.0, 1.0, 1.0, 1.0, 1.0, 1.0, 1.0, 1.0, 1.0, 1.0, 1.0, 1.0, 1.0, 1.0, 1.0, 1.0, 1.0, 1.0, 1.0, 1.0, 1.0, 1.0, 1.0, 1.0, 1.0, 1.0, 1.0, 1.0, 1.0, 1.0, 1.0, 1.0, 1.0, 1.0, 1.0, 1.0, 1.0, 1.0, 1.0, 1.0, 1.0, 1.0, 1.0, 1.0, 1.0, 1.0, 1.0, 1.0, 1.0, 1.0, 1.0, 1.0, 1.0, 1.0, 1.0, 1.0, 1.0, 1.0, 1.0, 1.0, 1.0, 1.0, 1.0, 1.0, 1.0, 1.0, 1.0, 1.0, 1.0, 1.0, 1.0, 1.0, 1.0, 1.0, 1.0, 1.0, 1.0, 1.0, 1.0, 1.0, 1.0, 1.0, 1.0, 1.0, 1.0, 1.0, 1.0, 1.0, 1.0, 1.0, 1.0, 1.0, 1.0, 1.0, 1.0, 1.0, 1.0, 1.0, 1.0, 1.0, 1.0, 1.0, 1.0, 1.0, 1.0, 1.0, 1.0, 1.0, 1.0, 1.0, 1.0, 1.0, 1.0, 1.0, 1.0, 1.0, 1.0, 1.0, 1.0, 1.0, 1.0, 1.0, 1.0, 1.0, 1.0, 1.0, 1.0, 1.0, 1.0, 1.0, 1.0, 1.0, 1.0, 1.0, 1.0, 1.0, 1.0, 1.0, 1.0, 1.0, 1.0, 1.0, 1.0, 1.0, 1.0, 1.0, 1.0, 1.0, 1.0, 1.0, 1.0, 1.0, 1.0, 1.0, 1.0, 1.0, 1.0, 1.0, 1.0, 1.0, 1.0, 1.0, 1.0, 1.0, 1.0, 1.0, 1.0, 1.0, 1.0, 1.0, 1.0, 1.0, 1.0, 1.0, 1.0, 1.0, 1.0, 1.0, 1.0, 1.0, 0.99, 0.99, 0.99, 0.99, 0.99, 0.99, 0.99, 0.99, 0.99, 0.99, 0.99, 0.99, 0.99, 0.99, 0.99, 0.99, 0.99, 0.99, 0.99, 0.99, 0.99, 0.99, 0.99, 0.99, 0.99, 0.99, 0.99, 0.99, 0.99, 0.99, 0.99, 0.99, 0.99, 0.99, 0.99, 0.99, 0.99, 0.99, 0.99, 0.99, 0.99, 0.99, 0.99, 0.99, 0.99, 0.99, 0.99, 0.99, 0.99, 0.99, 0.99, 0.99, 0.99, 0.99, 0.99, 0.99, 0.99, 0.99, 0.99, 0.99, 0.99, 0.99, 0.99, 0.99, 1.0, 1.0, 1.0, 1.0, 1.0, 1.0, 1.0, 1.0, 1.0, 1.0, 1.0, 1.0, 1.0, 1.0, 1.0, 1.0, 1.0, 1.0, 1.0, 1.0, 1.0, 1.0, 1.0, 1.0, 1.0, 1.0, 1.0, 1.0, 1.0, 1.0, 1.0, 1.0, 1.0, 1.0, 1.0, 1.0, 1.0, 1.0, 1.0, 1.0, 1.0, 1.0, 1.0, 1.0, 1.0, 1.0, 1.0, 1.0, 1.0, 1.0, 1.0, 1.0, 1.0, 1.0, 1.0, 1.0, 1.0, 1.0, 1.0, 1.0, 1.0, 1.0, 1.0, 1.0, 1.0, 1.0, 1.0, 1.0, 1.0, 1.0, 1.0, 1.0, 1.0, 1.0, 1.0, 1.0, 1.0, 1.0, 1.0, 1.0, 1.0, 1.0, 1.0, 1.0, 1.0, 1.0, 1.0, 1.0, 1.0, 1.0, 1.0, 1.0, 1.0, 1.0, 1.0, 1.0, 1.0, 1.0, 1.0, 1.0, 1.0, 1.0, 1.0, 1.0, 1.0, 1.0, 1.0, 1.0, 1.0, 1.0, 1.0, 1.0, 1.0, 1.0, 1.0, 1.0, 1.0, 1.0, 1.0, 1.0, 1.0, 1.0, 1.0, 1.0, 1.0, 1.0, 1.0, 1.0, 1.0, 1.0, 1.0, 1.0, 1.0, 1.0, 1.0, 1.0, 1.0, 1.0, 1.0, 1.0, 1.0, 1.0, 1.0, 1.0, 1.0, 1.0, 1.0, 1.0, 1.0, 1.0, 1.0, 1.0, 1.0, 1.0, 1.0, 1.0, 1.0, 1.0, 1.0, 1.0, 1.0, 1.0, 1.0, 1.0, 1.0, 1.0, 1.0, 1.0, 1.0, 1.0, 1.0, 1.0, 1.0, 1.0, 1.0, 1.0, 1.0, 1.0, 1.0, 1.0, 1.0, 1.0, 1.0, 1.0, 1.0, 1.0, 1.0, 1.0, 1.0, 1.0, 1.0, 1.0, 0.99, 0.99, 0.99, 0.99, 0.99, 0.99, 0.99, 0.99, 0.99, 0.99, 0.99, 0.99, 0.99, 0.99, 0.99, 0.99, 0.99, 0.99, 0.99, 0.99, 0.99, 0.99, 0.99, 0.99, 0.99, 0.99, 0.99, 0.99, 0.99, 0.99, 0.99, 0.99, 0.99, 0.99, 0.99, 0.99, 0.99, 0.99, 0.99, 0.99, 0.99, 0.99, 0.99, 0.99, 0.99, 0.99, 0.99, 0.99, 0.99, 0.99, 0.99, 0.99, 0.99, 0.99, 0.99, 0.99, 0.99, 0.99, 0.99, 0.99, 0.99, 0.99, 0.99, 0.99, 1.0, 1.0, 1.0, 1.0, 1.0, 1.0, 1.0, 1.0, 1.0, 1.0, 1.0, 1.0, 1.0, 1.0, 1.0, 1.0, 1.0, 1.0, 1.0, 1.0, 1.0, 1.0, 1.0, 1.0, 1.0, 1.0, 1.0, 1.0, 1.0, 1.0, 1.0, 1.0, 1.0, 1.0, 1.0, 1.0, 1.0, 1.0, 1.0, 1.0, 1.0, 1.0, 1.0, 1.0, 1.0, 1.0, 1.0, 1.0, 1.0, 1.0, 1.0, 1.0, 1.0, 1.0, 1.0, 1.0, 1.0, 1.0, 1.0, 1.0, 1.0, 1.0, 1.0, 1.0, 1.0, 1.0, 1.0, 1.0, 1.0, 1.0, 1.0, 1.0, 1.0, 1.0, 1.0, 1.0, 1.0, 1.0, 1.0, 1.0, 1.0, 1.0, 1.0, 1.0, 1.0, 1.0, 1.0, 1.0, 1.0, 1.0, 1.0, 1.0, 1.0, 1.0, 1.0, 1.0, 1.0, 1.0, 1.0, 1.0, 1.0, 1.0, 1.0, 1.0, 1.0, 1.0, 1.0, 1.0, 1.0, 1.0, 1.0, 1.0, 1.0, 1.0, 1.0, 1.0, 1.0, 1.0, 1.0, 1.0, 1.0, 1.0, 1.0, 1.0, 1.0, 1.0, 1.0, 1.0, 1.0, 1.0, 1.0, 1.0, 1.0, 1.0, 1.0, 1.0, 1.0, 1.0, 1.0, 1.0, 1.0, 1.0, 1.0, 1.0, 1.0, 1.0, 1.0, 1.0, 1.0, 1.0, 1.0, 1.0, 1.0, 1.0, 1.0, 1.0, 1.0, 1.0, 1.0, 1.0, 1.0, 1.0, 1.0, 1.0, 1.0, 1.0, 1.0, 1.0, 1.0, 1.0, 1.0, 1.0, 1.0, 1.0, 1.0, 1.0, 1.0, 1.0, 1.0, 1.0, 1.0, 1.0, 1.0, 1.0, 1.0, 1.0, 1.0, 1.0, 1.0, 1.0, 1.0, 1.0, 0.99, 0.99, 0.99, 0.99, 0.99, 0.99, 0.99, 0.99, 0.99, 0.99, 0.99, 0.99, 0.99, 0.99, 0.99, 0.99, 0.99, 0.99, 0.99, 0.99, 0.99, 0.99, 0.99, 0.99, 0.99, 0.99, 0.99, 0.99, 0.99, 0.99, 0.99, 0.99, 0.99, 0.99, 0.99, 0.99, 0.99, 0.99, 0.99, 0.99, 0.99, 0.99, 0.99, 0.99, 0.99, 0.99, 0.99, 0.99, 0.99, 0.99, 0.99, 0.99, 0.99, 0.99, 0.99, 0.99, 0.99, 0.99, 0.99, 0.99, 0.99, 0.99, 0.99, 0.99, 1.0, 1.0, 1.0, 1.0, 1.0, 1.0, 1.0, 1.0, 1.0, 1.0, 1.0, 1.0, 1.0, 1.0, 1.0, 1.0, 1.0, 1.0, 1.0, 1.0, 1.0, 1.0, 1.0, 1.0, 1.0, 1.0, 1.0, 1.0, 1.0, 1.0, 1.0, 1.0, 1.0, 1.0, 1.0, 1.0, 1.0, 1.0, 1.0, 1.0, 1.0, 1.0, 1.0, 1.0, 1.0, 1.0, 1.0, 1.0, 1.0, 1.0, 1.0, 1.0, 1.0, 1.0, 1.0, 1.0, 1.0, 1.0, 1.0, 1.0, 1.0, 1.0, 1.0, 1.0, 1.0, 1.0, 1.0, 1.0, 1.0, 1.0, 1.0, 1.0, 1.0, 1.0, 1.0, 1.0, 1.0, 1.0, 1.0, 1.0, 1.0, 1.0, 1.0, 1.0, 1.0, 1.0, 1.0, 1.0, 1.0, 1.0, 1.0, 1.0, 1.0, 1.0, 1.0, 1.0, 1.0, 1.0, 1.0, 1.0, 1.0, 1.0, 1.0, 1.0, 1.0, 1.0, 1.0, 1.0, 1.0, 1.0, 1.0, 1.0, 1.0, 1.0, 1.0, 1.0, 1.0, 1.0, 1.0, 1.0, 1.0, 1.0, 1.0, 1.0, 1.0, 1.0, 1.0, 1.0, 1.0, 1.0, 1.0, 1.0, 1.0, 1.0, 1.0, 1.0, 1.0, 1.0, 1.0, 1.0, 1.0, 1.0, 1.0, 1.0, 1.0, 1.0, 1.0, 1.0, 1.0, 1.0, 1.0, 1.0, 1.0, 1.0, 1.0, 1.0, 1.0, 1.0, 1.0, 1.0, 1.0, 1.0, 1.0, 1.0, 1.0, 1.0, 1.0, 1.0, 1.0, 1.0, 1.0, 1.0, 1.0, 1.0, 1.0, 1.0, 1.0, 1.0, 1.0, 1.0, 1.0, 1.0, 1.0, 1.0, 1.0, 1.0, 1.0, 1.0, 1.0, 1.0, 1.0, 1.0, 0.99, 0.99, 0.99, 0.99, 0.99, 0.99, 0.99, 0.99, 0.99, 0.99, 0.99, 0.99, 0.99, 0.99, 0.99, 0.99, 0.99, 0.99, 0.99, 0.99, 0.99, 0.99, 0.99, 0.99, 0.99, 0.99, 0.99, 0.99, 0.99, 0.99, 0.99, 0.99, 0.99, 0.99, 0.99, 0.99, 0.99, 0.99, 0.99, 0.99, 0.99, 0.99, 0.99, 0.99, 0.99, 0.99, 0.99, 0.99, 0.99, 0.99, 0.99, 0.99, 0.99, 0.99, 0.99, 0.99, 0.99, 0.99, 0.99, 0.99, 0.99, 0.99, 0.99, 0.99, 1.0, 1.0, 1.0, 1.0, 1.0, 1.0, 1.0, 1.0, 1.0, 1.0, 1.0, 1.0, 1.0, 1.0, 1.0, 1.0, 1.0, 1.0, 1.0, 1.0, 1.0, 1.0, 1.0, 1.0, 1.0, 1.0, 1.0, 1.0, 1.0, 1.0, 1.0, 1.0, 1.0, 1.0, 1.0, 1.0, 1.0, 1.0, 1.0, 1.0, 1.0, 1.0, 1.0, 1.0, 1.0, 1.0, 1.0, 1.0, 1.0, 1.0, 1.0, 1.0, 1.0, 1.0, 1.0, 1.0, 1.0, 1.0, 1.0, 1.0, 1.0, 1.0, 1.0, 1.0, 1.0, 1.0, 1.0, 1.0, 1.0, 1.0, 1.0, 1.0, 1.0, 1.0, 1.0, 1.0, 1.0, 1.0, 1.0, 1.0, 1.0, 1.0, 1.0, 1.0, 1.0, 1.0, 1.0, 1.0, 1.0, 1.0, 1.0, 1.0, 1.0, 1.0, 1.0, 1.0, 1.0, 1.0, 1.0, 1.0, 1.0, 1.0, 1.0, 1.0, 1.0, 1.0, 1.0, 1.0, 1.0, 1.0, 1.0, 1.0, 1.0, 1.0, 1.0, 1.0, 1.0, 1.0, 1.0, 1.0, 1.0, 1.0, 1.0, 1.0, 1.0, 1.0, 1.0, 1.0, 1.0, 1.0, 1.0, 1.0, 1.0, 1.0, 1.0, 1.0, 1.0, 1.0, 1.0, 1.0, 1.0, 1.0, 1.0, 1.0, 1.0, 1.0, 1.0, 1.0, 1.0, 1.0, 1.0, 1.0, 1.0, 1.0, 1.0, 1.0, 1.0, 1.0, 1.0, 1.0, 1.0, 1.0, 1.0, 1.0, 1.0, 1.0, 1.0, 1.0, 1.0, 1.0, 1.0, 1.0, 1.0, 1.0, 1.0, 1.0, 1.0, 1.0, 1.0, 1.0, 1.0, 1.0, 1.0, 1.0, 1.0, 1.0, 1.0, 1.0, 1.0, 1.0, 1.0, 1.0)\n"
          ]
        }
      ]
    },
    {
      "cell_type": "code",
      "source": [
        "# Узнаем количество элементов в итоговом кортеже\n",
        "num_elements = len(current_sum)\n",
        "print(f\"Количество элементов в итоговом кортеже: {num_elements}\")  # Вывод количества элементов"
      ],
      "metadata": {
        "colab": {
          "base_uri": "https://localhost:8080/"
        },
        "id": "dEbUL2_AClcZ",
        "outputId": "92d7809f-542b-425d-fd96-56dbab24bad4"
      },
      "execution_count": null,
      "outputs": [
        {
          "output_type": "stream",
          "name": "stdout",
          "text": [
            "Количество элементов в итоговом кортеже: 8193\n"
          ]
        }
      ]
    },
    {
      "cell_type": "code",
      "source": [
        "# Дополнение к коду для обработки результата\n",
        "# Присвоение обработанного результата переменной STih\n",
        "STih = process_fuzzy_result(current_sum)\n",
        "\n",
        "# Вывод значения STih\n",
        "print(f\"Значение STih: {STih}\")"
      ],
      "metadata": {
        "colab": {
          "base_uri": "https://localhost:8080/"
        },
        "id": "Dsu-o_BfCyXx",
        "outputId": "cee51c38-dade-4860-990f-cf7e8d87c807"
      },
      "execution_count": null,
      "outputs": [
        {
          "output_type": "stream",
          "name": "stdout",
          "text": [
            "Значение STih: (38.5, 0.99, 1.0)\n"
          ]
        }
      ]
    },
    {
      "cell_type": "code",
      "source": [
        "# Вычисление TCF = 0.6 + (0.01 * STih)\n",
        "\n",
        "def add_fuzzy_number_with_constant(X, A):\n",
        "    # Распаковка параметров нечеткого числа\n",
        "    x, *membership_degrees = X  # Извлекаем значение и степени принадлежности\n",
        "\n",
        "    # Вычисление нового значения Z\n",
        "    Z = x + A  # Сумма значения X и константы A\n",
        "\n",
        "    # Параметры (степени принадлежности) остаются без изменений\n",
        "    return (round(Z, 3), *membership_degrees)\n",
        "\n",
        "\n",
        "# Умножаем STih на 0.01\n",
        "multiplied_result = multiply_fuzzy_number_with_constant(STih, 0.01)\n",
        "\n",
        "# Теперь прибавляем 0.6 к результату\n",
        "TCF = add_fuzzy_number_with_constant(multiplied_result, 0.6)\n",
        "\n",
        "# Вывод результата TCF\n",
        "print(f\"Значение TCF: {TCF}\")"
      ],
      "metadata": {
        "colab": {
          "base_uri": "https://localhost:8080/"
        },
        "outputId": "31c4b5b9-74ab-498c-a530-6eddcd905a13",
        "id": "hSNSN_c7KpmA"
      },
      "execution_count": null,
      "outputs": [
        {
          "output_type": "stream",
          "name": "stdout",
          "text": [
            "Значение TCF: (0.985, 0.05, 1.0)\n"
          ]
        }
      ]
    },
    {
      "cell_type": "code",
      "source": [
        "# Вычисление SFi = 1.5 * F1 + 0.5 * F2 + 1 * F3 + 0.5 * F4 + 1 * F5 + 2 * F6 - 1 * F7 - 1 * F8\n",
        "# Сначала умножим все F1-F8 на соответствующие коэффициенты с положительным знаком\n",
        "\n",
        "def add_discrete_fuzzy_numbers(X, Y):\n",
        "    x_value, *x_parameters = X\n",
        "    y_value, *y_parameters = Y\n",
        "    result_parameters = []\n",
        "\n",
        "    for xi in x_parameters:\n",
        "        for yj in y_parameters:\n",
        "            zij = round(xi + yj - xi * yj, 2)\n",
        "            result_parameters.append(zij)\n",
        "\n",
        "    Z = round(x_value + y_value, 2)\n",
        "    return (Z, *result_parameters)\n",
        "def SF(F1, F2, F3, F4, F5, F6, F7, F8):\n",
        "    weights = [1.5, 0.5, 1, 0.5, 1, 2, 1, 1]\n",
        "    inputs = [F1, F2, F3, F4, F5, F6, F7, F8]\n",
        "\n",
        "    SFi = (0,)\n",
        "\n",
        "    # Присвоение имен для произведений\n",
        "    results = []\n",
        "\n",
        "    for weight, input_value in zip(weights, inputs):\n",
        "        weighted_value = multiply_fuzzy_number_with_constant(input_value, weight)\n",
        "        SFi = add_discrete_fuzzy_numbers(SFi, weighted_value)\n",
        "        results.append(weighted_value)  # Сохраняем произведение\n",
        "\n",
        "    return SFi, results  # Возвращаем итоговое значение и все произведения\n",
        "\n",
        "# Вводим показатели уровня квалификации разработчиков\n",
        "F1 = (4, 0.5, 0.6)   #Знакомство с технологией, показатель от 0 до 5 включительно\n",
        "F2 = (3, 0.5, 0.6)   #Опыт разработки приложений, показатель от 0 до 5 включительно\n",
        "F3 = (5, 0.5, 0.6)   #Опыт использования объектно-ориентированного подхода, показатель от 0 до 5 включительно\n",
        "F4 = (1, 0.5, 0.6)   #Наличие ведущего аналитика, показатель от 0 до 5 включительно\n",
        "F5 = (0, 0.5, 0.6)   #Мотивация, показатель от 0 до 5 включительно\n",
        "F6 = (5, 0.5, 0.6)   #Стабильность требований, показатель от 0 до 5 включительно\n",
        "F7 = (5, 0.5, 0.6)   #Частичная занятость, показатель от 0 до 5 включительно\n",
        "F8 = (0, 0.5, 0.6)   #Сложные языки программирования, показатель от 0 до 5 включительно\n",
        "\n",
        "# Вызов функции SF и вывод результата\n",
        "result, weighted_results = SF(F1, F2, F3, F4, F5, F6, F7, F8)\n",
        "# Присвоение имен результатам\n",
        "F1h = weighted_results[0]  # Результат умножения (4, 0.5, 0.6) на 1.5\n",
        "F2h = weighted_results[1]  # Результат умножения (3, 0.5, 0.6) на 0.5\n",
        "F3h = weighted_results[2]  # Результат умножения (5, 0.5, 0.6) на 1\n",
        "F4h = weighted_results[3]  # Результат умножения (1, 0.5, 0.6) на 0.5\n",
        "F5h = weighted_results[4]  # Результат умножения (0, 0.5, 0.6) на 1\n",
        "F6h = weighted_results[5]  # Результат умножения (5, 0.5, 0.6) на 2\n",
        "F7h = weighted_results[6]  # Результат умножения (5, 0.5, 0.6) на 1\n",
        "F8h = weighted_results[7]  # Результат умножения (0, 0.5, 0.6) на 1\n",
        "\n",
        "\n",
        "# Выводим результаты умножения\n",
        "for i, result in enumerate(weighted_results, start=1):\n",
        "    print(f\"F{i}h: {result}\")\n"
      ],
      "metadata": {
        "colab": {
          "base_uri": "https://localhost:8080/"
        },
        "id": "tOG1wRkQNZrL",
        "outputId": "325f5850-6868-4cbd-8eed-a044a2e9181d"
      },
      "execution_count": null,
      "outputs": [
        {
          "output_type": "stream",
          "name": "stdout",
          "text": [
            "F1h: (6.0, 0.65, 0.75)\n",
            "F2h: (1.5, 0.29, 0.37)\n",
            "F3h: (5, 0.5, 0.6)\n",
            "F4h: (0.5, 0.29, 0.37)\n",
            "F5h: (0, 0.5, 0.6)\n",
            "F6h: (10, 0.75, 0.84)\n",
            "F7h: (5, 0.5, 0.6)\n",
            "F8h: (0, 0.5, 0.6)\n"
          ]
        }
      ]
    },
    {
      "cell_type": "code",
      "source": [
        "# Суммируемм все слагаемые, у которых коэффициенты в итоговой сумме SFi имеют положительный знак (F1h - F6h)\n",
        "# Функция для сложения дискретных колеблющихся нечетких чисел\n",
        "def add_discrete_fuzzy_numbers(X, Y):\n",
        "    x_value, *x_parameters = X\n",
        "    y_value, *y_parameters = Y\n",
        "    result_parameters = []\n",
        "\n",
        "    for xi in x_parameters:\n",
        "        for yj in y_parameters:\n",
        "            zij = round(xi + yj - xi * yj, 3)\n",
        "            result_parameters.append(zij)\n",
        "\n",
        "    Z = round(x_value + y_value, 3)\n",
        "    return (Z, *result_parameters)\n",
        "# Список всех нечетких чисел\n",
        "fuzzy_numbers = [F1h, F2h, F3h, F4h, F5h, F6h]\n",
        "\n",
        "# Начинаем с первого нечеткого числа\n",
        "current_sum = fuzzy_numbers[0]\n",
        "\n",
        "# Поочередно складываем все нечеткие числа\n",
        "for fuzzy_number in fuzzy_numbers[1:]:\n",
        "    current_sum = add_discrete_fuzzy_numbers(current_sum, fuzzy_number)\n",
        "\n",
        "# Вывод результата\n",
        "print(f\"Итоговая сумма всех нечетких чисел: {current_sum}\")\n"
      ],
      "metadata": {
        "colab": {
          "base_uri": "https://localhost:8080/"
        },
        "id": "2DAdnIdpPZ6I",
        "outputId": "34a32b0d-ce70-4891-e34b-4d924ab8de29"
      },
      "execution_count": null,
      "outputs": [
        {
          "output_type": "stream",
          "name": "stdout",
          "text": [
            "Итоговая сумма всех нечетких чисел: (23.0, 0.989, 0.993, 0.991, 0.994, 0.99, 0.994, 0.992, 0.995, 0.991, 0.994, 0.993, 0.996, 0.992, 0.995, 0.994, 0.996, 0.99, 0.994, 0.992, 0.995, 0.992, 0.995, 0.993, 0.996, 0.992, 0.995, 0.994, 0.996, 0.993, 0.996, 0.994, 0.996, 0.992, 0.995, 0.994, 0.996, 0.993, 0.996, 0.994, 0.996, 0.994, 0.996, 0.995, 0.997, 0.994, 0.996, 0.996, 0.997, 0.993, 0.996, 0.994, 0.996, 0.994, 0.996, 0.995, 0.997, 0.994, 0.996, 0.996, 0.997, 0.995, 0.997, 0.996, 0.997)\n"
          ]
        }
      ]
    },
    {
      "cell_type": "code",
      "source": [
        "# Узнаем количество элементов в итоговом кортеже\n",
        "num_elements = len(current_sum)\n",
        "print(f\"Количество элементов в итоговом кортеже: {num_elements}\")  # Вывод количества элементов"
      ],
      "metadata": {
        "colab": {
          "base_uri": "https://localhost:8080/"
        },
        "id": "DVaZwH_CQhRz",
        "outputId": "6f502694-75a8-4614-8aac-6cf2e37e928c"
      },
      "execution_count": null,
      "outputs": [
        {
          "output_type": "stream",
          "name": "stdout",
          "text": [
            "Количество элементов в итоговом кортеже: 65\n"
          ]
        }
      ]
    },
    {
      "cell_type": "code",
      "source": [
        "# А теперь от суммы первых 6 слагаемых отнимем два последних слагаемых, у которых коэффициенты имеют знак \"-\" - это F7h и F8h\n",
        "# Определяем дискретные колеблющиеся нечеткие числа\n",
        "F16h = current_sum\n",
        "F7h = (5, 0.5, 0.6)\n",
        "F8h = (0, 0.5, 0.6)\n",
        "\n",
        "def difference_discrete_fuzzy_numbers(X, Y):\n",
        "    # Распаковка параметров дискретных колеблющихся нечетких чисел\n",
        "    x_value, *x_parameters = X\n",
        "    y_value, *y_parameters = Y\n",
        "\n",
        "    # Список для хранения результатов\n",
        "    result_parameters = []\n",
        "\n",
        "    # Перебор всех параметров X и Y\n",
        "    for xi in x_parameters:\n",
        "        for yj in y_parameters:\n",
        "            # Условие для вычисления параметров для Z\n",
        "            if xi >= yj and yj != 1:\n",
        "                zij = round((xi - yj) / (1 - yj), 2)\n",
        "            else:\n",
        "                zij = 0  # Если условие не выполняется, zij = 0\n",
        "            result_parameters.append(zij)\n",
        "\n",
        "    # Вычисление значения Z\n",
        "    Z = round(x_value - y_value, 2)\n",
        "\n",
        "    return (Z, *result_parameters)\n",
        "\n",
        "# Список всех нечетких чисел\n",
        "fuzzy_numbers = [F16h, F7h, F8h]\n",
        "\n",
        "# Начинаем с первого нечеткого числа\n",
        "current_difference = fuzzy_numbers[0]\n",
        "\n",
        "# Поочередно складываем все нечеткие числа\n",
        "for fuzzy_number in fuzzy_numbers[1:]:\n",
        "    current_difference = difference_discrete_fuzzy_numbers(current_difference, fuzzy_number)\n",
        "\n",
        "# Вывод результата\n",
        "print(f\"Итоговая разность всех нечетких чисел: {current_difference}\")\n"
      ],
      "metadata": {
        "colab": {
          "base_uri": "https://localhost:8080/"
        },
        "id": "lf0ncYkZVE4Y",
        "outputId": "6d0514ac-e62b-4dce-cc47-3f6d385a5f12"
      },
      "execution_count": null,
      "outputs": [
        {
          "output_type": "stream",
          "name": "stdout",
          "text": [
            "Итоговая разность всех нечетких чисел: (18.0, 0.96, 0.95, 0.94, 0.92, 0.98, 0.97, 0.96, 0.95, 0.96, 0.95, 0.96, 0.95, 0.98, 0.97, 0.96, 0.95, 0.96, 0.95, 0.94, 0.92, 0.98, 0.97, 0.96, 0.95, 0.96, 0.95, 0.96, 0.95, 0.98, 0.97, 0.98, 0.97, 0.96, 0.95, 0.96, 0.95, 0.98, 0.97, 0.96, 0.95, 0.98, 0.97, 0.96, 0.95, 0.98, 0.97, 0.98, 0.97, 0.96, 0.95, 0.96, 0.95, 0.98, 0.97, 0.98, 0.97, 0.98, 0.97, 0.96, 0.95, 0.98, 0.97, 0.98, 0.97, 0.96, 0.95, 0.94, 0.92, 0.98, 0.97, 0.96, 0.95, 0.96, 0.95, 0.96, 0.95, 0.98, 0.97, 0.98, 0.97, 0.96, 0.95, 0.96, 0.95, 0.98, 0.97, 0.98, 0.97, 0.98, 0.97, 0.96, 0.95, 0.98, 0.97, 0.98, 0.97, 0.96, 0.95, 0.96, 0.95, 0.98, 0.97, 0.98, 0.97, 0.98, 0.97, 0.96, 0.95, 0.98, 0.97, 0.98, 0.97, 0.98, 0.97, 0.96, 0.95, 0.98, 0.97, 0.98, 0.97, 0.98, 0.97, 0.96, 0.95, 0.98, 0.97, 0.98, 0.97, 0.96, 0.95, 0.96, 0.95, 0.98, 0.97, 0.98, 0.97, 0.98, 0.97, 0.96, 0.95, 0.98, 0.97, 0.98, 0.97, 0.98, 0.97, 0.96, 0.95, 0.98, 0.97, 0.98, 0.97, 0.98, 0.97, 0.96, 0.95, 0.98, 0.97, 0.98, 0.97, 0.98, 0.97, 0.96, 0.95, 0.98, 0.97, 0.98, 0.97, 0.98, 0.97, 0.98, 0.97, 0.98, 0.97, 0.98, 0.97, 0.98, 0.97, 0.96, 0.95, 0.98, 0.97, 0.98, 0.97, 0.98, 0.97, 0.98, 0.97, 0.98, 0.97, 0.98, 0.97, 0.98, 0.97, 0.96, 0.95, 0.98, 0.97, 0.98, 0.97, 0.98, 0.97, 0.96, 0.95, 0.98, 0.97, 0.98, 0.97, 0.98, 0.97, 0.96, 0.95, 0.98, 0.97, 0.98, 0.97, 0.98, 0.97, 0.98, 0.97, 0.98, 0.97, 0.98, 0.97, 0.98, 0.97, 0.96, 0.95, 0.98, 0.97, 0.98, 0.97, 0.98, 0.97, 0.98, 0.97, 0.98, 0.97, 0.98, 0.97, 0.98, 0.97, 0.98, 0.97, 0.98, 0.97, 0.98, 0.97, 0.98, 0.97, 0.98, 0.97, 0.98, 0.97, 0.98, 0.97)\n"
          ]
        }
      ]
    },
    {
      "cell_type": "code",
      "source": [
        "# Узнаем количество элементов в итоговом кортеже\n",
        "num_elements = len(current_difference)\n",
        "print(f\"Количество элементов в итоговом кортеже: {num_elements}\")  # Вывод количества элементов"
      ],
      "metadata": {
        "colab": {
          "base_uri": "https://localhost:8080/"
        },
        "id": "Dyc6kOLUeZ6X",
        "outputId": "2e256e29-4a60-4fa0-d3f5-8d80785cd4d3"
      },
      "execution_count": null,
      "outputs": [
        {
          "output_type": "stream",
          "name": "stdout",
          "text": [
            "Количество элементов в итоговом кортеже: 257\n"
          ]
        }
      ]
    },
    {
      "cell_type": "code",
      "source": [
        "# Дополнение к коду для обработки результата\n",
        "# Присвоение обработанного результата переменной SFih\n",
        "SFih = process_fuzzy_result(current_difference)\n",
        "\n",
        "# Вывод значения SFih\n",
        "print(f\"Значение SFih: {SFih}\")"
      ],
      "metadata": {
        "colab": {
          "base_uri": "https://localhost:8080/"
        },
        "id": "xuuOXtNmQuXr",
        "outputId": "04e188ac-723d-4a2d-eeb4-5af43894d3ce"
      },
      "execution_count": null,
      "outputs": [
        {
          "output_type": "stream",
          "name": "stdout",
          "text": [
            "Значение SFih: (18.0, 0.92, 0.94, 0.95, 0.96, 0.97, 0.98)\n"
          ]
        }
      ]
    },
    {
      "cell_type": "code",
      "source": [
        "# Вычисление EF = 1.4 - (0.03 * SFih)\n",
        "# Функция для умножения дискретного колеблющегося нечеткого числа на константу\n",
        "def multiply_fuzzy_number_with_constant(X, A):\n",
        "    x, *parameters = X\n",
        "    Z = round(A * x, 3)\n",
        "    new_parameters = [round(1 - (1 - param) ** A, 2) for param in parameters]\n",
        "    return (round(Z, 3), *new_parameters)\n",
        "\n",
        "def difference_fuzzy_number_with_constant(X, A):\n",
        "    # Распаковка параметров нечеткого числа\n",
        "    x, *membership_degrees = X  # Извлекаем значение и степени принадлежности\n",
        "\n",
        "    # Вычисление нового значения Z\n",
        "    Z = A - x  # Сумма значения X и константы A\n",
        "\n",
        "    # Параметры (степени принадлежности) остаются без изменений\n",
        "    return (round(Z, 3), *membership_degrees)\n",
        "\n",
        "# Умножаем SFih на 0.03\n",
        "multiplied_result = multiply_fuzzy_number_with_constant(SFih, 0.03)\n",
        "\n",
        "# Теперь теперь вычитаем результат от константы 1.4\n",
        "EF = difference_fuzzy_number_with_constant(multiplied_result, 1.4)\n",
        "\n",
        "# Вывод результата EF\n",
        "print(f\"Значение EF: {EF}\")"
      ],
      "metadata": {
        "colab": {
          "base_uri": "https://localhost:8080/"
        },
        "id": "yOhMe9NafoLj",
        "outputId": "508fd867-2187-41fa-c59c-29e85805cc52"
      },
      "execution_count": null,
      "outputs": [
        {
          "output_type": "stream",
          "name": "stdout",
          "text": [
            "Значение EF: (0.86, 0.07, 0.08, 0.09, 0.09, 0.1, 0.11)\n"
          ]
        }
      ]
    },
    {
      "cell_type": "markdown",
      "source": [
        "Так как при умножении нечеткого колеблющегося числа на константу значения константы становятся показателями степеней, в которую возводятся значения *HFE*, то при возведении значений функции принадлежности в степень (-0.03) получаются значения, очень близкие к 1. Поскольку по формуле далее они вычитаются из 1, то итоговые значения степеней принадлежности *EF* очень близки к нулю, что в дальнейшем приводит к очень низким показателям степеней принадлежности итогового расчетного результата по модели."
      ],
      "metadata": {
        "id": "rFkJeCGFak9U"
      }
    },
    {
      "cell_type": "code",
      "source": [
        "# Дополнение к коду для обработки результата\n",
        "# Присвоение обработанного результата переменной EF_final\n",
        "EF_final = process_fuzzy_result(EF)\n",
        "\n",
        "# Вывод значения EF_final\n",
        "print(f\"Значение EF_final: {EF_final}\")"
      ],
      "metadata": {
        "colab": {
          "base_uri": "https://localhost:8080/"
        },
        "id": "qrqq9G1fsN1k",
        "outputId": "8fd6df5b-4f0a-4f30-8e39-87493b087916"
      },
      "execution_count": null,
      "outputs": [
        {
          "output_type": "stream",
          "name": "stdout",
          "text": [
            "Значение EF_final: (0.86, 0.07, 0.08, 0.09, 0.1, 0.11)\n"
          ]
        }
      ]
    },
    {
      "cell_type": "code",
      "source": [
        "# Вычисление UCP = UUCP_processsed_result * TCF * EF_final\n",
        "def multiply_discrete_fuzzy_numbers(X, Y):\n",
        "    # Распаковка параметров дискретных колеблющихся нечетких чисел\n",
        "    x_value, *x_parameters = X  # Извлекаем значение и параметры X\n",
        "    y_value, *y_parameters = Y  # Извлекаем значение и параметры Y\n",
        "\n",
        "    # Список для хранения результатов\n",
        "    result_parameters = []\n",
        "\n",
        "    # Перебор всех параметров X и Y\n",
        "    for x_param in x_parameters:\n",
        "        for y_param in y_parameters:\n",
        "            # Вычисление параметров для Z\n",
        "            z_param = round(x_param * y_param, 2)\n",
        "            result_parameters.append(z_param)\n",
        "\n",
        "    # Вычисление значения Z\n",
        "    Z_value = round(x_value * y_value, 2)\n",
        "\n",
        "    return Z_value, result_parameters\n",
        "\n",
        "# Сначала умножаем UUCP_processed_result на TCF\n",
        "result_1_value, result_1_parameters = multiply_discrete_fuzzy_numbers(UUCP_processed_result, TCF)\n",
        "\n",
        "# Теперь результат умножаем на EF_final\n",
        "final_result_value, final_result_parameters = multiply_discrete_fuzzy_numbers((result_1_value, *result_1_parameters), EF_final)\n",
        "\n",
        "# Упаковка итогового результата в кортеж\n",
        "final_result = (final_result_value, *final_result_parameters)\n",
        "\n",
        "# Вывод результата\n",
        "final_parameters_str = ', '.join(map(str, final_result_parameters))\n",
        "print(f\"Результат произведения нечетких чисел UCP = {final_result} (где X = {final_result_value}, параметры = {{ {final_parameters_str} }})\")"
      ],
      "metadata": {
        "colab": {
          "base_uri": "https://localhost:8080/"
        },
        "id": "04efcp4sl3o8",
        "outputId": "74a3cf41-3b6a-40a8-e7f7-52ada8a6fef1"
      },
      "execution_count": null,
      "outputs": [
        {
          "output_type": "stream",
          "name": "stdout",
          "text": [
            "Результат произведения нечетких чисел UCP = (72.0, 0.0, 0.0, 0.0, 0.01, 0.01, 0.07, 0.08, 0.09, 0.1, 0.11, 0.0, 0.0, 0.0, 0.01, 0.01, 0.07, 0.08, 0.09, 0.1, 0.11) (где X = 72.0, параметры = { 0.0, 0.0, 0.0, 0.01, 0.01, 0.07, 0.08, 0.09, 0.1, 0.11, 0.0, 0.0, 0.0, 0.01, 0.01, 0.07, 0.08, 0.09, 0.1, 0.11 })\n"
          ]
        }
      ]
    },
    {
      "cell_type": "code",
      "source": [
        "# Дополнение к коду для обработки результата\n",
        "# Присвоение обработанного результата переменной UCP\n",
        "UCP = process_fuzzy_result(final_result)\n",
        "\n",
        "# Вывод значения UCP\n",
        "print(f\"Значение UCP: {UCP}\")"
      ],
      "metadata": {
        "colab": {
          "base_uri": "https://localhost:8080/"
        },
        "id": "Bf67Jjt2oily",
        "outputId": "a1bfda99-3213-4b1c-e4e8-a92cbc77393a"
      },
      "execution_count": null,
      "outputs": [
        {
          "output_type": "stream",
          "name": "stdout",
          "text": [
            "Значение UCP: (72.0, 0.0, 0.01, 0.07, 0.08, 0.09, 0.1, 0.11)\n"
          ]
        }
      ]
    },
    {
      "cell_type": "markdown",
      "source": [
        "Вывод: колеблющиеся нечеткие множества не совсем подходят для использования в данной модели, так как большое количество нечетких слагаемых (со степенями принадлежности выше 0.5) при суммировании приводит к значениям степеней принадлежности результирующего *HFE* , близким к 1, а константы (если они близки к 0), при умножении на них *HFE* очень сильно cнижают итоговые значения степеней принадлежности результата. В итоге степень принадлежности расчетного параметра либо очень большая (около, либо равна 1), либо очень маленькая (около, либо равна 0) и ее значение наглядно не отражает уровни степеней принадлежности входных данных."
      ],
      "metadata": {
        "id": "T1zDYSSgcc2g"
      }
    },
    {
      "cell_type": "markdown",
      "source": [
        "# **Вывод по проделанной работе**\n",
        "\n",
        "Для рассмотренных моделей (*FPA*, *COCOMO II*, *UCP*) наибольшее количество информации об оценках стейкхолдеров позволяют сохранить нечеткие трапециевидные числа (треугольные нечеткие числа - их частный случай), с помощью которых можно отразить степень уверенности в оценках экспертов или параметрах модели, которые присваиваются по результатам этих оценок. При использовании интервальных нечетких трапециевидных чисел 2-го типа рассматривается только \"положительная\" информация о величине оцениваемого параметра (что оценка именно такого размера), а верхняя и нижняя функции принадлежности позволяют моделировать степень неопределенности в выборе самой функции принадлежности.\n",
        "\n",
        "Интервальные интуиционистские нечеткие множества 2-го типа по алгоритму использования идентичны интервальным нечетким множествам 2-го типа, но они описывают степень принадлежности и непринадлежности элемента данному множеству, т.е. моделируют независимое рассмотрение как \"положительной\", так и \"отрицательной\" информации об оценке. Разность между единицей и суммой функций принадлежности и непринадлежности - это степень сомнения, что данные оценки (функций принадлежности и непринадлежности) именно такие.\n",
        "\n",
        "Нечеткие множества, основанные на сомнениях, лучше подойдут для моделей оценки затрат на разработку ПО с меньшим количеством параметров, где предметом обсуждения является не размер отдельно взятого показателя (особенно когда их в модели достаточно много), а оценка проекта в целом, например, методом экспертных оценок «сверху вниз», «по аналогу», методом параметрических оценок, по модели *SLIM* или методом *PERT*, т.к. в данном типе нечетких множеств нечеткой является степень принадлежности определенного числа данному множеству (т.е. колебания относительно того, какая степень принадлежности будет у данного нечеткого числа). Также данный тип множеств может быть рассмотрен в дальнейших исследованиях как математический аппарат методов коллективного принятия решений (нечеткий метод Дельфи, методы ранжировки, покер-планирование и др.).\n",
        "Кроме того, как показала практика, данный тип нечетких множеств очень чувствителен к размеру констант, когда на них происходит умножение НЧ, или они используются в качестве показателя степени, а также многократному суммированию или произведению нечетких параметров (более 3 слагаемых или множителей): при степенях принадлежности слагаемых выше 0.5 степени принадлежности результата стремятся к 0 или 1 и информативность модели снижается, так как результирующий аргумент нечеткого колеблющегося числа повторяет результат четкой модели, а величина колеблющегося нечеткого элемента, близкая к нулю, будет означать, что сомнения по поводу его принадлежности к данному множеству очень велики. В обратной ситуации, при стремления итоговой степени принадлежности к 1, получаем константу (т.е. четкое число) без дополнительной информации."
      ],
      "metadata": {
        "id": "kBWTpOxLCpP2"
      }
    }
  ],
  "metadata": {
    "colab": {
      "toc_visible": true,
      "provenance": []
    },
    "kernelspec": {
      "display_name": "Python 3",
      "name": "python3"
    },
    "language_info": {
      "name": "python"
    }
  },
  "nbformat": 4,
  "nbformat_minor": 0
}